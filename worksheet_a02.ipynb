{
  "cells": [
    {
      "cell_type": "markdown",
      "metadata": {
        "id": "view-in-github",
        "colab_type": "text"
      },
      "source": [
        "<a href=\"https://colab.research.google.com/github/Ricky0917/STAT-545/blob/main/worksheet_a02.ipynb\" target=\"_parent\"><img src=\"https://colab.research.google.com/assets/colab-badge.svg\" alt=\"Open In Colab\"/></a>"
      ]
    },
    {
      "cell_type": "markdown",
      "metadata": {
        "id": "rLRDP7VLWByQ"
      },
      "source": [
        "Name: Ruiqi Zang\n",
        "\n",
        "Student ID: 24075277"
      ]
    },
    {
      "cell_type": "markdown",
      "metadata": {
        "deletable": false,
        "editable": false,
        "nbgrader": {
          "cell_type": "markdown",
          "checksum": "2caa492b50ab8fb0cbfccc6498c10e81",
          "grade": false,
          "grade_id": "cell-1eb22459a7e45546",
          "locked": true,
          "schema_version": 3,
          "solution": false,
          "task": false
        },
        "id": "1UHV-tcPWByR"
      },
      "source": [
        "# Lecture Worksheet A-2: Data Wrangling with dplyr (20 pts)\n",
        "\n",
        "By the end of this worksheet, you will be able to:\n",
        "\n",
        "1. Use the five core dplyr verbs for data wrangling: `select()`, `filter()`, `arrange()`, `mutate()`, `summarise()`.\n",
        "2. Use piping when implementing function chains.\n",
        "3. Use `group_by()` to operate within groups (of rows) with `mutate()` and `summarise()`.\n",
        "4. Use `across()` to operate on multiple columns with `summarise()` and `mutate()`.\n",
        "\n",
        "## Instructions + Grading\n",
        "\n",
        "+ Worksheets are autograded like a regular assignment. You will be able to immediately see if you got the question correct, and have unlimited attempts on every questions. **Each question is worth one point, and there are 20 questions.**\n",
        "\n",
        "+ Autograded questions are easily identifiable through their labelling as **QUESTION**. Any other instructions that prompt the student to write code are activities, which are not graded and thus do not contribute to marks - but do contribute to the workflow of the worksheet!\n",
        "\n",
        "+ Please save your work regularly and run the worksheet from top to bottom (run all) to ensure your responses are correct.\n",
        "\n",
        "+ Worksheets are be submitted (as a .ipynb file) on Canvas. See the Syllabus for the late policy.\n",
        "\n",
        "\n",
        "## Five core dplyr verbs: an overview of this worksheet\n",
        "\n",
        "So far, we've **looked** at our dataset. It's time to **work with** it! Prior to creating any models, or using visualization to gain more insights about our data, it is common to tweak the data in some ways to make it a little easier to work with. For example, you may need to rename some variables, reorder observations, or even create some new variables from your existing ones!\n",
        "\n",
        "As explained in depth in the [R4DS Data Transformation chapter](https://r4ds.had.co.nz/transform.html), there are five key dplyr functions that allow you to solve the vast majority of data manipulation tasks:\n",
        "\n",
        "+ Pick variables by their names (`select()`)\n",
        "+ Pick observations by their values (`filter()`)\n",
        "+ Reorder the rows (`arrange()`)\n",
        "+ Create new variables with functions of existing variables (`mutate()`)\n",
        "+ Collapse many rows down to a single summary (`summarise()`)\n",
        "\n",
        "We can use these in conjunction with two other functions:\n",
        "\n",
        "- The `group_by()` function groups a tibble by rows. Downstream calls to `mutate()` and `summarise()` operate independently on each group.\n",
        "- The `across()` function, when used within the `mutate()` and `summarise()` functions, operate on multiple columns.\n",
        "\n",
        "Because data wrangling involves calling multiple of these functions, we will also see the pipe operator `%>%` for putting these together in a single statement.  \n",
        "\n",
        "## Getting Started\n",
        "\n",
        "Load the required packages for this worksheet:"
      ]
    },
    {
      "cell_type": "code",
      "execution_count": null,
      "metadata": {
        "deletable": false,
        "editable": false,
        "message": false,
        "name": "load packages",
        "nbgrader": {
          "cell_type": "code",
          "checksum": "e6949ba9ede8914c2e539baf093b5a96",
          "grade": false,
          "grade_id": "cell-695291a493cfa66b",
          "locked": true,
          "schema_version": 3,
          "solution": false,
          "task": false
        },
        "warning": false,
        "id": "Z20FypCQWByS"
      },
      "outputs": [],
      "source": [
        "suppressPackageStartupMessages(library(palmerpenguins))\n",
        "suppressPackageStartupMessages(library(tidyverse))\n",
        "suppressPackageStartupMessages(library(gapminder))\n",
        "suppressPackageStartupMessages(library(tibble))\n",
        "suppressPackageStartupMessages(library(testthat))\n",
        "suppressPackageStartupMessages(library(digest))\n",
        "suppressPackageStartupMessages(library(magrittr)) # Load magrittr for the pipe operator\n",
        "expect_sorted <- function(object) {\n",
        "  act <- quasi_label(rlang::enquo(object), arg = \"object\")\n",
        "  expect(\n",
        "    !is.unsorted(act$val),\n",
        "    sprintf(\"%s not sorted\", act$lab)\n",
        "  )\n",
        "  invisible(act$val)\n",
        "}"
      ]
    },
    {
      "cell_type": "markdown",
      "metadata": {
        "deletable": false,
        "editable": false,
        "nbgrader": {
          "cell_type": "markdown",
          "checksum": "b64328f0062c98fb5d0b71e2cbca6f63",
          "grade": false,
          "grade_id": "cell-fc028aa4c2f43fe9",
          "locked": true,
          "schema_version": 3,
          "solution": false,
          "task": false
        },
        "id": "8rSbSYLBWByT"
      },
      "source": [
        "The following code chunk has been unlocked, to give you the flexibility to start this document with some of your own code if needed."
      ]
    },
    {
      "cell_type": "code",
      "execution_count": null,
      "metadata": {
        "id": "KMb4GeJvWByT",
        "colab": {
          "base_uri": "https://localhost:8080/"
        },
        "outputId": "9a9b8a9d-fe4e-4832-a30e-5a0e54289996"
      },
      "outputs": [
        {
          "output_type": "stream",
          "name": "stderr",
          "text": [
            "Installing package into ‘/usr/local/lib/R/site-library’\n",
            "(as ‘lib’ is unspecified)\n",
            "\n",
            "Installing package into ‘/usr/local/lib/R/site-library’\n",
            "(as ‘lib’ is unspecified)\n",
            "\n"
          ]
        }
      ],
      "source": [
        "# An unlocked code chunk.\n",
        "install.packages(\"gapminder\")\n",
        "install.packages(\"palmerpenguins\")"
      ]
    },
    {
      "cell_type": "markdown",
      "metadata": {
        "deletable": false,
        "editable": false,
        "nbgrader": {
          "cell_type": "markdown",
          "checksum": "0fcd04e25f2f1374a91dfd204d1a123c",
          "grade": false,
          "grade_id": "cell-155784dc582502bf",
          "locked": true,
          "schema_version": 3,
          "solution": false,
          "task": false
        },
        "id": "s18oQeBDWByT"
      },
      "source": [
        "# Part 1: The Five Verbs\n",
        "\n",
        "## Exploring your data\n",
        "\n",
        "What's the first thing that you should do when you're starting a project with a new dataset? Having a coffee is a reasonable answer, but before that, you should **look at the data**. This may sound obvious, but a common mistake is to dive into the analysis too early before being familiar with the data - only to have to go back to the start when something goes wrong and you can't quite figure out why. Some of the questions you may want to ask are:\n",
        "\n",
        "+ What is the format of the data?\n",
        "+ What are the dimensions?\n",
        "+ Are there missing data?\n",
        "\n",
        "You will learn how to answer these questions and more using dplyr."
      ]
    },
    {
      "cell_type": "markdown",
      "metadata": {
        "deletable": false,
        "editable": false,
        "nbgrader": {
          "cell_type": "markdown",
          "checksum": "42028de18995667182b569d283efc201",
          "grade": false,
          "grade_id": "cell-84babc43995821a2",
          "locked": true,
          "schema_version": 3,
          "solution": false,
          "task": false
        },
        "id": "onib7NYiWByU"
      },
      "source": [
        "## Penguins Data\n",
        "\n",
        "[Palmer penguins](https://github.com/allisonhorst/palmerpenguins) is an R data package created by Allison Horst. Data were collected and made available by Dr. Kristen Gorman and the Palmer Station, Antarctica LTER, a member of the Long Term Ecological Research Network. The dataset that we will be using is stored in a variable called \"penguins\". It is a subset of the \"penguins_raw\" dataset, also included in this R package. Let's have a look at it."
      ]
    },
    {
      "cell_type": "code",
      "execution_count": null,
      "metadata": {
        "deletable": false,
        "editable": false,
        "nbgrader": {
          "cell_type": "code",
          "checksum": "ca5ffa376958ccea3c3402f656ea24ff",
          "grade": false,
          "grade_id": "cell-83ef890605e2e7b3",
          "locked": true,
          "schema_version": 3,
          "solution": false,
          "task": false
        },
        "id": "xnWXpTbhWByU",
        "colab": {
          "base_uri": "https://localhost:8080/",
          "height": 286
        },
        "outputId": "4651b084-54ac-4b3e-be5c-0a92653b8bb0"
      },
      "outputs": [
        {
          "output_type": "display_data",
          "data": {
            "text/html": [
              "<table class=\"dataframe\">\n",
              "<caption>A tibble: 6 × 8</caption>\n",
              "<thead>\n",
              "\t<tr><th scope=col>species</th><th scope=col>island</th><th scope=col>bill_length_mm</th><th scope=col>bill_depth_mm</th><th scope=col>flipper_length_mm</th><th scope=col>body_mass_g</th><th scope=col>sex</th><th scope=col>year</th></tr>\n",
              "\t<tr><th scope=col>&lt;fct&gt;</th><th scope=col>&lt;fct&gt;</th><th scope=col>&lt;dbl&gt;</th><th scope=col>&lt;dbl&gt;</th><th scope=col>&lt;int&gt;</th><th scope=col>&lt;int&gt;</th><th scope=col>&lt;fct&gt;</th><th scope=col>&lt;int&gt;</th></tr>\n",
              "</thead>\n",
              "<tbody>\n",
              "\t<tr><td>Adelie</td><td>Torgersen</td><td>39.1</td><td>18.7</td><td>181</td><td>3750</td><td>male  </td><td>2007</td></tr>\n",
              "\t<tr><td>Adelie</td><td>Torgersen</td><td>39.5</td><td>17.4</td><td>186</td><td>3800</td><td>female</td><td>2007</td></tr>\n",
              "\t<tr><td>Adelie</td><td>Torgersen</td><td>40.3</td><td>18.0</td><td>195</td><td>3250</td><td>female</td><td>2007</td></tr>\n",
              "\t<tr><td>Adelie</td><td>Torgersen</td><td>  NA</td><td>  NA</td><td> NA</td><td>  NA</td><td>NA    </td><td>2007</td></tr>\n",
              "\t<tr><td>Adelie</td><td>Torgersen</td><td>36.7</td><td>19.3</td><td>193</td><td>3450</td><td>female</td><td>2007</td></tr>\n",
              "\t<tr><td>Adelie</td><td>Torgersen</td><td>39.3</td><td>20.6</td><td>190</td><td>3650</td><td>male  </td><td>2007</td></tr>\n",
              "</tbody>\n",
              "</table>\n"
            ],
            "text/markdown": "\nA tibble: 6 × 8\n\n| species &lt;fct&gt; | island &lt;fct&gt; | bill_length_mm &lt;dbl&gt; | bill_depth_mm &lt;dbl&gt; | flipper_length_mm &lt;int&gt; | body_mass_g &lt;int&gt; | sex &lt;fct&gt; | year &lt;int&gt; |\n|---|---|---|---|---|---|---|---|\n| Adelie | Torgersen | 39.1 | 18.7 | 181 | 3750 | male   | 2007 |\n| Adelie | Torgersen | 39.5 | 17.4 | 186 | 3800 | female | 2007 |\n| Adelie | Torgersen | 40.3 | 18.0 | 195 | 3250 | female | 2007 |\n| Adelie | Torgersen |   NA |   NA |  NA |   NA | NA     | 2007 |\n| Adelie | Torgersen | 36.7 | 19.3 | 193 | 3450 | female | 2007 |\n| Adelie | Torgersen | 39.3 | 20.6 | 190 | 3650 | male   | 2007 |\n\n",
            "text/latex": "A tibble: 6 × 8\n\\begin{tabular}{llllllll}\n species & island & bill\\_length\\_mm & bill\\_depth\\_mm & flipper\\_length\\_mm & body\\_mass\\_g & sex & year\\\\\n <fct> & <fct> & <dbl> & <dbl> & <int> & <int> & <fct> & <int>\\\\\n\\hline\n\t Adelie & Torgersen & 39.1 & 18.7 & 181 & 3750 & male   & 2007\\\\\n\t Adelie & Torgersen & 39.5 & 17.4 & 186 & 3800 & female & 2007\\\\\n\t Adelie & Torgersen & 40.3 & 18.0 & 195 & 3250 & female & 2007\\\\\n\t Adelie & Torgersen &   NA &   NA &  NA &   NA & NA     & 2007\\\\\n\t Adelie & Torgersen & 36.7 & 19.3 & 193 & 3450 & female & 2007\\\\\n\t Adelie & Torgersen & 39.3 & 20.6 & 190 & 3650 & male   & 2007\\\\\n\\end{tabular}\n",
            "text/plain": [
              "  species island    bill_length_mm bill_depth_mm flipper_length_mm body_mass_g\n",
              "1 Adelie  Torgersen 39.1           18.7          181               3750       \n",
              "2 Adelie  Torgersen 39.5           17.4          186               3800       \n",
              "3 Adelie  Torgersen 40.3           18.0          195               3250       \n",
              "4 Adelie  Torgersen   NA             NA           NA                 NA       \n",
              "5 Adelie  Torgersen 36.7           19.3          193               3450       \n",
              "6 Adelie  Torgersen 39.3           20.6          190               3650       \n",
              "  sex    year\n",
              "1 male   2007\n",
              "2 female 2007\n",
              "3 female 2007\n",
              "4 NA     2007\n",
              "5 female 2007\n",
              "6 male   2007"
            ]
          },
          "metadata": {}
        }
      ],
      "source": [
        "head(penguins)"
      ]
    },
    {
      "cell_type": "markdown",
      "metadata": {
        "deletable": false,
        "editable": false,
        "nbgrader": {
          "cell_type": "markdown",
          "checksum": "1e0f7e3cb8539919a3429511ff151d06",
          "grade": false,
          "grade_id": "cell-c9194fdc50710021",
          "locked": true,
          "schema_version": 3,
          "solution": false,
          "task": false
        },
        "id": "0EyuMz9dWByU"
      },
      "source": [
        "`head()` returns the first 6 rows of a dataframe, instead of printing all the data to screen.\n",
        "\n",
        "## What is the format of the data?\n",
        "\n",
        "Let's begin by checking the class of the **penguins** variable. This will give us a clue about the overall structure of the data."
      ]
    },
    {
      "cell_type": "code",
      "execution_count": null,
      "metadata": {
        "deletable": false,
        "editable": false,
        "nbgrader": {
          "cell_type": "code",
          "checksum": "8da56affc57412ea090f7d605acbefcb",
          "grade": false,
          "grade_id": "cell-48b2530804a909bf",
          "locked": true,
          "schema_version": 3,
          "solution": false,
          "task": false
        },
        "id": "c54UaelmWByU",
        "colab": {
          "base_uri": "https://localhost:8080/",
          "height": 34
        },
        "outputId": "8072248d-1fb1-4003-8d0e-c50606adecda"
      },
      "outputs": [
        {
          "output_type": "display_data",
          "data": {
            "text/html": [
              "<style>\n",
              ".list-inline {list-style: none; margin:0; padding: 0}\n",
              ".list-inline>li {display: inline-block}\n",
              ".list-inline>li:not(:last-child)::after {content: \"\\00b7\"; padding: 0 .5ex}\n",
              "</style>\n",
              "<ol class=list-inline><li>'tbl_df'</li><li>'tbl'</li><li>'data.frame'</li></ol>\n"
            ],
            "text/markdown": "1. 'tbl_df'\n2. 'tbl'\n3. 'data.frame'\n\n\n",
            "text/latex": "\\begin{enumerate*}\n\\item 'tbl\\_df'\n\\item 'tbl'\n\\item 'data.frame'\n\\end{enumerate*}\n",
            "text/plain": [
              "[1] \"tbl_df\"     \"tbl\"        \"data.frame\""
            ]
          },
          "metadata": {}
        }
      ],
      "source": [
        "class(penguins)"
      ]
    },
    {
      "cell_type": "markdown",
      "metadata": {
        "deletable": false,
        "editable": false,
        "nbgrader": {
          "cell_type": "markdown",
          "checksum": "41d22407fc5c1ecbe52cc0268ee32db2",
          "grade": false,
          "grade_id": "cell-7808fbe04aa729dd",
          "locked": true,
          "schema_version": 3,
          "solution": false,
          "task": false
        },
        "id": "5wlIPp2lWByU"
      },
      "source": [
        "As you can see, the function returns 3 classes: \"tbl_df\", \"tbl\", and \"data.frame\". A dataframe is the default class for data read into R. Tibbles (\"tbl\" and \"tbl_df\") are a modern take on data frames, but slightly tweaked to work better in the tidyverse. For now, you don’t need to worry about the differences; we’ll come back to tibbles later. The dataset that we are working with was originally a data.frame that has been coerced into a tibble, which is why multiple class names are returned by the `class()` function.\n",
        "\n",
        "## What are the dimensions?\n",
        "\n",
        "There are two functions that we can use to see exactly how many rows (observations) and columns (variables) we're dealing with. `dim()` is the base R option, and `glimpse()` is the dplyr flavour, which gives us some more information besides the row and column number. Give both a try!"
      ]
    },
    {
      "cell_type": "code",
      "execution_count": null,
      "metadata": {
        "deletable": false,
        "editable": false,
        "nbgrader": {
          "cell_type": "code",
          "checksum": "607fd2bb968c9081a0a75eb52cfb15c7",
          "grade": false,
          "grade_id": "cell-2fbdffdd374117c8",
          "locked": true,
          "schema_version": 3,
          "solution": false,
          "task": false
        },
        "id": "TfYC5mLXWByV",
        "colab": {
          "base_uri": "https://localhost:8080/",
          "height": 218
        },
        "outputId": "07c2d00b-ef6c-4780-8210-c5295229e0ac"
      },
      "outputs": [
        {
          "output_type": "display_data",
          "data": {
            "text/html": [
              "<style>\n",
              ".list-inline {list-style: none; margin:0; padding: 0}\n",
              ".list-inline>li {display: inline-block}\n",
              ".list-inline>li:not(:last-child)::after {content: \"\\00b7\"; padding: 0 .5ex}\n",
              "</style>\n",
              "<ol class=list-inline><li>344</li><li>8</li></ol>\n"
            ],
            "text/markdown": "1. 344\n2. 8\n\n\n",
            "text/latex": "\\begin{enumerate*}\n\\item 344\n\\item 8\n\\end{enumerate*}\n",
            "text/plain": [
              "[1] 344   8"
            ]
          },
          "metadata": {}
        },
        {
          "output_type": "stream",
          "name": "stdout",
          "text": [
            "Rows: 344\n",
            "Columns: 8\n",
            "$ species           \u001b[3m\u001b[90m<fct>\u001b[39m\u001b[23m Adelie\u001b[90m, \u001b[39mAdelie\u001b[90m, \u001b[39mAdelie\u001b[90m, \u001b[39mAdelie\u001b[90m, \u001b[39mAdelie\u001b[90m, \u001b[39mAdelie\u001b[90m, \u001b[39mAdel…\n",
            "$ island            \u001b[3m\u001b[90m<fct>\u001b[39m\u001b[23m Torgersen\u001b[90m, \u001b[39mTorgersen\u001b[90m, \u001b[39mTorgersen\u001b[90m, \u001b[39mTorgersen\u001b[90m, \u001b[39mTorgerse…\n",
            "$ bill_length_mm    \u001b[3m\u001b[90m<dbl>\u001b[39m\u001b[23m 39.1\u001b[90m, \u001b[39m39.5\u001b[90m, \u001b[39m40.3\u001b[90m, \u001b[39m\u001b[31mNA\u001b[39m\u001b[90m, \u001b[39m36.7\u001b[90m, \u001b[39m39.3\u001b[90m, \u001b[39m38.9\u001b[90m, \u001b[39m39.2\u001b[90m, \u001b[39m34.1\u001b[90m, \u001b[39m…\n",
            "$ bill_depth_mm     \u001b[3m\u001b[90m<dbl>\u001b[39m\u001b[23m 18.7\u001b[90m, \u001b[39m17.4\u001b[90m, \u001b[39m18.0\u001b[90m, \u001b[39m\u001b[31mNA\u001b[39m\u001b[90m, \u001b[39m19.3\u001b[90m, \u001b[39m20.6\u001b[90m, \u001b[39m17.8\u001b[90m, \u001b[39m19.6\u001b[90m, \u001b[39m18.1\u001b[90m, \u001b[39m…\n",
            "$ flipper_length_mm \u001b[3m\u001b[90m<int>\u001b[39m\u001b[23m 181\u001b[90m, \u001b[39m186\u001b[90m, \u001b[39m195\u001b[90m, \u001b[39m\u001b[31mNA\u001b[39m\u001b[90m, \u001b[39m193\u001b[90m, \u001b[39m190\u001b[90m, \u001b[39m181\u001b[90m, \u001b[39m195\u001b[90m, \u001b[39m193\u001b[90m, \u001b[39m190\u001b[90m, \u001b[39m186…\n",
            "$ body_mass_g       \u001b[3m\u001b[90m<int>\u001b[39m\u001b[23m 3750\u001b[90m, \u001b[39m3800\u001b[90m, \u001b[39m3250\u001b[90m, \u001b[39m\u001b[31mNA\u001b[39m\u001b[90m, \u001b[39m3450\u001b[90m, \u001b[39m3650\u001b[90m, \u001b[39m3625\u001b[90m, \u001b[39m4675\u001b[90m, \u001b[39m3475\u001b[90m, \u001b[39m…\n",
            "$ sex               \u001b[3m\u001b[90m<fct>\u001b[39m\u001b[23m male\u001b[90m, \u001b[39mfemale\u001b[90m, \u001b[39mfemale\u001b[90m, \u001b[39m\u001b[31mNA\u001b[39m\u001b[90m, \u001b[39mfemale\u001b[90m, \u001b[39mmale\u001b[90m, \u001b[39mfemale\u001b[90m, \u001b[39mmale…\n",
            "$ year              \u001b[3m\u001b[90m<int>\u001b[39m\u001b[23m 2007\u001b[90m, \u001b[39m2007\u001b[90m, \u001b[39m2007\u001b[90m, \u001b[39m2007\u001b[90m, \u001b[39m2007\u001b[90m, \u001b[39m2007\u001b[90m, \u001b[39m2007\u001b[90m, \u001b[39m2007\u001b[90m, \u001b[39m2007…\n"
          ]
        }
      ],
      "source": [
        "dim(penguins)\n",
        "glimpse(penguins)"
      ]
    },
    {
      "cell_type": "markdown",
      "metadata": {
        "deletable": false,
        "editable": false,
        "nbgrader": {
          "cell_type": "markdown",
          "checksum": "e5ef6f6b0aa6651240e95c50daf460b5",
          "grade": false,
          "grade_id": "cell-d404e821859fa65a",
          "locked": true,
          "schema_version": 3,
          "solution": false,
          "task": false
        },
        "id": "TXELxrXZWByV"
      },
      "source": [
        "There are more functions that you can use to further explore the dimensions, such as `nrow()`, `ncol()`, `colnames()` or `rownames()`, but we won't be looking into those.\n",
        "\n",
        "## QUESTION 1.0\n",
        "{points: 1}\n",
        "\n",
        "In the `dim()` function, what is the first number that you see?\n",
        "\n",
        "Multiple choice!\n",
        "\n",
        "A) number of rows   \n",
        "\n",
        "B) number of columns\n",
        "\n",
        "Put your selection (e.g. the letter corresponding to the correct option) into a variable named `answer1.0`.\n",
        "\n",
        "*Hint: make sure your answer is a string, such as* `answer1.0 <- \"X\"`"
      ]
    },
    {
      "cell_type": "code",
      "execution_count": null,
      "metadata": {
        "deletable": false,
        "name": "question-1-0",
        "nbgrader": {
          "cell_type": "code",
          "checksum": "eb1c470514848102c386fb24516869e3",
          "grade": false,
          "grade_id": "cell-89d2909f9da03bb4",
          "locked": false,
          "schema_version": 3,
          "solution": true,
          "task": false
        },
        "id": "vbPfxmAwWByV"
      },
      "outputs": [],
      "source": [
        "# answer1.0 <- \"FILL_THIS_IN\"\n",
        "# your code here\n",
        "answer1.0 <- \"A\"\n",
        "#fail() # No Answer - remove if you provide an answer"
      ]
    },
    {
      "cell_type": "code",
      "execution_count": null,
      "metadata": {
        "deletable": false,
        "editable": false,
        "name": "test-1-0",
        "nbgrader": {
          "cell_type": "code",
          "checksum": "78c07f34995cb7ede0d1500a594c3f48",
          "grade": true,
          "grade_id": "cell-22216823e505e5f1",
          "locked": true,
          "points": 1,
          "schema_version": 3,
          "solution": false,
          "task": false
        },
        "colab": {
          "base_uri": "https://localhost:8080/"
        },
        "id": "Hei0edSdWByV",
        "outputId": "c8f83ded-d48a-4bf4-8bc9-14c805379ea0"
      },
      "outputs": [
        {
          "output_type": "stream",
          "name": "stdout",
          "text": [
            "[1] \"Success!\"\n"
          ]
        }
      ],
      "source": [
        "library(digest)\n",
        "stopifnot(\"type of answer1.0 is not character\"= setequal(digest(paste(toString(class(answer1.0)), \"d68a1\")), \"f51b846d841da7ce219b3076f673c0f6\"))\n",
        "stopifnot(\"length of answer1.0 is not correct\"= setequal(digest(paste(toString(length(answer1.0)), \"d68a1\")), \"272543d77a2d878f30cda11824fbc20b\"))\n",
        "stopifnot(\"value of answer1.0 is not correct\"= setequal(digest(paste(toString(tolower(answer1.0)), \"d68a1\")), \"b6e90345b8a4adabda941aa1169ced83\"))\n",
        "stopifnot(\"letters in string value of answer1.0 are correct but case is not correct\"= setequal(digest(paste(toString(answer1.0), \"d68a1\")), \"85d87a064f382e336e3b06b48c7a2da9\"))\n",
        "\n",
        "print('Success!')"
      ]
    },
    {
      "cell_type": "markdown",
      "metadata": {
        "deletable": false,
        "editable": false,
        "nbgrader": {
          "cell_type": "markdown",
          "checksum": "88f32c0589f1d5755b143ec835947aea",
          "grade": false,
          "grade_id": "cell-c08276291e700867",
          "locked": true,
          "schema_version": 3,
          "solution": false,
          "task": false
        },
        "id": "dalNXUrzWByV"
      },
      "source": [
        "## `select()`\n",
        "\n",
        "*A brief interlude on naming things:* Names are important. Jenny Bryan has some excellent [slides](https://speakerdeck.com/jennybc/how-to-name-files) for naming things in a way that is human readable *and* machine readable. Don't worry too much about it for this worksheet, but do keep it in mind as it helps with *reproducibility*.\n",
        "\n",
        "A quick tip that you can put into practice: you can use *Pascal case* - creating names by concatenating capitalized words, such as PenguinsSubset, or PenguinsTidy. If names get too long, remove vowels! For example, PngnSubset, or PngnTidy instead. Or, you can use snake_case!\n",
        "\n",
        "## QUESTION 1.1\n",
        "\n",
        "{points: 1}\n",
        "\n",
        "In the next few questions, you will practice using the dplyr verb `select()` to pick and modify variables by their names. Modify the penguins data so that it contains the columns `species`, `island`, `sex`, in that order.\n",
        "\n",
        "Assign your answer to a variable named `answer1.1`."
      ]
    },
    {
      "cell_type": "code",
      "execution_count": null,
      "metadata": {
        "deletable": false,
        "name": "question-1-1",
        "nbgrader": {
          "cell_type": "code",
          "checksum": "238d978b3661e7c392411c949b39369c",
          "grade": false,
          "grade_id": "cell-8a83be57e490be91",
          "locked": false,
          "schema_version": 3,
          "solution": true,
          "task": false
        },
        "colab": {
          "base_uri": "https://localhost:8080/",
          "height": 286
        },
        "id": "mDfhnM_bWByV",
        "outputId": "c87d258c-9525-4021-8a1f-edb3a6e3fe2f"
      },
      "outputs": [
        {
          "output_type": "display_data",
          "data": {
            "text/html": [
              "<table class=\"dataframe\">\n",
              "<caption>A tibble: 6 × 3</caption>\n",
              "<thead>\n",
              "\t<tr><th scope=col>species</th><th scope=col>island</th><th scope=col>sex</th></tr>\n",
              "\t<tr><th scope=col>&lt;fct&gt;</th><th scope=col>&lt;fct&gt;</th><th scope=col>&lt;fct&gt;</th></tr>\n",
              "</thead>\n",
              "<tbody>\n",
              "\t<tr><td>Adelie</td><td>Torgersen</td><td>male  </td></tr>\n",
              "\t<tr><td>Adelie</td><td>Torgersen</td><td>female</td></tr>\n",
              "\t<tr><td>Adelie</td><td>Torgersen</td><td>female</td></tr>\n",
              "\t<tr><td>Adelie</td><td>Torgersen</td><td>NA    </td></tr>\n",
              "\t<tr><td>Adelie</td><td>Torgersen</td><td>female</td></tr>\n",
              "\t<tr><td>Adelie</td><td>Torgersen</td><td>male  </td></tr>\n",
              "</tbody>\n",
              "</table>\n"
            ],
            "text/markdown": "\nA tibble: 6 × 3\n\n| species &lt;fct&gt; | island &lt;fct&gt; | sex &lt;fct&gt; |\n|---|---|---|\n| Adelie | Torgersen | male   |\n| Adelie | Torgersen | female |\n| Adelie | Torgersen | female |\n| Adelie | Torgersen | NA     |\n| Adelie | Torgersen | female |\n| Adelie | Torgersen | male   |\n\n",
            "text/latex": "A tibble: 6 × 3\n\\begin{tabular}{lll}\n species & island & sex\\\\\n <fct> & <fct> & <fct>\\\\\n\\hline\n\t Adelie & Torgersen & male  \\\\\n\t Adelie & Torgersen & female\\\\\n\t Adelie & Torgersen & female\\\\\n\t Adelie & Torgersen & NA    \\\\\n\t Adelie & Torgersen & female\\\\\n\t Adelie & Torgersen & male  \\\\\n\\end{tabular}\n",
            "text/plain": [
              "  species island    sex   \n",
              "1 Adelie  Torgersen male  \n",
              "2 Adelie  Torgersen female\n",
              "3 Adelie  Torgersen female\n",
              "4 Adelie  Torgersen NA    \n",
              "5 Adelie  Torgersen female\n",
              "6 Adelie  Torgersen male  "
            ]
          },
          "metadata": {}
        }
      ],
      "source": [
        "library(dplyr)\n",
        "# answer1.1 <- select(penguins, FILL_THIS_IN)\n",
        "# your code here\n",
        "answer1.1 <- select(penguins, species, island, sex)\n",
        "#fail() # No Answer - remove if you provide an answer\n",
        "head(answer1.1)"
      ]
    },
    {
      "cell_type": "code",
      "execution_count": null,
      "metadata": {
        "deletable": false,
        "editable": false,
        "lines_to_next_cell": 2,
        "name": "test-1-1",
        "nbgrader": {
          "cell_type": "code",
          "checksum": "0e6ed942d19b741fef1919f440d080a1",
          "grade": true,
          "grade_id": "cell-d77a573dc4a26343",
          "locked": true,
          "points": 1,
          "schema_version": 3,
          "solution": false,
          "task": false
        },
        "colab": {
          "base_uri": "https://localhost:8080/"
        },
        "id": "ez0EWTOXWByW",
        "outputId": "205c7cb5-15c3-49e8-fac0-e5027b4c20b1"
      },
      "outputs": [
        {
          "output_type": "stream",
          "name": "stdout",
          "text": [
            "[1] \"Success!\"\n"
          ]
        }
      ],
      "source": [
        "library(digest)\n",
        "stopifnot(\"answer1.1 should be a data frame\"= setequal(digest(paste(toString('data.frame' %in% class(answer1.1)), \"86bf6\")), \"9cdf74424c85c62fd4a5a2864846873c\"))\n",
        "stopifnot(\"dimensions of answer1.1 are not correct\"= setequal(digest(paste(toString(dim(answer1.1)), \"86bf6\")), \"c6ae35d6df7bd829ea25bf7b488ebad9\"))\n",
        "stopifnot(\"column names of answer1.1 are not correct\"= setequal(digest(paste(toString(sort(colnames(answer1.1))), \"86bf6\")), \"9c1b0cb2aed059b23d54800a9a2ce776\"))\n",
        "stopifnot(\"types of columns in answer1.1 are not correct\"= setequal(digest(paste(toString(sort(unlist(sapply(answer1.1, class)))), \"86bf6\")), \"7b20e0576766f137a6480621a4c36445\"))\n",
        "stopifnot(\"values in one or more numerical columns in answer1.1 are not correct\"= setequal(digest(paste(toString(if (any(sapply(answer1.1, is.numeric))) sort(round(sapply(answer1.1[, sapply(answer1.1, is.numeric)], sum, na.rm = TRUE), 2)) else 0), \"86bf6\")), \"4c752b60f15eca0f20a9aa723ff15f8e\"))\n",
        "stopifnot(\"values in one or more character columns in answer1.1 are not correct\"= setequal(digest(paste(toString(if (any(sapply(answer1.1, is.character))) sum(sapply(answer1.1[sapply(answer1.1, is.character)], function(x) length(unique(x)))) else 0), \"86bf6\")), \"4c752b60f15eca0f20a9aa723ff15f8e\"))\n",
        "stopifnot(\"values in one or more factor columns in answer1.1 are not correct\"= setequal(digest(paste(toString(if (any(sapply(answer1.1, is.factor))) sum(sapply(answer1.1[, sapply(answer1.1, is.factor)], function(col) length(unique(col)))) else 0), \"86bf6\")), \"725c3bafc1f7483809d88d11330ea100\"))\n",
        "\n",
        "print('Success!')"
      ]
    },
    {
      "cell_type": "markdown",
      "metadata": {
        "deletable": false,
        "editable": false,
        "nbgrader": {
          "cell_type": "markdown",
          "checksum": "2f35c1f06d4d6aee7f6cee6656f95af5",
          "grade": false,
          "grade_id": "cell-4beb2aac482da4c3",
          "locked": true,
          "schema_version": 3,
          "solution": false,
          "task": false
        },
        "id": "Q51sE00aWByW"
      },
      "source": [
        "## QUESTION 1.2\n",
        "\n",
        "{points: 1}\n",
        "\n",
        "Out of the following options, what would be the best name for the object that you just created above (currently stored in `answer1.1`)? Put your answer in a variable named `answer1.2`.\n",
        "\n",
        "A) _penguin_subset   \n",
        "\n",
        "B) penguins  \n",
        "\n",
        "C) 2penguin   \n",
        "\n",
        "D) PngnSub   "
      ]
    },
    {
      "cell_type": "code",
      "execution_count": null,
      "metadata": {
        "deletable": false,
        "name": "question-1-1a",
        "nbgrader": {
          "cell_type": "code",
          "checksum": "989540d0bbef2e1618eb77c45115e95c",
          "grade": false,
          "grade_id": "cell-dcb6cda112457d98",
          "locked": false,
          "schema_version": 3,
          "solution": true,
          "task": false
        },
        "id": "dIWUckPMWByW"
      },
      "outputs": [],
      "source": [
        "# answer1.2 <- \"FILL_THIS_IN\"\n",
        "# your code here\n",
        "answer1.2 <- \"D\"\n",
        "#fail() # No Answer - remove if you provide an answer"
      ]
    },
    {
      "cell_type": "code",
      "execution_count": null,
      "metadata": {
        "deletable": false,
        "editable": false,
        "name": "test-1-1a",
        "nbgrader": {
          "cell_type": "code",
          "checksum": "751af9cbc6fbfee18a7ae675746dd21a",
          "grade": true,
          "grade_id": "cell-92538bdd1bd40300",
          "locked": true,
          "points": 1,
          "schema_version": 3,
          "solution": false,
          "task": false
        },
        "colab": {
          "base_uri": "https://localhost:8080/"
        },
        "id": "sZofVI03WByW",
        "outputId": "5120e48e-3084-4ac2-dc50-acec85bd237a"
      },
      "outputs": [
        {
          "output_type": "stream",
          "name": "stdout",
          "text": [
            "[1] \"Success!\"\n"
          ]
        }
      ],
      "source": [
        "library(digest)\n",
        "stopifnot(\"type of answer1.2 is not character\"= setequal(digest(paste(toString(class(answer1.2)), \"70f39\")), \"bd6ff90de7ae34f01036d66c01f7a38a\"))\n",
        "stopifnot(\"length of answer1.2 is not correct\"= setequal(digest(paste(toString(length(answer1.2)), \"70f39\")), \"452c27ebce502d0d700604c0025662c4\"))\n",
        "stopifnot(\"value of answer1.2 is not correct\"= setequal(digest(paste(toString(tolower(answer1.2)), \"70f39\")), \"778ee8a1450b40e69270ec50c9c57111\"))\n",
        "stopifnot(\"letters in string value of answer1.2 are correct but case is not correct\"= setequal(digest(paste(toString(answer1.2), \"70f39\")), \"34c817b9783ee4a2bb1fe182a7223e79\"))\n",
        "\n",
        "print('Success!')"
      ]
    },
    {
      "cell_type": "markdown",
      "metadata": {
        "deletable": false,
        "editable": false,
        "nbgrader": {
          "cell_type": "markdown",
          "checksum": "de266720009e0a62bf93789f34c0132c",
          "grade": false,
          "grade_id": "cell-2e3273def66cbb67",
          "locked": true,
          "schema_version": 3,
          "solution": false,
          "task": false
        },
        "id": "BS-8aAD0WByW"
      },
      "source": [
        "## QUESTION 1.3\n",
        "\n",
        "{points: 1}\n",
        "\n",
        "Select all variables, from `bill_length_mm` to `body_mass_g` (in that order). Of course, you could do it this way..."
      ]
    },
    {
      "cell_type": "code",
      "execution_count": null,
      "metadata": {
        "deletable": false,
        "editable": false,
        "nbgrader": {
          "cell_type": "code",
          "checksum": "92020782b46eca42fa78b0c1963da07e",
          "grade": false,
          "grade_id": "cell-5cb9e1971619fc8b",
          "locked": true,
          "schema_version": 3,
          "solution": false,
          "task": false
        },
        "colab": {
          "base_uri": "https://localhost:8080/"
        },
        "id": "9-lr6srTWByW",
        "outputId": "06f842be-cec9-4027-cc36-b6886c3be778"
      },
      "outputs": [
        {
          "output_type": "stream",
          "name": "stdout",
          "text": [
            "\u001b[90m# A tibble: 344 × 4\u001b[39m\n",
            "  bill_length_mm bill_depth_mm flipper_length_mm body_mass_g\n",
            "           \u001b[3m\u001b[90m<dbl>\u001b[39m\u001b[23m         \u001b[3m\u001b[90m<dbl>\u001b[39m\u001b[23m             \u001b[3m\u001b[90m<int>\u001b[39m\u001b[23m       \u001b[3m\u001b[90m<int>\u001b[39m\u001b[23m\n",
            "\u001b[90m1\u001b[39m           39.1          18.7               181        \u001b[4m3\u001b[24m750\n",
            "\u001b[90m2\u001b[39m           39.5          17.4               186        \u001b[4m3\u001b[24m800\n",
            "\u001b[90m3\u001b[39m           40.3          18                 195        \u001b[4m3\u001b[24m250\n",
            "\u001b[90m4\u001b[39m           \u001b[31mNA\u001b[39m            \u001b[31mNA\u001b[39m                  \u001b[31mNA\u001b[39m          \u001b[31mNA\u001b[39m\n",
            "\u001b[90m5\u001b[39m           36.7          19.3               193        \u001b[4m3\u001b[24m450\n",
            "\u001b[90m# ℹ 339 more rows\u001b[39m\n"
          ]
        }
      ],
      "source": [
        "# This will work:\n",
        "select(penguins, bill_length_mm, bill_depth_mm, flipper_length_mm, body_mass_g) %>%\n",
        "   print(n = 5)"
      ]
    },
    {
      "cell_type": "markdown",
      "metadata": {
        "deletable": false,
        "editable": false,
        "nbgrader": {
          "cell_type": "markdown",
          "checksum": "e9425bb04c69d16ca860d3d7208c4ffc",
          "grade": false,
          "grade_id": "cell-f5b45d38c135b356",
          "locked": true,
          "schema_version": 3,
          "solution": false,
          "task": false
        },
        "id": "_lwnX08dWByX"
      },
      "source": [
        "But there is a better way to do it! Which do you think would work?\n",
        "\n",
        "A) `select(penguins, body_mass_g:bill_length_mm)`   \n",
        "\n",
        "B) `select(penguins, c(body_mass_g::bill_length_mm))`   \n",
        "\n",
        "C) `select(penguins, bill_length_mm:body_mass_g)`   \n",
        "\n",
        "D) `select(penguins, bill_length_mm::body_mass_g)`\n",
        "\n",
        "Assign your answer to a variable called `answer1.3`"
      ]
    },
    {
      "cell_type": "code",
      "execution_count": null,
      "metadata": {
        "deletable": false,
        "name": "question-1-2",
        "nbgrader": {
          "cell_type": "code",
          "checksum": "0df62b99abb510420f9d23e9c1a7662a",
          "grade": false,
          "grade_id": "cell-8b4a2b3bcfaa1afc",
          "locked": false,
          "schema_version": 3,
          "solution": true,
          "task": false
        },
        "id": "SCuSBWsqWByX"
      },
      "outputs": [],
      "source": [
        "# answer1.3 <- \"FILL_THIS_IN\"\n",
        "# your code here\n",
        "answer1.3 <- \"C\"\n",
        "#fail() # No Answer - remove if you provide an answer"
      ]
    },
    {
      "cell_type": "code",
      "execution_count": null,
      "metadata": {
        "deletable": false,
        "editable": false,
        "name": "test-1-2",
        "nbgrader": {
          "cell_type": "code",
          "checksum": "efac1e955a7ade981ca5aef61ec3961c",
          "grade": true,
          "grade_id": "cell-c526ad124009a3f7",
          "locked": true,
          "points": 1,
          "schema_version": 3,
          "solution": false,
          "task": false
        },
        "colab": {
          "base_uri": "https://localhost:8080/"
        },
        "id": "YdCkxBK2WByX",
        "outputId": "af49b675-dea5-472e-f959-e0df5a1e9927"
      },
      "outputs": [
        {
          "output_type": "stream",
          "name": "stdout",
          "text": [
            "[1] \"Success!\"\n"
          ]
        }
      ],
      "source": [
        "library(digest)\n",
        "stopifnot(\"type of answer1.3 is not character\"= setequal(digest(paste(toString(class(answer1.3)), \"d9a13\")), \"e722e5fea3ffca8a19fa8d58a8ec897b\"))\n",
        "stopifnot(\"length of answer1.3 is not correct\"= setequal(digest(paste(toString(length(answer1.3)), \"d9a13\")), \"ece5e2b8e7318d1c702e3c0fe5312bae\"))\n",
        "stopifnot(\"value of answer1.3 is not correct\"= setequal(digest(paste(toString(tolower(answer1.3)), \"d9a13\")), \"3bc96418c2bc7e587d6752f24cf8e8ec\"))\n",
        "stopifnot(\"letters in string value of answer1.3 are correct but case is not correct\"= setequal(digest(paste(toString(answer1.3), \"d9a13\")), \"fa0567292f25643d9fa869f3cba99a60\"))\n",
        "\n",
        "print('Success!')"
      ]
    },
    {
      "cell_type": "markdown",
      "metadata": {
        "deletable": false,
        "editable": false,
        "nbgrader": {
          "cell_type": "markdown",
          "checksum": "bb346c9e74708bccb30ec1e4df2f9e0e",
          "grade": false,
          "grade_id": "cell-b6281ca333158c02",
          "locked": true,
          "schema_version": 3,
          "solution": false,
          "task": false
        },
        "id": "qdqOj77rWByX"
      },
      "source": [
        "## QUESTION 1.4\n",
        "\n",
        "{points: 1}\n",
        "\n",
        "Now, select all variables, except `island`. How would you write this code?\n",
        "\n",
        "A) `select(penguins, \"-island\")`   \n",
        "\n",
        "B) `select(penguins, -island)`   \n",
        "\n",
        "C) `select(penguins, c(\"-island\"))`   \n",
        "\n",
        "Put your answer in a variable named `answer1.4`. We encourage you to try executing these!"
      ]
    },
    {
      "cell_type": "code",
      "execution_count": null,
      "metadata": {
        "deletable": false,
        "name": "question-1-3",
        "nbgrader": {
          "cell_type": "code",
          "checksum": "ba1a9117a4ea5c1d55d8dc591493c1b3",
          "grade": false,
          "grade_id": "cell-f245f071ce744359",
          "locked": false,
          "schema_version": 3,
          "solution": true,
          "task": false
        },
        "id": "a4ilfCE2WByX"
      },
      "outputs": [],
      "source": [
        "# answer1.4 <- \"FILL_THIS_IN\"\n",
        "# your code here\n",
        "answer1.4 <- \"B\"\n",
        "#fail() # No Answer - remove if you provide an answer"
      ]
    },
    {
      "cell_type": "code",
      "execution_count": null,
      "metadata": {
        "deletable": false,
        "editable": false,
        "name": "test-1-3",
        "nbgrader": {
          "cell_type": "code",
          "checksum": "a1e2910b7cb1f1c09578091f34c38c68",
          "grade": true,
          "grade_id": "cell-a51b6f36744882c1",
          "locked": true,
          "points": 1,
          "schema_version": 3,
          "solution": false,
          "task": false
        },
        "colab": {
          "base_uri": "https://localhost:8080/"
        },
        "id": "jSjaUUjKWByX",
        "outputId": "cbb6a45f-24d4-489c-ff63-dfe8fe8ae0ac"
      },
      "outputs": [
        {
          "output_type": "stream",
          "name": "stdout",
          "text": [
            "[1] \"Success!\"\n"
          ]
        }
      ],
      "source": [
        "library(digest)\n",
        "stopifnot(\"type of answer1.4 is not character\"= setequal(digest(paste(toString(class(answer1.4)), \"7f60b\")), \"439d25fd987cb848930a324e5036c7c4\"))\n",
        "stopifnot(\"length of answer1.4 is not correct\"= setequal(digest(paste(toString(length(answer1.4)), \"7f60b\")), \"1242860c7ae6a36a43e270af26781b43\"))\n",
        "stopifnot(\"value of answer1.4 is not correct\"= setequal(digest(paste(toString(tolower(answer1.4)), \"7f60b\")), \"a5990bbc986f8177d2cab51c74f4d81e\"))\n",
        "stopifnot(\"letters in string value of answer1.4 are correct but case is not correct\"= setequal(digest(paste(toString(answer1.4), \"7f60b\")), \"05207e19e3f1a96f69826dcd620b4752\"))\n",
        "\n",
        "print('Success!')"
      ]
    },
    {
      "cell_type": "markdown",
      "metadata": {
        "deletable": false,
        "editable": false,
        "nbgrader": {
          "cell_type": "markdown",
          "checksum": "cfd36814ca32e44b2840d1677051158c",
          "grade": false,
          "grade_id": "cell-71e9d586a9716e39",
          "locked": true,
          "schema_version": 3,
          "solution": false,
          "task": false
        },
        "id": "PWQS4QSIWByX"
      },
      "source": [
        "## QUESTION 1.5\n",
        "\n",
        "{points: 1}\n",
        "\n",
        "Output the `penguins` tibble so that `year` comes first. Hint: use the tidyselect `everything()` function. Store the result in a variable named `answer1.5`."
      ]
    },
    {
      "cell_type": "code",
      "execution_count": null,
      "metadata": {
        "deletable": false,
        "name": "question-1-4",
        "nbgrader": {
          "cell_type": "code",
          "checksum": "6aa4e71b68cdc93b58e9d803b46abea1",
          "grade": false,
          "grade_id": "cell-ab4e3c79b2c8ab2b",
          "locked": false,
          "schema_version": 3,
          "solution": true,
          "task": false
        },
        "colab": {
          "base_uri": "https://localhost:8080/",
          "height": 286
        },
        "id": "oxmUxCDoWByX",
        "outputId": "63358ebe-4f81-4426-dd11-c7e24c2b9c26"
      },
      "outputs": [
        {
          "output_type": "display_data",
          "data": {
            "text/html": [
              "<table class=\"dataframe\">\n",
              "<caption>A tibble: 6 × 8</caption>\n",
              "<thead>\n",
              "\t<tr><th scope=col>year</th><th scope=col>species</th><th scope=col>island</th><th scope=col>bill_length_mm</th><th scope=col>bill_depth_mm</th><th scope=col>flipper_length_mm</th><th scope=col>body_mass_g</th><th scope=col>sex</th></tr>\n",
              "\t<tr><th scope=col>&lt;int&gt;</th><th scope=col>&lt;fct&gt;</th><th scope=col>&lt;fct&gt;</th><th scope=col>&lt;dbl&gt;</th><th scope=col>&lt;dbl&gt;</th><th scope=col>&lt;int&gt;</th><th scope=col>&lt;int&gt;</th><th scope=col>&lt;fct&gt;</th></tr>\n",
              "</thead>\n",
              "<tbody>\n",
              "\t<tr><td>2007</td><td>Adelie</td><td>Torgersen</td><td>39.1</td><td>18.7</td><td>181</td><td>3750</td><td>male  </td></tr>\n",
              "\t<tr><td>2007</td><td>Adelie</td><td>Torgersen</td><td>39.5</td><td>17.4</td><td>186</td><td>3800</td><td>female</td></tr>\n",
              "\t<tr><td>2007</td><td>Adelie</td><td>Torgersen</td><td>40.3</td><td>18.0</td><td>195</td><td>3250</td><td>female</td></tr>\n",
              "\t<tr><td>2007</td><td>Adelie</td><td>Torgersen</td><td>  NA</td><td>  NA</td><td> NA</td><td>  NA</td><td>NA    </td></tr>\n",
              "\t<tr><td>2007</td><td>Adelie</td><td>Torgersen</td><td>36.7</td><td>19.3</td><td>193</td><td>3450</td><td>female</td></tr>\n",
              "\t<tr><td>2007</td><td>Adelie</td><td>Torgersen</td><td>39.3</td><td>20.6</td><td>190</td><td>3650</td><td>male  </td></tr>\n",
              "</tbody>\n",
              "</table>\n"
            ],
            "text/markdown": "\nA tibble: 6 × 8\n\n| year &lt;int&gt; | species &lt;fct&gt; | island &lt;fct&gt; | bill_length_mm &lt;dbl&gt; | bill_depth_mm &lt;dbl&gt; | flipper_length_mm &lt;int&gt; | body_mass_g &lt;int&gt; | sex &lt;fct&gt; |\n|---|---|---|---|---|---|---|---|\n| 2007 | Adelie | Torgersen | 39.1 | 18.7 | 181 | 3750 | male   |\n| 2007 | Adelie | Torgersen | 39.5 | 17.4 | 186 | 3800 | female |\n| 2007 | Adelie | Torgersen | 40.3 | 18.0 | 195 | 3250 | female |\n| 2007 | Adelie | Torgersen |   NA |   NA |  NA |   NA | NA     |\n| 2007 | Adelie | Torgersen | 36.7 | 19.3 | 193 | 3450 | female |\n| 2007 | Adelie | Torgersen | 39.3 | 20.6 | 190 | 3650 | male   |\n\n",
            "text/latex": "A tibble: 6 × 8\n\\begin{tabular}{llllllll}\n year & species & island & bill\\_length\\_mm & bill\\_depth\\_mm & flipper\\_length\\_mm & body\\_mass\\_g & sex\\\\\n <int> & <fct> & <fct> & <dbl> & <dbl> & <int> & <int> & <fct>\\\\\n\\hline\n\t 2007 & Adelie & Torgersen & 39.1 & 18.7 & 181 & 3750 & male  \\\\\n\t 2007 & Adelie & Torgersen & 39.5 & 17.4 & 186 & 3800 & female\\\\\n\t 2007 & Adelie & Torgersen & 40.3 & 18.0 & 195 & 3250 & female\\\\\n\t 2007 & Adelie & Torgersen &   NA &   NA &  NA &   NA & NA    \\\\\n\t 2007 & Adelie & Torgersen & 36.7 & 19.3 & 193 & 3450 & female\\\\\n\t 2007 & Adelie & Torgersen & 39.3 & 20.6 & 190 & 3650 & male  \\\\\n\\end{tabular}\n",
            "text/plain": [
              "  year species island    bill_length_mm bill_depth_mm flipper_length_mm\n",
              "1 2007 Adelie  Torgersen 39.1           18.7          181              \n",
              "2 2007 Adelie  Torgersen 39.5           17.4          186              \n",
              "3 2007 Adelie  Torgersen 40.3           18.0          195              \n",
              "4 2007 Adelie  Torgersen   NA             NA           NA              \n",
              "5 2007 Adelie  Torgersen 36.7           19.3          193              \n",
              "6 2007 Adelie  Torgersen 39.3           20.6          190              \n",
              "  body_mass_g sex   \n",
              "1 3750        male  \n",
              "2 3800        female\n",
              "3 3250        female\n",
              "4   NA        NA    \n",
              "5 3450        female\n",
              "6 3650        male  "
            ]
          },
          "metadata": {}
        }
      ],
      "source": [
        "# answer1.5 <- select(penguins, FILL_THIS_IN, FILL_THIS_IN)\n",
        "# your code here\n",
        "answer1.5 <- select(penguins, year, everything())\n",
        "#fail() # No Answer - remove if you provide an answer\n",
        "head(answer1.5)"
      ]
    },
    {
      "cell_type": "code",
      "execution_count": null,
      "metadata": {
        "deletable": false,
        "editable": false,
        "name": "test-1-4",
        "nbgrader": {
          "cell_type": "code",
          "checksum": "7c32f13a5be2273bbe6612984313f2ce",
          "grade": true,
          "grade_id": "cell-0191ea7047f44d3c",
          "locked": true,
          "points": 1,
          "schema_version": 3,
          "solution": false,
          "task": false
        },
        "colab": {
          "base_uri": "https://localhost:8080/"
        },
        "id": "Ij7Ce6iyWByY",
        "outputId": "dc948e85-2bae-4166-e7be-5de421958c0e"
      },
      "outputs": [
        {
          "output_type": "stream",
          "name": "stdout",
          "text": [
            "[1] \"Success!\"\n"
          ]
        }
      ],
      "source": [
        "library(digest)\n",
        "stopifnot(\"type of dim(answer1.5) is not integer\"= setequal(digest(paste(toString(class(dim(answer1.5))), \"56e96\")), \"c115dd5b7b57399fb416476849396bd9\"))\n",
        "stopifnot(\"length of dim(answer1.5) is not correct\"= setequal(digest(paste(toString(length(dim(answer1.5))), \"56e96\")), \"7e85ce0493a51f964864ea4de12b610d\"))\n",
        "stopifnot(\"values of dim(answer1.5) are not correct\"= setequal(digest(paste(toString(sort(dim(answer1.5))), \"56e96\")), \"45b94405c4f06e4b7ddda07070e3bfc1\"))\n",
        "\n",
        "stopifnot(\"answer1.5 should be a data frame\"= setequal(digest(paste(toString('data.frame' %in% class(answer1.5)), \"56e97\")), \"9bea5968c1d59783fbdbb6cd29e775fc\"))\n",
        "stopifnot(\"dimensions of answer1.5 are not correct\"= setequal(digest(paste(toString(dim(answer1.5)), \"56e97\")), \"7f3b3f5f3a4b0ad703fafb24e9c7b056\"))\n",
        "stopifnot(\"column names of answer1.5 are not correct\"= setequal(digest(paste(toString(sort(colnames(answer1.5))), \"56e97\")), \"476b4dec392e4711ec6392eb0392f7d5\"))\n",
        "stopifnot(\"types of columns in answer1.5 are not correct\"= setequal(digest(paste(toString(sort(unlist(sapply(answer1.5, class)))), \"56e97\")), \"c62c536a5821283e6052a3f82d8b1962\"))\n",
        "stopifnot(\"values in one or more numerical columns in answer1.5 are not correct\"= setequal(digest(paste(toString(if (any(sapply(answer1.5, is.numeric))) sort(round(sapply(answer1.5[, sapply(answer1.5, is.numeric)], sum, na.rm = TRUE), 2)) else 0), \"56e97\")), \"1120a49a7b13ae70759cca64d9948ca7\"))\n",
        "stopifnot(\"values in one or more character columns in answer1.5 are not correct\"= setequal(digest(paste(toString(if (any(sapply(answer1.5, is.character))) sum(sapply(answer1.5[sapply(answer1.5, is.character)], function(x) length(unique(x)))) else 0), \"56e97\")), \"e7d6da79d9ee995dca0110647d347a47\"))\n",
        "stopifnot(\"values in one or more factor columns in answer1.5 are not correct\"= setequal(digest(paste(toString(if (any(sapply(answer1.5, is.factor))) sum(sapply(answer1.5[, sapply(answer1.5, is.factor)], function(col) length(unique(col)))) else 0), \"56e97\")), \"647efa9196b158ffc8a4d26ec191a1d0\"))\n",
        "\n",
        "print('Success!')"
      ]
    },
    {
      "cell_type": "markdown",
      "metadata": {
        "deletable": false,
        "editable": false,
        "nbgrader": {
          "cell_type": "markdown",
          "checksum": "318db5fb7133164b90e081e56279e1cc",
          "grade": false,
          "grade_id": "cell-5ca019b951c06c27",
          "locked": true,
          "schema_version": 3,
          "solution": false,
          "task": false
        },
        "id": "9MbTBqOMWByY"
      },
      "source": [
        "## QUESTION 1.6\n",
        "\n",
        "{points: 1}\n",
        "\n",
        "Rename `flipper_length_mm` to `length_flipper_mm`. Store the result in a variable named `answer1.6`"
      ]
    },
    {
      "cell_type": "code",
      "execution_count": null,
      "metadata": {
        "deletable": false,
        "name": "question-1-5",
        "nbgrader": {
          "cell_type": "code",
          "checksum": "698181e0cff0dfb7acd88c762540a85a",
          "grade": false,
          "grade_id": "cell-92e4880ebb7d27e5",
          "locked": false,
          "schema_version": 3,
          "solution": true,
          "task": false
        },
        "colab": {
          "base_uri": "https://localhost:8080/",
          "height": 286
        },
        "id": "NBfutb1EWByY",
        "outputId": "1dc6a3dd-3ddd-4137-e780-fd1d49620afb"
      },
      "outputs": [
        {
          "output_type": "display_data",
          "data": {
            "text/html": [
              "<table class=\"dataframe\">\n",
              "<caption>A tibble: 6 × 8</caption>\n",
              "<thead>\n",
              "\t<tr><th scope=col>species</th><th scope=col>island</th><th scope=col>bill_length_mm</th><th scope=col>bill_depth_mm</th><th scope=col>length_flipper_mm</th><th scope=col>body_mass_g</th><th scope=col>sex</th><th scope=col>year</th></tr>\n",
              "\t<tr><th scope=col>&lt;fct&gt;</th><th scope=col>&lt;fct&gt;</th><th scope=col>&lt;dbl&gt;</th><th scope=col>&lt;dbl&gt;</th><th scope=col>&lt;int&gt;</th><th scope=col>&lt;int&gt;</th><th scope=col>&lt;fct&gt;</th><th scope=col>&lt;int&gt;</th></tr>\n",
              "</thead>\n",
              "<tbody>\n",
              "\t<tr><td>Adelie</td><td>Torgersen</td><td>39.1</td><td>18.7</td><td>181</td><td>3750</td><td>male  </td><td>2007</td></tr>\n",
              "\t<tr><td>Adelie</td><td>Torgersen</td><td>39.5</td><td>17.4</td><td>186</td><td>3800</td><td>female</td><td>2007</td></tr>\n",
              "\t<tr><td>Adelie</td><td>Torgersen</td><td>40.3</td><td>18.0</td><td>195</td><td>3250</td><td>female</td><td>2007</td></tr>\n",
              "\t<tr><td>Adelie</td><td>Torgersen</td><td>  NA</td><td>  NA</td><td> NA</td><td>  NA</td><td>NA    </td><td>2007</td></tr>\n",
              "\t<tr><td>Adelie</td><td>Torgersen</td><td>36.7</td><td>19.3</td><td>193</td><td>3450</td><td>female</td><td>2007</td></tr>\n",
              "\t<tr><td>Adelie</td><td>Torgersen</td><td>39.3</td><td>20.6</td><td>190</td><td>3650</td><td>male  </td><td>2007</td></tr>\n",
              "</tbody>\n",
              "</table>\n"
            ],
            "text/markdown": "\nA tibble: 6 × 8\n\n| species &lt;fct&gt; | island &lt;fct&gt; | bill_length_mm &lt;dbl&gt; | bill_depth_mm &lt;dbl&gt; | length_flipper_mm &lt;int&gt; | body_mass_g &lt;int&gt; | sex &lt;fct&gt; | year &lt;int&gt; |\n|---|---|---|---|---|---|---|---|\n| Adelie | Torgersen | 39.1 | 18.7 | 181 | 3750 | male   | 2007 |\n| Adelie | Torgersen | 39.5 | 17.4 | 186 | 3800 | female | 2007 |\n| Adelie | Torgersen | 40.3 | 18.0 | 195 | 3250 | female | 2007 |\n| Adelie | Torgersen |   NA |   NA |  NA |   NA | NA     | 2007 |\n| Adelie | Torgersen | 36.7 | 19.3 | 193 | 3450 | female | 2007 |\n| Adelie | Torgersen | 39.3 | 20.6 | 190 | 3650 | male   | 2007 |\n\n",
            "text/latex": "A tibble: 6 × 8\n\\begin{tabular}{llllllll}\n species & island & bill\\_length\\_mm & bill\\_depth\\_mm & length\\_flipper\\_mm & body\\_mass\\_g & sex & year\\\\\n <fct> & <fct> & <dbl> & <dbl> & <int> & <int> & <fct> & <int>\\\\\n\\hline\n\t Adelie & Torgersen & 39.1 & 18.7 & 181 & 3750 & male   & 2007\\\\\n\t Adelie & Torgersen & 39.5 & 17.4 & 186 & 3800 & female & 2007\\\\\n\t Adelie & Torgersen & 40.3 & 18.0 & 195 & 3250 & female & 2007\\\\\n\t Adelie & Torgersen &   NA &   NA &  NA &   NA & NA     & 2007\\\\\n\t Adelie & Torgersen & 36.7 & 19.3 & 193 & 3450 & female & 2007\\\\\n\t Adelie & Torgersen & 39.3 & 20.6 & 190 & 3650 & male   & 2007\\\\\n\\end{tabular}\n",
            "text/plain": [
              "  species island    bill_length_mm bill_depth_mm length_flipper_mm body_mass_g\n",
              "1 Adelie  Torgersen 39.1           18.7          181               3750       \n",
              "2 Adelie  Torgersen 39.5           17.4          186               3800       \n",
              "3 Adelie  Torgersen 40.3           18.0          195               3250       \n",
              "4 Adelie  Torgersen   NA             NA           NA                 NA       \n",
              "5 Adelie  Torgersen 36.7           19.3          193               3450       \n",
              "6 Adelie  Torgersen 39.3           20.6          190               3650       \n",
              "  sex    year\n",
              "1 male   2007\n",
              "2 female 2007\n",
              "3 female 2007\n",
              "4 NA     2007\n",
              "5 female 2007\n",
              "6 male   2007"
            ]
          },
          "metadata": {}
        }
      ],
      "source": [
        "# answer1.6 <- rename(FILL_THIS_IN, FILL_THIS_IN)\n",
        "# your code here\n",
        "answer1.6 <- rename(penguins, length_flipper_mm = flipper_length_mm)\n",
        "#fail() # No Answer - remove if you provide an answer\n",
        "head(answer1.6)"
      ]
    },
    {
      "cell_type": "code",
      "execution_count": null,
      "metadata": {
        "deletable": false,
        "editable": false,
        "name": "test-1-5",
        "nbgrader": {
          "cell_type": "code",
          "checksum": "7bd0511bee590e77bd015ae13b31ba39",
          "grade": true,
          "grade_id": "cell-7e940a5bc6938d87",
          "locked": true,
          "points": 1,
          "schema_version": 3,
          "solution": false,
          "task": false
        },
        "colab": {
          "base_uri": "https://localhost:8080/"
        },
        "id": "RBORdnpoWByY",
        "outputId": "352ac028-8546-4c4d-bd17-fbe2381786a8"
      },
      "outputs": [
        {
          "output_type": "stream",
          "name": "stdout",
          "text": [
            "[1] \"Success!\"\n"
          ]
        }
      ],
      "source": [
        "library(digest)\n",
        "stopifnot(\"answer1.6 should be a data frame\"= setequal(digest(paste(toString('data.frame' %in% class(answer1.6)), \"2b5f9\")), \"e7aecfe396fee454e4823dc65c247c4b\"))\n",
        "stopifnot(\"dimensions of answer1.6 are not correct\"= setequal(digest(paste(toString(dim(answer1.6)), \"2b5f9\")), \"7da673f2efe24d7ed5bb99995f2ea23f\"))\n",
        "stopifnot(\"column names of answer1.6 are not correct\"= setequal(digest(paste(toString(sort(colnames(answer1.6))), \"2b5f9\")), \"5dcd43867fc4ca0ed66d126765d2dfb2\"))\n",
        "stopifnot(\"types of columns in answer1.6 are not correct\"= setequal(digest(paste(toString(sort(unlist(sapply(answer1.6, class)))), \"2b5f9\")), \"7f3177f5328bb2e46da2225bbb0488d4\"))\n",
        "stopifnot(\"values in one or more numerical columns in answer1.6 are not correct\"= setequal(digest(paste(toString(if (any(sapply(answer1.6, is.numeric))) sort(round(sapply(answer1.6[, sapply(answer1.6, is.numeric)], sum, na.rm = TRUE), 2)) else 0), \"2b5f9\")), \"6d322e842542771bab10744cb106e7a0\"))\n",
        "stopifnot(\"values in one or more character columns in answer1.6 are not correct\"= setequal(digest(paste(toString(if (any(sapply(answer1.6, is.character))) sum(sapply(answer1.6[sapply(answer1.6, is.character)], function(x) length(unique(x)))) else 0), \"2b5f9\")), \"1377b620d7acc7fea093fc4fca479f76\"))\n",
        "stopifnot(\"values in one or more factor columns in answer1.6 are not correct\"= setequal(digest(paste(toString(if (any(sapply(answer1.6, is.factor))) sum(sapply(answer1.6[, sapply(answer1.6, is.factor)], function(col) length(unique(col)))) else 0), \"2b5f9\")), \"a7aa8f613cf91e06d1d5356b62318e51\"))\n",
        "\n",
        "print('Success!')"
      ]
    },
    {
      "cell_type": "markdown",
      "metadata": {
        "deletable": false,
        "editable": false,
        "nbgrader": {
          "cell_type": "markdown",
          "checksum": "0106b854365c14bb7d71627d8e12a923",
          "grade": false,
          "grade_id": "cell-63fcfb647325d7f5",
          "locked": true,
          "schema_version": 3,
          "solution": false,
          "task": false
        },
        "id": "dzpsS2zmWByY"
      },
      "source": [
        "## `filter()`\n",
        "\n",
        "So far, we've practiced picking variables by their name with `select()`. But how about picking observations (rows)? This is where `filter()` comes in.\n",
        "\n",
        "## QUESTION 1.7\n",
        "\n",
        "{points: 1}\n",
        "\n",
        "Pick penguins with body mass greater than 3600 g. Store the resulting tibble in a variable named `answer1.7`"
      ]
    },
    {
      "cell_type": "code",
      "execution_count": null,
      "metadata": {
        "deletable": false,
        "name": "question-1-6",
        "nbgrader": {
          "cell_type": "code",
          "checksum": "8021df7e6769cd9ef4e9e0f249e2fa14",
          "grade": false,
          "grade_id": "cell-426cf55e35870df1",
          "locked": false,
          "schema_version": 3,
          "solution": true,
          "task": false
        },
        "colab": {
          "base_uri": "https://localhost:8080/",
          "height": 286
        },
        "id": "BNkl7gpbWByZ",
        "outputId": "7b443cbd-3436-4619-bcd9-fe17dbcd8227"
      },
      "outputs": [
        {
          "output_type": "display_data",
          "data": {
            "text/html": [
              "<table class=\"dataframe\">\n",
              "<caption>A tibble: 6 × 8</caption>\n",
              "<thead>\n",
              "\t<tr><th scope=col>species</th><th scope=col>island</th><th scope=col>bill_length_mm</th><th scope=col>bill_depth_mm</th><th scope=col>flipper_length_mm</th><th scope=col>body_mass_g</th><th scope=col>sex</th><th scope=col>year</th></tr>\n",
              "\t<tr><th scope=col>&lt;fct&gt;</th><th scope=col>&lt;fct&gt;</th><th scope=col>&lt;dbl&gt;</th><th scope=col>&lt;dbl&gt;</th><th scope=col>&lt;int&gt;</th><th scope=col>&lt;int&gt;</th><th scope=col>&lt;fct&gt;</th><th scope=col>&lt;int&gt;</th></tr>\n",
              "</thead>\n",
              "<tbody>\n",
              "\t<tr><td>Adelie</td><td>Torgersen</td><td>39.1</td><td>18.7</td><td>181</td><td>3750</td><td>male  </td><td>2007</td></tr>\n",
              "\t<tr><td>Adelie</td><td>Torgersen</td><td>39.5</td><td>17.4</td><td>186</td><td>3800</td><td>female</td><td>2007</td></tr>\n",
              "\t<tr><td>Adelie</td><td>Torgersen</td><td>39.3</td><td>20.6</td><td>190</td><td>3650</td><td>male  </td><td>2007</td></tr>\n",
              "\t<tr><td>Adelie</td><td>Torgersen</td><td>38.9</td><td>17.8</td><td>181</td><td>3625</td><td>female</td><td>2007</td></tr>\n",
              "\t<tr><td>Adelie</td><td>Torgersen</td><td>39.2</td><td>19.6</td><td>195</td><td>4675</td><td>male  </td><td>2007</td></tr>\n",
              "\t<tr><td>Adelie</td><td>Torgersen</td><td>42.0</td><td>20.2</td><td>190</td><td>4250</td><td>NA    </td><td>2007</td></tr>\n",
              "</tbody>\n",
              "</table>\n"
            ],
            "text/markdown": "\nA tibble: 6 × 8\n\n| species &lt;fct&gt; | island &lt;fct&gt; | bill_length_mm &lt;dbl&gt; | bill_depth_mm &lt;dbl&gt; | flipper_length_mm &lt;int&gt; | body_mass_g &lt;int&gt; | sex &lt;fct&gt; | year &lt;int&gt; |\n|---|---|---|---|---|---|---|---|\n| Adelie | Torgersen | 39.1 | 18.7 | 181 | 3750 | male   | 2007 |\n| Adelie | Torgersen | 39.5 | 17.4 | 186 | 3800 | female | 2007 |\n| Adelie | Torgersen | 39.3 | 20.6 | 190 | 3650 | male   | 2007 |\n| Adelie | Torgersen | 38.9 | 17.8 | 181 | 3625 | female | 2007 |\n| Adelie | Torgersen | 39.2 | 19.6 | 195 | 4675 | male   | 2007 |\n| Adelie | Torgersen | 42.0 | 20.2 | 190 | 4250 | NA     | 2007 |\n\n",
            "text/latex": "A tibble: 6 × 8\n\\begin{tabular}{llllllll}\n species & island & bill\\_length\\_mm & bill\\_depth\\_mm & flipper\\_length\\_mm & body\\_mass\\_g & sex & year\\\\\n <fct> & <fct> & <dbl> & <dbl> & <int> & <int> & <fct> & <int>\\\\\n\\hline\n\t Adelie & Torgersen & 39.1 & 18.7 & 181 & 3750 & male   & 2007\\\\\n\t Adelie & Torgersen & 39.5 & 17.4 & 186 & 3800 & female & 2007\\\\\n\t Adelie & Torgersen & 39.3 & 20.6 & 190 & 3650 & male   & 2007\\\\\n\t Adelie & Torgersen & 38.9 & 17.8 & 181 & 3625 & female & 2007\\\\\n\t Adelie & Torgersen & 39.2 & 19.6 & 195 & 4675 & male   & 2007\\\\\n\t Adelie & Torgersen & 42.0 & 20.2 & 190 & 4250 & NA     & 2007\\\\\n\\end{tabular}\n",
            "text/plain": [
              "  species island    bill_length_mm bill_depth_mm flipper_length_mm body_mass_g\n",
              "1 Adelie  Torgersen 39.1           18.7          181               3750       \n",
              "2 Adelie  Torgersen 39.5           17.4          186               3800       \n",
              "3 Adelie  Torgersen 39.3           20.6          190               3650       \n",
              "4 Adelie  Torgersen 38.9           17.8          181               3625       \n",
              "5 Adelie  Torgersen 39.2           19.6          195               4675       \n",
              "6 Adelie  Torgersen 42.0           20.2          190               4250       \n",
              "  sex    year\n",
              "1 male   2007\n",
              "2 female 2007\n",
              "3 male   2007\n",
              "4 female 2007\n",
              "5 male   2007\n",
              "6 NA     2007"
            ]
          },
          "metadata": {}
        }
      ],
      "source": [
        "# answer1.7 <- filter(FILL_THIS_IN, FILL_THIS_IN)\n",
        "# your code here\n",
        "answer1.7 <- filter(penguins, body_mass_g > 3600)\n",
        "#fail() # No Answer - remove if you provide an answer\n",
        "head(answer1.7)"
      ]
    },
    {
      "cell_type": "code",
      "execution_count": null,
      "metadata": {
        "deletable": false,
        "editable": false,
        "name": "test-1-6",
        "nbgrader": {
          "cell_type": "code",
          "checksum": "5365118c0795cb4faa175e31062399d7",
          "grade": true,
          "grade_id": "cell-31eb0dad4d4e75a3",
          "locked": true,
          "points": 1,
          "schema_version": 3,
          "solution": false,
          "task": false
        },
        "colab": {
          "base_uri": "https://localhost:8080/"
        },
        "id": "qhHo1rWWWByZ",
        "outputId": "a91c0b3e-ad89-4a45-db6a-ab5ac44fca88"
      },
      "outputs": [
        {
          "output_type": "stream",
          "name": "stdout",
          "text": [
            "[1] \"Success!\"\n"
          ]
        }
      ],
      "source": [
        "library(digest)\n",
        "stopifnot(\"answer1.7 should be a data frame\"= setequal(digest(paste(toString('data.frame' %in% class(answer1.7)), \"e6d5d\")), \"93f9389800c6f6fbdd58623076de1dd7\"))\n",
        "stopifnot(\"dimensions of answer1.7 are not correct\"= setequal(digest(paste(toString(dim(answer1.7)), \"e6d5d\")), \"a4525a27572138f5bd22bf46e05c0e89\"))\n",
        "stopifnot(\"column names of answer1.7 are not correct\"= setequal(digest(paste(toString(sort(colnames(answer1.7))), \"e6d5d\")), \"582187f5fddbeae59a165a470e157df6\"))\n",
        "stopifnot(\"types of columns in answer1.7 are not correct\"= setequal(digest(paste(toString(sort(unlist(sapply(answer1.7, class)))), \"e6d5d\")), \"e498dbda396811da6adb153331540db2\"))\n",
        "stopifnot(\"values in one or more numerical columns in answer1.7 are not correct\"= setequal(digest(paste(toString(if (any(sapply(answer1.7, is.numeric))) sort(round(sapply(answer1.7[, sapply(answer1.7, is.numeric)], sum, na.rm = TRUE), 2)) else 0), \"e6d5d\")), \"470fa5e258752f355ee032004767cf4b\"))\n",
        "stopifnot(\"values in one or more character columns in answer1.7 are not correct\"= setequal(digest(paste(toString(if (any(sapply(answer1.7, is.character))) sum(sapply(answer1.7[sapply(answer1.7, is.character)], function(x) length(unique(x)))) else 0), \"e6d5d\")), \"dd954b7e2d40b4b4b6c61a90fae2b99e\"))\n",
        "stopifnot(\"values in one or more factor columns in answer1.7 are not correct\"= setequal(digest(paste(toString(if (any(sapply(answer1.7, is.factor))) sum(sapply(answer1.7[, sapply(answer1.7, is.factor)], function(col) length(unique(col)))) else 0), \"e6d5d\")), \"9f8b6d5eadc85f0a7463f53339ec8dec\"))\n",
        "\n",
        "print('Success!')"
      ]
    },
    {
      "cell_type": "markdown",
      "metadata": {
        "deletable": false,
        "editable": false,
        "nbgrader": {
          "cell_type": "markdown",
          "checksum": "b12d0b9bbe80d099176b37ccbe7ad905",
          "grade": false,
          "grade_id": "cell-fd6a0770b1db542e",
          "locked": true,
          "schema_version": 3,
          "solution": false,
          "task": false
        },
        "id": "pta2mk2tWByZ"
      },
      "source": [
        "## Storing the subsetted penguins data\n",
        "\n",
        "In question 1.7 above, you've created a subset of the `penguins` dataset by filtering for those penguins that have a body mass greater than 3600 g. Let's do a quick check to see how many penguins meet that threshold by comparing the dimensions of the `penguins` dataset and your subset, `answer1.7`. There are two different ways to do this."
      ]
    },
    {
      "cell_type": "code",
      "execution_count": null,
      "metadata": {
        "deletable": false,
        "editable": false,
        "nbgrader": {
          "cell_type": "code",
          "checksum": "362d75da6d8e88080ac279592ca0e98d",
          "grade": false,
          "grade_id": "cell-88d29ce015d55c3a",
          "locked": true,
          "schema_version": 3,
          "solution": false,
          "task": false
        },
        "colab": {
          "base_uri": "https://localhost:8080/",
          "height": 52
        },
        "id": "mHRETIzMWByl",
        "outputId": "4efeb1ce-1832-4096-9855-d6a18659559c"
      },
      "outputs": [
        {
          "output_type": "display_data",
          "data": {
            "text/html": [
              "<style>\n",
              ".list-inline {list-style: none; margin:0; padding: 0}\n",
              ".list-inline>li {display: inline-block}\n",
              ".list-inline>li:not(:last-child)::after {content: \"\\00b7\"; padding: 0 .5ex}\n",
              "</style>\n",
              "<ol class=list-inline><li>344</li><li>8</li></ol>\n"
            ],
            "text/markdown": "1. 344\n2. 8\n\n\n",
            "text/latex": "\\begin{enumerate*}\n\\item 344\n\\item 8\n\\end{enumerate*}\n",
            "text/plain": [
              "[1] 344   8"
            ]
          },
          "metadata": {}
        },
        {
          "output_type": "display_data",
          "data": {
            "text/html": [
              "<style>\n",
              ".list-inline {list-style: none; margin:0; padding: 0}\n",
              ".list-inline>li {display: inline-block}\n",
              ".list-inline>li:not(:last-child)::after {content: \"\\00b7\"; padding: 0 .5ex}\n",
              "</style>\n",
              "<ol class=list-inline><li>245</li><li>8</li></ol>\n"
            ],
            "text/markdown": "1. 245\n2. 8\n\n\n",
            "text/latex": "\\begin{enumerate*}\n\\item 245\n\\item 8\n\\end{enumerate*}\n",
            "text/plain": [
              "[1] 245   8"
            ]
          },
          "metadata": {}
        }
      ],
      "source": [
        "dim(penguins)\n",
        "dim(answer1.7)"
      ]
    },
    {
      "cell_type": "markdown",
      "metadata": {
        "deletable": false,
        "editable": false,
        "nbgrader": {
          "cell_type": "markdown",
          "checksum": "9e3025fc5d35fce3c6ff78950638731f",
          "grade": false,
          "grade_id": "cell-9ca14d97a1c89aad",
          "locked": true,
          "schema_version": 3,
          "solution": false,
          "task": false
        },
        "id": "zRUpYtzEWByl"
      },
      "source": [
        "As you can see, in filtering down to penguins with a body mass greater than 3600g, we have lost about 100 rows (observations). However, `answer1.7` doesn't seem like an informative name for this new dataset that you've created from `penguins`. Let's rename it to something else."
      ]
    },
    {
      "cell_type": "code",
      "execution_count": null,
      "metadata": {
        "deletable": false,
        "editable": false,
        "nbgrader": {
          "cell_type": "code",
          "checksum": "e5fbd79f96c2b887e67dd0936b02435f",
          "grade": false,
          "grade_id": "cell-ad22993e5cc2f509",
          "locked": true,
          "schema_version": 3,
          "solution": false,
          "task": false
        },
        "id": "28FFON1VWByl"
      },
      "outputs": [],
      "source": [
        "penguins3600 <- answer1.7"
      ]
    },
    {
      "cell_type": "markdown",
      "metadata": {
        "deletable": false,
        "editable": false,
        "nbgrader": {
          "cell_type": "markdown",
          "checksum": "6fda612f7427acebbfa277903c556e89",
          "grade": false,
          "grade_id": "cell-051fdf27d9771f42",
          "locked": true,
          "schema_version": 3,
          "solution": false,
          "task": false
        },
        "id": "8GuTuePhWByl"
      },
      "source": [
        "## QUESTION 1.8\n",
        "\n",
        "{points: 1}\n",
        "\n",
        "From your \"new\" dataset `penguins3600`, take only data from penguins located in the Biscoe island. Store the result in a variable named `answer1.8`."
      ]
    },
    {
      "cell_type": "code",
      "execution_count": null,
      "metadata": {
        "deletable": false,
        "name": "question-1-7",
        "nbgrader": {
          "cell_type": "code",
          "checksum": "134928a758b84aa095df3daad1369cca",
          "grade": false,
          "grade_id": "cell-d7d71f8ef7623ddc",
          "locked": false,
          "schema_version": 3,
          "solution": true,
          "task": false
        },
        "colab": {
          "base_uri": "https://localhost:8080/",
          "height": 286
        },
        "id": "thINMd1yWBym",
        "outputId": "ab71eab8-062f-4453-8b81-a2977a3ef3d3"
      },
      "outputs": [
        {
          "output_type": "display_data",
          "data": {
            "text/html": [
              "<table class=\"dataframe\">\n",
              "<caption>A tibble: 6 × 8</caption>\n",
              "<thead>\n",
              "\t<tr><th scope=col>species</th><th scope=col>island</th><th scope=col>bill_length_mm</th><th scope=col>bill_depth_mm</th><th scope=col>flipper_length_mm</th><th scope=col>body_mass_g</th><th scope=col>sex</th><th scope=col>year</th></tr>\n",
              "\t<tr><th scope=col>&lt;fct&gt;</th><th scope=col>&lt;fct&gt;</th><th scope=col>&lt;dbl&gt;</th><th scope=col>&lt;dbl&gt;</th><th scope=col>&lt;int&gt;</th><th scope=col>&lt;int&gt;</th><th scope=col>&lt;fct&gt;</th><th scope=col>&lt;int&gt;</th></tr>\n",
              "</thead>\n",
              "<tbody>\n",
              "\t<tr><td>Adelie</td><td>Biscoe</td><td>35.9</td><td>19.2</td><td>189</td><td>3800</td><td>female</td><td>2007</td></tr>\n",
              "\t<tr><td>Adelie</td><td>Biscoe</td><td>38.2</td><td>18.1</td><td>185</td><td>3950</td><td>male  </td><td>2007</td></tr>\n",
              "\t<tr><td>Adelie</td><td>Biscoe</td><td>38.8</td><td>17.2</td><td>180</td><td>3800</td><td>male  </td><td>2007</td></tr>\n",
              "\t<tr><td>Adelie</td><td>Biscoe</td><td>35.3</td><td>18.9</td><td>187</td><td>3800</td><td>female</td><td>2007</td></tr>\n",
              "\t<tr><td>Adelie</td><td>Biscoe</td><td>40.5</td><td>18.9</td><td>180</td><td>3950</td><td>male  </td><td>2007</td></tr>\n",
              "\t<tr><td>Adelie</td><td>Biscoe</td><td>40.1</td><td>18.9</td><td>188</td><td>4300</td><td>male  </td><td>2008</td></tr>\n",
              "</tbody>\n",
              "</table>\n"
            ],
            "text/markdown": "\nA tibble: 6 × 8\n\n| species &lt;fct&gt; | island &lt;fct&gt; | bill_length_mm &lt;dbl&gt; | bill_depth_mm &lt;dbl&gt; | flipper_length_mm &lt;int&gt; | body_mass_g &lt;int&gt; | sex &lt;fct&gt; | year &lt;int&gt; |\n|---|---|---|---|---|---|---|---|\n| Adelie | Biscoe | 35.9 | 19.2 | 189 | 3800 | female | 2007 |\n| Adelie | Biscoe | 38.2 | 18.1 | 185 | 3950 | male   | 2007 |\n| Adelie | Biscoe | 38.8 | 17.2 | 180 | 3800 | male   | 2007 |\n| Adelie | Biscoe | 35.3 | 18.9 | 187 | 3800 | female | 2007 |\n| Adelie | Biscoe | 40.5 | 18.9 | 180 | 3950 | male   | 2007 |\n| Adelie | Biscoe | 40.1 | 18.9 | 188 | 4300 | male   | 2008 |\n\n",
            "text/latex": "A tibble: 6 × 8\n\\begin{tabular}{llllllll}\n species & island & bill\\_length\\_mm & bill\\_depth\\_mm & flipper\\_length\\_mm & body\\_mass\\_g & sex & year\\\\\n <fct> & <fct> & <dbl> & <dbl> & <int> & <int> & <fct> & <int>\\\\\n\\hline\n\t Adelie & Biscoe & 35.9 & 19.2 & 189 & 3800 & female & 2007\\\\\n\t Adelie & Biscoe & 38.2 & 18.1 & 185 & 3950 & male   & 2007\\\\\n\t Adelie & Biscoe & 38.8 & 17.2 & 180 & 3800 & male   & 2007\\\\\n\t Adelie & Biscoe & 35.3 & 18.9 & 187 & 3800 & female & 2007\\\\\n\t Adelie & Biscoe & 40.5 & 18.9 & 180 & 3950 & male   & 2007\\\\\n\t Adelie & Biscoe & 40.1 & 18.9 & 188 & 4300 & male   & 2008\\\\\n\\end{tabular}\n",
            "text/plain": [
              "  species island bill_length_mm bill_depth_mm flipper_length_mm body_mass_g\n",
              "1 Adelie  Biscoe 35.9           19.2          189               3800       \n",
              "2 Adelie  Biscoe 38.2           18.1          185               3950       \n",
              "3 Adelie  Biscoe 38.8           17.2          180               3800       \n",
              "4 Adelie  Biscoe 35.3           18.9          187               3800       \n",
              "5 Adelie  Biscoe 40.5           18.9          180               3950       \n",
              "6 Adelie  Biscoe 40.1           18.9          188               4300       \n",
              "  sex    year\n",
              "1 female 2007\n",
              "2 male   2007\n",
              "3 male   2007\n",
              "4 female 2007\n",
              "5 male   2007\n",
              "6 male   2008"
            ]
          },
          "metadata": {}
        }
      ],
      "source": [
        "# answer1.8 <- filter(FILL_THIS_IN, FILL_THIS_IN)\n",
        "# your code here\n",
        "answer1.8 <- filter(answer1.7, island == \"Biscoe\")\n",
        "#fail() # No Answer - remove if you provide an answer\n",
        "head(answer1.8)"
      ]
    },
    {
      "cell_type": "code",
      "execution_count": null,
      "metadata": {
        "deletable": false,
        "editable": false,
        "name": "test-1-7",
        "nbgrader": {
          "cell_type": "code",
          "checksum": "472349260580e4d48b2981ae2381e9b3",
          "grade": true,
          "grade_id": "cell-5e4156e2a3ad4d40",
          "locked": true,
          "points": 1,
          "schema_version": 3,
          "solution": false,
          "task": false
        },
        "colab": {
          "base_uri": "https://localhost:8080/"
        },
        "id": "1IBIVc3eWBym",
        "outputId": "8f290023-1cab-4937-e968-a684227dac74"
      },
      "outputs": [
        {
          "output_type": "stream",
          "name": "stdout",
          "text": [
            "[1] \"Success!\"\n"
          ]
        }
      ],
      "source": [
        "library(digest)\n",
        "stopifnot(\"answer1.8 should be a data frame\"= setequal(digest(paste(toString('data.frame' %in% class(answer1.8)), \"9b567\")), \"497251b5383f92dec76bbf28cd6fe300\"))\n",
        "stopifnot(\"dimensions of answer1.8 are not correct\"= setequal(digest(paste(toString(dim(answer1.8)), \"9b567\")), \"880ed31b35f5c8cd9f5132c03d20389d\"))\n",
        "stopifnot(\"column names of answer1.8 are not correct\"= setequal(digest(paste(toString(sort(colnames(answer1.8))), \"9b567\")), \"b90ed6d51aea34ba1b99f7fe919c663d\"))\n",
        "stopifnot(\"types of columns in answer1.8 are not correct\"= setequal(digest(paste(toString(sort(unlist(sapply(answer1.8, class)))), \"9b567\")), \"3cc42525072726923d7a58d4c994cd51\"))\n",
        "stopifnot(\"values in one or more numerical columns in answer1.8 are not correct\"= setequal(digest(paste(toString(if (any(sapply(answer1.8, is.numeric))) sort(round(sapply(answer1.8[, sapply(answer1.8, is.numeric)], sum, na.rm = TRUE), 2)) else 0), \"9b567\")), \"12960c4b930771e79fede0fac626ef47\"))\n",
        "stopifnot(\"values in one or more character columns in answer1.8 are not correct\"= setequal(digest(paste(toString(if (any(sapply(answer1.8, is.character))) sum(sapply(answer1.8[sapply(answer1.8, is.character)], function(x) length(unique(x)))) else 0), \"9b567\")), \"e0cd1407fc738e531f552d4213d5b015\"))\n",
        "stopifnot(\"values in one or more factor columns in answer1.8 are not correct\"= setequal(digest(paste(toString(if (any(sapply(answer1.8, is.factor))) sum(sapply(answer1.8[, sapply(answer1.8, is.factor)], function(col) length(unique(col)))) else 0), \"9b567\")), \"c525da4d4e0c9c6efbd3ef47741a5253\"))\n",
        "\n",
        "print('Success!')"
      ]
    },
    {
      "cell_type": "markdown",
      "metadata": {
        "deletable": false,
        "editable": false,
        "nbgrader": {
          "cell_type": "markdown",
          "checksum": "bad92f01283c5062772c8159c82014df",
          "grade": false,
          "grade_id": "cell-541157a971196e6d",
          "locked": true,
          "schema_version": 3,
          "solution": false,
          "task": false
        },
        "id": "22Yef9MkWBym"
      },
      "source": [
        "## QUESTION 1.9\n",
        "\n",
        "{points: 1}\n",
        "\n",
        "Repeat the task from Question 1.8, but take data from islands Torgersen and Dream. Now that you've practiced with dplyr verbs quite a bit, you don't need as many prompts to answer! Hint: When you want to select more than one island, you use `%in%` instead of `==`.\n",
        "\n",
        "Store your answer in a variable named `answer1.9`."
      ]
    },
    {
      "cell_type": "code",
      "execution_count": null,
      "metadata": {
        "deletable": false,
        "name": "question-1-8",
        "nbgrader": {
          "cell_type": "code",
          "checksum": "20d695f2efb664823ee669b7692233b2",
          "grade": false,
          "grade_id": "cell-30a32f98d928d5ef",
          "locked": false,
          "schema_version": 3,
          "solution": true,
          "task": false
        },
        "colab": {
          "base_uri": "https://localhost:8080/",
          "height": 286
        },
        "id": "IABKCq9LWBym",
        "outputId": "f7b50ec0-11a4-4c5d-b664-b5318e5a0b59"
      },
      "outputs": [
        {
          "output_type": "display_data",
          "data": {
            "text/html": [
              "<table class=\"dataframe\">\n",
              "<caption>A tibble: 6 × 8</caption>\n",
              "<thead>\n",
              "\t<tr><th scope=col>species</th><th scope=col>island</th><th scope=col>bill_length_mm</th><th scope=col>bill_depth_mm</th><th scope=col>flipper_length_mm</th><th scope=col>body_mass_g</th><th scope=col>sex</th><th scope=col>year</th></tr>\n",
              "\t<tr><th scope=col>&lt;fct&gt;</th><th scope=col>&lt;fct&gt;</th><th scope=col>&lt;dbl&gt;</th><th scope=col>&lt;dbl&gt;</th><th scope=col>&lt;int&gt;</th><th scope=col>&lt;int&gt;</th><th scope=col>&lt;fct&gt;</th><th scope=col>&lt;int&gt;</th></tr>\n",
              "</thead>\n",
              "<tbody>\n",
              "\t<tr><td>Adelie</td><td>Torgersen</td><td>39.1</td><td>18.7</td><td>181</td><td>3750</td><td>male  </td><td>2007</td></tr>\n",
              "\t<tr><td>Adelie</td><td>Torgersen</td><td>39.5</td><td>17.4</td><td>186</td><td>3800</td><td>female</td><td>2007</td></tr>\n",
              "\t<tr><td>Adelie</td><td>Torgersen</td><td>39.3</td><td>20.6</td><td>190</td><td>3650</td><td>male  </td><td>2007</td></tr>\n",
              "\t<tr><td>Adelie</td><td>Torgersen</td><td>38.9</td><td>17.8</td><td>181</td><td>3625</td><td>female</td><td>2007</td></tr>\n",
              "\t<tr><td>Adelie</td><td>Torgersen</td><td>39.2</td><td>19.6</td><td>195</td><td>4675</td><td>male  </td><td>2007</td></tr>\n",
              "\t<tr><td>Adelie</td><td>Torgersen</td><td>42.0</td><td>20.2</td><td>190</td><td>4250</td><td>NA    </td><td>2007</td></tr>\n",
              "</tbody>\n",
              "</table>\n"
            ],
            "text/markdown": "\nA tibble: 6 × 8\n\n| species &lt;fct&gt; | island &lt;fct&gt; | bill_length_mm &lt;dbl&gt; | bill_depth_mm &lt;dbl&gt; | flipper_length_mm &lt;int&gt; | body_mass_g &lt;int&gt; | sex &lt;fct&gt; | year &lt;int&gt; |\n|---|---|---|---|---|---|---|---|\n| Adelie | Torgersen | 39.1 | 18.7 | 181 | 3750 | male   | 2007 |\n| Adelie | Torgersen | 39.5 | 17.4 | 186 | 3800 | female | 2007 |\n| Adelie | Torgersen | 39.3 | 20.6 | 190 | 3650 | male   | 2007 |\n| Adelie | Torgersen | 38.9 | 17.8 | 181 | 3625 | female | 2007 |\n| Adelie | Torgersen | 39.2 | 19.6 | 195 | 4675 | male   | 2007 |\n| Adelie | Torgersen | 42.0 | 20.2 | 190 | 4250 | NA     | 2007 |\n\n",
            "text/latex": "A tibble: 6 × 8\n\\begin{tabular}{llllllll}\n species & island & bill\\_length\\_mm & bill\\_depth\\_mm & flipper\\_length\\_mm & body\\_mass\\_g & sex & year\\\\\n <fct> & <fct> & <dbl> & <dbl> & <int> & <int> & <fct> & <int>\\\\\n\\hline\n\t Adelie & Torgersen & 39.1 & 18.7 & 181 & 3750 & male   & 2007\\\\\n\t Adelie & Torgersen & 39.5 & 17.4 & 186 & 3800 & female & 2007\\\\\n\t Adelie & Torgersen & 39.3 & 20.6 & 190 & 3650 & male   & 2007\\\\\n\t Adelie & Torgersen & 38.9 & 17.8 & 181 & 3625 & female & 2007\\\\\n\t Adelie & Torgersen & 39.2 & 19.6 & 195 & 4675 & male   & 2007\\\\\n\t Adelie & Torgersen & 42.0 & 20.2 & 190 & 4250 & NA     & 2007\\\\\n\\end{tabular}\n",
            "text/plain": [
              "  species island    bill_length_mm bill_depth_mm flipper_length_mm body_mass_g\n",
              "1 Adelie  Torgersen 39.1           18.7          181               3750       \n",
              "2 Adelie  Torgersen 39.5           17.4          186               3800       \n",
              "3 Adelie  Torgersen 39.3           20.6          190               3650       \n",
              "4 Adelie  Torgersen 38.9           17.8          181               3625       \n",
              "5 Adelie  Torgersen 39.2           19.6          195               4675       \n",
              "6 Adelie  Torgersen 42.0           20.2          190               4250       \n",
              "  sex    year\n",
              "1 male   2007\n",
              "2 female 2007\n",
              "3 male   2007\n",
              "4 female 2007\n",
              "5 male   2007\n",
              "6 NA     2007"
            ]
          },
          "metadata": {}
        }
      ],
      "source": [
        "# answer1.9 <- FILL_THIS_IN(FILL_THIS_IN, island FILL_THIS_IN c(\"FILL_THIS_IN\", \"FILL_THIS_IN\"))\n",
        "# your code here\n",
        "answer1.9 <- filter(answer1.7, island %in% c(\"Torgersen\", \"Dream\"))\n",
        "#fail() # No Answer - remove if you provide an answer\n",
        "head(answer1.9)"
      ]
    },
    {
      "cell_type": "code",
      "execution_count": null,
      "metadata": {
        "deletable": false,
        "editable": false,
        "name": "test-1-8",
        "nbgrader": {
          "cell_type": "code",
          "checksum": "95ce9ebae6a621c4f7da8c805e8d7c03",
          "grade": true,
          "grade_id": "cell-89c20b9e5605b929",
          "locked": true,
          "points": 1,
          "schema_version": 3,
          "solution": false,
          "task": false
        },
        "colab": {
          "base_uri": "https://localhost:8080/"
        },
        "id": "ju9YjmryWBym",
        "outputId": "577599e2-f2c1-4b6e-8f42-11f3729f9557"
      },
      "outputs": [
        {
          "output_type": "stream",
          "name": "stdout",
          "text": [
            "[1] \"Success!\"\n"
          ]
        }
      ],
      "source": [
        "library(digest)\n",
        "stopifnot(\"answer1.9 should be a data frame\"= setequal(digest(paste(toString('data.frame' %in% class(answer1.9)), \"753df\")), \"b0aeedeb0533157a8efb729228a32fb8\"))\n",
        "stopifnot(\"dimensions of answer1.9 are not correct\"= setequal(digest(paste(toString(dim(answer1.9)), \"753df\")), \"62729e8d6491c49a37cbd16cbbd7dc8c\"))\n",
        "stopifnot(\"column names of answer1.9 are not correct\"= setequal(digest(paste(toString(sort(colnames(answer1.9))), \"753df\")), \"3fab85aaa09152527548e8907948a60b\"))\n",
        "stopifnot(\"types of columns in answer1.9 are not correct\"= setequal(digest(paste(toString(sort(unlist(sapply(answer1.9, class)))), \"753df\")), \"bd05bd85b12989b15bd4ba7b7c040ec6\"))\n",
        "stopifnot(\"values in one or more numerical columns in answer1.9 are not correct\"= setequal(digest(paste(toString(if (any(sapply(answer1.9, is.numeric))) sort(round(sapply(answer1.9[, sapply(answer1.9, is.numeric)], sum, na.rm = TRUE), 2)) else 0), \"753df\")), \"265fd037fbc38ca3689d9f784fc8796f\"))\n",
        "stopifnot(\"values in one or more character columns in answer1.9 are not correct\"= setequal(digest(paste(toString(if (any(sapply(answer1.9, is.character))) sum(sapply(answer1.9[sapply(answer1.9, is.character)], function(x) length(unique(x)))) else 0), \"753df\")), \"27e944b0b52a8d7b47babf5757f307e6\"))\n",
        "stopifnot(\"values in one or more factor columns in answer1.9 are not correct\"= setequal(digest(paste(toString(if (any(sapply(answer1.9, is.factor))) sum(sapply(answer1.9[, sapply(answer1.9, is.factor)], function(col) length(unique(col)))) else 0), \"753df\")), \"0f4cacb5b2ac1e01395dbb28a3492227\"))\n",
        "\n",
        "print('Success!')"
      ]
    },
    {
      "cell_type": "markdown",
      "metadata": {
        "deletable": false,
        "editable": false,
        "nbgrader": {
          "cell_type": "markdown",
          "checksum": "3a2c515a9cd38405dc39c0ffea71f961",
          "grade": false,
          "grade_id": "cell-4a8582b78ed98d91",
          "locked": true,
          "schema_version": 3,
          "solution": false,
          "task": false
        },
        "id": "ASbUcjzIWBym"
      },
      "source": [
        "## `arrange()`\n",
        "\n",
        "`arrange()` allows you to rearrange rows. Let's give it a try!\n",
        "\n",
        "## QUESTION 1.10\n",
        "\n",
        "{points: 1}\n",
        "\n",
        "Order `penguins` by year, in ascending order. Store the resulting tibble in a variable named `answer1.10`."
      ]
    },
    {
      "cell_type": "code",
      "execution_count": null,
      "metadata": {
        "deletable": false,
        "name": "question-1-9",
        "nbgrader": {
          "cell_type": "code",
          "checksum": "3205429a08cf954ab77533e04ba5e055",
          "grade": false,
          "grade_id": "cell-328575d183628b50",
          "locked": false,
          "schema_version": 3,
          "solution": true,
          "task": false
        },
        "colab": {
          "base_uri": "https://localhost:8080/",
          "height": 286
        },
        "id": "Zu4CzSyWWBym",
        "outputId": "72c9422b-f6ad-470e-d5fd-03bab6d76b54"
      },
      "outputs": [
        {
          "output_type": "display_data",
          "data": {
            "text/html": [
              "<table class=\"dataframe\">\n",
              "<caption>A tibble: 6 × 8</caption>\n",
              "<thead>\n",
              "\t<tr><th scope=col>species</th><th scope=col>island</th><th scope=col>bill_length_mm</th><th scope=col>bill_depth_mm</th><th scope=col>flipper_length_mm</th><th scope=col>body_mass_g</th><th scope=col>sex</th><th scope=col>year</th></tr>\n",
              "\t<tr><th scope=col>&lt;fct&gt;</th><th scope=col>&lt;fct&gt;</th><th scope=col>&lt;dbl&gt;</th><th scope=col>&lt;dbl&gt;</th><th scope=col>&lt;int&gt;</th><th scope=col>&lt;int&gt;</th><th scope=col>&lt;fct&gt;</th><th scope=col>&lt;int&gt;</th></tr>\n",
              "</thead>\n",
              "<tbody>\n",
              "\t<tr><td>Adelie</td><td>Torgersen</td><td>39.1</td><td>18.7</td><td>181</td><td>3750</td><td>male  </td><td>2007</td></tr>\n",
              "\t<tr><td>Adelie</td><td>Torgersen</td><td>39.5</td><td>17.4</td><td>186</td><td>3800</td><td>female</td><td>2007</td></tr>\n",
              "\t<tr><td>Adelie</td><td>Torgersen</td><td>40.3</td><td>18.0</td><td>195</td><td>3250</td><td>female</td><td>2007</td></tr>\n",
              "\t<tr><td>Adelie</td><td>Torgersen</td><td>  NA</td><td>  NA</td><td> NA</td><td>  NA</td><td>NA    </td><td>2007</td></tr>\n",
              "\t<tr><td>Adelie</td><td>Torgersen</td><td>36.7</td><td>19.3</td><td>193</td><td>3450</td><td>female</td><td>2007</td></tr>\n",
              "\t<tr><td>Adelie</td><td>Torgersen</td><td>39.3</td><td>20.6</td><td>190</td><td>3650</td><td>male  </td><td>2007</td></tr>\n",
              "</tbody>\n",
              "</table>\n"
            ],
            "text/markdown": "\nA tibble: 6 × 8\n\n| species &lt;fct&gt; | island &lt;fct&gt; | bill_length_mm &lt;dbl&gt; | bill_depth_mm &lt;dbl&gt; | flipper_length_mm &lt;int&gt; | body_mass_g &lt;int&gt; | sex &lt;fct&gt; | year &lt;int&gt; |\n|---|---|---|---|---|---|---|---|\n| Adelie | Torgersen | 39.1 | 18.7 | 181 | 3750 | male   | 2007 |\n| Adelie | Torgersen | 39.5 | 17.4 | 186 | 3800 | female | 2007 |\n| Adelie | Torgersen | 40.3 | 18.0 | 195 | 3250 | female | 2007 |\n| Adelie | Torgersen |   NA |   NA |  NA |   NA | NA     | 2007 |\n| Adelie | Torgersen | 36.7 | 19.3 | 193 | 3450 | female | 2007 |\n| Adelie | Torgersen | 39.3 | 20.6 | 190 | 3650 | male   | 2007 |\n\n",
            "text/latex": "A tibble: 6 × 8\n\\begin{tabular}{llllllll}\n species & island & bill\\_length\\_mm & bill\\_depth\\_mm & flipper\\_length\\_mm & body\\_mass\\_g & sex & year\\\\\n <fct> & <fct> & <dbl> & <dbl> & <int> & <int> & <fct> & <int>\\\\\n\\hline\n\t Adelie & Torgersen & 39.1 & 18.7 & 181 & 3750 & male   & 2007\\\\\n\t Adelie & Torgersen & 39.5 & 17.4 & 186 & 3800 & female & 2007\\\\\n\t Adelie & Torgersen & 40.3 & 18.0 & 195 & 3250 & female & 2007\\\\\n\t Adelie & Torgersen &   NA &   NA &  NA &   NA & NA     & 2007\\\\\n\t Adelie & Torgersen & 36.7 & 19.3 & 193 & 3450 & female & 2007\\\\\n\t Adelie & Torgersen & 39.3 & 20.6 & 190 & 3650 & male   & 2007\\\\\n\\end{tabular}\n",
            "text/plain": [
              "  species island    bill_length_mm bill_depth_mm flipper_length_mm body_mass_g\n",
              "1 Adelie  Torgersen 39.1           18.7          181               3750       \n",
              "2 Adelie  Torgersen 39.5           17.4          186               3800       \n",
              "3 Adelie  Torgersen 40.3           18.0          195               3250       \n",
              "4 Adelie  Torgersen   NA             NA           NA                 NA       \n",
              "5 Adelie  Torgersen 36.7           19.3          193               3450       \n",
              "6 Adelie  Torgersen 39.3           20.6          190               3650       \n",
              "  sex    year\n",
              "1 male   2007\n",
              "2 female 2007\n",
              "3 female 2007\n",
              "4 NA     2007\n",
              "5 female 2007\n",
              "6 male   2007"
            ]
          },
          "metadata": {}
        }
      ],
      "source": [
        "# answer1.10 <- arrange(FILL_THIS_IN, FILL_THIS_IN)\n",
        "# your code here\n",
        "answer1.10 <- arrange(penguins, year)\n",
        "#fail() # No Answer - remove if you provide an answer\n",
        "head(answer1.10)"
      ]
    },
    {
      "cell_type": "code",
      "execution_count": null,
      "metadata": {
        "deletable": false,
        "editable": false,
        "name": "test-1-9",
        "nbgrader": {
          "cell_type": "code",
          "checksum": "721fcae24509780777f0e12ab8765467",
          "grade": true,
          "grade_id": "cell-f3eceec3a41ec267",
          "locked": true,
          "points": 1,
          "schema_version": 3,
          "solution": false,
          "task": false
        },
        "colab": {
          "base_uri": "https://localhost:8080/"
        },
        "id": "4-shsnIJWByn",
        "outputId": "134471bd-20e5-4932-9f9c-0ebdc8c7864d"
      },
      "outputs": [
        {
          "output_type": "stream",
          "name": "stdout",
          "text": [
            "[1] \"Success!\"\n"
          ]
        }
      ],
      "source": [
        "library(digest)\n",
        "stopifnot(\"answer1.10 should be a data frame\"= setequal(digest(paste(toString('data.frame' %in% class(answer1.10)), \"9ed0a\")), \"39fc469020732e076f6bd43988cdfbd1\"))\n",
        "stopifnot(\"dimensions of answer1.10 are not correct\"= setequal(digest(paste(toString(dim(answer1.10)), \"9ed0a\")), \"d1f92b5605580e760ad0b54ba92233cf\"))\n",
        "stopifnot(\"column names of answer1.10 are not correct\"= setequal(digest(paste(toString(sort(colnames(answer1.10))), \"9ed0a\")), \"c289112f7d59322bf22ed5c3272c78de\"))\n",
        "stopifnot(\"types of columns in answer1.10 are not correct\"= setequal(digest(paste(toString(sort(unlist(sapply(answer1.10, class)))), \"9ed0a\")), \"681ec5b8d7c12f75761ab63803a36419\"))\n",
        "stopifnot(\"values in one or more numerical columns in answer1.10 are not correct\"= setequal(digest(paste(toString(if (any(sapply(answer1.10, is.numeric))) sort(round(sapply(answer1.10[, sapply(answer1.10, is.numeric)], sum, na.rm = TRUE), 2)) else 0), \"9ed0a\")), \"4503c6000d9ec6ac0f84cb9e0b81e8f7\"))\n",
        "stopifnot(\"values in one or more character columns in answer1.10 are not correct\"= setequal(digest(paste(toString(if (any(sapply(answer1.10, is.character))) sum(sapply(answer1.10[sapply(answer1.10, is.character)], function(x) length(unique(x)))) else 0), \"9ed0a\")), \"bf66de0b1082ca0b60f8e0530c3689d4\"))\n",
        "stopifnot(\"values in one or more factor columns in answer1.10 are not correct\"= setequal(digest(paste(toString(if (any(sapply(answer1.10, is.factor))) sum(sapply(answer1.10[, sapply(answer1.10, is.factor)], function(col) length(unique(col)))) else 0), \"9ed0a\")), \"b152cfa7f0837c889f09de9a51c2889c\"))\n",
        "\n",
        "print('Success!')"
      ]
    },
    {
      "cell_type": "markdown",
      "metadata": {
        "deletable": false,
        "editable": false,
        "nbgrader": {
          "cell_type": "markdown",
          "checksum": "1d42decb10026f56d991b2931a757e02",
          "grade": false,
          "grade_id": "cell-6a5c389fdb642b97",
          "locked": true,
          "schema_version": 3,
          "solution": false,
          "task": false
        },
        "id": "ZOcdpY05WByn"
      },
      "source": [
        "## QUESTION 1.11\n",
        "\n",
        "{points: 1}\n",
        "\n",
        "Great work! Order `penguins` by year, in descending order. Hint: there is a function that allows you to order a variable in descending order called `desc()`.\n",
        "\n",
        "Store your tibble in a variable named `answer1.11`."
      ]
    },
    {
      "cell_type": "code",
      "execution_count": null,
      "metadata": {
        "deletable": false,
        "name": "question-1-10",
        "nbgrader": {
          "cell_type": "code",
          "checksum": "65c587b6498994f0d37c8ba2a717996d",
          "grade": false,
          "grade_id": "cell-5d16610ec2eb5dec",
          "locked": false,
          "schema_version": 3,
          "solution": true,
          "task": false
        },
        "colab": {
          "base_uri": "https://localhost:8080/",
          "height": 286
        },
        "id": "CzHNugcCWByn",
        "outputId": "1ca26be0-a172-4902-cbb2-2a0361dc52b1"
      },
      "outputs": [
        {
          "output_type": "display_data",
          "data": {
            "text/html": [
              "<table class=\"dataframe\">\n",
              "<caption>A tibble: 6 × 8</caption>\n",
              "<thead>\n",
              "\t<tr><th scope=col>species</th><th scope=col>island</th><th scope=col>bill_length_mm</th><th scope=col>bill_depth_mm</th><th scope=col>flipper_length_mm</th><th scope=col>body_mass_g</th><th scope=col>sex</th><th scope=col>year</th></tr>\n",
              "\t<tr><th scope=col>&lt;fct&gt;</th><th scope=col>&lt;fct&gt;</th><th scope=col>&lt;dbl&gt;</th><th scope=col>&lt;dbl&gt;</th><th scope=col>&lt;int&gt;</th><th scope=col>&lt;int&gt;</th><th scope=col>&lt;fct&gt;</th><th scope=col>&lt;int&gt;</th></tr>\n",
              "</thead>\n",
              "<tbody>\n",
              "\t<tr><td>Adelie</td><td>Biscoe</td><td>35.0</td><td>17.9</td><td>192</td><td>3725</td><td>female</td><td>2009</td></tr>\n",
              "\t<tr><td>Adelie</td><td>Biscoe</td><td>41.0</td><td>20.0</td><td>203</td><td>4725</td><td>male  </td><td>2009</td></tr>\n",
              "\t<tr><td>Adelie</td><td>Biscoe</td><td>37.7</td><td>16.0</td><td>183</td><td>3075</td><td>female</td><td>2009</td></tr>\n",
              "\t<tr><td>Adelie</td><td>Biscoe</td><td>37.8</td><td>20.0</td><td>190</td><td>4250</td><td>male  </td><td>2009</td></tr>\n",
              "\t<tr><td>Adelie</td><td>Biscoe</td><td>37.9</td><td>18.6</td><td>193</td><td>2925</td><td>female</td><td>2009</td></tr>\n",
              "\t<tr><td>Adelie</td><td>Biscoe</td><td>39.7</td><td>18.9</td><td>184</td><td>3550</td><td>male  </td><td>2009</td></tr>\n",
              "</tbody>\n",
              "</table>\n"
            ],
            "text/markdown": "\nA tibble: 6 × 8\n\n| species &lt;fct&gt; | island &lt;fct&gt; | bill_length_mm &lt;dbl&gt; | bill_depth_mm &lt;dbl&gt; | flipper_length_mm &lt;int&gt; | body_mass_g &lt;int&gt; | sex &lt;fct&gt; | year &lt;int&gt; |\n|---|---|---|---|---|---|---|---|\n| Adelie | Biscoe | 35.0 | 17.9 | 192 | 3725 | female | 2009 |\n| Adelie | Biscoe | 41.0 | 20.0 | 203 | 4725 | male   | 2009 |\n| Adelie | Biscoe | 37.7 | 16.0 | 183 | 3075 | female | 2009 |\n| Adelie | Biscoe | 37.8 | 20.0 | 190 | 4250 | male   | 2009 |\n| Adelie | Biscoe | 37.9 | 18.6 | 193 | 2925 | female | 2009 |\n| Adelie | Biscoe | 39.7 | 18.9 | 184 | 3550 | male   | 2009 |\n\n",
            "text/latex": "A tibble: 6 × 8\n\\begin{tabular}{llllllll}\n species & island & bill\\_length\\_mm & bill\\_depth\\_mm & flipper\\_length\\_mm & body\\_mass\\_g & sex & year\\\\\n <fct> & <fct> & <dbl> & <dbl> & <int> & <int> & <fct> & <int>\\\\\n\\hline\n\t Adelie & Biscoe & 35.0 & 17.9 & 192 & 3725 & female & 2009\\\\\n\t Adelie & Biscoe & 41.0 & 20.0 & 203 & 4725 & male   & 2009\\\\\n\t Adelie & Biscoe & 37.7 & 16.0 & 183 & 3075 & female & 2009\\\\\n\t Adelie & Biscoe & 37.8 & 20.0 & 190 & 4250 & male   & 2009\\\\\n\t Adelie & Biscoe & 37.9 & 18.6 & 193 & 2925 & female & 2009\\\\\n\t Adelie & Biscoe & 39.7 & 18.9 & 184 & 3550 & male   & 2009\\\\\n\\end{tabular}\n",
            "text/plain": [
              "  species island bill_length_mm bill_depth_mm flipper_length_mm body_mass_g\n",
              "1 Adelie  Biscoe 35.0           17.9          192               3725       \n",
              "2 Adelie  Biscoe 41.0           20.0          203               4725       \n",
              "3 Adelie  Biscoe 37.7           16.0          183               3075       \n",
              "4 Adelie  Biscoe 37.8           20.0          190               4250       \n",
              "5 Adelie  Biscoe 37.9           18.6          193               2925       \n",
              "6 Adelie  Biscoe 39.7           18.9          184               3550       \n",
              "  sex    year\n",
              "1 female 2009\n",
              "2 male   2009\n",
              "3 female 2009\n",
              "4 male   2009\n",
              "5 female 2009\n",
              "6 male   2009"
            ]
          },
          "metadata": {}
        }
      ],
      "source": [
        "# answer1.11 <- arrange(FILL_THIS_IN, FILL_THIS_IN)\n",
        "# your code here\n",
        "answer1.11 <- arrange(penguins, desc(year))\n",
        "#fail() # No Answer - remove if you provide an answer\n",
        "head(answer1.11)"
      ]
    },
    {
      "cell_type": "code",
      "execution_count": null,
      "metadata": {
        "deletable": false,
        "editable": false,
        "name": "test-1-10",
        "nbgrader": {
          "cell_type": "code",
          "checksum": "726d19baa7efb7771e06960697770355",
          "grade": true,
          "grade_id": "cell-c17dc14cc8e6251d",
          "locked": true,
          "points": 1,
          "schema_version": 3,
          "solution": false,
          "task": false
        },
        "colab": {
          "base_uri": "https://localhost:8080/"
        },
        "id": "zUL-Qj_LWByn",
        "outputId": "bd8791a7-2f10-4576-fd93-264eb987862a"
      },
      "outputs": [
        {
          "output_type": "stream",
          "name": "stdout",
          "text": [
            "[1] \"Success!\"\n"
          ]
        }
      ],
      "source": [
        "library(digest)\n",
        "stopifnot(\"answer1.11 should be a data frame\"= setequal(digest(paste(toString('data.frame' %in% class(answer1.11)), \"4c4d8\")), \"55d421b6b5a1cfd1e54ed103c6f998b1\"))\n",
        "stopifnot(\"dimensions of answer1.11 are not correct\"= setequal(digest(paste(toString(dim(answer1.11)), \"4c4d8\")), \"781e91b980b1a1c65318b9823b76c6cf\"))\n",
        "stopifnot(\"column names of answer1.11 are not correct\"= setequal(digest(paste(toString(sort(colnames(answer1.11))), \"4c4d8\")), \"f79d5992de6928aba3240d02a66504d9\"))\n",
        "stopifnot(\"types of columns in answer1.11 are not correct\"= setequal(digest(paste(toString(sort(unlist(sapply(answer1.11, class)))), \"4c4d8\")), \"777891d973f8714fc0c24966566aac91\"))\n",
        "stopifnot(\"values in one or more numerical columns in answer1.11 are not correct\"= setequal(digest(paste(toString(if (any(sapply(answer1.11, is.numeric))) sort(round(sapply(answer1.11[, sapply(answer1.11, is.numeric)], sum, na.rm = TRUE), 2)) else 0), \"4c4d8\")), \"f8a072d47da47344f08ea610217ae412\"))\n",
        "stopifnot(\"values in one or more character columns in answer1.11 are not correct\"= setequal(digest(paste(toString(if (any(sapply(answer1.11, is.character))) sum(sapply(answer1.11[sapply(answer1.11, is.character)], function(x) length(unique(x)))) else 0), \"4c4d8\")), \"89c3e6580704b69df5c7274a73d7d570\"))\n",
        "stopifnot(\"values in one or more factor columns in answer1.11 are not correct\"= setequal(digest(paste(toString(if (any(sapply(answer1.11, is.factor))) sum(sapply(answer1.11[, sapply(answer1.11, is.factor)], function(col) length(unique(col)))) else 0), \"4c4d8\")), \"ef47c12f78580f02bbb5dfd742313ccf\"))\n",
        "\n",
        "print('Success!')"
      ]
    },
    {
      "cell_type": "markdown",
      "metadata": {
        "deletable": false,
        "editable": false,
        "nbgrader": {
          "cell_type": "markdown",
          "checksum": "e09b7d7e567d34d03446af19802e0572",
          "grade": false,
          "grade_id": "cell-83f549a48f378b7e",
          "locked": true,
          "schema_version": 3,
          "solution": false,
          "task": false
        },
        "id": "eLYPK3EhWByn"
      },
      "source": [
        "## QUESTION 1.12\n",
        "\n",
        "{points: 1}\n",
        "\n",
        "Order `penguins` by year, then by `body_mass_g`. Use ascending order in both cases.\n",
        "\n",
        "Store your answer in a variable named `answer1.12`"
      ]
    },
    {
      "cell_type": "code",
      "execution_count": null,
      "metadata": {
        "deletable": false,
        "name": "question-1-11",
        "nbgrader": {
          "cell_type": "code",
          "checksum": "9ef8c16841f131e207231000a8713024",
          "grade": false,
          "grade_id": "cell-b0a6c4950411e1a0",
          "locked": false,
          "schema_version": 3,
          "solution": true,
          "task": false
        },
        "colab": {
          "base_uri": "https://localhost:8080/",
          "height": 286
        },
        "id": "gS5S6sd-WByo",
        "outputId": "bb59c0f3-f682-4554-8d4c-919cdf69b63e"
      },
      "outputs": [
        {
          "output_type": "display_data",
          "data": {
            "text/html": [
              "<table class=\"dataframe\">\n",
              "<caption>A tibble: 6 × 8</caption>\n",
              "<thead>\n",
              "\t<tr><th scope=col>species</th><th scope=col>island</th><th scope=col>bill_length_mm</th><th scope=col>bill_depth_mm</th><th scope=col>flipper_length_mm</th><th scope=col>body_mass_g</th><th scope=col>sex</th><th scope=col>year</th></tr>\n",
              "\t<tr><th scope=col>&lt;fct&gt;</th><th scope=col>&lt;fct&gt;</th><th scope=col>&lt;dbl&gt;</th><th scope=col>&lt;dbl&gt;</th><th scope=col>&lt;int&gt;</th><th scope=col>&lt;int&gt;</th><th scope=col>&lt;fct&gt;</th><th scope=col>&lt;int&gt;</th></tr>\n",
              "</thead>\n",
              "<tbody>\n",
              "\t<tr><td>Chinstrap</td><td>Dream </td><td>43.2</td><td>16.6</td><td>187</td><td>2900</td><td>female</td><td>2007</td></tr>\n",
              "\t<tr><td>Adelie   </td><td>Dream </td><td>37.5</td><td>18.9</td><td>179</td><td>2975</td><td>NA    </td><td>2007</td></tr>\n",
              "\t<tr><td>Adelie   </td><td>Dream </td><td>37.0</td><td>16.9</td><td>185</td><td>3000</td><td>female</td><td>2007</td></tr>\n",
              "\t<tr><td>Adelie   </td><td>Dream </td><td>36.0</td><td>18.5</td><td>186</td><td>3100</td><td>female</td><td>2007</td></tr>\n",
              "\t<tr><td>Adelie   </td><td>Biscoe</td><td>37.9</td><td>18.6</td><td>172</td><td>3150</td><td>female</td><td>2007</td></tr>\n",
              "\t<tr><td>Adelie   </td><td>Dream </td><td>36.5</td><td>18.0</td><td>182</td><td>3150</td><td>female</td><td>2007</td></tr>\n",
              "</tbody>\n",
              "</table>\n"
            ],
            "text/markdown": "\nA tibble: 6 × 8\n\n| species &lt;fct&gt; | island &lt;fct&gt; | bill_length_mm &lt;dbl&gt; | bill_depth_mm &lt;dbl&gt; | flipper_length_mm &lt;int&gt; | body_mass_g &lt;int&gt; | sex &lt;fct&gt; | year &lt;int&gt; |\n|---|---|---|---|---|---|---|---|\n| Chinstrap | Dream  | 43.2 | 16.6 | 187 | 2900 | female | 2007 |\n| Adelie    | Dream  | 37.5 | 18.9 | 179 | 2975 | NA     | 2007 |\n| Adelie    | Dream  | 37.0 | 16.9 | 185 | 3000 | female | 2007 |\n| Adelie    | Dream  | 36.0 | 18.5 | 186 | 3100 | female | 2007 |\n| Adelie    | Biscoe | 37.9 | 18.6 | 172 | 3150 | female | 2007 |\n| Adelie    | Dream  | 36.5 | 18.0 | 182 | 3150 | female | 2007 |\n\n",
            "text/latex": "A tibble: 6 × 8\n\\begin{tabular}{llllllll}\n species & island & bill\\_length\\_mm & bill\\_depth\\_mm & flipper\\_length\\_mm & body\\_mass\\_g & sex & year\\\\\n <fct> & <fct> & <dbl> & <dbl> & <int> & <int> & <fct> & <int>\\\\\n\\hline\n\t Chinstrap & Dream  & 43.2 & 16.6 & 187 & 2900 & female & 2007\\\\\n\t Adelie    & Dream  & 37.5 & 18.9 & 179 & 2975 & NA     & 2007\\\\\n\t Adelie    & Dream  & 37.0 & 16.9 & 185 & 3000 & female & 2007\\\\\n\t Adelie    & Dream  & 36.0 & 18.5 & 186 & 3100 & female & 2007\\\\\n\t Adelie    & Biscoe & 37.9 & 18.6 & 172 & 3150 & female & 2007\\\\\n\t Adelie    & Dream  & 36.5 & 18.0 & 182 & 3150 & female & 2007\\\\\n\\end{tabular}\n",
            "text/plain": [
              "  species   island bill_length_mm bill_depth_mm flipper_length_mm body_mass_g\n",
              "1 Chinstrap Dream  43.2           16.6          187               2900       \n",
              "2 Adelie    Dream  37.5           18.9          179               2975       \n",
              "3 Adelie    Dream  37.0           16.9          185               3000       \n",
              "4 Adelie    Dream  36.0           18.5          186               3100       \n",
              "5 Adelie    Biscoe 37.9           18.6          172               3150       \n",
              "6 Adelie    Dream  36.5           18.0          182               3150       \n",
              "  sex    year\n",
              "1 female 2007\n",
              "2 NA     2007\n",
              "3 female 2007\n",
              "4 female 2007\n",
              "5 female 2007\n",
              "6 female 2007"
            ]
          },
          "metadata": {}
        }
      ],
      "source": [
        "# answer1.12 <- arrange(FILL_THIS_IN, FILL_THIS_IN, FILL_THIS_IN)\n",
        "# your code here\n",
        "answer1.12 <- arrange(penguins, year, body_mass_g)\n",
        "#fail() # No Answer - remove if you provide an answer\n",
        "head(answer1.12)"
      ]
    },
    {
      "cell_type": "code",
      "execution_count": null,
      "metadata": {
        "deletable": false,
        "editable": false,
        "name": "test-1-11",
        "nbgrader": {
          "cell_type": "code",
          "checksum": "28a9d304341954362eba6f0ecac2dfe1",
          "grade": true,
          "grade_id": "cell-942ca4a7dff525d4",
          "locked": true,
          "points": 1,
          "schema_version": 3,
          "solution": false,
          "task": false
        },
        "colab": {
          "base_uri": "https://localhost:8080/"
        },
        "id": "sxlZJzUwWByo",
        "outputId": "3331297b-66dd-4f60-d5c4-f7e48e5a9a89"
      },
      "outputs": [
        {
          "output_type": "stream",
          "name": "stdout",
          "text": [
            "[1] \"Success!\"\n"
          ]
        }
      ],
      "source": [
        "library(digest)\n",
        "stopifnot(\"answer1.12 should be a data frame\"= setequal(digest(paste(toString('data.frame' %in% class(answer1.12)), \"61a79\")), \"915b010d94af589535213bbfee5ba59a\"))\n",
        "stopifnot(\"dimensions of answer1.12 are not correct\"= setequal(digest(paste(toString(dim(answer1.12)), \"61a79\")), \"446421959593cdf585db540cd456e3af\"))\n",
        "stopifnot(\"column names of answer1.12 are not correct\"= setequal(digest(paste(toString(sort(colnames(answer1.12))), \"61a79\")), \"0dc065ddd7d77b7f6da832a1269be507\"))\n",
        "stopifnot(\"types of columns in answer1.12 are not correct\"= setequal(digest(paste(toString(sort(unlist(sapply(answer1.12, class)))), \"61a79\")), \"245980453591a43d0fce5c5f49fed61f\"))\n",
        "stopifnot(\"values in one or more numerical columns in answer1.12 are not correct\"= setequal(digest(paste(toString(if (any(sapply(answer1.12, is.numeric))) sort(round(sapply(answer1.12[, sapply(answer1.12, is.numeric)], sum, na.rm = TRUE), 2)) else 0), \"61a79\")), \"50bf3c1d57833e96254db26eaf03d4ae\"))\n",
        "stopifnot(\"values in one or more character columns in answer1.12 are not correct\"= setequal(digest(paste(toString(if (any(sapply(answer1.12, is.character))) sum(sapply(answer1.12[sapply(answer1.12, is.character)], function(x) length(unique(x)))) else 0), \"61a79\")), \"759916d9028a9c11d5c797d4b48ab00a\"))\n",
        "stopifnot(\"values in one or more factor columns in answer1.12 are not correct\"= setequal(digest(paste(toString(if (any(sapply(answer1.12, is.factor))) sum(sapply(answer1.12[, sapply(answer1.12, is.factor)], function(col) length(unique(col)))) else 0), \"61a79\")), \"4ade720203e058a904cb5c68dc807b18\"))\n",
        "\n",
        "print('Success!')"
      ]
    },
    {
      "cell_type": "markdown",
      "metadata": {
        "deletable": false,
        "editable": false,
        "nbgrader": {
          "cell_type": "markdown",
          "checksum": "4fb8fd640a694f457683e4f5747940ca",
          "grade": false,
          "grade_id": "cell-8670bdd2a80dcc71",
          "locked": true,
          "schema_version": 3,
          "solution": false,
          "task": false
        },
        "id": "4ijVrdxkWByo"
      },
      "source": [
        "## Piping, `%>%`\n",
        "\n",
        "So far, we've been using dplyr verbs by inputting the dataset that we want to work on as the first argument of the function (e.g. `select(**penguins**, year))`. This is fine when you're using a single verb, i.e. you only want to filter observations, or select variables. However, more often than not you will want to do several tasks at once; such as filtering penguins with a certain body mass, and simultaneously ordering those penguins by year. Here is where piping (`%>%`) comes in.\n",
        "\n",
        "Think of `%>%` as the word \"then\"!\n",
        "\n",
        "Let's see an example. Here I want to combine `select()` with `arrange()`.\n",
        "\n",
        "This is how I could do it by *nesting* the two function calls. I am selecting variables year, species, island, and body_mass_g, while simultaneously arranging by year."
      ]
    },
    {
      "cell_type": "code",
      "execution_count": null,
      "metadata": {
        "deletable": false,
        "editable": false,
        "eval": false,
        "name": "nesting functions example",
        "nbgrader": {
          "cell_type": "code",
          "checksum": "b83bf34bafc68a12f039093c768339b4",
          "grade": false,
          "grade_id": "cell-8b04bc9446a8c4ac",
          "locked": true,
          "schema_version": 3,
          "solution": false,
          "task": false
        },
        "colab": {
          "base_uri": "https://localhost:8080/"
        },
        "id": "B4SiQ0-zWByo",
        "outputId": "770c4224-758d-4fda-bf87-57cb4943cf29"
      },
      "outputs": [
        {
          "output_type": "stream",
          "name": "stdout",
          "text": [
            "\u001b[90m# A tibble: 344 × 4\u001b[39m\n",
            "   year species island    body_mass_g\n",
            "  \u001b[3m\u001b[90m<int>\u001b[39m\u001b[23m \u001b[3m\u001b[90m<fct>\u001b[39m\u001b[23m   \u001b[3m\u001b[90m<fct>\u001b[39m\u001b[23m           \u001b[3m\u001b[90m<int>\u001b[39m\u001b[23m\n",
            "\u001b[90m1\u001b[39m  \u001b[4m2\u001b[24m007 Adelie  Torgersen        \u001b[4m3\u001b[24m750\n",
            "\u001b[90m2\u001b[39m  \u001b[4m2\u001b[24m007 Adelie  Torgersen        \u001b[4m3\u001b[24m800\n",
            "\u001b[90m3\u001b[39m  \u001b[4m2\u001b[24m007 Adelie  Torgersen        \u001b[4m3\u001b[24m250\n",
            "\u001b[90m4\u001b[39m  \u001b[4m2\u001b[24m007 Adelie  Torgersen          \u001b[31mNA\u001b[39m\n",
            "\u001b[90m5\u001b[39m  \u001b[4m2\u001b[24m007 Adelie  Torgersen        \u001b[4m3\u001b[24m450\n",
            "\u001b[90m# ℹ 339 more rows\u001b[39m\n"
          ]
        }
      ],
      "source": [
        "print(arrange(select(penguins, year, species, island, body_mass_g), year), n = 5)"
      ]
    },
    {
      "cell_type": "markdown",
      "metadata": {
        "deletable": false,
        "editable": false,
        "nbgrader": {
          "cell_type": "markdown",
          "checksum": "437bd4cbe9e6e1c13853db7c2df9a4b4",
          "grade": false,
          "grade_id": "cell-1f52ee5af576a960",
          "locked": true,
          "schema_version": 3,
          "solution": false,
          "task": false
        },
        "id": "mFdpyDlqWByo"
      },
      "source": [
        "However, that seems a little hard to read. Now using pipes:"
      ]
    },
    {
      "cell_type": "code",
      "execution_count": null,
      "metadata": {
        "deletable": false,
        "editable": false,
        "nbgrader": {
          "cell_type": "code",
          "checksum": "349fd7cae5ac4c1fafbc960196af6010",
          "grade": false,
          "grade_id": "cell-c822cab993153419",
          "locked": true,
          "schema_version": 3,
          "solution": false,
          "task": false
        },
        "colab": {
          "base_uri": "https://localhost:8080/"
        },
        "id": "lLkBcpoyWByo",
        "outputId": "7547003d-ec0f-439f-a7aa-7089f20e6be6"
      },
      "outputs": [
        {
          "output_type": "stream",
          "name": "stdout",
          "text": [
            "\u001b[90m# A tibble: 344 × 4\u001b[39m\n",
            "   year species island    body_mass_g\n",
            "  \u001b[3m\u001b[90m<int>\u001b[39m\u001b[23m \u001b[3m\u001b[90m<fct>\u001b[39m\u001b[23m   \u001b[3m\u001b[90m<fct>\u001b[39m\u001b[23m           \u001b[3m\u001b[90m<int>\u001b[39m\u001b[23m\n",
            "\u001b[90m1\u001b[39m  \u001b[4m2\u001b[24m007 Adelie  Torgersen        \u001b[4m3\u001b[24m750\n",
            "\u001b[90m2\u001b[39m  \u001b[4m2\u001b[24m007 Adelie  Torgersen        \u001b[4m3\u001b[24m800\n",
            "\u001b[90m3\u001b[39m  \u001b[4m2\u001b[24m007 Adelie  Torgersen        \u001b[4m3\u001b[24m250\n",
            "\u001b[90m4\u001b[39m  \u001b[4m2\u001b[24m007 Adelie  Torgersen          \u001b[31mNA\u001b[39m\n",
            "\u001b[90m5\u001b[39m  \u001b[4m2\u001b[24m007 Adelie  Torgersen        \u001b[4m3\u001b[24m450\n",
            "\u001b[90m# ℹ 339 more rows\u001b[39m\n"
          ]
        }
      ],
      "source": [
        "penguins %>%\n",
        "  select(year, species, island, body_mass_g) %>%\n",
        "  arrange(year) %>%\n",
        "  print(n = 5)"
      ]
    },
    {
      "cell_type": "markdown",
      "metadata": {
        "deletable": false,
        "editable": false,
        "nbgrader": {
          "cell_type": "markdown",
          "checksum": "e3f13c87c36e7127fae8bbfd8c271d3f",
          "grade": false,
          "grade_id": "cell-98ac8fcee497ce0d",
          "locked": true,
          "schema_version": 3,
          "solution": false,
          "task": false
        },
        "id": "n2jJQsEAWByp"
      },
      "source": [
        "## Creating tibbles\n",
        "\n",
        "Throughout Part A, we have been working with a tibble, `penguins`. Remember that when we ran `class()` on `penguins`, we could see that it was a dataframe that had been coerced to a tibble, which is a unifying feature of the tidyverse.\n",
        "\n",
        "Suppose that you have a dataframe that you want to coerce to a tibble. To do this, you can use `as_tibble()`. R comes with a few built-in datasets, one of which is `mtcars`. Let's check the class of `mtcars`:"
      ]
    },
    {
      "cell_type": "code",
      "execution_count": null,
      "metadata": {
        "deletable": false,
        "editable": false,
        "nbgrader": {
          "cell_type": "code",
          "checksum": "8f8285eeb4e6af3669bd69c927e8ff9c",
          "grade": false,
          "grade_id": "cell-c7af6b2c82165fa0",
          "locked": true,
          "schema_version": 3,
          "solution": false,
          "task": false
        },
        "colab": {
          "base_uri": "https://localhost:8080/",
          "height": 34
        },
        "id": "1maDaDG2WByp",
        "outputId": "35d5b6dd-a001-470c-82fc-974462e3dc5a"
      },
      "outputs": [
        {
          "output_type": "display_data",
          "data": {
            "text/html": [
              "'data.frame'"
            ],
            "text/markdown": "'data.frame'",
            "text/latex": "'data.frame'",
            "text/plain": [
              "[1] \"data.frame\""
            ]
          },
          "metadata": {}
        }
      ],
      "source": [
        "class(mtcars)"
      ]
    },
    {
      "cell_type": "markdown",
      "metadata": {
        "deletable": false,
        "editable": false,
        "nbgrader": {
          "cell_type": "markdown",
          "checksum": "5381bd4f4bc01937cdee106c0dab3ade",
          "grade": false,
          "grade_id": "cell-7507b4dc963878ab",
          "locked": true,
          "schema_version": 3,
          "solution": false,
          "task": false
        },
        "id": "_h7NBFxyWByp"
      },
      "source": [
        "As you can see, mtcars is a dataframe. Now, coerce it to a tibble with `as_tibble()`:"
      ]
    },
    {
      "cell_type": "code",
      "execution_count": null,
      "metadata": {
        "deletable": false,
        "editable": false,
        "nbgrader": {
          "cell_type": "code",
          "checksum": "a782b35e1d46a7b048af57eacc570061",
          "grade": false,
          "grade_id": "cell-7a8f6ffc86b48d2b",
          "locked": true,
          "schema_version": 3,
          "solution": false,
          "task": false
        },
        "colab": {
          "base_uri": "https://localhost:8080/"
        },
        "id": "lz74o1-EWByq",
        "outputId": "92d38898-5bd5-4d6f-c744-5d8563d87831"
      },
      "outputs": [
        {
          "output_type": "stream",
          "name": "stdout",
          "text": [
            "\u001b[90m# A tibble: 32 × 11\u001b[39m\n",
            "    mpg   cyl  disp    hp  drat    wt  qsec    vs    am  gear  carb\n",
            "  \u001b[3m\u001b[90m<dbl>\u001b[39m\u001b[23m \u001b[3m\u001b[90m<dbl>\u001b[39m\u001b[23m \u001b[3m\u001b[90m<dbl>\u001b[39m\u001b[23m \u001b[3m\u001b[90m<dbl>\u001b[39m\u001b[23m \u001b[3m\u001b[90m<dbl>\u001b[39m\u001b[23m \u001b[3m\u001b[90m<dbl>\u001b[39m\u001b[23m \u001b[3m\u001b[90m<dbl>\u001b[39m\u001b[23m \u001b[3m\u001b[90m<dbl>\u001b[39m\u001b[23m \u001b[3m\u001b[90m<dbl>\u001b[39m\u001b[23m \u001b[3m\u001b[90m<dbl>\u001b[39m\u001b[23m \u001b[3m\u001b[90m<dbl>\u001b[39m\u001b[23m\n",
            "\u001b[90m1\u001b[39m  21       6   160   110  3.9   2.62  16.5     0     1     4     4\n",
            "\u001b[90m2\u001b[39m  21       6   160   110  3.9   2.88  17.0     0     1     4     4\n",
            "\u001b[90m3\u001b[39m  22.8     4   108    93  3.85  2.32  18.6     1     1     4     1\n",
            "\u001b[90m4\u001b[39m  21.4     6   258   110  3.08  3.22  19.4     1     0     3     1\n",
            "\u001b[90m5\u001b[39m  18.7     8   360   175  3.15  3.44  17.0     0     0     3     2\n",
            "\u001b[90m# ℹ 27 more rows\u001b[39m\n"
          ]
        }
      ],
      "source": [
        "as_tibble(mtcars) %>%\n",
        "    print(n = 5)"
      ]
    },
    {
      "cell_type": "markdown",
      "metadata": {
        "deletable": false,
        "editable": false,
        "nbgrader": {
          "cell_type": "markdown",
          "checksum": "2f52f5dab544cb7321edc9b039df133f",
          "grade": false,
          "grade_id": "cell-8c956daac8fd8b0c",
          "locked": true,
          "schema_version": 3,
          "solution": false,
          "task": false
        },
        "id": "sfQq_BhsWByq"
      },
      "source": [
        "You can read more about tibbles in the [R4DS Tibble Chapter](https://r4ds.had.co.nz/tibbles.html#creating-tibbles).\n",
        "\n",
        "\n",
        "## QUESTION 1.13\n",
        "\n",
        "{points: 1}\n",
        "\n",
        "At the start of this worksheet, we loaded a package called `gapminder`. This package comes with a dataset stored in the variable also named `gapminder`. Check the class of the `gapminder` dataset:"
      ]
    },
    {
      "cell_type": "code",
      "execution_count": null,
      "metadata": {
        "deletable": false,
        "editable": false,
        "nbgrader": {
          "cell_type": "code",
          "checksum": "4765e2bb110d358c0a5870fc29a55347",
          "grade": false,
          "grade_id": "cell-992bc1625f2613d0",
          "locked": true,
          "schema_version": 3,
          "solution": false,
          "task": false
        },
        "colab": {
          "base_uri": "https://localhost:8080/",
          "height": 34
        },
        "id": "URMQv35zWByq",
        "outputId": "b779dfcc-0959-41a2-8c01-3e66a00c7dae"
      },
      "outputs": [
        {
          "output_type": "display_data",
          "data": {
            "text/html": [
              "<style>\n",
              ".list-inline {list-style: none; margin:0; padding: 0}\n",
              ".list-inline>li {display: inline-block}\n",
              ".list-inline>li:not(:last-child)::after {content: \"\\00b7\"; padding: 0 .5ex}\n",
              "</style>\n",
              "<ol class=list-inline><li>'tbl_df'</li><li>'tbl'</li><li>'data.frame'</li></ol>\n"
            ],
            "text/markdown": "1. 'tbl_df'\n2. 'tbl'\n3. 'data.frame'\n\n\n",
            "text/latex": "\\begin{enumerate*}\n\\item 'tbl\\_df'\n\\item 'tbl'\n\\item 'data.frame'\n\\end{enumerate*}\n",
            "text/plain": [
              "[1] \"tbl_df\"     \"tbl\"        \"data.frame\""
            ]
          },
          "metadata": {}
        }
      ],
      "source": [
        "class(gapminder)"
      ]
    },
    {
      "cell_type": "markdown",
      "metadata": {
        "deletable": false,
        "editable": false,
        "nbgrader": {
          "cell_type": "markdown",
          "checksum": "4030b2884f6ec9c54cf1c46512d8529e",
          "grade": false,
          "grade_id": "cell-35bd3fa6efef2b5c",
          "locked": true,
          "schema_version": 3,
          "solution": false,
          "task": false
        },
        "id": "AoufcpWtWByq"
      },
      "source": [
        "As you can see, it is already a tibble.\n",
        "\n",
        "Take all countries in Europe that have a GDP per capita greater than 10000, and select all variables except `gdpPercap`, using pipes. (Hint: use `-`).\n",
        "\n",
        "Store your answer in a variable named `answer1.13`. Here is a code snippet that you can copy and paste into the solution cell below.\n",
        "\n",
        "```\n",
        "answer1.13 <- FILL_THIS_IN %>%\n",
        "  filter(FILL_THIS_IN > 10000, FILL_THIS_IN == \"Europe\") %>%\n",
        "  FILL_THIS_IN(-FILL_THIS_IN)\n",
        "```"
      ]
    },
    {
      "cell_type": "code",
      "execution_count": null,
      "metadata": {
        "deletable": false,
        "name": "question-1-14",
        "nbgrader": {
          "cell_type": "code",
          "checksum": "c6680597132ab0da22b3b6f2f029f38e",
          "grade": false,
          "grade_id": "cell-229c2279871804bd",
          "locked": false,
          "schema_version": 3,
          "solution": true,
          "task": false
        },
        "colab": {
          "base_uri": "https://localhost:8080/",
          "height": 286
        },
        "id": "nNhZ98ydWByr",
        "outputId": "ab3f5246-89c6-4452-b571-a892b0535ec8"
      },
      "outputs": [
        {
          "output_type": "display_data",
          "data": {
            "text/html": [
              "<table class=\"dataframe\">\n",
              "<caption>A tibble: 6 × 5</caption>\n",
              "<thead>\n",
              "\t<tr><th scope=col>country</th><th scope=col>continent</th><th scope=col>year</th><th scope=col>lifeExp</th><th scope=col>pop</th></tr>\n",
              "\t<tr><th scope=col>&lt;fct&gt;</th><th scope=col>&lt;fct&gt;</th><th scope=col>&lt;int&gt;</th><th scope=col>&lt;dbl&gt;</th><th scope=col>&lt;int&gt;</th></tr>\n",
              "</thead>\n",
              "<tbody>\n",
              "\t<tr><td>Austria</td><td>Europe</td><td>1962</td><td>69.54</td><td>7129864</td></tr>\n",
              "\t<tr><td>Austria</td><td>Europe</td><td>1967</td><td>70.14</td><td>7376998</td></tr>\n",
              "\t<tr><td>Austria</td><td>Europe</td><td>1972</td><td>70.63</td><td>7544201</td></tr>\n",
              "\t<tr><td>Austria</td><td>Europe</td><td>1977</td><td>72.17</td><td>7568430</td></tr>\n",
              "\t<tr><td>Austria</td><td>Europe</td><td>1982</td><td>73.18</td><td>7574613</td></tr>\n",
              "\t<tr><td>Austria</td><td>Europe</td><td>1987</td><td>74.94</td><td>7578903</td></tr>\n",
              "</tbody>\n",
              "</table>\n"
            ],
            "text/markdown": "\nA tibble: 6 × 5\n\n| country &lt;fct&gt; | continent &lt;fct&gt; | year &lt;int&gt; | lifeExp &lt;dbl&gt; | pop &lt;int&gt; |\n|---|---|---|---|---|\n| Austria | Europe | 1962 | 69.54 | 7129864 |\n| Austria | Europe | 1967 | 70.14 | 7376998 |\n| Austria | Europe | 1972 | 70.63 | 7544201 |\n| Austria | Europe | 1977 | 72.17 | 7568430 |\n| Austria | Europe | 1982 | 73.18 | 7574613 |\n| Austria | Europe | 1987 | 74.94 | 7578903 |\n\n",
            "text/latex": "A tibble: 6 × 5\n\\begin{tabular}{lllll}\n country & continent & year & lifeExp & pop\\\\\n <fct> & <fct> & <int> & <dbl> & <int>\\\\\n\\hline\n\t Austria & Europe & 1962 & 69.54 & 7129864\\\\\n\t Austria & Europe & 1967 & 70.14 & 7376998\\\\\n\t Austria & Europe & 1972 & 70.63 & 7544201\\\\\n\t Austria & Europe & 1977 & 72.17 & 7568430\\\\\n\t Austria & Europe & 1982 & 73.18 & 7574613\\\\\n\t Austria & Europe & 1987 & 74.94 & 7578903\\\\\n\\end{tabular}\n",
            "text/plain": [
              "  country continent year lifeExp pop    \n",
              "1 Austria Europe    1962 69.54   7129864\n",
              "2 Austria Europe    1967 70.14   7376998\n",
              "3 Austria Europe    1972 70.63   7544201\n",
              "4 Austria Europe    1977 72.17   7568430\n",
              "5 Austria Europe    1982 73.18   7574613\n",
              "6 Austria Europe    1987 74.94   7578903"
            ]
          },
          "metadata": {}
        }
      ],
      "source": [
        "# your code here\n",
        "answer1.13 <- gapminder %>%\n",
        "  filter(gdpPercap > 10000, continent == \"Europe\") %>%\n",
        "  select(-gdpPercap)\n",
        "#fail() # No Answer - remove if you provide an answer\n",
        "head(answer1.13)"
      ]
    },
    {
      "cell_type": "code",
      "execution_count": null,
      "metadata": {
        "deletable": false,
        "editable": false,
        "name": "test-1-14",
        "nbgrader": {
          "cell_type": "code",
          "checksum": "fcc7a7aadfd00d1ea5ead2ac1fe10dd1",
          "grade": true,
          "grade_id": "cell-d306a8e4f1863c71",
          "locked": true,
          "points": 1,
          "schema_version": 3,
          "solution": false,
          "task": false
        },
        "colab": {
          "base_uri": "https://localhost:8080/"
        },
        "id": "4I9cXQLDWByr",
        "outputId": "0aa43a4d-32e8-467b-82cf-bc2cee76b9cf"
      },
      "outputs": [
        {
          "output_type": "stream",
          "name": "stdout",
          "text": [
            "[1] \"Success!\"\n"
          ]
        }
      ],
      "source": [
        "library(digest)\n",
        "stopifnot(\"answer1.13 should be a data frame\"= setequal(digest(paste(toString('data.frame' %in% class(answer1.13)), \"25b53\")), \"f5540a5f57baac069b0d184335f410d1\"))\n",
        "stopifnot(\"dimensions of answer1.13 are not correct\"= setequal(digest(paste(toString(dim(answer1.13)), \"25b53\")), \"4de41592a6202803fb87d9a53a5c23de\"))\n",
        "stopifnot(\"column names of answer1.13 are not correct\"= setequal(digest(paste(toString(sort(colnames(answer1.13))), \"25b53\")), \"d5394b44e2be03dac6af45c968de83c7\"))\n",
        "stopifnot(\"types of columns in answer1.13 are not correct\"= setequal(digest(paste(toString(sort(unlist(sapply(answer1.13, class)))), \"25b53\")), \"0aedb6953476be6f2b53d21cc816dca7\"))\n",
        "stopifnot(\"values in one or more numerical columns in answer1.13 are not correct\"= setequal(digest(paste(toString(if (any(sapply(answer1.13, is.numeric))) sort(round(sapply(answer1.13[, sapply(answer1.13, is.numeric)], sum, na.rm = TRUE), 2)) else 0), \"25b53\")), \"0ffdc2b6931c5d26c40dd4644b2d545a\"))\n",
        "stopifnot(\"values in one or more character columns in answer1.13 are not correct\"= setequal(digest(paste(toString(if (any(sapply(answer1.13, is.character))) sum(sapply(answer1.13[sapply(answer1.13, is.character)], function(x) length(unique(x)))) else 0), \"25b53\")), \"a364e1297a7e991c2d715fe32c536543\"))\n",
        "stopifnot(\"values in one or more factor columns in answer1.13 are not correct\"= setequal(digest(paste(toString(if (any(sapply(answer1.13, is.factor))) sum(sapply(answer1.13[, sapply(answer1.13, is.factor)], function(col) length(unique(col)))) else 0), \"25b53\")), \"22c23aaaa6c6e58411afc18c5eebc424\"))\n",
        "\n",
        "print('Success!')"
      ]
    },
    {
      "cell_type": "markdown",
      "metadata": {
        "deletable": false,
        "editable": false,
        "nbgrader": {
          "cell_type": "markdown",
          "checksum": "81c790b1f7457c33d204222cb1fd0685",
          "grade": false,
          "grade_id": "cell-3e7c74b2095d67ab",
          "locked": true,
          "schema_version": 3,
          "solution": false,
          "task": false
        },
        "id": "MAsY5GUzWByr"
      },
      "source": [
        "## QUESTION 1.14\n",
        "\n",
        "{points: 1}\n",
        "\n",
        "Coerce the `mtcars` data frame to a tibble, and take all columns that start with the letter \"d\".\n",
        "*Hint: take a look at the \"Select helpers\" documentation by running the following code: `?tidyselect::select_helpers`.*\n",
        "\n",
        "Store your tibble in a variable named `answer1.14`\n",
        "\n",
        "```\n",
        "answer1.14 <- FILL_THIS_IN(FILL_THIS_IN) %>%\n",
        "    FILL_THIS_IN(FILL_THIS_IN(\"d\"))\n",
        "```"
      ]
    },
    {
      "cell_type": "code",
      "execution_count": null,
      "metadata": {
        "deletable": false,
        "name": "question-1-15",
        "nbgrader": {
          "cell_type": "code",
          "checksum": "0bd95606ffae4b0041e8ac313caa70ff",
          "grade": false,
          "grade_id": "cell-e326cd7a208090ad",
          "locked": false,
          "schema_version": 3,
          "solution": true,
          "task": false
        },
        "colab": {
          "base_uri": "https://localhost:8080/",
          "height": 286
        },
        "id": "V8p4odLRWByr",
        "outputId": "bcec90c0-26c5-4ac0-99de-bfc8ae289542"
      },
      "outputs": [
        {
          "output_type": "display_data",
          "data": {
            "text/html": [
              "<table class=\"dataframe\">\n",
              "<caption>A tibble: 6 × 2</caption>\n",
              "<thead>\n",
              "\t<tr><th scope=col>disp</th><th scope=col>drat</th></tr>\n",
              "\t<tr><th scope=col>&lt;dbl&gt;</th><th scope=col>&lt;dbl&gt;</th></tr>\n",
              "</thead>\n",
              "<tbody>\n",
              "\t<tr><td>160</td><td>3.90</td></tr>\n",
              "\t<tr><td>160</td><td>3.90</td></tr>\n",
              "\t<tr><td>108</td><td>3.85</td></tr>\n",
              "\t<tr><td>258</td><td>3.08</td></tr>\n",
              "\t<tr><td>360</td><td>3.15</td></tr>\n",
              "\t<tr><td>225</td><td>2.76</td></tr>\n",
              "</tbody>\n",
              "</table>\n"
            ],
            "text/markdown": "\nA tibble: 6 × 2\n\n| disp &lt;dbl&gt; | drat &lt;dbl&gt; |\n|---|---|\n| 160 | 3.90 |\n| 160 | 3.90 |\n| 108 | 3.85 |\n| 258 | 3.08 |\n| 360 | 3.15 |\n| 225 | 2.76 |\n\n",
            "text/latex": "A tibble: 6 × 2\n\\begin{tabular}{ll}\n disp & drat\\\\\n <dbl> & <dbl>\\\\\n\\hline\n\t 160 & 3.90\\\\\n\t 160 & 3.90\\\\\n\t 108 & 3.85\\\\\n\t 258 & 3.08\\\\\n\t 360 & 3.15\\\\\n\t 225 & 2.76\\\\\n\\end{tabular}\n",
            "text/plain": [
              "  disp drat\n",
              "1 160  3.90\n",
              "2 160  3.90\n",
              "3 108  3.85\n",
              "4 258  3.08\n",
              "5 360  3.15\n",
              "6 225  2.76"
            ]
          },
          "metadata": {}
        }
      ],
      "source": [
        "# your code here\n",
        "answer1.14 <- as_tibble(mtcars) %>%\n",
        "  select(starts_with(\"d\"))\n",
        "#fail() # No Answer - remove if you provide an answer\n",
        "head(answer1.14)"
      ]
    },
    {
      "cell_type": "code",
      "execution_count": null,
      "metadata": {
        "deletable": false,
        "editable": false,
        "name": "test-1-15",
        "nbgrader": {
          "cell_type": "code",
          "checksum": "5f1351a5f6e1baf02a41c36f6635c87a",
          "grade": true,
          "grade_id": "cell-cef50c68a7dc95c8",
          "locked": true,
          "points": 1,
          "schema_version": 3,
          "solution": false,
          "task": false
        },
        "colab": {
          "base_uri": "https://localhost:8080/"
        },
        "id": "OjiZwq9hWByr",
        "outputId": "b02dd6de-1400-4969-b992-83ef039d6bce"
      },
      "outputs": [
        {
          "output_type": "stream",
          "name": "stdout",
          "text": [
            "[1] \"Success!\"\n"
          ]
        }
      ],
      "source": [
        "library(digest)\n",
        "stopifnot(\"answer1.14 should be a data frame\"= setequal(digest(paste(toString('data.frame' %in% class(answer1.14)), \"1b07b\")), \"ba86ca2008a79291b457dede6afc06e6\"))\n",
        "stopifnot(\"dimensions of answer1.14 are not correct\"= setequal(digest(paste(toString(dim(answer1.14)), \"1b07b\")), \"fd73cb0537053520e0b03f42bb0992ab\"))\n",
        "stopifnot(\"column names of answer1.14 are not correct\"= setequal(digest(paste(toString(sort(colnames(answer1.14))), \"1b07b\")), \"1bbdd6640428bf09cf588f38d76e2efb\"))\n",
        "stopifnot(\"types of columns in answer1.14 are not correct\"= setequal(digest(paste(toString(sort(unlist(sapply(answer1.14, class)))), \"1b07b\")), \"88a8fa4235a5ba6bb8680a91fb41e092\"))\n",
        "stopifnot(\"values in one or more numerical columns in answer1.14 are not correct\"= setequal(digest(paste(toString(if (any(sapply(answer1.14, is.numeric))) sort(round(sapply(answer1.14[, sapply(answer1.14, is.numeric)], sum, na.rm = TRUE), 2)) else 0), \"1b07b\")), \"510f8873ae245e3cc33d2574e85e2166\"))\n",
        "stopifnot(\"values in one or more character columns in answer1.14 are not correct\"= setequal(digest(paste(toString(if (any(sapply(answer1.14, is.character))) sum(sapply(answer1.14[sapply(answer1.14, is.character)], function(x) length(unique(x)))) else 0), \"1b07b\")), \"97e4cf2a540632d95a62223bb7e372a6\"))\n",
        "stopifnot(\"values in one or more factor columns in answer1.14 are not correct\"= setequal(digest(paste(toString(if (any(sapply(answer1.14, is.factor))) sum(sapply(answer1.14[, sapply(answer1.14, is.factor)], function(col) length(unique(col)))) else 0), \"1b07b\")), \"97e4cf2a540632d95a62223bb7e372a6\"))\n",
        "\n",
        "print('Success!')"
      ]
    },
    {
      "cell_type": "markdown",
      "metadata": {
        "deletable": false,
        "editable": false,
        "nbgrader": {
          "cell_type": "markdown",
          "checksum": "2864e1ee65c221d80ba863aa5f8f5152",
          "grade": false,
          "grade_id": "cell-5f4fafc8a7e30702",
          "locked": true,
          "schema_version": 3,
          "solution": false,
          "task": false
        },
        "id": "_S3jj_YsWBys"
      },
      "source": [
        "This exercise is from [r-exercises](https://www.r-exercises.com/2017/10/19/dplyr-basic-functions-exercises/).\n",
        "\n",
        "## `mutate()`\n",
        "\n",
        "The `mutate()` function allows you to create new columns, possibly using existing columns. Like `select()`, `filter()`, and `arrange()`, the `mutate()` function also takes a tibble as its first argument, and returns a tibble.\n",
        "\n",
        "The general syntax is: `mutate(tibble, NEW_COLUMN_NAME = CALCULATION)`.\n",
        "\n",
        "## QUESTION 1.15\n",
        "\n",
        "{points: 1}\n",
        "\n",
        "Make a new column with body mass in kg, named `body_mass_kg`, *and* rearrange the tibble so that `body_mass_kg` goes after `body_mass_g` and before `sex`. Store the resulting tibble in a variable named `answer1.15`.\n",
        "\n",
        "\n",
        "*Hint*: within `select()`, use R's `:` operator to select all variables from `species` to `body_mass_g`.\n",
        "\n",
        "```\n",
        "answer1.15 <- penguins %>%\n",
        "    mutate(FILL_THIS_IN = FILL_THIS_IN) %>%\n",
        "    select(FILL_THIS_IN, FILL_THIS_IN, FILL_THIS_IN, FILL_THIS_IN)\n",
        "```"
      ]
    },
    {
      "cell_type": "code",
      "execution_count": null,
      "metadata": {
        "deletable": false,
        "name": "question-1-12",
        "nbgrader": {
          "cell_type": "code",
          "checksum": "7702c84540ddffebe97e47fc6a792106",
          "grade": false,
          "grade_id": "cell-d9e8ace4de3d5db5",
          "locked": false,
          "schema_version": 3,
          "solution": true,
          "task": false
        },
        "colab": {
          "base_uri": "https://localhost:8080/",
          "height": 286
        },
        "id": "-LEqZiLTWBys",
        "outputId": "26aa8fc8-8fa2-4d46-de12-02891a9e1641"
      },
      "outputs": [
        {
          "output_type": "display_data",
          "data": {
            "text/html": [
              "<table class=\"dataframe\">\n",
              "<caption>A tibble: 6 × 9</caption>\n",
              "<thead>\n",
              "\t<tr><th scope=col>species</th><th scope=col>body_mass_g</th><th scope=col>body_mass_kg</th><th scope=col>sex</th><th scope=col>island</th><th scope=col>bill_length_mm</th><th scope=col>bill_depth_mm</th><th scope=col>flipper_length_mm</th><th scope=col>year</th></tr>\n",
              "\t<tr><th scope=col>&lt;fct&gt;</th><th scope=col>&lt;int&gt;</th><th scope=col>&lt;dbl&gt;</th><th scope=col>&lt;fct&gt;</th><th scope=col>&lt;fct&gt;</th><th scope=col>&lt;dbl&gt;</th><th scope=col>&lt;dbl&gt;</th><th scope=col>&lt;int&gt;</th><th scope=col>&lt;int&gt;</th></tr>\n",
              "</thead>\n",
              "<tbody>\n",
              "\t<tr><td>Adelie</td><td>3750</td><td>3.75</td><td>male  </td><td>Torgersen</td><td>39.1</td><td>18.7</td><td>181</td><td>2007</td></tr>\n",
              "\t<tr><td>Adelie</td><td>3800</td><td>3.80</td><td>female</td><td>Torgersen</td><td>39.5</td><td>17.4</td><td>186</td><td>2007</td></tr>\n",
              "\t<tr><td>Adelie</td><td>3250</td><td>3.25</td><td>female</td><td>Torgersen</td><td>40.3</td><td>18.0</td><td>195</td><td>2007</td></tr>\n",
              "\t<tr><td>Adelie</td><td>  NA</td><td>  NA</td><td>NA    </td><td>Torgersen</td><td>  NA</td><td>  NA</td><td> NA</td><td>2007</td></tr>\n",
              "\t<tr><td>Adelie</td><td>3450</td><td>3.45</td><td>female</td><td>Torgersen</td><td>36.7</td><td>19.3</td><td>193</td><td>2007</td></tr>\n",
              "\t<tr><td>Adelie</td><td>3650</td><td>3.65</td><td>male  </td><td>Torgersen</td><td>39.3</td><td>20.6</td><td>190</td><td>2007</td></tr>\n",
              "</tbody>\n",
              "</table>\n"
            ],
            "text/markdown": "\nA tibble: 6 × 9\n\n| species &lt;fct&gt; | body_mass_g &lt;int&gt; | body_mass_kg &lt;dbl&gt; | sex &lt;fct&gt; | island &lt;fct&gt; | bill_length_mm &lt;dbl&gt; | bill_depth_mm &lt;dbl&gt; | flipper_length_mm &lt;int&gt; | year &lt;int&gt; |\n|---|---|---|---|---|---|---|---|---|\n| Adelie | 3750 | 3.75 | male   | Torgersen | 39.1 | 18.7 | 181 | 2007 |\n| Adelie | 3800 | 3.80 | female | Torgersen | 39.5 | 17.4 | 186 | 2007 |\n| Adelie | 3250 | 3.25 | female | Torgersen | 40.3 | 18.0 | 195 | 2007 |\n| Adelie |   NA |   NA | NA     | Torgersen |   NA |   NA |  NA | 2007 |\n| Adelie | 3450 | 3.45 | female | Torgersen | 36.7 | 19.3 | 193 | 2007 |\n| Adelie | 3650 | 3.65 | male   | Torgersen | 39.3 | 20.6 | 190 | 2007 |\n\n",
            "text/latex": "A tibble: 6 × 9\n\\begin{tabular}{lllllllll}\n species & body\\_mass\\_g & body\\_mass\\_kg & sex & island & bill\\_length\\_mm & bill\\_depth\\_mm & flipper\\_length\\_mm & year\\\\\n <fct> & <int> & <dbl> & <fct> & <fct> & <dbl> & <dbl> & <int> & <int>\\\\\n\\hline\n\t Adelie & 3750 & 3.75 & male   & Torgersen & 39.1 & 18.7 & 181 & 2007\\\\\n\t Adelie & 3800 & 3.80 & female & Torgersen & 39.5 & 17.4 & 186 & 2007\\\\\n\t Adelie & 3250 & 3.25 & female & Torgersen & 40.3 & 18.0 & 195 & 2007\\\\\n\t Adelie &   NA &   NA & NA     & Torgersen &   NA &   NA &  NA & 2007\\\\\n\t Adelie & 3450 & 3.45 & female & Torgersen & 36.7 & 19.3 & 193 & 2007\\\\\n\t Adelie & 3650 & 3.65 & male   & Torgersen & 39.3 & 20.6 & 190 & 2007\\\\\n\\end{tabular}\n",
            "text/plain": [
              "  species body_mass_g body_mass_kg sex    island    bill_length_mm\n",
              "1 Adelie  3750        3.75         male   Torgersen 39.1          \n",
              "2 Adelie  3800        3.80         female Torgersen 39.5          \n",
              "3 Adelie  3250        3.25         female Torgersen 40.3          \n",
              "4 Adelie    NA          NA         NA     Torgersen   NA          \n",
              "5 Adelie  3450        3.45         female Torgersen 36.7          \n",
              "6 Adelie  3650        3.65         male   Torgersen 39.3          \n",
              "  bill_depth_mm flipper_length_mm year\n",
              "1 18.7          181               2007\n",
              "2 17.4          186               2007\n",
              "3 18.0          195               2007\n",
              "4   NA           NA               2007\n",
              "5 19.3          193               2007\n",
              "6 20.6          190               2007"
            ]
          },
          "metadata": {}
        }
      ],
      "source": [
        "# Your code here\n",
        "answer1.15 <- penguins %>%\n",
        "  mutate(body_mass_kg = body_mass_g / 1000) %>%\n",
        "  select(species, body_mass_g, body_mass_kg, sex, everything())\n",
        "#fail() # No Answer - remove if you provide an answer\n",
        "head(answer1.15)"
      ]
    },
    {
      "cell_type": "code",
      "execution_count": null,
      "metadata": {
        "deletable": false,
        "editable": false,
        "name": "test-1-12",
        "nbgrader": {
          "cell_type": "code",
          "checksum": "d6fa22f3ffd2b16acc35de3326755229",
          "grade": true,
          "grade_id": "cell-2aa7af4bee586e8b",
          "locked": true,
          "points": 1,
          "schema_version": 3,
          "solution": false,
          "task": false
        },
        "colab": {
          "base_uri": "https://localhost:8080/"
        },
        "id": "kKq60iN0WBys",
        "outputId": "055fff55-f159-4abe-afb7-c4b67fc76c5b"
      },
      "outputs": [
        {
          "output_type": "stream",
          "name": "stdout",
          "text": [
            "[1] \"Success!\"\n"
          ]
        }
      ],
      "source": [
        "library(digest)\n",
        "stopifnot(\"answer1.15 should be a data frame\"= setequal(digest(paste(toString('data.frame' %in% class(answer1.15)), \"7d3a1\")), \"0fefab599be43c1dbc1e9f60fd0cd736\"))\n",
        "stopifnot(\"dimensions of answer1.15 are not correct\"= setequal(digest(paste(toString(dim(answer1.15)), \"7d3a1\")), \"e2085a6817639bbdcd97a7a0ae979a29\"))\n",
        "stopifnot(\"column names of answer1.15 are not correct\"= setequal(digest(paste(toString(sort(colnames(answer1.15))), \"7d3a1\")), \"4cdb509976bd216bacf2972c121ceb53\"))\n",
        "stopifnot(\"types of columns in answer1.15 are not correct\"= setequal(digest(paste(toString(sort(unlist(sapply(answer1.15, class)))), \"7d3a1\")), \"f2370f2159a33cfc55cd8dcbd9657dfa\"))\n",
        "stopifnot(\"values in one or more numerical columns in answer1.15 are not correct\"= setequal(digest(paste(toString(if (any(sapply(answer1.15, is.numeric))) sort(round(sapply(answer1.15[, sapply(answer1.15, is.numeric)], sum, na.rm = TRUE), 2)) else 0), \"7d3a1\")), \"5a07c804c6ef1139d06c2cd77da89b66\"))\n",
        "stopifnot(\"values in one or more character columns in answer1.15 are not correct\"= setequal(digest(paste(toString(if (any(sapply(answer1.15, is.character))) sum(sapply(answer1.15[sapply(answer1.15, is.character)], function(x) length(unique(x)))) else 0), \"7d3a1\")), \"1b85d55e4192aef1f86db808de2783eb\"))\n",
        "stopifnot(\"values in one or more factor columns in answer1.15 are not correct\"= setequal(digest(paste(toString(if (any(sapply(answer1.15, is.factor))) sum(sapply(answer1.15[, sapply(answer1.15, is.factor)], function(col) length(unique(col)))) else 0), \"7d3a1\")), \"47a83fbdfc0af98f3517e8b7340c780a\"))\n",
        "\n",
        "print('Success!')"
      ]
    },
    {
      "cell_type": "markdown",
      "metadata": {
        "deletable": false,
        "editable": false,
        "nbgrader": {
          "cell_type": "markdown",
          "checksum": "775e141af5ce8163ee51ed0fb5ed9748",
          "grade": false,
          "grade_id": "cell-ddd7c27cced93e3e",
          "locked": true,
          "schema_version": 3,
          "solution": false,
          "task": false
        },
        "id": "TNKR0KejWBys"
      },
      "source": [
        "Notice the backwards compatibility! No need for loops! By the way, if you'd like to simultaneously create columns _and_ delete other columns, use the `transmute` function."
      ]
    },
    {
      "cell_type": "markdown",
      "metadata": {
        "deletable": false,
        "editable": false,
        "nbgrader": {
          "cell_type": "markdown",
          "checksum": "8f212d7edf47cbbfaa76aece72bf2582",
          "grade": false,
          "grade_id": "cell-93fb11af8743ba66",
          "locked": true,
          "schema_version": 3,
          "solution": false,
          "task": false
        },
        "id": "HZt6OMbLWBys"
      },
      "source": [
        "## `group_by()`\n",
        "\n",
        "The `group_by()` function groups the _rows_ in your tibble according to one or more categorical variables. Just specify the columns containing the grouping variables. `mutate()` (and others) will now operate on each chunk independently.\n",
        "\n",
        "## QUESTION 1.16\n",
        "\n",
        "{points: 1}\n",
        "\n",
        "Calculate the growth in population since the first year on record _for each country_, and name the column `rel_growth`. Do this by **rearranging the following lines**, and **filling in the `FILL_THIS_IN`**. Assign your answer to a variable named `answer1.16`\n",
        "\n",
        "*Hint*: Here's another convenience function for you: `dplyr::first()`.\n",
        "\n",
        "```\n",
        "answer1.16 <-\n",
        "    mutate(rel_growth = FILL_THIS_IN) %>%\n",
        "    arrange(FILL_THIS_IN) %>%\n",
        "    gapminder %>%\n",
        "    group_by(country) %>%\n",
        "```"
      ]
    },
    {
      "cell_type": "code",
      "execution_count": null,
      "metadata": {
        "deletable": false,
        "nbgrader": {
          "cell_type": "code",
          "checksum": "f65d591e15108c03f9d889d1515cbf11",
          "grade": false,
          "grade_id": "cell-2ab3613bc7f96623",
          "locked": false,
          "schema_version": 3,
          "solution": true,
          "task": false
        },
        "colab": {
          "base_uri": "https://localhost:8080/",
          "height": 286
        },
        "id": "K7b8OcR9WBys",
        "outputId": "8befed35-b27c-4123-e236-1e62f7a508e4"
      },
      "outputs": [
        {
          "output_type": "display_data",
          "data": {
            "text/html": [
              "<table class=\"dataframe\">\n",
              "<caption>A grouped_df: 6 × 7</caption>\n",
              "<thead>\n",
              "\t<tr><th scope=col>country</th><th scope=col>continent</th><th scope=col>year</th><th scope=col>lifeExp</th><th scope=col>pop</th><th scope=col>gdpPercap</th><th scope=col>rel_growth</th></tr>\n",
              "\t<tr><th scope=col>&lt;fct&gt;</th><th scope=col>&lt;fct&gt;</th><th scope=col>&lt;int&gt;</th><th scope=col>&lt;dbl&gt;</th><th scope=col>&lt;int&gt;</th><th scope=col>&lt;dbl&gt;</th><th scope=col>&lt;dbl&gt;</th></tr>\n",
              "</thead>\n",
              "<tbody>\n",
              "\t<tr><td>Afghanistan</td><td>Asia    </td><td>1952</td><td>28.801</td><td> 8425333</td><td>  779.4453</td><td>0</td></tr>\n",
              "\t<tr><td>Albania    </td><td>Europe  </td><td>1952</td><td>55.230</td><td> 1282697</td><td> 1601.0561</td><td>0</td></tr>\n",
              "\t<tr><td>Algeria    </td><td>Africa  </td><td>1952</td><td>43.077</td><td> 9279525</td><td> 2449.0082</td><td>0</td></tr>\n",
              "\t<tr><td>Angola     </td><td>Africa  </td><td>1952</td><td>30.015</td><td> 4232095</td><td> 3520.6103</td><td>0</td></tr>\n",
              "\t<tr><td>Argentina  </td><td>Americas</td><td>1952</td><td>62.485</td><td>17876956</td><td> 5911.3151</td><td>0</td></tr>\n",
              "\t<tr><td>Australia  </td><td>Oceania </td><td>1952</td><td>69.120</td><td> 8691212</td><td>10039.5956</td><td>0</td></tr>\n",
              "</tbody>\n",
              "</table>\n"
            ],
            "text/markdown": "\nA grouped_df: 6 × 7\n\n| country &lt;fct&gt; | continent &lt;fct&gt; | year &lt;int&gt; | lifeExp &lt;dbl&gt; | pop &lt;int&gt; | gdpPercap &lt;dbl&gt; | rel_growth &lt;dbl&gt; |\n|---|---|---|---|---|---|---|\n| Afghanistan | Asia     | 1952 | 28.801 |  8425333 |   779.4453 | 0 |\n| Albania     | Europe   | 1952 | 55.230 |  1282697 |  1601.0561 | 0 |\n| Algeria     | Africa   | 1952 | 43.077 |  9279525 |  2449.0082 | 0 |\n| Angola      | Africa   | 1952 | 30.015 |  4232095 |  3520.6103 | 0 |\n| Argentina   | Americas | 1952 | 62.485 | 17876956 |  5911.3151 | 0 |\n| Australia   | Oceania  | 1952 | 69.120 |  8691212 | 10039.5956 | 0 |\n\n",
            "text/latex": "A grouped\\_df: 6 × 7\n\\begin{tabular}{lllllll}\n country & continent & year & lifeExp & pop & gdpPercap & rel\\_growth\\\\\n <fct> & <fct> & <int> & <dbl> & <int> & <dbl> & <dbl>\\\\\n\\hline\n\t Afghanistan & Asia     & 1952 & 28.801 &  8425333 &   779.4453 & 0\\\\\n\t Albania     & Europe   & 1952 & 55.230 &  1282697 &  1601.0561 & 0\\\\\n\t Algeria     & Africa   & 1952 & 43.077 &  9279525 &  2449.0082 & 0\\\\\n\t Angola      & Africa   & 1952 & 30.015 &  4232095 &  3520.6103 & 0\\\\\n\t Argentina   & Americas & 1952 & 62.485 & 17876956 &  5911.3151 & 0\\\\\n\t Australia   & Oceania  & 1952 & 69.120 &  8691212 & 10039.5956 & 0\\\\\n\\end{tabular}\n",
            "text/plain": [
              "  country     continent year lifeExp pop      gdpPercap  rel_growth\n",
              "1 Afghanistan Asia      1952 28.801   8425333   779.4453 0         \n",
              "2 Albania     Europe    1952 55.230   1282697  1601.0561 0         \n",
              "3 Algeria     Africa    1952 43.077   9279525  2449.0082 0         \n",
              "4 Angola      Africa    1952 30.015   4232095  3520.6103 0         \n",
              "5 Argentina   Americas  1952 62.485  17876956  5911.3151 0         \n",
              "6 Australia   Oceania   1952 69.120   8691212 10039.5956 0         "
            ]
          },
          "metadata": {}
        }
      ],
      "source": [
        "# Your code here\n",
        "answer1.16 <-\n",
        "  gapminder %>%\n",
        "  group_by(country) %>%\n",
        "  arrange(year) %>%\n",
        "  mutate(rel_growth = (pop - first(pop)) / first(pop))\n",
        "#fail() # No Answer - remove if you provide an answer\n",
        "head(answer1.16)"
      ]
    },
    {
      "cell_type": "code",
      "execution_count": null,
      "metadata": {
        "deletable": false,
        "editable": false,
        "nbgrader": {
          "cell_type": "code",
          "checksum": "a511f3711bf9243d1c5cc91eb790c8de",
          "grade": true,
          "grade_id": "cell-bc032212871c46c6",
          "locked": true,
          "points": 1,
          "schema_version": 3,
          "solution": false,
          "task": false
        },
        "colab": {
          "base_uri": "https://localhost:8080/",
          "height": 110
        },
        "id": "ie6oOVZjWByt",
        "outputId": "84ceed96-12c4-4d32-814f-7635fcebd30d"
      },
      "outputs": [
        {
          "output_type": "error",
          "ename": "ERROR",
          "evalue": "Error: types of columns in answer1.16 are not correct\n",
          "traceback": [
            "Error: types of columns in answer1.16 are not correct\nTraceback:\n",
            "1. stop(simpleError(msg, call = if (p <- sys.parent(1L)) sys.call(p)))"
          ]
        }
      ],
      "source": [
        "library(digest)\n",
        "stopifnot(\"answer1.16 should be a data frame\"= setequal(digest(paste(toString('data.frame' %in% class(answer1.16)), \"44de2\")), \"0815095c0c185318440a7356f1320de9\"))\n",
        "stopifnot(\"dimensions of answer1.16 are not correct\"= setequal(digest(paste(toString(dim(answer1.16)), \"44de2\")), \"56e101cbe925a30750449c7355fb990e\"))\n",
        "stopifnot(\"column names of answer1.16 are not correct\"= setequal(digest(paste(toString(sort(colnames(answer1.16))), \"44de2\")), \"333ed2482f7a183b5a7c0780e7f6ca7e\"))\n",
        "stopifnot(\"types of columns in answer1.16 are not correct\"= setequal(digest(paste(toString(sort(unlist(sapply(answer1.16, class)))), \"44de2\")), \"86dea9f523948a4b7748866e77678805\"))\n",
        "stopifnot(\"values in one or more numerical columns in answer1.16 are not correct\"= setequal(digest(paste(toString(if (any(sapply(answer1.16, is.numeric))) sort(round(sapply(answer1.16[, sapply(answer1.16, is.numeric)], sum, na.rm = TRUE), 2)) else 0), \"44de2\")), \"763f121df76c443519452fff732a6aea\"))\n",
        "stopifnot(\"values in one or more character columns in answer1.16 are not correct\"= setequal(digest(paste(toString(if (any(sapply(answer1.16, is.character))) sum(sapply(answer1.16[sapply(answer1.16, is.character)], function(x) length(unique(x)))) else 0), \"44de2\")), \"237e157ae59f93884151756e4bc0a778\"))\n",
        "stopifnot(\"values in one or more factor columns in answer1.16 are not correct\"= setequal(digest(paste(toString(if (any(sapply(answer1.16, is.factor))) sum(sapply(answer1.16[, sapply(answer1.16, is.factor)], function(col) length(unique(col)))) else 0), \"44de2\")), \"08ae8053a0678b60924448aef7e4b5bf\"))\n",
        "\n",
        "print('Success!')"
      ]
    },
    {
      "cell_type": "markdown",
      "metadata": {
        "deletable": false,
        "editable": false,
        "nbgrader": {
          "cell_type": "markdown",
          "checksum": "ca177f3fcd5e8fc6b218433e60ec3a12",
          "grade": false,
          "grade_id": "cell-7ccdc0e8d8d7cfa0",
          "locked": true,
          "schema_version": 3,
          "solution": false,
          "task": false
        },
        "id": "jBfWWe5QWByt"
      },
      "source": [
        "## `summarise()`\n",
        "\n",
        "The last core dplyr verb is `summarise()`. It collapses a data frame to a single row:"
      ]
    },
    {
      "cell_type": "code",
      "execution_count": null,
      "metadata": {
        "deletable": false,
        "editable": false,
        "nbgrader": {
          "cell_type": "code",
          "checksum": "f46e9a4ccc1c8c085838d667eb7ae817",
          "grade": false,
          "grade_id": "cell-6b1f5abffe346c3f",
          "locked": true,
          "schema_version": 3,
          "solution": false,
          "task": false
        },
        "colab": {
          "base_uri": "https://localhost:8080/",
          "height": 129
        },
        "id": "tS_-w7orWByt",
        "outputId": "2309132b-fc5e-4165-fe43-21e40b996bf7"
      },
      "outputs": [
        {
          "output_type": "display_data",
          "data": {
            "text/html": [
              "<table class=\"dataframe\">\n",
              "<caption>A tibble: 1 × 1</caption>\n",
              "<thead>\n",
              "\t<tr><th scope=col>body_mass_mean</th></tr>\n",
              "\t<tr><th scope=col>&lt;dbl&gt;</th></tr>\n",
              "</thead>\n",
              "<tbody>\n",
              "\t<tr><td>4201.754</td></tr>\n",
              "</tbody>\n",
              "</table>\n"
            ],
            "text/markdown": "\nA tibble: 1 × 1\n\n| body_mass_mean &lt;dbl&gt; |\n|---|\n| 4201.754 |\n\n",
            "text/latex": "A tibble: 1 × 1\n\\begin{tabular}{l}\n body\\_mass\\_mean\\\\\n <dbl>\\\\\n\\hline\n\t 4201.754\\\\\n\\end{tabular}\n",
            "text/plain": [
              "  body_mass_mean\n",
              "1 4201.754      "
            ]
          },
          "metadata": {}
        }
      ],
      "source": [
        "summarise(penguins, body_mass_mean = mean(body_mass_g, na.rm = TRUE))"
      ]
    },
    {
      "cell_type": "markdown",
      "metadata": {
        "deletable": false,
        "editable": false,
        "nbgrader": {
          "cell_type": "markdown",
          "checksum": "f37035a11976fe21525e15757c10884b",
          "grade": false,
          "grade_id": "cell-cb9e443cf78bab58",
          "locked": true,
          "schema_version": 3,
          "solution": false,
          "task": false
        },
        "id": "T7i6lpiAWByt"
      },
      "source": [
        "*From R4DS Data Transformation:*\n",
        "\n",
        "> `summarise()` is not terribly useful unless we pair it with `group_by()`. This changes the unit of analysis from the complete dataset to individual groups. Then, when you use the dplyr verbs on a grouped data frame they'll be automatically applied \"by group\".\n",
        "\n",
        "For example, if we applied exactly the same code to a tibble grouped by island, we get the average body mass per island:"
      ]
    },
    {
      "cell_type": "code",
      "execution_count": null,
      "metadata": {
        "deletable": false,
        "editable": false,
        "nbgrader": {
          "cell_type": "code",
          "checksum": "240d075af880582466a6bb0f5bc098c6",
          "grade": false,
          "grade_id": "cell-833376d1ffa3e568",
          "locked": true,
          "schema_version": 3,
          "solution": false,
          "task": false
        },
        "colab": {
          "base_uri": "https://localhost:8080/",
          "height": 192
        },
        "id": "PF38Z7K9WByt",
        "outputId": "ae95b976-7a5c-43e1-dd44-ed5e3d0eab90"
      },
      "outputs": [
        {
          "output_type": "display_data",
          "data": {
            "text/html": [
              "<table class=\"dataframe\">\n",
              "<caption>A tibble: 3 × 2</caption>\n",
              "<thead>\n",
              "\t<tr><th scope=col>island</th><th scope=col>body_mass_mean</th></tr>\n",
              "\t<tr><th scope=col>&lt;fct&gt;</th><th scope=col>&lt;dbl&gt;</th></tr>\n",
              "</thead>\n",
              "<tbody>\n",
              "\t<tr><td>Biscoe   </td><td>4716.018</td></tr>\n",
              "\t<tr><td>Dream    </td><td>3712.903</td></tr>\n",
              "\t<tr><td>Torgersen</td><td>3706.373</td></tr>\n",
              "</tbody>\n",
              "</table>\n"
            ],
            "text/markdown": "\nA tibble: 3 × 2\n\n| island &lt;fct&gt; | body_mass_mean &lt;dbl&gt; |\n|---|---|\n| Biscoe    | 4716.018 |\n| Dream     | 3712.903 |\n| Torgersen | 3706.373 |\n\n",
            "text/latex": "A tibble: 3 × 2\n\\begin{tabular}{ll}\n island & body\\_mass\\_mean\\\\\n <fct> & <dbl>\\\\\n\\hline\n\t Biscoe    & 4716.018\\\\\n\t Dream     & 3712.903\\\\\n\t Torgersen & 3706.373\\\\\n\\end{tabular}\n",
            "text/plain": [
              "  island    body_mass_mean\n",
              "1 Biscoe    4716.018      \n",
              "2 Dream     3712.903      \n",
              "3 Torgersen 3706.373      "
            ]
          },
          "metadata": {}
        }
      ],
      "source": [
        "penguins %>%\n",
        "  group_by(island) %>%\n",
        "  summarise(body_mass_mean = mean(body_mass_g, na.rm = TRUE))"
      ]
    },
    {
      "cell_type": "markdown",
      "metadata": {
        "deletable": false,
        "editable": false,
        "nbgrader": {
          "cell_type": "markdown",
          "checksum": "414454253754c086a0b2ceee26f859f3",
          "grade": false,
          "grade_id": "cell-199c47f59d82515d",
          "locked": true,
          "schema_version": 3,
          "solution": false,
          "task": false
        },
        "id": "dJUHPLijWByt"
      },
      "source": [
        "## QUESTION 1.17\n",
        "\n",
        "{points: 1}\n",
        "\n",
        "From the `penguins` tibble, calculate the mean penguin body mass per island by year, in a column named `body_mass_mean`. Your tibble should have the columns `year`, `island`, and `body_mass_mean` only (and in that order). Store the resulting tibble in a variable named `answer1.17`.\n",
        "\n",
        "```\n",
        "answer1.17 <- penguins %>%\n",
        "  group_by(FILL_THIS_IN) %>%\n",
        "  FILL_THIS_IN(body_mass_mean = mean(FILL_THIS_IN, na.rm = TRUE))\n",
        "```\n",
        "\n",
        "You may get a warning about the `summarise()` grouping. You can safely ignore this."
      ]
    },
    {
      "cell_type": "code",
      "execution_count": null,
      "metadata": {
        "deletable": false,
        "name": "question-1-13",
        "nbgrader": {
          "cell_type": "code",
          "checksum": "607f7b5d647d09b649b7009e8aa1690b",
          "grade": false,
          "grade_id": "cell-c7cb5063ed993313",
          "locked": false,
          "schema_version": 3,
          "solution": true,
          "task": false
        },
        "colab": {
          "base_uri": "https://localhost:8080/",
          "height": 286
        },
        "id": "5wdS1j-QWByt",
        "outputId": "5652b0ed-f0b4-4740-be92-9adc6d7d2366"
      },
      "outputs": [
        {
          "output_type": "display_data",
          "data": {
            "text/html": [
              "<table class=\"dataframe\">\n",
              "<caption>A tibble: 6 × 3</caption>\n",
              "<thead>\n",
              "\t<tr><th scope=col>year</th><th scope=col>island</th><th scope=col>body_mass_mean</th></tr>\n",
              "\t<tr><th scope=col>&lt;int&gt;</th><th scope=col>&lt;fct&gt;</th><th scope=col>&lt;dbl&gt;</th></tr>\n",
              "</thead>\n",
              "<tbody>\n",
              "\t<tr><td>2007</td><td>Biscoe   </td><td>4740.909</td></tr>\n",
              "\t<tr><td>2007</td><td>Dream    </td><td>3684.239</td></tr>\n",
              "\t<tr><td>2007</td><td>Torgersen</td><td>3763.158</td></tr>\n",
              "\t<tr><td>2008</td><td>Biscoe   </td><td>4628.125</td></tr>\n",
              "\t<tr><td>2008</td><td>Dream    </td><td>3779.412</td></tr>\n",
              "\t<tr><td>2008</td><td>Torgersen</td><td>3856.250</td></tr>\n",
              "</tbody>\n",
              "</table>\n"
            ],
            "text/markdown": "\nA tibble: 6 × 3\n\n| year &lt;int&gt; | island &lt;fct&gt; | body_mass_mean &lt;dbl&gt; |\n|---|---|---|\n| 2007 | Biscoe    | 4740.909 |\n| 2007 | Dream     | 3684.239 |\n| 2007 | Torgersen | 3763.158 |\n| 2008 | Biscoe    | 4628.125 |\n| 2008 | Dream     | 3779.412 |\n| 2008 | Torgersen | 3856.250 |\n\n",
            "text/latex": "A tibble: 6 × 3\n\\begin{tabular}{lll}\n year & island & body\\_mass\\_mean\\\\\n <int> & <fct> & <dbl>\\\\\n\\hline\n\t 2007 & Biscoe    & 4740.909\\\\\n\t 2007 & Dream     & 3684.239\\\\\n\t 2007 & Torgersen & 3763.158\\\\\n\t 2008 & Biscoe    & 4628.125\\\\\n\t 2008 & Dream     & 3779.412\\\\\n\t 2008 & Torgersen & 3856.250\\\\\n\\end{tabular}\n",
            "text/plain": [
              "  year island    body_mass_mean\n",
              "1 2007 Biscoe    4740.909      \n",
              "2 2007 Dream     3684.239      \n",
              "3 2007 Torgersen 3763.158      \n",
              "4 2008 Biscoe    4628.125      \n",
              "5 2008 Dream     3779.412      \n",
              "6 2008 Torgersen 3856.250      "
            ]
          },
          "metadata": {}
        }
      ],
      "source": [
        "# Your code here\n",
        "answer1.17 <- penguins %>%\n",
        "  group_by(year, island) %>%\n",
        "  summarise(body_mass_mean = mean(body_mass_g, na.rm = TRUE), .groups = \"drop\")\n",
        "#fail() # No Answer - remove if you provide an answer\n",
        "head(answer1.17)"
      ]
    },
    {
      "cell_type": "code",
      "execution_count": null,
      "metadata": {
        "deletable": false,
        "editable": false,
        "name": "test-1-13",
        "nbgrader": {
          "cell_type": "code",
          "checksum": "536bc4116f369c443dcccc7389cacf8e",
          "grade": true,
          "grade_id": "cell-787a56e4c37460c9",
          "locked": true,
          "points": 1,
          "schema_version": 3,
          "solution": false,
          "task": false
        },
        "colab": {
          "base_uri": "https://localhost:8080/"
        },
        "id": "UcasSAR7WByt",
        "outputId": "832c8a34-3dd7-4997-e0da-f7ce3cca56cc"
      },
      "outputs": [
        {
          "output_type": "stream",
          "name": "stdout",
          "text": [
            "[1] \"Success!\"\n"
          ]
        }
      ],
      "source": [
        "library(digest)\n",
        "stopifnot(\"answer1.17 should be a data frame\"= setequal(digest(paste(toString('data.frame' %in% class(answer1.17)), \"63c17\")), \"f0c75f97026c751b62157a21188a92a8\"))\n",
        "stopifnot(\"dimensions of answer1.17 are not correct\"= setequal(digest(paste(toString(dim(answer1.17)), \"63c17\")), \"4cbc48c45f187c834f705a4a0b0759b4\"))\n",
        "stopifnot(\"column names of answer1.17 are not correct\"= setequal(digest(paste(toString(sort(colnames(answer1.17))), \"63c17\")), \"fe467fe996b44b24b7b4c07b152fdc2d\"))\n",
        "stopifnot(\"types of columns in answer1.17 are not correct\"= setequal(digest(paste(toString(sort(unlist(sapply(answer1.17, class)))), \"63c17\")), \"e450051f53b30be677886897cbea3b34\"))\n",
        "stopifnot(\"values in one or more numerical columns in answer1.17 are not correct\"= setequal(digest(paste(toString(if (any(sapply(answer1.17, is.numeric))) sort(round(sapply(answer1.17[, sapply(answer1.17, is.numeric)], sum, na.rm = TRUE), 2)) else 0), \"63c17\")), \"2f40928b40739aa3a2bfb69631bff202\"))\n",
        "stopifnot(\"values in one or more character columns in answer1.17 are not correct\"= setequal(digest(paste(toString(if (any(sapply(answer1.17, is.character))) sum(sapply(answer1.17[sapply(answer1.17, is.character)], function(x) length(unique(x)))) else 0), \"63c17\")), \"c80809bbe6850ddcce432d143da41074\"))\n",
        "stopifnot(\"values in one or more factor columns in answer1.17 are not correct\"= setequal(digest(paste(toString(if (any(sapply(answer1.17, is.factor))) sum(sapply(answer1.17[, sapply(answer1.17, is.factor)], function(col) length(unique(col)))) else 0), \"63c17\")), \"875f889a2f5ceb7587787f82806d1f45\"))\n",
        "\n",
        "print('Success!')"
      ]
    },
    {
      "cell_type": "markdown",
      "metadata": {
        "deletable": false,
        "editable": false,
        "nbgrader": {
          "cell_type": "markdown",
          "checksum": "58a331945283a8c1f2a0c59f70d45bb3",
          "grade": false,
          "grade_id": "cell-26d8a38d2ac2d31c",
          "locked": true,
          "schema_version": 3,
          "solution": false,
          "task": false
        },
        "id": "8jPaqIRuWByt"
      },
      "source": [
        "# Part 2: Scoped variants with `across()`\n",
        "\n",
        "Sometimes we want to perform the same operation on many columns. We can achieve this by embedding the `across()` function within the `mutate()` or `summarise()` functions.\n",
        "\n",
        "## QUESTION 2.0\n",
        "\n",
        "{points: 1}\n",
        "\n",
        "In a single expression, make a tibble with the following columns *for each island* in the penguins data set:\n",
        "\n",
        "+ What is the *mean* of each numeric variable in the `penguins` dataset in each island? Keep the column names the same.\n",
        "+ How many penguins are there in each island? Add this to a column named `n`.\n",
        "\n",
        "Assign your answer to a variable named `answer2.0`\n",
        "\n",
        "```\n",
        "answer2.0 <- penguins %>%\n",
        " group_by(FILL_THIS_IN) %>%\n",
        " summarise(across(where(FILL_THIS_IN), FILL_THIS_IN, na.rm = TRUE),\n",
        "           n = n())\n",
        "```\n",
        "\n",
        "You can ignore the warning message about `summarise()` again if one appears."
      ]
    },
    {
      "cell_type": "code",
      "execution_count": null,
      "metadata": {
        "deletable": false,
        "nbgrader": {
          "cell_type": "code",
          "checksum": "bdba6f6c61b1fb775dfd845f40134f16",
          "grade": false,
          "grade_id": "cell-3f56050dd1cb58c1",
          "locked": false,
          "schema_version": 3,
          "solution": true,
          "task": false
        },
        "colab": {
          "base_uri": "https://localhost:8080/",
          "height": 431
        },
        "id": "xdZh1M6EWByt",
        "outputId": "d48187fa-4bcf-449d-fdb7-ee7da97fd2a0"
      },
      "outputs": [
        {
          "output_type": "stream",
          "name": "stderr",
          "text": [
            "Warning message:\n",
            "“\u001b[1m\u001b[22mThere was 1 warning in `summarise()`.\n",
            "\u001b[1m\u001b[22m\u001b[36mℹ\u001b[39m In argument: `across(where(is.numeric), mean, na.rm = TRUE)`.\n",
            "\u001b[36mℹ\u001b[39m In group 1: `island = Biscoe`.\n",
            "Caused by warning:\n",
            "\u001b[1m\u001b[22m\u001b[33m!\u001b[39m The `...` argument of `across()` is deprecated as of dplyr 1.1.0.\n",
            "Supply arguments directly to `.fns` through an anonymous function instead.\n",
            "\n",
            "  # Previously\n",
            "  across(a:b, mean, na.rm = TRUE)\n",
            "\n",
            "  # Now\n",
            "  across(a:b, \\(x) mean(x, na.rm = TRUE))”\n"
          ]
        },
        {
          "output_type": "display_data",
          "data": {
            "text/html": [
              "<table class=\"dataframe\">\n",
              "<caption>A tibble: 3 × 7</caption>\n",
              "<thead>\n",
              "\t<tr><th scope=col>island</th><th scope=col>bill_length_mm</th><th scope=col>bill_depth_mm</th><th scope=col>flipper_length_mm</th><th scope=col>body_mass_g</th><th scope=col>year</th><th scope=col>n</th></tr>\n",
              "\t<tr><th scope=col>&lt;fct&gt;</th><th scope=col>&lt;dbl&gt;</th><th scope=col>&lt;dbl&gt;</th><th scope=col>&lt;dbl&gt;</th><th scope=col>&lt;dbl&gt;</th><th scope=col>&lt;dbl&gt;</th><th scope=col>&lt;int&gt;</th></tr>\n",
              "</thead>\n",
              "<tbody>\n",
              "\t<tr><td>Biscoe   </td><td>45.25749</td><td>15.87485</td><td>209.7066</td><td>4716.018</td><td>2008.095</td><td>168</td></tr>\n",
              "\t<tr><td>Dream    </td><td>44.16774</td><td>18.34435</td><td>193.0726</td><td>3712.903</td><td>2007.984</td><td>124</td></tr>\n",
              "\t<tr><td>Torgersen</td><td>38.95098</td><td>18.42941</td><td>191.1961</td><td>3706.373</td><td>2007.923</td><td> 52</td></tr>\n",
              "</tbody>\n",
              "</table>\n"
            ],
            "text/markdown": "\nA tibble: 3 × 7\n\n| island &lt;fct&gt; | bill_length_mm &lt;dbl&gt; | bill_depth_mm &lt;dbl&gt; | flipper_length_mm &lt;dbl&gt; | body_mass_g &lt;dbl&gt; | year &lt;dbl&gt; | n &lt;int&gt; |\n|---|---|---|---|---|---|---|\n| Biscoe    | 45.25749 | 15.87485 | 209.7066 | 4716.018 | 2008.095 | 168 |\n| Dream     | 44.16774 | 18.34435 | 193.0726 | 3712.903 | 2007.984 | 124 |\n| Torgersen | 38.95098 | 18.42941 | 191.1961 | 3706.373 | 2007.923 |  52 |\n\n",
            "text/latex": "A tibble: 3 × 7\n\\begin{tabular}{lllllll}\n island & bill\\_length\\_mm & bill\\_depth\\_mm & flipper\\_length\\_mm & body\\_mass\\_g & year & n\\\\\n <fct> & <dbl> & <dbl> & <dbl> & <dbl> & <dbl> & <int>\\\\\n\\hline\n\t Biscoe    & 45.25749 & 15.87485 & 209.7066 & 4716.018 & 2008.095 & 168\\\\\n\t Dream     & 44.16774 & 18.34435 & 193.0726 & 3712.903 & 2007.984 & 124\\\\\n\t Torgersen & 38.95098 & 18.42941 & 191.1961 & 3706.373 & 2007.923 &  52\\\\\n\\end{tabular}\n",
            "text/plain": [
              "  island    bill_length_mm bill_depth_mm flipper_length_mm body_mass_g year    \n",
              "1 Biscoe    45.25749       15.87485      209.7066          4716.018    2008.095\n",
              "2 Dream     44.16774       18.34435      193.0726          3712.903    2007.984\n",
              "3 Torgersen 38.95098       18.42941      191.1961          3706.373    2007.923\n",
              "  n  \n",
              "1 168\n",
              "2 124\n",
              "3  52"
            ]
          },
          "metadata": {}
        }
      ],
      "source": [
        "# Your code here\n",
        "answer2.0 <- penguins %>%\n",
        "  group_by(island) %>%\n",
        "  summarise(across(where(is.numeric), mean, na.rm = TRUE),\n",
        "            n = n())\n",
        "#fail() # No Answer - remove if you provide an answer\n",
        "head(answer2.0)"
      ]
    },
    {
      "cell_type": "code",
      "execution_count": null,
      "metadata": {
        "deletable": false,
        "editable": false,
        "nbgrader": {
          "cell_type": "code",
          "checksum": "6f0596dc969e80dac452c9b2f9ed36c5",
          "grade": true,
          "grade_id": "cell-e8681c978652b8f9",
          "locked": true,
          "points": 1,
          "schema_version": 3,
          "solution": false,
          "task": false
        },
        "colab": {
          "base_uri": "https://localhost:8080/"
        },
        "id": "v_JpqRYmWByu",
        "outputId": "881ae62e-cef6-44b3-a15f-f205bce305e8"
      },
      "outputs": [
        {
          "output_type": "stream",
          "name": "stdout",
          "text": [
            "[1] \"Success!\"\n"
          ]
        }
      ],
      "source": [
        "library(digest)\n",
        "stopifnot(\"answer2.0 should be a data frame\"= setequal(digest(paste(toString('data.frame' %in% class(answer2.0)), \"bd864\")), \"c158cc80ab856c767cf2efcf045fcc72\"))\n",
        "stopifnot(\"dimensions of answer2.0 are not correct\"= setequal(digest(paste(toString(dim(answer2.0)), \"bd864\")), \"5303d71027cfe9afd9713376b4c9a80a\"))\n",
        "stopifnot(\"column names of answer2.0 are not correct\"= setequal(digest(paste(toString(sort(colnames(answer2.0))), \"bd864\")), \"2eb3dc8900d9763d29e0439c88a813e3\"))\n",
        "stopifnot(\"types of columns in answer2.0 are not correct\"= setequal(digest(paste(toString(sort(unlist(sapply(answer2.0, class)))), \"bd864\")), \"8a17d33f75aa06f2490f3e1a9054277d\"))\n",
        "stopifnot(\"values in one or more numerical columns in answer2.0 are not correct\"= setequal(digest(paste(toString(if (any(sapply(answer2.0, is.numeric))) sort(round(sapply(answer2.0[, sapply(answer2.0, is.numeric)], sum, na.rm = TRUE), 2)) else 0), \"bd864\")), \"10013919fdfe8f7be71bcf7e3d37f292\"))\n",
        "stopifnot(\"values in one or more character columns in answer2.0 are not correct\"= setequal(digest(paste(toString(if (any(sapply(answer2.0, is.character))) sum(sapply(answer2.0[sapply(answer2.0, is.character)], function(x) length(unique(x)))) else 0), \"bd864\")), \"937e9306d5d219025ad2f370c9369a60\"))\n",
        "stopifnot(\"values in one or more factor columns in answer2.0 are not correct\"= setequal(digest(paste(toString(if (any(sapply(answer2.0, is.factor))) sum(sapply(answer2.0[, sapply(answer2.0, is.factor)], function(col) length(unique(col)))) else 0), \"bd864\")), \"d3b6026865fcdab30ea909c7a547d4e3\"))\n",
        "\n",
        "print('Success!')"
      ]
    },
    {
      "cell_type": "markdown",
      "metadata": {
        "deletable": false,
        "editable": false,
        "nbgrader": {
          "cell_type": "markdown",
          "checksum": "58aec17f889ede7aaa5dbb9819098a9a",
          "grade": false,
          "grade_id": "cell-ecc146b97be77724",
          "locked": true,
          "schema_version": 3,
          "solution": false,
          "task": false
        },
        "id": "Wb4BJZV_WByu"
      },
      "source": [
        "## QUESTION 2.1\n",
        "\n",
        "{points: 1}\n",
        "\n",
        "Using the `penguins` dataset, what is the mean bill length and depth of penguins on each island, by year? The resulting tibble should have columns named `island`, `year`, `bill_length_mm`, and `bill_depth_mm`, in that order. Store the result in a variable named `answer2.1`. Be sure to remove NA's when you are calculating the mean.\n",
        "\n",
        "*Hint*: Use `starts_with()` instead of `where()` in the `across()` function.\n",
        "\n",
        "```\n",
        "answer2.1 <- penguins %>%\n",
        "    group_by(FILL_THIS_IN) %>%\n",
        "    summarise(across(FILL_THIS_IN))\n",
        "```\n",
        "\n",
        "You can again ignore the warning about `summarise()` if one appears."
      ]
    },
    {
      "cell_type": "code",
      "execution_count": null,
      "metadata": {
        "deletable": false,
        "nbgrader": {
          "cell_type": "code",
          "checksum": "1371fe515850be553208d529a4ee867f",
          "grade": false,
          "grade_id": "cell-a53b4a22a4bdbd25",
          "locked": false,
          "schema_version": 3,
          "solution": true,
          "task": false
        },
        "colab": {
          "base_uri": "https://localhost:8080/",
          "height": 286
        },
        "id": "jM46igGyWByu",
        "outputId": "f848e260-6b4f-487c-fae5-a2855e3a9a3f"
      },
      "outputs": [
        {
          "output_type": "display_data",
          "data": {
            "text/html": [
              "<table class=\"dataframe\">\n",
              "<caption>A tibble: 6 × 4</caption>\n",
              "<thead>\n",
              "\t<tr><th scope=col>island</th><th scope=col>year</th><th scope=col>bill_length_mm</th><th scope=col>bill_depth_mm</th></tr>\n",
              "\t<tr><th scope=col>&lt;fct&gt;</th><th scope=col>&lt;int&gt;</th><th scope=col>&lt;dbl&gt;</th><th scope=col>&lt;dbl&gt;</th></tr>\n",
              "</thead>\n",
              "<tbody>\n",
              "\t<tr><td>Biscoe</td><td>2007</td><td>45.03864</td><td>15.54091</td></tr>\n",
              "\t<tr><td>Biscoe</td><td>2008</td><td>44.62031</td><td>15.82500</td></tr>\n",
              "\t<tr><td>Biscoe</td><td>2009</td><td>46.11186</td><td>16.17797</td></tr>\n",
              "\t<tr><td>Dream </td><td>2007</td><td>44.53913</td><td>18.57391</td></tr>\n",
              "\t<tr><td>Dream </td><td>2008</td><td>43.75588</td><td>18.39706</td></tr>\n",
              "\t<tr><td>Dream </td><td>2009</td><td>44.09773</td><td>18.06364</td></tr>\n",
              "</tbody>\n",
              "</table>\n"
            ],
            "text/markdown": "\nA tibble: 6 × 4\n\n| island &lt;fct&gt; | year &lt;int&gt; | bill_length_mm &lt;dbl&gt; | bill_depth_mm &lt;dbl&gt; |\n|---|---|---|---|\n| Biscoe | 2007 | 45.03864 | 15.54091 |\n| Biscoe | 2008 | 44.62031 | 15.82500 |\n| Biscoe | 2009 | 46.11186 | 16.17797 |\n| Dream  | 2007 | 44.53913 | 18.57391 |\n| Dream  | 2008 | 43.75588 | 18.39706 |\n| Dream  | 2009 | 44.09773 | 18.06364 |\n\n",
            "text/latex": "A tibble: 6 × 4\n\\begin{tabular}{llll}\n island & year & bill\\_length\\_mm & bill\\_depth\\_mm\\\\\n <fct> & <int> & <dbl> & <dbl>\\\\\n\\hline\n\t Biscoe & 2007 & 45.03864 & 15.54091\\\\\n\t Biscoe & 2008 & 44.62031 & 15.82500\\\\\n\t Biscoe & 2009 & 46.11186 & 16.17797\\\\\n\t Dream  & 2007 & 44.53913 & 18.57391\\\\\n\t Dream  & 2008 & 43.75588 & 18.39706\\\\\n\t Dream  & 2009 & 44.09773 & 18.06364\\\\\n\\end{tabular}\n",
            "text/plain": [
              "  island year bill_length_mm bill_depth_mm\n",
              "1 Biscoe 2007 45.03864       15.54091     \n",
              "2 Biscoe 2008 44.62031       15.82500     \n",
              "3 Biscoe 2009 46.11186       16.17797     \n",
              "4 Dream  2007 44.53913       18.57391     \n",
              "5 Dream  2008 43.75588       18.39706     \n",
              "6 Dream  2009 44.09773       18.06364     "
            ]
          },
          "metadata": {}
        }
      ],
      "source": [
        "# Your code here\n",
        "answer2.1 <- penguins %>%\n",
        "  group_by(island, year) %>%\n",
        "  summarise(across(c(bill_length_mm, bill_depth_mm), mean, na.rm = TRUE), .groups = \"drop\")\n",
        "#fail() # No Answer - remove if you provide an answer\n",
        "head(answer2.1)"
      ]
    },
    {
      "cell_type": "code",
      "execution_count": null,
      "metadata": {
        "deletable": false,
        "editable": false,
        "nbgrader": {
          "cell_type": "code",
          "checksum": "4ca676bc003024a1ffd2427766324a24",
          "grade": true,
          "grade_id": "cell-69502fa952a45d71",
          "locked": true,
          "points": 1,
          "schema_version": 3,
          "solution": false,
          "task": false
        },
        "colab": {
          "base_uri": "https://localhost:8080/"
        },
        "id": "v6SxiVsmWByu",
        "outputId": "4a0efa97-6e6e-4471-9a28-f6329a02c154"
      },
      "outputs": [
        {
          "output_type": "stream",
          "name": "stdout",
          "text": [
            "[1] \"Success!\"\n"
          ]
        }
      ],
      "source": [
        "library(digest)\n",
        "stopifnot(\"answer2.1 should be a data frame\"= setequal(digest(paste(toString('data.frame' %in% class(answer2.1)), \"20bd9\")), \"f651a4beaa52e5c84d3ce0114965ddc5\"))\n",
        "stopifnot(\"dimensions of answer2.1 are not correct\"= setequal(digest(paste(toString(dim(answer2.1)), \"20bd9\")), \"e6d9ecd062ff77e45ad4bd5d69d8df8c\"))\n",
        "stopifnot(\"column names of answer2.1 are not correct\"= setequal(digest(paste(toString(sort(colnames(answer2.1))), \"20bd9\")), \"34df2a9e952aa685f5d3682d89f24e21\"))\n",
        "stopifnot(\"types of columns in answer2.1 are not correct\"= setequal(digest(paste(toString(sort(unlist(sapply(answer2.1, class)))), \"20bd9\")), \"4d3e2bfa99dfb833462fa0cc005c1d65\"))\n",
        "stopifnot(\"values in one or more numerical columns in answer2.1 are not correct\"= setequal(digest(paste(toString(if (any(sapply(answer2.1, is.numeric))) sort(round(sapply(answer2.1[, sapply(answer2.1, is.numeric)], sum, na.rm = TRUE), 2)) else 0), \"20bd9\")), \"a560fc515811172960d9a9b861c1eb63\"))\n",
        "stopifnot(\"values in one or more character columns in answer2.1 are not correct\"= setequal(digest(paste(toString(if (any(sapply(answer2.1, is.character))) sum(sapply(answer2.1[sapply(answer2.1, is.character)], function(x) length(unique(x)))) else 0), \"20bd9\")), \"80530cc77803561665a0c40132f6751d\"))\n",
        "stopifnot(\"values in one or more factor columns in answer2.1 are not correct\"= setequal(digest(paste(toString(if (any(sapply(answer2.1, is.factor))) sum(sapply(answer2.1[, sapply(answer2.1, is.factor)], function(col) length(unique(col)))) else 0), \"20bd9\")), \"59f605d0c4ca38a14348f011271b74d2\"))\n",
        "\n",
        "print('Success!')"
      ]
    },
    {
      "cell_type": "markdown",
      "metadata": {
        "id": "uE9doYBiWByu"
      },
      "source": [
        "That's all! 🎉\n",
        "Please Restart and Run all, check for errors, Save, and submit this worksheet on Canvas.\n",
        "\n",
        "## Attribution\n",
        "\n",
        "Thanks to Icíar Fernández Boyano and Victor Yuan for their help in putting this worksheet together.\n",
        "\n",
        "The following resources were used as inspiration in the creation of this worksheet:\n",
        "\n",
        "+ [Swirl R Programming Tutorial](https://swirlstats.com/scn/rprog.html)\n",
        "+ [Palmer Penguins R Package](https://github.com/hadley/palmerpenguins)\n",
        "+ [RD4S Data Transformation](https://r4ds.had.co.nz/transform.html)"
      ]
    }
  ],
  "metadata": {
    "jupytext": {
      "cell_metadata_filter": "name,eval,message,fig.height,warning,fig.width,-all",
      "notebook_metadata_filter": "-all"
    },
    "kernelspec": {
      "display_name": "R",
      "language": "R",
      "name": "ir"
    },
    "language_info": {
      "codemirror_mode": "r",
      "file_extension": ".r",
      "mimetype": "text/x-r-source",
      "name": "R",
      "pygments_lexer": "r",
      "version": "4.5.1"
    },
    "colab": {
      "provenance": [],
      "include_colab_link": true
    }
  },
  "nbformat": 4,
  "nbformat_minor": 0
}