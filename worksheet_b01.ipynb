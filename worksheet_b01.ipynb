{
  "cells": [
    {
      "cell_type": "markdown",
      "metadata": {
        "id": "view-in-github",
        "colab_type": "text"
      },
      "source": [
        "<a href=\"https://colab.research.google.com/github/Ricky0917/STAT-545/blob/main/worksheet_b01.ipynb\" target=\"_parent\"><img src=\"https://colab.research.google.com/assets/colab-badge.svg\" alt=\"Open In Colab\"/></a>"
      ]
    },
    {
      "cell_type": "markdown",
      "metadata": {
        "id": "9_KngbR1Sebh"
      },
      "source": [
        "Name:\n",
        "\n",
        "Student ID:"
      ]
    },
    {
      "cell_type": "markdown",
      "metadata": {
        "deletable": false,
        "editable": false,
        "nbgrader": {
          "cell_type": "markdown",
          "checksum": "d51d1f40ee406cfb3f21cef33c5dfd89",
          "grade": false,
          "grade_id": "cell-e485a74242e7179c",
          "locked": true,
          "schema_version": 3,
          "solution": false,
          "task": false
        },
        "id": "IaT0EvQPSebi"
      },
      "source": [
        "# Worksheet B1: Writing functions & tests (8 points)\n",
        "**Fall 2025**\n",
        "\n",
        "There are 8 questions for Worksheet B01, each worth one point.\n",
        "\n",
        "## Getting Started\n",
        "\n",
        "Load the requirements for this worksheet:"
      ]
    },
    {
      "cell_type": "code",
      "execution_count": 13,
      "metadata": {
        "deletable": false,
        "editable": false,
        "nbgrader": {
          "cell_type": "code",
          "checksum": "dcad541c1a8b922ccc27d249078abd86",
          "grade": false,
          "grade_id": "cell-a4468420bb3744af",
          "locked": true,
          "schema_version": 3,
          "solution": false,
          "task": false
        },
        "id": "3yQYf6u-Sebi"
      },
      "outputs": [],
      "source": [
        "suppressPackageStartupMessages(library(palmerpenguins))\n",
        "suppressPackageStartupMessages(library(lubridate))\n",
        "suppressPackageStartupMessages(library(tidyverse))\n",
        "suppressPackageStartupMessages(library(testthat))\n",
        "suppressPackageStartupMessages(library(dplyr))\n",
        "suppressPackageStartupMessages(library(gapminder))\n",
        "suppressPackageStartupMessages(library(digest))"
      ]
    },
    {
      "cell_type": "markdown",
      "metadata": {
        "deletable": false,
        "editable": false,
        "nbgrader": {
          "cell_type": "markdown",
          "checksum": "ea8fd55508fed592395a0bbe0082b804",
          "grade": false,
          "grade_id": "cell-61ef8fcf920036ba",
          "locked": true,
          "schema_version": 3,
          "solution": false,
          "task": false
        },
        "id": "iKP8zVhuSebj"
      },
      "source": [
        "The following code chunk has been unlocked, to give you the flexibility to start this document with some of your own code. Remember, it's bad manners to keep a call to `install.packages()` in your source code, so don't forget to delete these lines if you ever need to run them."
      ]
    },
    {
      "cell_type": "code",
      "execution_count": 12,
      "metadata": {
        "colab": {
          "base_uri": "https://localhost:8080/"
        },
        "id": "5rYQ4SZmSebj",
        "outputId": "a9302bec-7780-4e49-b12d-060625d03b93"
      },
      "outputs": [
        {
          "output_type": "stream",
          "name": "stderr",
          "text": [
            "Installing package into ‘/usr/local/lib/R/site-library’\n",
            "(as ‘lib’ is unspecified)\n",
            "\n",
            "Installing package into ‘/usr/local/lib/R/site-library’\n",
            "(as ‘lib’ is unspecified)\n",
            "\n"
          ]
        }
      ],
      "source": [
        "# An unlocked code cell.\n",
        "install.packages(\"palmerpenguins\")\n",
        "install.packages(\"gapminder\")"
      ]
    },
    {
      "cell_type": "markdown",
      "metadata": {
        "deletable": false,
        "editable": false,
        "nbgrader": {
          "cell_type": "markdown",
          "checksum": "2311bbdab28a02138dd4f2d5848065f9",
          "grade": false,
          "grade_id": "cell-bcacce63d5eb75b0",
          "locked": true,
          "schema_version": 3,
          "solution": false,
          "task": false
        },
        "id": "Q-xTBhJUSebj"
      },
      "source": [
        "## QUESTION 1\n",
        "\n",
        "{points: 1}\n",
        "\n",
        "Create a function that allows you to compute the max minus min of the Adelie penguins body mass. A code snippet to calculate max minus min *without a function* is shown to help you - essentially, your task is to turn this code snippet into a function. Be sure to make all three objects shown below.\n",
        "\n",
        "```r\n",
        "# put into practice your knowledge of dplyr to subset the penguins dataset to only those from the Adelie species\n",
        "adelie <- penguins %>%\n",
        "    filter(FILL_THIS_IN == FILL_THIS_IN) %>%\n",
        "    drop_na()\n",
        "\n",
        "# write your function here\n",
        "max_minus_min <- function(x) FILL_THIS_IN - FILL_THIS_IN\n",
        "\n",
        "# apply your function to the Adelie penguins body mass\n",
        "answer1.0 <- max_minus_min(FILL_THIS_IN)\n",
        "```"
      ]
    },
    {
      "cell_type": "code",
      "execution_count": 8,
      "metadata": {
        "deletable": false,
        "nbgrader": {
          "cell_type": "code",
          "checksum": "2b8df34e28903792af3018977fae6fd0",
          "grade": false,
          "grade_id": "cell-87603a76f3c2d5f9",
          "locked": false,
          "schema_version": 3,
          "solution": true,
          "task": false
        },
        "colab": {
          "base_uri": "https://localhost:8080/",
          "height": 322
        },
        "id": "Csu3bTEBSebj",
        "outputId": "f9ba710a-6376-4c3c-f6e2-d4031529ccd7"
      },
      "outputs": [
        {
          "output_type": "display_data",
          "data": {
            "text/html": [
              "<table class=\"dataframe\">\n",
              "<caption>A tibble: 6 × 8</caption>\n",
              "<thead>\n",
              "\t<tr><th scope=col>species</th><th scope=col>island</th><th scope=col>bill_length_mm</th><th scope=col>bill_depth_mm</th><th scope=col>flipper_length_mm</th><th scope=col>body_mass_g</th><th scope=col>sex</th><th scope=col>year</th></tr>\n",
              "\t<tr><th scope=col>&lt;fct&gt;</th><th scope=col>&lt;fct&gt;</th><th scope=col>&lt;dbl&gt;</th><th scope=col>&lt;dbl&gt;</th><th scope=col>&lt;int&gt;</th><th scope=col>&lt;int&gt;</th><th scope=col>&lt;fct&gt;</th><th scope=col>&lt;int&gt;</th></tr>\n",
              "</thead>\n",
              "<tbody>\n",
              "\t<tr><td>Adelie</td><td>Torgersen</td><td>39.1</td><td>18.7</td><td>181</td><td>3750</td><td>male  </td><td>2007</td></tr>\n",
              "\t<tr><td>Adelie</td><td>Torgersen</td><td>39.5</td><td>17.4</td><td>186</td><td>3800</td><td>female</td><td>2007</td></tr>\n",
              "\t<tr><td>Adelie</td><td>Torgersen</td><td>40.3</td><td>18.0</td><td>195</td><td>3250</td><td>female</td><td>2007</td></tr>\n",
              "\t<tr><td>Adelie</td><td>Torgersen</td><td>36.7</td><td>19.3</td><td>193</td><td>3450</td><td>female</td><td>2007</td></tr>\n",
              "\t<tr><td>Adelie</td><td>Torgersen</td><td>39.3</td><td>20.6</td><td>190</td><td>3650</td><td>male  </td><td>2007</td></tr>\n",
              "\t<tr><td>Adelie</td><td>Torgersen</td><td>38.9</td><td>17.8</td><td>181</td><td>3625</td><td>female</td><td>2007</td></tr>\n",
              "</tbody>\n",
              "</table>\n"
            ],
            "text/markdown": "\nA tibble: 6 × 8\n\n| species &lt;fct&gt; | island &lt;fct&gt; | bill_length_mm &lt;dbl&gt; | bill_depth_mm &lt;dbl&gt; | flipper_length_mm &lt;int&gt; | body_mass_g &lt;int&gt; | sex &lt;fct&gt; | year &lt;int&gt; |\n|---|---|---|---|---|---|---|---|\n| Adelie | Torgersen | 39.1 | 18.7 | 181 | 3750 | male   | 2007 |\n| Adelie | Torgersen | 39.5 | 17.4 | 186 | 3800 | female | 2007 |\n| Adelie | Torgersen | 40.3 | 18.0 | 195 | 3250 | female | 2007 |\n| Adelie | Torgersen | 36.7 | 19.3 | 193 | 3450 | female | 2007 |\n| Adelie | Torgersen | 39.3 | 20.6 | 190 | 3650 | male   | 2007 |\n| Adelie | Torgersen | 38.9 | 17.8 | 181 | 3625 | female | 2007 |\n\n",
            "text/latex": "A tibble: 6 × 8\n\\begin{tabular}{llllllll}\n species & island & bill\\_length\\_mm & bill\\_depth\\_mm & flipper\\_length\\_mm & body\\_mass\\_g & sex & year\\\\\n <fct> & <fct> & <dbl> & <dbl> & <int> & <int> & <fct> & <int>\\\\\n\\hline\n\t Adelie & Torgersen & 39.1 & 18.7 & 181 & 3750 & male   & 2007\\\\\n\t Adelie & Torgersen & 39.5 & 17.4 & 186 & 3800 & female & 2007\\\\\n\t Adelie & Torgersen & 40.3 & 18.0 & 195 & 3250 & female & 2007\\\\\n\t Adelie & Torgersen & 36.7 & 19.3 & 193 & 3450 & female & 2007\\\\\n\t Adelie & Torgersen & 39.3 & 20.6 & 190 & 3650 & male   & 2007\\\\\n\t Adelie & Torgersen & 38.9 & 17.8 & 181 & 3625 & female & 2007\\\\\n\\end{tabular}\n",
            "text/plain": [
              "  species island    bill_length_mm bill_depth_mm flipper_length_mm body_mass_g\n",
              "1 Adelie  Torgersen 39.1           18.7          181               3750       \n",
              "2 Adelie  Torgersen 39.5           17.4          186               3800       \n",
              "3 Adelie  Torgersen 40.3           18.0          195               3250       \n",
              "4 Adelie  Torgersen 36.7           19.3          193               3450       \n",
              "5 Adelie  Torgersen 39.3           20.6          190               3650       \n",
              "6 Adelie  Torgersen 38.9           17.8          181               3625       \n",
              "  sex    year\n",
              "1 male   2007\n",
              "2 female 2007\n",
              "3 female 2007\n",
              "4 female 2007\n",
              "5 male   2007\n",
              "6 female 2007"
            ]
          },
          "metadata": {}
        },
        {
          "output_type": "stream",
          "name": "stdout",
          "text": [
            "Your final answer:"
          ]
        },
        {
          "output_type": "display_data",
          "data": {
            "text/html": [
              "1925"
            ],
            "text/markdown": "1925",
            "text/latex": "1925",
            "text/plain": [
              "[1] 1925"
            ]
          },
          "metadata": {}
        }
      ],
      "source": [
        "# your code here\n",
        "# put into practice your knowledge of dplyr to subset the penguins dataset to only those from the Adelie species\n",
        "adelie <- penguins %>%\n",
        "  filter(species == \"Adelie\") %>%\n",
        "  drop_na()\n",
        "\n",
        "# write your function here\n",
        "max_minus_min <- function(x) max(x) - min(x)\n",
        "\n",
        "# apply your function to the Adelie penguins body mass\n",
        "answer1.0 <- max_minus_min(adelie$body_mass_g)\n",
        "#fail() # No Answer - remove if you provide an answer\n",
        "head(adelie)\n",
        "cat(\"Your final answer:\")\n",
        "answer1.0"
      ]
    },
    {
      "cell_type": "code",
      "execution_count": 9,
      "metadata": {
        "deletable": false,
        "editable": false,
        "nbgrader": {
          "cell_type": "code",
          "checksum": "423a80aa5875081dad9f79693e59e09e",
          "grade": true,
          "grade_id": "cell-76deea33a2374b6f",
          "locked": true,
          "points": 1,
          "schema_version": 3,
          "solution": false,
          "task": false
        },
        "colab": {
          "base_uri": "https://localhost:8080/"
        },
        "id": "-q7PtRoFSebk",
        "outputId": "de40fc3f-c200-407f-9838-824ff37677c2"
      },
      "outputs": [
        {
          "output_type": "stream",
          "name": "stdout",
          "text": [
            "[1] \"Success!\"\n"
          ]
        }
      ],
      "source": [
        "library(digest)\n",
        "stopifnot(\"adelie should be a data frame\"= setequal(digest(paste(toString('data.frame' %in% class(adelie)), \"bb056\")), \"a39d76d6296a3037e78b6263f1d9f43e\"))\n",
        "stopifnot(\"dimensions of adelie are not correct\"= setequal(digest(paste(toString(dim(adelie)), \"bb056\")), \"a5f5671797f20e10825452e32ff073da\"))\n",
        "stopifnot(\"column names of adelie are not correct\"= setequal(digest(paste(toString(sort(colnames(adelie))), \"bb056\")), \"70b631c0e229f1668f78e1516adc8c03\"))\n",
        "stopifnot(\"types of columns in adelie are not correct\"= setequal(digest(paste(toString(sort(unlist(sapply(adelie, class)))), \"bb056\")), \"32b76af8c4c662422fe9fb58496f6f46\"))\n",
        "stopifnot(\"values in one or more numerical columns in adelie are not correct\"= setequal(digest(paste(toString(if (any(sapply(adelie, is.numeric))) sort(round(sapply(adelie[, sapply(adelie, is.numeric)], sum, na.rm = TRUE), 2)) else 0), \"bb056\")), \"b4b2079a5362cde6d86df445ff99d30e\"))\n",
        "stopifnot(\"values in one or more character columns in adelie are not correct\"= setequal(digest(paste(toString(if (any(sapply(adelie, is.character))) sum(sapply(adelie[sapply(adelie, is.character)], function(x) length(unique(x)))) else 0), \"bb056\")), \"ff650c9ac0ece25d68034ee4839b14e3\"))\n",
        "stopifnot(\"values in one or more factor columns in adelie are not correct\"= setequal(digest(paste(toString(if (any(sapply(adelie, is.factor))) sum(sapply(adelie[, sapply(adelie, is.factor)], function(col) length(unique(col)))) else 0), \"bb056\")), \"b1639959321a46bd484921a4d0bd2a22\"))\n",
        "\n",
        "stopifnot(\"type of answer1.0 is not integer\"= setequal(digest(paste(toString(class(answer1.0)), \"bb057\")), \"58d461f589d693fde7371bf55655762f\"))\n",
        "stopifnot(\"length of answer1.0 is not correct\"= setequal(digest(paste(toString(length(answer1.0)), \"bb057\")), \"10ecda7ae540547b1f228fc02a55c49b\"))\n",
        "stopifnot(\"values of answer1.0 are not correct\"= setequal(digest(paste(toString(sort(answer1.0)), \"bb057\")), \"caa27b2a9fec7bf0e5c830d8160d6cbc\"))\n",
        "\n",
        "print('Success!')"
      ]
    },
    {
      "cell_type": "markdown",
      "metadata": {
        "deletable": false,
        "editable": false,
        "nbgrader": {
          "cell_type": "markdown",
          "checksum": "e37da7f3ff71642787db10184bebd9f5",
          "grade": false,
          "grade_id": "cell-cb4a911466e26ceb",
          "locked": true,
          "schema_version": 3,
          "solution": false,
          "task": false
        },
        "id": "YslB2aPbSebk"
      },
      "source": [
        "## QUESTION 2\n",
        "\n",
        "{points: 1}\n",
        "\n",
        "\n",
        "Test your function on the life expectancy variable of the `gapminder` dataset and assign the returned value to R object `answer2.0`. Does it work?"
      ]
    },
    {
      "cell_type": "code",
      "execution_count": 10,
      "metadata": {
        "deletable": false,
        "nbgrader": {
          "cell_type": "code",
          "checksum": "aa2ea8cb0f0c07b3b0f24020854482fe",
          "grade": false,
          "grade_id": "cell-f5b58ab34c202448",
          "locked": false,
          "schema_version": 3,
          "solution": true,
          "task": false
        },
        "colab": {
          "base_uri": "https://localhost:8080/"
        },
        "id": "_1hQoDxmSebk",
        "outputId": "96af3878-03d7-41e2-ad67-36a89b0109e6"
      },
      "outputs": [
        {
          "output_type": "stream",
          "name": "stdout",
          "text": [
            "[1] 59.004\n"
          ]
        }
      ],
      "source": [
        "# your code here\n",
        "answer2.0 <- max_minus_min(gapminder$lifeExp)\n",
        "#fail() # No Answer - remove if you provide an answer\n",
        "print(answer2.0)"
      ]
    },
    {
      "cell_type": "code",
      "execution_count": 11,
      "metadata": {
        "deletable": false,
        "editable": false,
        "nbgrader": {
          "cell_type": "code",
          "checksum": "b89509cb57265dc9c0da2fce7267455e",
          "grade": true,
          "grade_id": "cell-bce7628c22c0193f",
          "locked": true,
          "points": 1,
          "schema_version": 3,
          "solution": false,
          "task": false
        },
        "colab": {
          "base_uri": "https://localhost:8080/"
        },
        "id": "KTF5mMV1Sebk",
        "outputId": "e297367c-ec71-4993-8376-88b7ec5727ed"
      },
      "outputs": [
        {
          "output_type": "stream",
          "name": "stdout",
          "text": [
            "[1] \"Success!\"\n"
          ]
        }
      ],
      "source": [
        "library(digest)\n",
        "stopifnot(\"type of answer2.0 is not numeric\"= setequal(digest(paste(toString(class(answer2.0)), \"2f9f7\")), \"a089c1e682315054f6e6ffc338d129ea\"))\n",
        "stopifnot(\"value of answer2.0 is not correct (rounded to 2 decimal places)\"= setequal(digest(paste(toString(round(answer2.0, 2)), \"2f9f7\")), \"1600bf62fa177fbf3aa6651857df1a7d\"))\n",
        "stopifnot(\"length of answer2.0 is not correct\"= setequal(digest(paste(toString(length(answer2.0)), \"2f9f7\")), \"e8c6b0f50e51743c7099a877fbc4ece5\"))\n",
        "stopifnot(\"values of answer2.0 are not correct\"= setequal(digest(paste(toString(sort(round(answer2.0, 2))), \"2f9f7\")), \"1600bf62fa177fbf3aa6651857df1a7d\"))\n",
        "\n",
        "print('Success!')"
      ]
    },
    {
      "cell_type": "markdown",
      "metadata": {
        "deletable": false,
        "editable": false,
        "nbgrader": {
          "cell_type": "markdown",
          "checksum": "b77620cf2f6c7afcf2362bd0b3ed977d",
          "grade": false,
          "grade_id": "cell-b8a402fb6bb3f999",
          "locked": true,
          "schema_version": 3,
          "solution": false,
          "task": false
        },
        "id": "0NdhiDavSebk"
      },
      "source": [
        "## QUESTION 3\n",
        "\n",
        "{points: 1}\n",
        "\n",
        "\n",
        "The function shouldn't work with all inputs, such as the following examples:\n",
        "\n",
        "```\n",
        "max_minus_min(adelie)\n",
        "max_minus_min(penguins$species)\n",
        "max_minus_min(\"stat545 is great\")\n",
        "```\n",
        "\n",
        "We expect errors for these, because it wouldn't make sense to compute the max minus min in any of those arguments.\n",
        "\n",
        "However, R will often try and make sense of your function... and that is not always a good thing. If you run the code below, you will see that the function is giving us an output for arguments that do not make any sense."
      ]
    },
    {
      "cell_type": "code",
      "execution_count": 12,
      "metadata": {
        "deletable": false,
        "editable": false,
        "nbgrader": {
          "cell_type": "code",
          "checksum": "5db53ba48dc7d8c256f32919a87fe4f5",
          "grade": false,
          "grade_id": "cell-163c191696c36e5f",
          "locked": true,
          "schema_version": 3,
          "solution": false,
          "task": false
        },
        "colab": {
          "base_uri": "https://localhost:8080/",
          "height": 52
        },
        "id": "a862Fj2uSebk",
        "outputId": "a3ae0573-d692-4094-c606-5650400d69af"
      },
      "outputs": [
        {
          "output_type": "display_data",
          "data": {
            "text/html": [
              "1318683072.401"
            ],
            "text/markdown": "1318683072.401",
            "text/latex": "1318683072.401",
            "text/plain": [
              "[1] 1318683072"
            ]
          },
          "metadata": {}
        },
        {
          "output_type": "display_data",
          "data": {
            "text/html": [
              "1"
            ],
            "text/markdown": "1",
            "text/latex": "1",
            "text/plain": [
              "[1] 1"
            ]
          },
          "metadata": {}
        }
      ],
      "source": [
        "max_minus_min(gapminder[c('lifeExp', 'gdpPercap', 'pop')])\n",
        "max_minus_min(c(TRUE, FALSE, TRUE))"
      ]
    },
    {
      "cell_type": "markdown",
      "metadata": {
        "deletable": false,
        "editable": false,
        "nbgrader": {
          "cell_type": "markdown",
          "checksum": "3e32181c255d808b7a3975271ccf1ddd",
          "grade": false,
          "grade_id": "cell-630d1c2f6690c65e",
          "locked": true,
          "schema_version": 3,
          "solution": false,
          "task": false
        },
        "id": "PhzlQr-OSebl"
      },
      "source": [
        "To avoid this from happening, rewrite the `max_minus_min` function to include a `stopifnot()`. Think of what should be the argument of `stopifnot()` to solve this issue - in other words, what should be the object class that the function `max_minus_min` should accept (e.g. a dataframe, a character, a number...)?\n",
        "\n",
        "```r\n",
        "answer3.0 <- function(x) {\n",
        "  stopifnot(FILL_THIS_IN)\n",
        "  max(x) - min(x)\n",
        "}\n",
        "```"
      ]
    },
    {
      "cell_type": "code",
      "execution_count": 13,
      "metadata": {
        "deletable": false,
        "nbgrader": {
          "cell_type": "code",
          "checksum": "c805d865850db5a2fd20572145cdf0e4",
          "grade": false,
          "grade_id": "cell-dd463f2745b2f285",
          "locked": false,
          "schema_version": 3,
          "solution": true,
          "task": false
        },
        "id": "1VmY_beuSebl"
      },
      "outputs": [],
      "source": [
        "# your code here\n",
        "answer3.0 <- function(x) {\n",
        "  stopifnot(is.numeric(x))\n",
        "  max(x) - min(x)\n",
        "}\n",
        "\n",
        "#fail() # No Answer - remove if you provide an answer"
      ]
    },
    {
      "cell_type": "code",
      "execution_count": 14,
      "metadata": {
        "deletable": false,
        "editable": false,
        "nbgrader": {
          "cell_type": "code",
          "checksum": "b6653e6f97c0f4aea2685a125da23c77",
          "grade": true,
          "grade_id": "cell-c4f721c6b2b4cb91",
          "locked": true,
          "points": 1,
          "schema_version": 3,
          "solution": false,
          "task": false
        },
        "colab": {
          "base_uri": "https://localhost:8080/"
        },
        "id": "d4b58R1iSebl",
        "outputId": "2b5b060f-9d5f-40fd-c75f-263b4ba37a6e"
      },
      "outputs": [
        {
          "output_type": "stream",
          "name": "stdout",
          "text": [
            "\u001b[32mTest passed\u001b[39m 🥇\n",
            "\u001b[32mTest passed\u001b[39m 😀\n",
            "\u001b[32mTest passed\u001b[39m 🎉\n",
            "\u001b[32mTest passed\u001b[39m 😀\n",
            "[1] \"Success!\"\n"
          ]
        }
      ],
      "source": [
        "library(digest)\n",
        "stopifnot(\"type of (answer3.0(c(2,5,7)) == 5) is not logical\"= setequal(digest(paste(toString(class((answer3.0(c(2,5,7)) == 5))), \"a6be9\")), \"b70935854e84423ab528f01299627852\"))\n",
        "stopifnot(\"logical value of (answer3.0(c(2,5,7)) == 5) is not correct\"= setequal(digest(paste(toString((answer3.0(c(2,5,7)) == 5)), \"a6be9\")), \"6143ecb0dd777b3745092fb562c025f2\"))\n",
        "\n",
        "stopifnot(\"type of test_that(\\\"Question 3\\\", {expect_error(answer3.0(c('4', '20', '12')))}) == TRUE is not logical\"= setequal(digest(paste(toString(class(test_that(\"Question 3\", {expect_error(answer3.0(c('4', '20', '12')))}) == TRUE)), \"a6bea\")), \"18f4f9c6157cd90435494c94211f887f\"))\n",
        "stopifnot(\"logical value of test_that(\\\"Question 3\\\", {expect_error(answer3.0(c('4', '20', '12')))}) == TRUE is not correct\"= setequal(digest(paste(toString(test_that(\"Question 3\", {expect_error(answer3.0(c('4', '20', '12')))}) == TRUE), \"a6bea\")), \"b8f3e1c04815dbb4fd8b4393cc7442a0\"))\n",
        "\n",
        "stopifnot(\"type of test_that(\\\"Question 3\\\", {expect_error(answer3.0(list(1:5)))}) == TRUE is not logical\"= setequal(digest(paste(toString(class(test_that(\"Question 3\", {expect_error(answer3.0(list(1:5)))}) == TRUE)), \"a6beb\")), \"107ebeb13b6291eb0a099cd68be42c92\"))\n",
        "stopifnot(\"logical value of test_that(\\\"Question 3\\\", {expect_error(answer3.0(list(1:5)))}) == TRUE is not correct\"= setequal(digest(paste(toString(test_that(\"Question 3\", {expect_error(answer3.0(list(1:5)))}) == TRUE), \"a6beb\")), \"c12e6d768323331f16aec886b6e5b220\"))\n",
        "\n",
        "print('Success!')"
      ]
    },
    {
      "cell_type": "markdown",
      "metadata": {
        "deletable": false,
        "editable": false,
        "nbgrader": {
          "cell_type": "markdown",
          "checksum": "fd44df58a4dafd38ea356cce52c30afd",
          "grade": false,
          "grade_id": "cell-d083a08f5ad1cc6e",
          "locked": true,
          "schema_version": 3,
          "solution": false,
          "task": false
        },
        "id": "hdEICeVdSebl"
      },
      "source": [
        "## QUESTION 4\n",
        "\n",
        "{points: 1}\n",
        "\n",
        "\n",
        "In the following chunk, I created a function to convert fahrenheit to celsius. When I test it with arguments that theoretically shouldn't give an output, it appears to have the same problem as our original `max_minus_min()` function."
      ]
    },
    {
      "cell_type": "code",
      "execution_count": 14,
      "metadata": {
        "deletable": false,
        "editable": false,
        "nbgrader": {
          "cell_type": "code",
          "checksum": "3b27d88a04e1254fcf747de7fd4b9a30",
          "grade": false,
          "grade_id": "cell-b101dbc844542503",
          "locked": true,
          "schema_version": 3,
          "solution": false,
          "task": false
        },
        "id": "KnswF1BZSebl"
      },
      "outputs": [],
      "source": [
        "# here I write the function\n",
        "fahrenheit_to_celsius <- function(temp_F) {\n",
        "  (temp_F - 32) * 5 / 9\n",
        "}"
      ]
    },
    {
      "cell_type": "code",
      "execution_count": 15,
      "metadata": {
        "deletable": false,
        "editable": false,
        "nbgrader": {
          "cell_type": "code",
          "checksum": "757ab31240f8b684db7c8cee81ee7e48",
          "grade": false,
          "grade_id": "cell-6ba3a71b7e8416aa",
          "locked": true,
          "schema_version": 3,
          "solution": false,
          "task": false
        },
        "colab": {
          "base_uri": "https://localhost:8080/",
          "height": 34
        },
        "id": "woh4QZDYSebl",
        "outputId": "5191c122-af1c-4c42-a0c9-9c9a3112dcbc"
      },
      "outputs": [
        {
          "output_type": "display_data",
          "data": {
            "text/html": [
              "<style>\n",
              ".list-inline {list-style: none; margin:0; padding: 0}\n",
              ".list-inline>li {display: inline-block}\n",
              ".list-inline>li:not(:last-child)::after {content: \"\\00b7\"; padding: 0 .5ex}\n",
              "</style>\n",
              "<ol class=list-inline><li>-17.2222222222222</li><li>-17.7777777777778</li><li>-17.7777777777778</li><li>-17.2222222222222</li></ol>\n"
            ],
            "text/markdown": "1. -17.2222222222222\n2. -17.7777777777778\n3. -17.7777777777778\n4. -17.2222222222222\n\n\n",
            "text/latex": "\\begin{enumerate*}\n\\item -17.2222222222222\n\\item -17.7777777777778\n\\item -17.7777777777778\n\\item -17.2222222222222\n\\end{enumerate*}\n",
            "text/plain": [
              "[1] -17.22222 -17.77778 -17.77778 -17.22222"
            ]
          },
          "metadata": {}
        }
      ],
      "source": [
        "# here I test it on something that theoretically should not work.. but does\n",
        "fahrenheit_to_celsius(c(TRUE, FALSE, FALSE, TRUE))"
      ]
    },
    {
      "cell_type": "markdown",
      "metadata": {
        "deletable": false,
        "editable": false,
        "nbgrader": {
          "cell_type": "markdown",
          "checksum": "b3582e3e0a105870e093ac0280f161a6",
          "grade": false,
          "grade_id": "cell-92b59ed8a017de13",
          "locked": true,
          "schema_version": 3,
          "solution": false,
          "task": false
        },
        "id": "i9khSpN4Sebl"
      },
      "source": [
        "Rewrite the `fahrenheit_to_celsius` function using `if()` and `stop()` instead of `stopifnot()`. This allows you to write your own (more informative) error message.\n",
        "\n",
        "*Hint:* Remember that you are trying to stop the function from working **if the argument is not numeric.**\n",
        "\n",
        "```r\n",
        "answer4.0 <- function(temp_F) {\n",
        "  if(!FILL_THIS_IN(FILL_THIS_IN)) {\n",
        "    stop('I am so sorry, but this function only works for numeric input!\\n',\n",
        "         'You have provided an object of class: ', class(FILL_THIS_IN)[1])\n",
        "  }\n",
        "  temp_C <- (temp_F - 32) * 5 / 9\n",
        "  return(FILL_THIS_IN)\n",
        "}\n",
        "```"
      ]
    },
    {
      "cell_type": "code",
      "execution_count": 16,
      "metadata": {
        "deletable": false,
        "nbgrader": {
          "cell_type": "code",
          "checksum": "96525dd30c69ab812b70394e151fbb68",
          "grade": false,
          "grade_id": "cell-a9fd920afd588b68",
          "locked": false,
          "schema_version": 3,
          "solution": true,
          "task": false
        },
        "id": "CG6OwWiVSebl"
      },
      "outputs": [],
      "source": [
        "# your code here\n",
        "answer4.0 <- function(temp_F) {\n",
        "  if(!is.numeric(temp_F)) {\n",
        "    stop('I am so sorry, but this function only works for numeric input!\\n',\n",
        "         'You have provided an object of class: ', class(temp_F)[1])\n",
        "  }\n",
        "  temp_C <- (temp_F - 32) * 5 / 9\n",
        "  return(temp_C)\n",
        "}\n",
        "\n",
        "#fail() # No Answer - remove if you provide an answer"
      ]
    },
    {
      "cell_type": "code",
      "execution_count": 17,
      "metadata": {
        "deletable": false,
        "editable": false,
        "nbgrader": {
          "cell_type": "code",
          "checksum": "d0e05dd364c2f7b4c32f6432ef9f3970",
          "grade": true,
          "grade_id": "cell-bd7e981ed966e789",
          "locked": true,
          "points": 1,
          "schema_version": 3,
          "solution": false,
          "task": false
        },
        "colab": {
          "base_uri": "https://localhost:8080/"
        },
        "id": "L6Irc2vTSebl",
        "outputId": "df8602d9-d37b-494e-8a7b-ab6ab82662d1"
      },
      "outputs": [
        {
          "output_type": "stream",
          "name": "stdout",
          "text": [
            "\u001b[32mTest passed\u001b[39m 😀\n",
            "\u001b[32mTest passed\u001b[39m 😀\n",
            "\u001b[32mTest passed\u001b[39m 🎊\n",
            "\u001b[32mTest passed\u001b[39m 🥳\n",
            "[1] \"Success!\"\n"
          ]
        }
      ],
      "source": [
        "library(digest)\n",
        "stopifnot(\"type of (answer4.0(90) == 32.22222) is not logical\"= setequal(digest(paste(toString(class((answer4.0(90) == 32.22222))), \"dc5fc\")), \"95d1d5ce954dff8b7b80651538fcb559\"))\n",
        "stopifnot(\"logical value of (answer4.0(90) == 32.22222) is not correct\"= setequal(digest(paste(toString((answer4.0(90) == 32.22222)), \"dc5fc\")), \"d90a7babb2a1decedb83deb7ebca1bb7\"))\n",
        "\n",
        "stopifnot(\"type of (answer4.0(c(100, 30)) == c(37.777778, -1.111111)) is not logical\"= setequal(digest(paste(toString(class((answer4.0(c(100, 30)) == c(37.777778, -1.111111)))), \"dc5fd\")), \"60ab00c1814bcda50630930f326243aa\"))\n",
        "stopifnot(\"logical value of (answer4.0(c(100, 30)) == c(37.777778, -1.111111)) is not correct\"= setequal(digest(paste(toString((answer4.0(c(100, 30)) == c(37.777778, -1.111111))), \"dc5fd\")), \"47b5e3f3404f346c9e0bfb1ed539f1af\"))\n",
        "\n",
        "stopifnot(\"type of (test_that(\\\"Question 4\\\", {expect_error(answer4.0(\\\"90\\\"))}) == TRUE) is not logical\"= setequal(digest(paste(toString(class((test_that(\"Question 4\", {expect_error(answer4.0(\"90\"))}) == TRUE))), \"dc5fe\")), \"09f415a5e9061005186d9a5a4c049ada\"))\n",
        "stopifnot(\"logical value of (test_that(\\\"Question 4\\\", {expect_error(answer4.0(\\\"90\\\"))}) == TRUE) is not correct\"= setequal(digest(paste(toString((test_that(\"Question 4\", {expect_error(answer4.0(\"90\"))}) == TRUE)), \"dc5fe\")), \"dada4aa4ef670a3737ef35fe31696429\"))\n",
        "\n",
        "stopifnot(\"type of (test_that(\\\"Question 4\\\", {expect_error(answer4.0(list(1:5)))}) == TRUE) is not logical\"= setequal(digest(paste(toString(class((test_that(\"Question 4\", {expect_error(answer4.0(list(1:5)))}) == TRUE))), \"dc5ff\")), \"1756afc145c7bb3c76b32796d1e3d3e1\"))\n",
        "stopifnot(\"logical value of (test_that(\\\"Question 4\\\", {expect_error(answer4.0(list(1:5)))}) == TRUE) is not correct\"= setequal(digest(paste(toString((test_that(\"Question 4\", {expect_error(answer4.0(list(1:5)))}) == TRUE)), \"dc5ff\")), \"d78c20e95761a19c2f58c031f501f504\"))\n",
        "\n",
        "print('Success!')"
      ]
    },
    {
      "cell_type": "markdown",
      "metadata": {
        "deletable": false,
        "editable": false,
        "nbgrader": {
          "cell_type": "markdown",
          "checksum": "1c82dbe7c654ec82288fe87967e15280",
          "grade": false,
          "grade_id": "cell-ae8804db6997b30d",
          "locked": true,
          "schema_version": 3,
          "solution": false,
          "task": false
        },
        "id": "3nix3_d-Sebl"
      },
      "source": [
        "## QUESTION 5\n",
        "\n",
        "{points: 1}\n",
        "\n",
        "\n",
        "Write a function that takes 2 arguments (name them `x` and `y`), raises the first argument to the power of the second one, and outputs a string with a message that indicates what the output of the function is. Use `stopifnot()` so that the function *only* takes numeric arguments."
      ]
    },
    {
      "cell_type": "markdown",
      "metadata": {
        "deletable": false,
        "editable": false,
        "nbgrader": {
          "cell_type": "markdown",
          "checksum": "3a7dbb7676e3fe3317a1cf0628c2657d",
          "grade": false,
          "grade_id": "cell-9cd9dead5f850e93",
          "locked": true,
          "schema_version": 3,
          "solution": false,
          "task": false
        },
        "id": "T65R7q3VSebl"
      },
      "source": [
        "```r\n",
        "# function to write text output of x raised to the power y.\n",
        "answer5.0 <- function(FILL_THIS_IN, FILL_THIS_IN) {\n",
        "    stopifnot(FILL_THIS_IN && FILL_THIS_IN)\n",
        "    result <- FILL_THIS_IN\n",
        "    paste(FILL_THIS_IN, \"raised to the power of\", FILL_THIS_IN, \"is\", FILL_THIS_IN)\n",
        "}\n",
        "```"
      ]
    },
    {
      "cell_type": "code",
      "execution_count": 18,
      "metadata": {
        "deletable": false,
        "nbgrader": {
          "cell_type": "code",
          "checksum": "5b3c1e749d07c6af7d1649fa5a003591",
          "grade": false,
          "grade_id": "cell-cccfed813998b291",
          "locked": false,
          "schema_version": 3,
          "solution": true,
          "task": false
        },
        "colab": {
          "base_uri": "https://localhost:8080/",
          "height": 34
        },
        "id": "c_SfDFxKSebl",
        "outputId": "0606f188-1c0e-4880-a1aa-e9c0c3f88213"
      },
      "outputs": [
        {
          "output_type": "display_data",
          "data": {
            "text/html": [
              "'3 raised to the power of 4 is 81'"
            ],
            "text/markdown": "'3 raised to the power of 4 is 81'",
            "text/latex": "'3 raised to the power of 4 is 81'",
            "text/plain": [
              "[1] \"3 raised to the power of 4 is 81\""
            ]
          },
          "metadata": {}
        }
      ],
      "source": [
        "# your code here\n",
        "answer5.0 <- function(x, y) {\n",
        "  stopifnot(is.numeric(x) && is.numeric(y))\n",
        "  result <- x ^ y\n",
        "  paste(x, \"raised to the power of\", y, \"is\", result)\n",
        "}\n",
        "#fail() # No Answer - remove if you provide an answer\n",
        "answer5.0(3, 4)"
      ]
    },
    {
      "cell_type": "code",
      "execution_count": 19,
      "metadata": {
        "deletable": false,
        "editable": false,
        "nbgrader": {
          "cell_type": "code",
          "checksum": "02151c54d29271a37cefbb8d188fb060",
          "grade": true,
          "grade_id": "cell-d812b59d2daad9c2",
          "locked": true,
          "points": 1,
          "schema_version": 3,
          "solution": false,
          "task": false
        },
        "colab": {
          "base_uri": "https://localhost:8080/"
        },
        "id": "K6PBlCquSebm",
        "outputId": "b0a231c8-cd74-4060-914f-63992643d2f6"
      },
      "outputs": [
        {
          "output_type": "stream",
          "name": "stdout",
          "text": [
            "\u001b[32mTest passed\u001b[39m 🥇\n",
            "\u001b[32mTest passed\u001b[39m 🎊\n",
            "[1] \"Success!\"\n"
          ]
        }
      ],
      "source": [
        "library(digest)\n",
        "stopifnot(\"type of answer5.0(3, 4) == 81 is not logical\"= setequal(digest(paste(toString(class(answer5.0(3, 4) == 81)), \"b96d5\")), \"73c923260df1e3ae69d1760f8006a232\"))\n",
        "stopifnot(\"logical value of answer5.0(3, 4) == 81 is not correct\"= setequal(digest(paste(toString(answer5.0(3, 4) == 81), \"b96d5\")), \"307983eab47e6068e18e633c7e2aa010\"))\n",
        "\n",
        "stopifnot(\"type of test_that(\\\"Question 5\\\", {expect_error(answer5.0(40, \\\"90\\\"))}) == TRUE is not logical\"= setequal(digest(paste(toString(class(test_that(\"Question 5\", {expect_error(answer5.0(40, \"90\"))}) == TRUE)), \"b96d6\")), \"dc97cfc323a6855fdd9ab8dc34db52d6\"))\n",
        "stopifnot(\"logical value of test_that(\\\"Question 5\\\", {expect_error(answer5.0(40, \\\"90\\\"))}) == TRUE is not correct\"= setequal(digest(paste(toString(test_that(\"Question 5\", {expect_error(answer5.0(40, \"90\"))}) == TRUE), \"b96d6\")), \"44282d2f20b640a2be1c023fa53c27ef\"))\n",
        "\n",
        "print('Success!')"
      ]
    },
    {
      "cell_type": "markdown",
      "metadata": {
        "deletable": false,
        "editable": false,
        "nbgrader": {
          "cell_type": "markdown",
          "checksum": "33005e0944d98ffad3f0825f8bad0000",
          "grade": false,
          "grade_id": "cell-7005bc21c9703ebd",
          "locked": true,
          "schema_version": 3,
          "solution": false,
          "task": false
        },
        "id": "tCqChTnoSebm"
      },
      "source": [
        "## QUESTION 6\n",
        "\n",
        "{points: 1}\n",
        "\n",
        "\n",
        "Use `expect_equal()` to check that manually calculating the max minus min of the bill length of all penguins in the `penguins` dataset yields the same result as using a function.\n",
        "\n",
        "Run the following chunk of code first."
      ]
    },
    {
      "cell_type": "code",
      "execution_count": 20,
      "metadata": {
        "deletable": false,
        "editable": false,
        "nbgrader": {
          "cell_type": "code",
          "checksum": "eecc89b71ee8f9b15dd617306475dfe7",
          "grade": false,
          "grade_id": "cell-383f8acc4706a9b9",
          "locked": true,
          "schema_version": 3,
          "solution": false,
          "task": false
        },
        "colab": {
          "base_uri": "https://localhost:8080/",
          "height": 34
        },
        "id": "GAiOhkB1Sebm",
        "outputId": "98753d88-9e82-4659-ee26-d9b94ab4f204"
      },
      "outputs": [
        {
          "output_type": "display_data",
          "data": {
            "text/html": [
              "27.5"
            ],
            "text/markdown": "27.5",
            "text/latex": "27.5",
            "text/plain": [
              "[1] 27.5"
            ]
          },
          "metadata": {}
        }
      ],
      "source": [
        "x <- max(penguins$bill_length_mm, na.rm = TRUE)\n",
        "y <- min(penguins$bill_length_mm, na.rm = TRUE)\n",
        "x - y"
      ]
    },
    {
      "cell_type": "markdown",
      "metadata": {
        "deletable": false,
        "editable": false,
        "nbgrader": {
          "cell_type": "markdown",
          "checksum": "c7ab0f49ce98067e567345ec17e68dcb",
          "grade": false,
          "grade_id": "cell-b37d00bcab16b017",
          "locked": true,
          "schema_version": 3,
          "solution": false,
          "task": false
        },
        "id": "cNbgBTceSebm"
      },
      "source": [
        "I have written a slightly tweaked version of the `max_minus_min()` function created in **Q1** that allows the user to control the behaviours around NAs. This is important - without removing NAs, if you try running `max_minus_min()` with `penguins$bill_length_mm` as an argument, the output will be NA."
      ]
    },
    {
      "cell_type": "code",
      "execution_count": 21,
      "metadata": {
        "deletable": false,
        "editable": false,
        "nbgrader": {
          "cell_type": "code",
          "checksum": "b3dd4729e9a10d0fd0625096cc481ca5",
          "grade": false,
          "grade_id": "cell-eaf5b985bb719eb9",
          "locked": true,
          "schema_version": 3,
          "solution": false,
          "task": false
        },
        "id": "50nUpTYnSebm"
      },
      "outputs": [],
      "source": [
        "# new function\n",
        "max_minus_min2 <- function(x, na.rm = TRUE) {\n",
        "  if(!is.numeric(x)) {\n",
        "    stop('I am so sorry, but this function only works for numeric input!\\n',\n",
        "         'You have provided an object of class: ', class(x)[1])\n",
        "  }\n",
        "  max(x, na.rm = na.rm) - min(x, na.rm = na.rm)\n",
        "}"
      ]
    },
    {
      "cell_type": "markdown",
      "metadata": {
        "deletable": false,
        "editable": false,
        "nbgrader": {
          "cell_type": "markdown",
          "checksum": "71ad2c7bd9b4dbb887baf8377dd29852",
          "grade": false,
          "grade_id": "cell-cbf1064e3c65e120",
          "locked": true,
          "schema_version": 3,
          "solution": false,
          "task": false
        },
        "id": "OHN4fXt6Sebm"
      },
      "source": [
        "Now, check that the output of this function when calculating the max minus min of the bill length across all penguins in the `penguins` dataset is the same as calculating it \"manually\" as we did above - in other words, that the function output **equals** 27.5.\n",
        "\n",
        "__NOTE__: We're _only_ getting you to store the output of `expect_equal()` in variable `answer6.0` so that we can run the autograder! Otherwise, you'd only ever run it on its own, without assigning it to anything.\n",
        "\n",
        "_Psst... take a look at the test cells in these worksheets. Notice a similarity?_\n",
        "\n",
        "```r\n",
        "answer6.0 <- expect_equal(FILL_THIS_IN, FILL_THIS_IN(FILL_THIS_IN$FILL_THIS_IN, na.rm = TRUE))\n",
        "```"
      ]
    },
    {
      "cell_type": "code",
      "execution_count": 24,
      "metadata": {
        "deletable": false,
        "nbgrader": {
          "cell_type": "code",
          "checksum": "2cbb571ec512286d0159a41d3e25267a",
          "grade": false,
          "grade_id": "cell-e175cc0e06687492",
          "locked": false,
          "schema_version": 3,
          "solution": true,
          "task": false
        },
        "colab": {
          "base_uri": "https://localhost:8080/",
          "height": 34
        },
        "id": "PX7puwkDSebm",
        "outputId": "bdde8edb-7807-4cd7-c02e-919a239eecb0"
      },
      "outputs": [
        {
          "output_type": "display_data",
          "data": {
            "text/html": [
              "27.5"
            ],
            "text/markdown": "27.5",
            "text/latex": "27.5",
            "text/plain": [
              "[1] 27.5"
            ]
          },
          "metadata": {}
        }
      ],
      "source": [
        "# your code here\n",
        "answer6.0 <- expect_equal(x - y, max_minus_min2(penguins$bill_length_mm, na.rm = TRUE))\n",
        "\n",
        "#fail() # No Answer - remove if you provide an answer\n",
        "answer6.0"
      ]
    },
    {
      "cell_type": "code",
      "execution_count": 25,
      "metadata": {
        "deletable": false,
        "editable": false,
        "nbgrader": {
          "cell_type": "code",
          "checksum": "66c60e3b2cd7904d929d13c78462dd40",
          "grade": true,
          "grade_id": "cell-852745acab813c93",
          "locked": true,
          "points": 1,
          "schema_version": 3,
          "solution": false,
          "task": false
        },
        "colab": {
          "base_uri": "https://localhost:8080/"
        },
        "id": "xNNQPTY5Sebm",
        "outputId": "be8cbf34-a07d-446b-9387-c2f6f3a287ec"
      },
      "outputs": [
        {
          "output_type": "stream",
          "name": "stdout",
          "text": [
            "[1] \"Success!\"\n"
          ]
        }
      ],
      "source": [
        "library(digest)\n",
        "stopifnot(\"type of answer6.0 is not numeric\"= setequal(digest(paste(toString(class(answer6.0)), \"888d9\")), \"bff4a85aff4a2e704b34abb36aa27e41\"))\n",
        "stopifnot(\"value of answer6.0 is not correct (rounded to 2 decimal places)\"= setequal(digest(paste(toString(round(answer6.0, 2)), \"888d9\")), \"f0bd19551a9e918fe2ce2bea16dc4e91\"))\n",
        "stopifnot(\"length of answer6.0 is not correct\"= setequal(digest(paste(toString(length(answer6.0)), \"888d9\")), \"0201edfc71ee6793de8a1a59462b1d53\"))\n",
        "stopifnot(\"values of answer6.0 are not correct\"= setequal(digest(paste(toString(sort(round(answer6.0, 2))), \"888d9\")), \"f0bd19551a9e918fe2ce2bea16dc4e91\"))\n",
        "\n",
        "print('Success!')"
      ]
    },
    {
      "cell_type": "markdown",
      "metadata": {
        "deletable": false,
        "editable": false,
        "nbgrader": {
          "cell_type": "markdown",
          "checksum": "7b4a2e40d11577c61b7231af316d1de8",
          "grade": false,
          "grade_id": "cell-c9eb8afbacc927c2",
          "locked": true,
          "schema_version": 3,
          "solution": false,
          "task": false
        },
        "id": "Yr9ufckJSebm"
      },
      "source": [
        "There are other `expect_` functions such as `expect_identical()`, `expect_match()` or `expect_output()` that you can look into further [here](https://r-pkgs.org/tests.html#test-structure)."
      ]
    },
    {
      "cell_type": "markdown",
      "metadata": {
        "deletable": false,
        "editable": false,
        "nbgrader": {
          "cell_type": "markdown",
          "checksum": "cea40af09a8f604fd0967f0cb38c059a",
          "grade": false,
          "grade_id": "cell-de5e8aafd7ed7bbd",
          "locked": true,
          "schema_version": 3,
          "solution": false,
          "task": false
        },
        "id": "IWXqpW7YSebm"
      },
      "source": [
        "## QUESTION 7\n",
        "\n",
        "{points: 1}\n",
        "\n",
        "\n",
        "Let's try combining a different expectation function and `test_that()` with a very easy example. We start by writing a very simple function that returns the string \"Hello world, my name is\" + your name."
      ]
    },
    {
      "cell_type": "code",
      "execution_count": 26,
      "metadata": {
        "deletable": false,
        "editable": false,
        "nbgrader": {
          "cell_type": "code",
          "checksum": "8e2ab05b729787c122ed185bd7e49b88",
          "grade": false,
          "grade_id": "cell-e1471a691fd2d1bb",
          "locked": true,
          "schema_version": 3,
          "solution": false,
          "task": false
        },
        "id": "C-7aYhlASebm"
      },
      "outputs": [],
      "source": [
        "hello_world <- function(x) {\n",
        "    stopifnot(is.character(x)) # we want x to be a character\n",
        "    paste('Hello world, my name is', x)\n",
        "}"
      ]
    },
    {
      "cell_type": "markdown",
      "metadata": {
        "deletable": false,
        "editable": false,
        "nbgrader": {
          "cell_type": "markdown",
          "checksum": "5588fad9619b8c97f25bd1e0eb3e8445",
          "grade": false,
          "grade_id": "cell-4b9a5ac3822d15a8",
          "locked": true,
          "schema_version": 3,
          "solution": false,
          "task": false
        },
        "id": "UjxAgSJKSebm"
      },
      "source": [
        "In the next code cell, we'll run `hello_world()` with \"Julie Payette\" as an argument, just to see the output!"
      ]
    },
    {
      "cell_type": "code",
      "execution_count": 27,
      "metadata": {
        "deletable": false,
        "editable": false,
        "nbgrader": {
          "cell_type": "code",
          "checksum": "446711188810651063ff8f10e8278e76",
          "grade": false,
          "grade_id": "cell-59d7decdaf647c97",
          "locked": true,
          "schema_version": 3,
          "solution": false,
          "task": false
        },
        "colab": {
          "base_uri": "https://localhost:8080/",
          "height": 34
        },
        "id": "HOsbu1q5Sebm",
        "outputId": "991b53df-dff0-44d2-f3ce-aaf65c954539"
      },
      "outputs": [
        {
          "output_type": "display_data",
          "data": {
            "text/html": [
              "'Hello world, my name is Julie Payette'"
            ],
            "text/markdown": "'Hello world, my name is Julie Payette'",
            "text/latex": "'Hello world, my name is Julie Payette'",
            "text/plain": [
              "[1] \"Hello world, my name is Julie Payette\""
            ]
          },
          "metadata": {}
        }
      ],
      "source": [
        "hello_world(\"Julie Payette\")"
      ]
    },
    {
      "cell_type": "markdown",
      "metadata": {
        "deletable": false,
        "editable": false,
        "nbgrader": {
          "cell_type": "markdown",
          "checksum": "cbf2ff1ffa8245dbb09e0371bbac03e2",
          "grade": false,
          "grade_id": "cell-5f61dc5783562620",
          "locked": true,
          "schema_version": 3,
          "solution": false,
          "task": false
        },
        "id": "Lab6exx_Sebn"
      },
      "source": [
        "Great! Now, let's simply test that the output of `hello_world()` with _your_ name as an argument matches the character vector **'Hello world, my name is'**. I have added an example of how `expect_match()` works to help you write your test.\n",
        "\n",
        "```\n",
        "eggplants <- \"Eggplants are purple\"\n",
        "expect_match(eggplants, \"Eggplants\") # works\n",
        "expect_match(eggplants, \"purple\") # works\n",
        "\n",
        "# your turn\n",
        "answer7.0 <- test_that(\"returns hello world + your name string\", {\n",
        "    expect_match(FILL_THIS_IN(FILL_THIS_IN), FILL_THIS_IN)\n",
        "})\n",
        "```"
      ]
    },
    {
      "cell_type": "code",
      "execution_count": 28,
      "metadata": {
        "deletable": false,
        "nbgrader": {
          "cell_type": "code",
          "checksum": "c68a159a8355f3224fbda4522a0ec4c3",
          "grade": false,
          "grade_id": "cell-b539fd87839f379e",
          "locked": false,
          "schema_version": 3,
          "solution": true,
          "task": false
        },
        "colab": {
          "base_uri": "https://localhost:8080/"
        },
        "id": "6gZiBEiKSebv",
        "outputId": "626385ad-112d-45a2-e40d-c35288b4edf2"
      },
      "outputs": [
        {
          "output_type": "stream",
          "name": "stdout",
          "text": [
            "\u001b[32mTest passed\u001b[39m 🎊\n"
          ]
        }
      ],
      "source": [
        "# your code here\n",
        "answer7.0 <- test_that(\"returns hello world + your name string\", {\n",
        "  expect_match(hello_world(\"Ricky Zng\"), \"Hello world, my name is\")\n",
        "})\n",
        "\n",
        "#fail() # No Answer - remove if you provide an answer"
      ]
    },
    {
      "cell_type": "code",
      "execution_count": 29,
      "metadata": {
        "deletable": false,
        "editable": false,
        "nbgrader": {
          "cell_type": "code",
          "checksum": "8db0771926937e66528906ca2c686cc6",
          "grade": true,
          "grade_id": "cell-eed9a46d9c5ae258",
          "locked": true,
          "points": 1,
          "schema_version": 3,
          "solution": false,
          "task": false
        },
        "colab": {
          "base_uri": "https://localhost:8080/"
        },
        "id": "G1QbS4mfSebv",
        "outputId": "ce9035cf-985e-440d-c8a4-64f6776ec4f2"
      },
      "outputs": [
        {
          "output_type": "stream",
          "name": "stdout",
          "text": [
            "[1] \"Success!\"\n"
          ]
        }
      ],
      "source": [
        "library(digest)\n",
        "stopifnot(\"type of answer7.0 is not logical\"= setequal(digest(paste(toString(class(answer7.0)), \"854ab\")), \"bd2ffb22ebe852fe1a541cac6e23b33d\"))\n",
        "stopifnot(\"logical value of answer7.0 is not correct\"= setequal(digest(paste(toString(answer7.0), \"854ab\")), \"1487489f0c1411790cdab002886898b1\"))\n",
        "\n",
        "print('Success!')"
      ]
    },
    {
      "cell_type": "markdown",
      "metadata": {
        "deletable": false,
        "editable": false,
        "nbgrader": {
          "cell_type": "markdown",
          "checksum": "25480bb8307331ff7288a5786b26ee89",
          "grade": false,
          "grade_id": "cell-95fbf3199a22b139",
          "locked": true,
          "schema_version": 3,
          "solution": false,
          "task": false
        },
        "id": "5zIBaZrsSebv"
      },
      "source": [
        "## QUESTION 8\n",
        "\n",
        "{points: 1}\n",
        "\n",
        "\n",
        "\n",
        "Create a function called `m` that multiplies two numbers (arguments `x` and `y`). Create a test for function `m` with description \"Testing multiplication function\" and add a few scenarios to it:\n",
        "\n",
        "+ Check if `m(2,3)` equals `6`\n",
        "+ Check if `m(2, c(2,3))` equals `c(4,6)`\n",
        "+ Check if `m(2, \"3\")` throws an error \"non-numeric argument to binary operator\"\n",
        "\n",
        "```r\n",
        "m <- function(FILL_THIS_IN) FILL_THIS_IN\n",
        "answer8.0 <- test_that(\"Testing multiplication function\", {\n",
        "  expect_equal(FILL_THIS_IN)\n",
        "  expect_equal(FILL_THIS_IN)\n",
        "  expect_error(FILL_THIS_IN, FILL_THIS_IN)\n",
        "})\n",
        "```"
      ]
    },
    {
      "cell_type": "code",
      "execution_count": 30,
      "metadata": {
        "deletable": false,
        "nbgrader": {
          "cell_type": "code",
          "checksum": "cca1904eab99340a3a7a3de1c71bee0d",
          "grade": false,
          "grade_id": "cell-df60f586bfdb80b7",
          "locked": false,
          "schema_version": 3,
          "solution": true,
          "task": false
        },
        "colab": {
          "base_uri": "https://localhost:8080/"
        },
        "id": "onMuZvSlSebv",
        "outputId": "a53a7e93-1740-4a58-bfe2-50578d097bad"
      },
      "outputs": [
        {
          "output_type": "stream",
          "name": "stdout",
          "text": [
            "\u001b[32mTest passed\u001b[39m 🎉\n"
          ]
        }
      ],
      "source": [
        "# your code here\n",
        "m <- function(x, y) x * y\n",
        "\n",
        "answer8.0 <- test_that(\"Testing multiplication function\", {\n",
        "  expect_equal(m(2, 3), 6)\n",
        "  expect_equal(m(2, c(2, 3)), c(4, 6))\n",
        "  expect_error(m(2, \"3\"), \"non-numeric argument to binary operator\")\n",
        "})\n",
        "\n",
        "#fail() # No Answer - remove if you provide an answer"
      ]
    },
    {
      "cell_type": "code",
      "execution_count": 31,
      "metadata": {
        "deletable": false,
        "editable": false,
        "nbgrader": {
          "cell_type": "code",
          "checksum": "e2acd048192d9c285bd257c76bf65682",
          "grade": true,
          "grade_id": "cell-64b58cd50bfda83c",
          "locked": true,
          "points": 1,
          "schema_version": 3,
          "solution": false,
          "task": false
        },
        "colab": {
          "base_uri": "https://localhost:8080/"
        },
        "id": "ydfI0yX3Sebw",
        "outputId": "2f52f593-4efc-4d84-d81a-42bd99658df4"
      },
      "outputs": [
        {
          "output_type": "stream",
          "name": "stdout",
          "text": [
            "[1] \"Success!\"\n"
          ]
        }
      ],
      "source": [
        "library(digest)\n",
        "stopifnot(\"type of answer8.0 is not logical\"= setequal(digest(paste(toString(class(answer8.0)), \"8a0c7\")), \"1b6d603d6d15196cc0d6f7c08867c66c\"))\n",
        "stopifnot(\"logical value of answer8.0 is not correct\"= setequal(digest(paste(toString(answer8.0), \"8a0c7\")), \"1e930cf6c0f2a9a8fe6473fe6a1318b8\"))\n",
        "\n",
        "print('Success!')"
      ]
    },
    {
      "cell_type": "markdown",
      "metadata": {
        "id": "CwkD-qxDSebw"
      },
      "source": [
        "That's all! 👏\n",
        "\n",
        "Please restart your kernal and re-run your code from top to bottom to ensure that no errors persist. Save your worksheet and submit the .ipynb file to Canvas."
      ]
    }
  ],
  "metadata": {
    "kernelspec": {
      "display_name": "R",
      "language": "R",
      "name": "ir"
    },
    "language_info": {
      "codemirror_mode": "r",
      "file_extension": ".r",
      "mimetype": "text/x-r-source",
      "name": "R",
      "pygments_lexer": "r",
      "version": "4.5.1"
    },
    "colab": {
      "provenance": [],
      "include_colab_link": true
    }
  },
  "nbformat": 4,
  "nbformat_minor": 0
}