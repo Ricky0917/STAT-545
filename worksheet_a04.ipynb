{
  "cells": [
    {
      "cell_type": "markdown",
      "metadata": {
        "id": "view-in-github",
        "colab_type": "text"
      },
      "source": [
        "<a href=\"https://colab.research.google.com/github/Ricky0917/STAT-545/blob/main/worksheet_a04.ipynb\" target=\"_parent\"><img src=\"https://colab.research.google.com/assets/colab-badge.svg\" alt=\"Open In Colab\"/></a>"
      ]
    },
    {
      "cell_type": "markdown",
      "metadata": {
        "id": "UEiIQ9shpiTh"
      },
      "source": [
        "Name: Ruiqi Zang\n",
        "\n",
        "Student ID: 24075277"
      ]
    },
    {
      "cell_type": "markdown",
      "metadata": {
        "deletable": false,
        "editable": false,
        "nbgrader": {
          "cell_type": "markdown",
          "checksum": "3acd34aef64bec227a6ee991c995d6dc",
          "grade": false,
          "grade_id": "cell-6cf23f5486d00725",
          "locked": true,
          "schema_version": 3,
          "solution": false,
          "task": false
        },
        "id": "3iIDqx_upiTh"
      },
      "source": [
        "# Worksheet A4: Tidy Data & The Model-Fitting Paradigm in R (15 points)\n",
        "**Fall 2025**\n",
        "\n",
        "\n",
        "By the end of this worksheet, you will be able to:\n",
        "\n",
        "(From tidyr)\n",
        "\n",
        "- convert a dataset between the 'long' and 'wide' format, using `tidyr::pivot_longer()` and `tidyr::pivot_wider()`\n",
        "- assess which format is best suited for each type of analysis\n",
        "- deal with missing data in a tibble\n",
        "\n",
        "(From modelling)\n",
        "\n",
        "- make a model object in R, using `lm()` as an example.\n",
        "- write a formula in R.\n",
        "- predict on a model object with the `broom::augment()` and `predict()` functions.\n",
        "- extract information from a model object using `broom::tidy()`, `broom::glance()`, and traditional means.\n",
        "\n",
        "Each question is worth 1 point (15 questions total)\n",
        "\n",
        "## Getting Started\n",
        "\n",
        "Load the requirements for this worksheet:"
      ]
    },
    {
      "cell_type": "code",
      "execution_count": null,
      "metadata": {
        "deletable": false,
        "editable": false,
        "nbgrader": {
          "cell_type": "code",
          "checksum": "9dfeb6bf4af3e22e4340768b14700684",
          "grade": false,
          "grade_id": "cell-0e57a40968a03e65",
          "locked": true,
          "schema_version": 3,
          "solution": false,
          "task": false
        },
        "id": "aTuswoQNpiTi"
      },
      "outputs": [],
      "source": [
        "library(testthat)\n",
        "library(digest)\n",
        "suppressPackageStartupMessages(library(tidyverse))\n",
        "suppressPackageStartupMessages(library(broom))\n",
        "suppressPackageStartupMessages(library(gapminder))\n",
        "lotr  <- suppressMessages(read_csv(\"https://raw.githubusercontent.com/jennybc/lotr-tidy/master/data/lotr_tidy.csv\"))\n",
        "guest <- suppressMessages(read_csv(\"https://raw.githubusercontent.com/STAT545-UBC/Classroom/master/data/wedding/attend.csv\"))"
      ]
    },
    {
      "cell_type": "markdown",
      "metadata": {
        "deletable": false,
        "editable": false,
        "nbgrader": {
          "cell_type": "markdown",
          "checksum": "3169cb72d2c60bf507a5877969e0bf56",
          "grade": false,
          "grade_id": "cell-8c33d8917362545a",
          "locked": true,
          "schema_version": 3,
          "solution": false,
          "task": false
        },
        "id": "3Eu0OAJGpiTj"
      },
      "source": [
        "The following code chunk has been unlocked, to give you the flexibility to start this document with some of your own code. Remember, it's bad manners to keep a call to `install.packages()` in your source code, so don't forget to delete these lines if you ever need to run them."
      ]
    },
    {
      "cell_type": "code",
      "execution_count": null,
      "metadata": {
        "colab": {
          "base_uri": "https://localhost:8080/"
        },
        "id": "VDVbOs3wpiTj",
        "outputId": "610b484a-a050-4af7-ba33-f3854fcc8317"
      },
      "outputs": [
        {
          "output_type": "stream",
          "name": "stderr",
          "text": [
            "Installing package into ‘/usr/local/lib/R/site-library’\n",
            "(as ‘lib’ is unspecified)\n",
            "\n"
          ]
        }
      ],
      "source": [
        "# An unlocked code cell.\n",
        "#install.packages(\"gapminder\")\n",
        "install.packages(\"tidyverse\")"
      ]
    },
    {
      "cell_type": "code",
      "execution_count": null,
      "metadata": {
        "deletable": false,
        "editable": false,
        "nbgrader": {
          "cell_type": "code",
          "checksum": "9dfeb6bf4af3e22e4340768b14700684",
          "grade": false,
          "grade_id": "cell-0e57a40968a03e65",
          "locked": true,
          "schema_version": 3,
          "solution": false,
          "task": false
        },
        "id": "mmxn6WTWw2Gv"
      },
      "outputs": [],
      "source": [
        "library(testthat)\n",
        "library(digest)\n",
        "suppressPackageStartupMessages(library(tidyverse))\n",
        "suppressPackageStartupMessages(library(broom))\n",
        "suppressPackageStartupMessages(library(gapminder))\n",
        "lotr  <- suppressMessages(read_csv(\"https://raw.githubusercontent.com/jennybc/lotr-tidy/master/data/lotr_tidy.csv\"))\n",
        "guest <- suppressMessages(read_csv(\"https://raw.githubusercontent.com/STAT545-UBC/Classroom/master/data/wedding/attend.csv\"))"
      ]
    },
    {
      "cell_type": "markdown",
      "metadata": {
        "deletable": false,
        "editable": false,
        "nbgrader": {
          "cell_type": "markdown",
          "checksum": "ee049ccb004a3a4316287385a1f4ef63",
          "grade": false,
          "grade_id": "cell-67a56affda78d4f8",
          "locked": true,
          "schema_version": 3,
          "solution": false,
          "task": false
        },
        "id": "ezHo_at_piTj"
      },
      "source": [
        "# Part 1: Tidy Data with Univariate Pivoting\n",
        "\n",
        "Consider the Lord of the Rings data. Run the code cell below to see the first few lines of the tibble."
      ]
    },
    {
      "cell_type": "code",
      "execution_count": null,
      "metadata": {
        "deletable": false,
        "editable": false,
        "nbgrader": {
          "cell_type": "code",
          "checksum": "fc425e5b52ea398a18b8c4b41a977d5f",
          "grade": false,
          "grade_id": "cell-0700841dc6bbc1ab",
          "locked": true,
          "schema_version": 3,
          "solution": false,
          "task": false
        },
        "colab": {
          "base_uri": "https://localhost:8080/"
        },
        "id": "Yo4j_6BbpiTj",
        "outputId": "10f054a9-b43e-4ba8-8c66-073bd51647ad"
      },
      "outputs": [
        {
          "output_type": "stream",
          "name": "stdout",
          "text": [
            "\u001b[90m# A tibble: 18 × 4\u001b[39m\n",
            "  Film                       Race   Gender Words\n",
            "  \u001b[3m\u001b[90m<chr>\u001b[39m\u001b[23m                      \u001b[3m\u001b[90m<chr>\u001b[39m\u001b[23m  \u001b[3m\u001b[90m<chr>\u001b[39m\u001b[23m  \u001b[3m\u001b[90m<dbl>\u001b[39m\u001b[23m\n",
            "\u001b[90m1\u001b[39m The Fellowship Of The Ring Elf    Female  \u001b[4m1\u001b[24m229\n",
            "\u001b[90m2\u001b[39m The Fellowship Of The Ring Hobbit Female    14\n",
            "\u001b[90m3\u001b[39m The Fellowship Of The Ring Man    Female     0\n",
            "\u001b[90m4\u001b[39m The Two Towers             Elf    Female   331\n",
            "\u001b[90m5\u001b[39m The Two Towers             Hobbit Female     0\n",
            "\u001b[90m# ℹ 13 more rows\u001b[39m\n"
          ]
        }
      ],
      "source": [
        "print(lotr, n = 5)"
      ]
    },
    {
      "cell_type": "markdown",
      "metadata": {
        "deletable": false,
        "editable": false,
        "nbgrader": {
          "cell_type": "markdown",
          "checksum": "86dcb6188291a3ab462ca12b8c06cea7",
          "grade": false,
          "grade_id": "cell-31b880187338213a",
          "locked": true,
          "schema_version": 3,
          "solution": false,
          "task": false
        },
        "id": "pF9PS_0XpiTj"
      },
      "source": [
        "## Question 1.1\n",
        "\n",
        "{points: 1}\n",
        "\n",
        "Widen the data so that we see the words spoken by each race, by puttting race as its own column. Store the answer in `answer1.1`.\n",
        "\n",
        "```\n",
        "(answer1.1 <- lotr %>%\n",
        "    FILL_THIS_IN(names_from = FILL_THIS_IN,\n",
        "                values_from = FILL_THIS_IN))\n",
        "```\n",
        "\n",
        "Your `answer1.1` should look something like this (full tibble not always shown):\n",
        "\n",
        "![answer1.1](https://github.com/UBC-STAT/stat545.stat.ubc.ca/raw/master/content/data/worksheet_04a/answer1.1.png)\n",
        "\n",
        "_Sidenote:_ Putting a variable assignment in parenthesis will not only assign the value to the variable, but also print to console. Normally when you assign a variable, you do not get to see the value of the variable. This is a helpful tip so you can see what you are storing!"
      ]
    },
    {
      "cell_type": "code",
      "execution_count": null,
      "metadata": {
        "deletable": false,
        "nbgrader": {
          "cell_type": "code",
          "checksum": "1ab0480bddce3c237ca8ceabda584592",
          "grade": false,
          "grade_id": "cell-69d0326c263cea22",
          "locked": false,
          "schema_version": 3,
          "solution": true,
          "task": false
        },
        "colab": {
          "base_uri": "https://localhost:8080/",
          "height": 721
        },
        "id": "MlOZzMaEpiTj",
        "outputId": "ee8c317f-5d12-4253-db1b-a8f67e599f9e"
      },
      "outputs": [
        {
          "output_type": "display_data",
          "data": {
            "text/html": [
              "<table class=\"dataframe\">\n",
              "<caption>A tibble: 6 × 5</caption>\n",
              "<thead>\n",
              "\t<tr><th scope=col>Film</th><th scope=col>Gender</th><th scope=col>Elf</th><th scope=col>Hobbit</th><th scope=col>Man</th></tr>\n",
              "\t<tr><th scope=col>&lt;chr&gt;</th><th scope=col>&lt;chr&gt;</th><th scope=col>&lt;dbl&gt;</th><th scope=col>&lt;dbl&gt;</th><th scope=col>&lt;dbl&gt;</th></tr>\n",
              "</thead>\n",
              "<tbody>\n",
              "\t<tr><td>The Fellowship Of The Ring</td><td>Female</td><td>1229</td><td>  14</td><td>   0</td></tr>\n",
              "\t<tr><td>The Two Towers            </td><td>Female</td><td> 331</td><td>   0</td><td> 401</td></tr>\n",
              "\t<tr><td>The Return Of The King    </td><td>Female</td><td> 183</td><td>   2</td><td> 268</td></tr>\n",
              "\t<tr><td>The Fellowship Of The Ring</td><td>Male  </td><td> 971</td><td>3644</td><td>1995</td></tr>\n",
              "\t<tr><td>The Two Towers            </td><td>Male  </td><td> 513</td><td>2463</td><td>3589</td></tr>\n",
              "\t<tr><td>The Return Of The King    </td><td>Male  </td><td> 510</td><td>2673</td><td>2459</td></tr>\n",
              "</tbody>\n",
              "</table>\n"
            ],
            "text/markdown": "\nA tibble: 6 × 5\n\n| Film &lt;chr&gt; | Gender &lt;chr&gt; | Elf &lt;dbl&gt; | Hobbit &lt;dbl&gt; | Man &lt;dbl&gt; |\n|---|---|---|---|---|\n| The Fellowship Of The Ring | Female | 1229 |   14 |    0 |\n| The Two Towers             | Female |  331 |    0 |  401 |\n| The Return Of The King     | Female |  183 |    2 |  268 |\n| The Fellowship Of The Ring | Male   |  971 | 3644 | 1995 |\n| The Two Towers             | Male   |  513 | 2463 | 3589 |\n| The Return Of The King     | Male   |  510 | 2673 | 2459 |\n\n",
            "text/latex": "A tibble: 6 × 5\n\\begin{tabular}{lllll}\n Film & Gender & Elf & Hobbit & Man\\\\\n <chr> & <chr> & <dbl> & <dbl> & <dbl>\\\\\n\\hline\n\t The Fellowship Of The Ring & Female & 1229 &   14 &    0\\\\\n\t The Two Towers             & Female &  331 &    0 &  401\\\\\n\t The Return Of The King     & Female &  183 &    2 &  268\\\\\n\t The Fellowship Of The Ring & Male   &  971 & 3644 & 1995\\\\\n\t The Two Towers             & Male   &  513 & 2463 & 3589\\\\\n\t The Return Of The King     & Male   &  510 & 2673 & 2459\\\\\n\\end{tabular}\n",
            "text/plain": [
              "  Film                       Gender Elf  Hobbit Man \n",
              "1 The Fellowship Of The Ring Female 1229   14      0\n",
              "2 The Two Towers             Female  331    0    401\n",
              "3 The Return Of The King     Female  183    2    268\n",
              "4 The Fellowship Of The Ring Male    971 3644   1995\n",
              "5 The Two Towers             Male    513 2463   3589\n",
              "6 The Return Of The King     Male    510 2673   2459"
            ]
          },
          "metadata": {}
        },
        {
          "output_type": "stream",
          "name": "stdout",
          "text": [
            "\u001b[90m# A tibble: 6 × 5\u001b[39m\n",
            "  Film                       Gender   Elf Hobbit   Man\n",
            "  \u001b[3m\u001b[90m<chr>\u001b[39m\u001b[23m                      \u001b[3m\u001b[90m<chr>\u001b[39m\u001b[23m  \u001b[3m\u001b[90m<dbl>\u001b[39m\u001b[23m  \u001b[3m\u001b[90m<dbl>\u001b[39m\u001b[23m \u001b[3m\u001b[90m<dbl>\u001b[39m\u001b[23m\n",
            "\u001b[90m1\u001b[39m The Fellowship Of The Ring Female  \u001b[4m1\u001b[24m229     14     0\n",
            "\u001b[90m2\u001b[39m The Two Towers             Female   331      0   401\n",
            "\u001b[90m3\u001b[39m The Return Of The King     Female   183      2   268\n",
            "\u001b[90m4\u001b[39m The Fellowship Of The Ring Male     971   \u001b[4m3\u001b[24m644  \u001b[4m1\u001b[24m995\n",
            "\u001b[90m5\u001b[39m The Two Towers             Male     513   \u001b[4m2\u001b[24m463  \u001b[4m3\u001b[24m589\n",
            "\u001b[90m6\u001b[39m The Return Of The King     Male     510   \u001b[4m2\u001b[24m673  \u001b[4m2\u001b[24m459\n"
          ]
        },
        {
          "output_type": "display_data",
          "data": {
            "text/html": [
              "<table class=\"dataframe\">\n",
              "<caption>A tibble: 6 × 5</caption>\n",
              "<thead>\n",
              "\t<tr><th scope=col>Film</th><th scope=col>Gender</th><th scope=col>Elf</th><th scope=col>Hobbit</th><th scope=col>Man</th></tr>\n",
              "\t<tr><th scope=col>&lt;chr&gt;</th><th scope=col>&lt;chr&gt;</th><th scope=col>&lt;dbl&gt;</th><th scope=col>&lt;dbl&gt;</th><th scope=col>&lt;dbl&gt;</th></tr>\n",
              "</thead>\n",
              "<tbody>\n",
              "\t<tr><td>The Fellowship Of The Ring</td><td>Female</td><td>1229</td><td>  14</td><td>   0</td></tr>\n",
              "\t<tr><td>The Fellowship Of The Ring</td><td>Male  </td><td> 971</td><td>3644</td><td>1995</td></tr>\n",
              "\t<tr><td>The Return Of The King    </td><td>Female</td><td> 183</td><td>   2</td><td> 268</td></tr>\n",
              "\t<tr><td>The Return Of The King    </td><td>Male  </td><td> 510</td><td>2673</td><td>2459</td></tr>\n",
              "\t<tr><td>The Two Towers            </td><td>Female</td><td> 331</td><td>   0</td><td> 401</td></tr>\n",
              "\t<tr><td>The Two Towers            </td><td>Male  </td><td> 513</td><td>2463</td><td>3589</td></tr>\n",
              "</tbody>\n",
              "</table>\n"
            ],
            "text/markdown": "\nA tibble: 6 × 5\n\n| Film &lt;chr&gt; | Gender &lt;chr&gt; | Elf &lt;dbl&gt; | Hobbit &lt;dbl&gt; | Man &lt;dbl&gt; |\n|---|---|---|---|---|\n| The Fellowship Of The Ring | Female | 1229 |   14 |    0 |\n| The Fellowship Of The Ring | Male   |  971 | 3644 | 1995 |\n| The Return Of The King     | Female |  183 |    2 |  268 |\n| The Return Of The King     | Male   |  510 | 2673 | 2459 |\n| The Two Towers             | Female |  331 |    0 |  401 |\n| The Two Towers             | Male   |  513 | 2463 | 3589 |\n\n",
            "text/latex": "A tibble: 6 × 5\n\\begin{tabular}{lllll}\n Film & Gender & Elf & Hobbit & Man\\\\\n <chr> & <chr> & <dbl> & <dbl> & <dbl>\\\\\n\\hline\n\t The Fellowship Of The Ring & Female & 1229 &   14 &    0\\\\\n\t The Fellowship Of The Ring & Male   &  971 & 3644 & 1995\\\\\n\t The Return Of The King     & Female &  183 &    2 &  268\\\\\n\t The Return Of The King     & Male   &  510 & 2673 & 2459\\\\\n\t The Two Towers             & Female &  331 &    0 &  401\\\\\n\t The Two Towers             & Male   &  513 & 2463 & 3589\\\\\n\\end{tabular}\n",
            "text/plain": [
              "  Film                       Gender Elf  Hobbit Man \n",
              "1 The Fellowship Of The Ring Female 1229   14      0\n",
              "2 The Fellowship Of The Ring Male    971 3644   1995\n",
              "3 The Return Of The King     Female  183    2    268\n",
              "4 The Return Of The King     Male    510 2673   2459\n",
              "5 The Two Towers             Female  331    0    401\n",
              "6 The Two Towers             Male    513 2463   3589"
            ]
          },
          "metadata": {}
        }
      ],
      "source": [
        "# your code here\n",
        "(answer1.1 <- lotr %>%\n",
        "  pivot_wider(names_from = Race,\n",
        "              values_from = Words))\n",
        "#fail() # No Answer - remove if you provide an answer\n",
        "print(answer1.1)\n",
        "arrange_all(answer1.1)"
      ]
    },
    {
      "cell_type": "code",
      "execution_count": null,
      "metadata": {
        "deletable": false,
        "editable": false,
        "nbgrader": {
          "cell_type": "code",
          "checksum": "9293c1c50285450f6cefcbe4f7fa9333",
          "grade": true,
          "grade_id": "cell-cdf83fd8542d1a5f",
          "locked": true,
          "points": 1,
          "schema_version": 3,
          "solution": false,
          "task": false
        },
        "colab": {
          "base_uri": "https://localhost:8080/"
        },
        "id": "QM1DUU8VpiTk",
        "outputId": "0c5f711e-889a-4847-9cad-0626bc05c70b"
      },
      "outputs": [
        {
          "output_type": "stream",
          "name": "stdout",
          "text": [
            "[1] \"Success!\"\n"
          ]
        }
      ],
      "source": [
        "library(digest)\n",
        "stopifnot(\"answer1.1 should be a data frame\"= setequal(digest(paste(toString('data.frame' %in% class(answer1.1)), \"9e92d\")), \"95a92ab78891799ed8935e28884069ca\"))\n",
        "stopifnot(\"dimensions of answer1.1 are not correct\"= setequal(digest(paste(toString(dim(answer1.1)), \"9e92d\")), \"eec7c215c6806a3729c9e090a3cd6236\"))\n",
        "stopifnot(\"column names of answer1.1 are not correct\"= setequal(digest(paste(toString(sort(colnames(answer1.1))), \"9e92d\")), \"80d85a4eaa13a16488d2dd35dc637141\"))\n",
        "stopifnot(\"types of columns in answer1.1 are not correct\"= setequal(digest(paste(toString(sort(unlist(sapply(answer1.1, class)))), \"9e92d\")), \"a546ca6727b843103e5154cff622acf3\"))\n",
        "stopifnot(\"values in one or more numerical columns in answer1.1 are not correct\"= setequal(digest(paste(toString(if (any(sapply(answer1.1, is.numeric))) sort(round(sapply(answer1.1[, sapply(answer1.1, is.numeric)], sum, na.rm = TRUE), 2)) else 0), \"9e92d\")), \"f2c937cc6e9e694664eca4bc219695d8\"))\n",
        "stopifnot(\"values in one or more character columns in answer1.1 are not correct\"= setequal(digest(paste(toString(if (any(sapply(answer1.1, is.character))) sum(sapply(answer1.1[sapply(answer1.1, is.character)], function(x) length(unique(x)))) else 0), \"9e92d\")), \"f8e563aa34c80c8d707bf46d60733195\"))\n",
        "stopifnot(\"values in one or more factor columns in answer1.1 are not correct\"= setequal(digest(paste(toString(if (any(sapply(answer1.1, is.factor))) sum(sapply(answer1.1[, sapply(answer1.1, is.factor)], function(col) length(unique(col)))) else 0), \"9e92d\")), \"28f8d8e178a1cb61e7f48a11bd9d51eb\"))\n",
        "\n",
        "print('Success!')"
      ]
    },
    {
      "cell_type": "markdown",
      "metadata": {
        "deletable": false,
        "editable": false,
        "nbgrader": {
          "cell_type": "markdown",
          "checksum": "3f74b1148475be7ba87bd661b0a72227",
          "grade": false,
          "grade_id": "cell-e605b348e5f2d218",
          "locked": true,
          "schema_version": 3,
          "solution": false,
          "task": false
        },
        "id": "LnUASyoipiTk"
      },
      "source": [
        "## Question 1.2\n",
        "\n",
        "{points: 1}\n",
        "\n",
        "Re-lengthen the wide `lotr` data (i.e. `answer1.1`) from Question 1.1 above. Store your answer in `answer1.2`.\n",
        "\n",
        "**Hint:** the resulting data frame should appear to be the _almost the same_ as the original! (No need to reorder the columns)\n",
        "\n",
        "```\n",
        "(answer1.2 <- answer1.1 %>%\n",
        "  FILL_THIS_IN(cols = c(-FILL_THIS_IN, -FILL_THIS_IN),\n",
        "               names_to  = FILL_THIS_IN,\n",
        "               values_to = FILL_THIS_IN))\n",
        "```\n",
        "\n",
        "Your `answer1.2` should look something like this (full tibble not always shown):\n",
        "\n",
        "![answer1.2](https://github.com/UBC-STAT/stat545.stat.ubc.ca/raw/master/content/data/worksheet_04a/answer1.2.png)"
      ]
    },
    {
      "cell_type": "code",
      "execution_count": null,
      "metadata": {
        "deletable": false,
        "nbgrader": {
          "cell_type": "code",
          "checksum": "2e1f1fc9f62b4b402e47efd3f111f415",
          "grade": false,
          "grade_id": "cell-dd9ee0af42a31d96",
          "locked": false,
          "schema_version": 3,
          "solution": true,
          "task": false
        },
        "colab": {
          "base_uri": "https://localhost:8080/",
          "height": 1000
        },
        "id": "GMAjTWNApiTk",
        "outputId": "9217b394-037b-4296-8e11-e2a6a138183a"
      },
      "outputs": [
        {
          "output_type": "display_data",
          "data": {
            "text/html": [
              "<table class=\"dataframe\">\n",
              "<caption>A tibble: 18 × 4</caption>\n",
              "<thead>\n",
              "\t<tr><th scope=col>Film</th><th scope=col>Gender</th><th scope=col>Race</th><th scope=col>Words</th></tr>\n",
              "\t<tr><th scope=col>&lt;chr&gt;</th><th scope=col>&lt;chr&gt;</th><th scope=col>&lt;chr&gt;</th><th scope=col>&lt;dbl&gt;</th></tr>\n",
              "</thead>\n",
              "<tbody>\n",
              "\t<tr><td>The Fellowship Of The Ring</td><td>Female</td><td>Elf   </td><td>1229</td></tr>\n",
              "\t<tr><td>The Fellowship Of The Ring</td><td>Female</td><td>Hobbit</td><td>  14</td></tr>\n",
              "\t<tr><td>The Fellowship Of The Ring</td><td>Female</td><td>Man   </td><td>   0</td></tr>\n",
              "\t<tr><td>The Two Towers            </td><td>Female</td><td>Elf   </td><td> 331</td></tr>\n",
              "\t<tr><td>The Two Towers            </td><td>Female</td><td>Hobbit</td><td>   0</td></tr>\n",
              "\t<tr><td>The Two Towers            </td><td>Female</td><td>Man   </td><td> 401</td></tr>\n",
              "\t<tr><td>The Return Of The King    </td><td>Female</td><td>Elf   </td><td> 183</td></tr>\n",
              "\t<tr><td>The Return Of The King    </td><td>Female</td><td>Hobbit</td><td>   2</td></tr>\n",
              "\t<tr><td>The Return Of The King    </td><td>Female</td><td>Man   </td><td> 268</td></tr>\n",
              "\t<tr><td>The Fellowship Of The Ring</td><td>Male  </td><td>Elf   </td><td> 971</td></tr>\n",
              "\t<tr><td>The Fellowship Of The Ring</td><td>Male  </td><td>Hobbit</td><td>3644</td></tr>\n",
              "\t<tr><td>The Fellowship Of The Ring</td><td>Male  </td><td>Man   </td><td>1995</td></tr>\n",
              "\t<tr><td>The Two Towers            </td><td>Male  </td><td>Elf   </td><td> 513</td></tr>\n",
              "\t<tr><td>The Two Towers            </td><td>Male  </td><td>Hobbit</td><td>2463</td></tr>\n",
              "\t<tr><td>The Two Towers            </td><td>Male  </td><td>Man   </td><td>3589</td></tr>\n",
              "\t<tr><td>The Return Of The King    </td><td>Male  </td><td>Elf   </td><td> 510</td></tr>\n",
              "\t<tr><td>The Return Of The King    </td><td>Male  </td><td>Hobbit</td><td>2673</td></tr>\n",
              "\t<tr><td>The Return Of The King    </td><td>Male  </td><td>Man   </td><td>2459</td></tr>\n",
              "</tbody>\n",
              "</table>\n"
            ],
            "text/markdown": "\nA tibble: 18 × 4\n\n| Film &lt;chr&gt; | Gender &lt;chr&gt; | Race &lt;chr&gt; | Words &lt;dbl&gt; |\n|---|---|---|---|\n| The Fellowship Of The Ring | Female | Elf    | 1229 |\n| The Fellowship Of The Ring | Female | Hobbit |   14 |\n| The Fellowship Of The Ring | Female | Man    |    0 |\n| The Two Towers             | Female | Elf    |  331 |\n| The Two Towers             | Female | Hobbit |    0 |\n| The Two Towers             | Female | Man    |  401 |\n| The Return Of The King     | Female | Elf    |  183 |\n| The Return Of The King     | Female | Hobbit |    2 |\n| The Return Of The King     | Female | Man    |  268 |\n| The Fellowship Of The Ring | Male   | Elf    |  971 |\n| The Fellowship Of The Ring | Male   | Hobbit | 3644 |\n| The Fellowship Of The Ring | Male   | Man    | 1995 |\n| The Two Towers             | Male   | Elf    |  513 |\n| The Two Towers             | Male   | Hobbit | 2463 |\n| The Two Towers             | Male   | Man    | 3589 |\n| The Return Of The King     | Male   | Elf    |  510 |\n| The Return Of The King     | Male   | Hobbit | 2673 |\n| The Return Of The King     | Male   | Man    | 2459 |\n\n",
            "text/latex": "A tibble: 18 × 4\n\\begin{tabular}{llll}\n Film & Gender & Race & Words\\\\\n <chr> & <chr> & <chr> & <dbl>\\\\\n\\hline\n\t The Fellowship Of The Ring & Female & Elf    & 1229\\\\\n\t The Fellowship Of The Ring & Female & Hobbit &   14\\\\\n\t The Fellowship Of The Ring & Female & Man    &    0\\\\\n\t The Two Towers             & Female & Elf    &  331\\\\\n\t The Two Towers             & Female & Hobbit &    0\\\\\n\t The Two Towers             & Female & Man    &  401\\\\\n\t The Return Of The King     & Female & Elf    &  183\\\\\n\t The Return Of The King     & Female & Hobbit &    2\\\\\n\t The Return Of The King     & Female & Man    &  268\\\\\n\t The Fellowship Of The Ring & Male   & Elf    &  971\\\\\n\t The Fellowship Of The Ring & Male   & Hobbit & 3644\\\\\n\t The Fellowship Of The Ring & Male   & Man    & 1995\\\\\n\t The Two Towers             & Male   & Elf    &  513\\\\\n\t The Two Towers             & Male   & Hobbit & 2463\\\\\n\t The Two Towers             & Male   & Man    & 3589\\\\\n\t The Return Of The King     & Male   & Elf    &  510\\\\\n\t The Return Of The King     & Male   & Hobbit & 2673\\\\\n\t The Return Of The King     & Male   & Man    & 2459\\\\\n\\end{tabular}\n",
            "text/plain": [
              "   Film                       Gender Race   Words\n",
              "1  The Fellowship Of The Ring Female Elf    1229 \n",
              "2  The Fellowship Of The Ring Female Hobbit   14 \n",
              "3  The Fellowship Of The Ring Female Man       0 \n",
              "4  The Two Towers             Female Elf     331 \n",
              "5  The Two Towers             Female Hobbit    0 \n",
              "6  The Two Towers             Female Man     401 \n",
              "7  The Return Of The King     Female Elf     183 \n",
              "8  The Return Of The King     Female Hobbit    2 \n",
              "9  The Return Of The King     Female Man     268 \n",
              "10 The Fellowship Of The Ring Male   Elf     971 \n",
              "11 The Fellowship Of The Ring Male   Hobbit 3644 \n",
              "12 The Fellowship Of The Ring Male   Man    1995 \n",
              "13 The Two Towers             Male   Elf     513 \n",
              "14 The Two Towers             Male   Hobbit 2463 \n",
              "15 The Two Towers             Male   Man    3589 \n",
              "16 The Return Of The King     Male   Elf     510 \n",
              "17 The Return Of The King     Male   Hobbit 2673 \n",
              "18 The Return Of The King     Male   Man    2459 "
            ]
          },
          "metadata": {}
        },
        {
          "output_type": "stream",
          "name": "stdout",
          "text": [
            "\u001b[90m# A tibble: 18 × 4\u001b[39m\n",
            "   Film                       Gender Race   Words\n",
            "   \u001b[3m\u001b[90m<chr>\u001b[39m\u001b[23m                      \u001b[3m\u001b[90m<chr>\u001b[39m\u001b[23m  \u001b[3m\u001b[90m<chr>\u001b[39m\u001b[23m  \u001b[3m\u001b[90m<dbl>\u001b[39m\u001b[23m\n",
            "\u001b[90m 1\u001b[39m The Fellowship Of The Ring Female Elf     \u001b[4m1\u001b[24m229\n",
            "\u001b[90m 2\u001b[39m The Fellowship Of The Ring Female Hobbit    14\n",
            "\u001b[90m 3\u001b[39m The Fellowship Of The Ring Female Man        0\n",
            "\u001b[90m 4\u001b[39m The Two Towers             Female Elf      331\n",
            "\u001b[90m 5\u001b[39m The Two Towers             Female Hobbit     0\n",
            "\u001b[90m 6\u001b[39m The Two Towers             Female Man      401\n",
            "\u001b[90m 7\u001b[39m The Return Of The King     Female Elf      183\n",
            "\u001b[90m 8\u001b[39m The Return Of The King     Female Hobbit     2\n",
            "\u001b[90m 9\u001b[39m The Return Of The King     Female Man      268\n",
            "\u001b[90m10\u001b[39m The Fellowship Of The Ring Male   Elf      971\n",
            "\u001b[90m11\u001b[39m The Fellowship Of The Ring Male   Hobbit  \u001b[4m3\u001b[24m644\n",
            "\u001b[90m12\u001b[39m The Fellowship Of The Ring Male   Man     \u001b[4m1\u001b[24m995\n",
            "\u001b[90m13\u001b[39m The Two Towers             Male   Elf      513\n",
            "\u001b[90m14\u001b[39m The Two Towers             Male   Hobbit  \u001b[4m2\u001b[24m463\n",
            "\u001b[90m15\u001b[39m The Two Towers             Male   Man     \u001b[4m3\u001b[24m589\n",
            "\u001b[90m16\u001b[39m The Return Of The King     Male   Elf      510\n",
            "\u001b[90m17\u001b[39m The Return Of The King     Male   Hobbit  \u001b[4m2\u001b[24m673\n",
            "\u001b[90m18\u001b[39m The Return Of The King     Male   Man     \u001b[4m2\u001b[24m459\n"
          ]
        }
      ],
      "source": [
        "# your code here\n",
        "(answer1.2 <- answer1.1 %>%\n",
        "  pivot_longer(cols = c(-Film, -Gender),\n",
        "               names_to  = \"Race\",\n",
        "               values_to = \"Words\"))\n",
        "#fail() # No Answer - remove if you proviRde an answer\n",
        "print(answer1.2)"
      ]
    },
    {
      "cell_type": "code",
      "execution_count": null,
      "metadata": {
        "deletable": false,
        "editable": false,
        "nbgrader": {
          "cell_type": "code",
          "checksum": "1971a31994890100547748cae9dfcd86",
          "grade": true,
          "grade_id": "cell-9ca00a4e9e835c5b",
          "locked": true,
          "points": 1,
          "schema_version": 3,
          "solution": false,
          "task": false
        },
        "colab": {
          "base_uri": "https://localhost:8080/"
        },
        "id": "MiWIVZyfpiTk",
        "outputId": "1a5b379a-d5a7-4e6b-e095-137fe9e2f53e"
      },
      "outputs": [
        {
          "output_type": "stream",
          "name": "stdout",
          "text": [
            "[1] \"Success!\"\n"
          ]
        }
      ],
      "source": [
        "library(digest)\n",
        "stopifnot(\"answer1.2 should be a data frame\"= setequal(digest(paste(toString('data.frame' %in% class(answer1.2)), \"b71ab\")), \"9dc1d0bbebbd9c1f40528757bfcba10f\"))\n",
        "stopifnot(\"dimensions of answer1.2 are not correct\"= setequal(digest(paste(toString(dim(answer1.2)), \"b71ab\")), \"c31439fcbf9b2abd04d3ffdd455f4723\"))\n",
        "stopifnot(\"column names of answer1.2 are not correct\"= setequal(digest(paste(toString(sort(colnames(answer1.2))), \"b71ab\")), \"fd63a95476a46aff5a3ee5e0ddd56861\"))\n",
        "stopifnot(\"types of columns in answer1.2 are not correct\"= setequal(digest(paste(toString(sort(unlist(sapply(answer1.2, class)))), \"b71ab\")), \"24df6d6e8f415f5473ac9ce9dc43b08a\"))\n",
        "stopifnot(\"values in one or more numerical columns in answer1.2 are not correct\"= setequal(digest(paste(toString(if (any(sapply(answer1.2, is.numeric))) sort(round(sapply(answer1.2[, sapply(answer1.2, is.numeric)], sum, na.rm = TRUE), 2)) else 0), \"b71ab\")), \"fab3b74b6fc96ea879684c47c0477e40\"))\n",
        "stopifnot(\"values in one or more character columns in answer1.2 are not correct\"= setequal(digest(paste(toString(if (any(sapply(answer1.2, is.character))) sum(sapply(answer1.2[sapply(answer1.2, is.character)], function(x) length(unique(x)))) else 0), \"b71ab\")), \"f7ed2b0b9e7d81e35c60c4e06281f02a\"))\n",
        "stopifnot(\"values in one or more factor columns in answer1.2 are not correct\"= setequal(digest(paste(toString(if (any(sapply(answer1.2, is.factor))) sum(sapply(answer1.2[, sapply(answer1.2, is.factor)], function(col) length(unique(col)))) else 0), \"b71ab\")), \"fdb9aa6b8990446714c6c6d04d75e08d\"))\n",
        "\n",
        "print('Success!')"
      ]
    },
    {
      "cell_type": "markdown",
      "metadata": {
        "deletable": false,
        "editable": false,
        "nbgrader": {
          "cell_type": "markdown",
          "checksum": "7115ff68e6885c2a6ca951826135d1b3",
          "grade": false,
          "grade_id": "cell-8ca39a3585dfa195",
          "locked": true,
          "schema_version": 3,
          "solution": false,
          "task": false
        },
        "id": "2QHPJUXXpiTk"
      },
      "source": [
        "## QUESTION 1.3\n",
        "\n",
        "{points: 1}\n",
        "\n",
        "Using the `gapminder` dataset: what's the relationship between Canada's GDP per capita and the United Kingdom's? First, produce a tidy tibble from the `gapminder` tibble to address this question. Store your tibble in a variable named `question1.3`. Do not rename any columns.\n",
        "\n",
        "_Food for thought_: After tidying the data for this problem, we should be able to make a scatterplot of Canada's GDP per capita against the UK's. But, doing so for the original `gapminder` dataset would be difficult.\n",
        "\n",
        "```\n",
        "answer1.3 <- gapminder %>%\n",
        "  filter(FILL_TIHS_IN) %>%\n",
        "  pivot_FILL_THIS_IN(FILL_THIS_IN)\n",
        "```"
      ]
    },
    {
      "cell_type": "code",
      "execution_count": null,
      "metadata": {
        "deletable": false,
        "nbgrader": {
          "cell_type": "code",
          "checksum": "30c01b29f1bfb6dc14d77ce71ca81f0f",
          "grade": false,
          "grade_id": "cell-b6f4518297129ee5",
          "locked": false,
          "schema_version": 3,
          "solution": true,
          "task": false
        },
        "colab": {
          "base_uri": "https://localhost:8080/"
        },
        "id": "6gxASjqHpiTk",
        "outputId": "605f03b1-b735-4fe0-f56f-8f5397dfc9f8"
      },
      "outputs": [
        {
          "output_type": "stream",
          "name": "stdout",
          "text": [
            "\u001b[90m# A tibble: 12 × 3\u001b[39m\n",
            "    year Canada `United Kingdom`\n",
            "   \u001b[3m\u001b[90m<int>\u001b[39m\u001b[23m  \u001b[3m\u001b[90m<dbl>\u001b[39m\u001b[23m            \u001b[3m\u001b[90m<dbl>\u001b[39m\u001b[23m\n",
            "\u001b[90m 1\u001b[39m  \u001b[4m1\u001b[24m952 \u001b[4m1\u001b[24m\u001b[4m1\u001b[24m367.            \u001b[4m9\u001b[24m980.\n",
            "\u001b[90m 2\u001b[39m  \u001b[4m1\u001b[24m957 \u001b[4m1\u001b[24m\u001b[4m2\u001b[24m490.           \u001b[4m1\u001b[24m\u001b[4m1\u001b[24m283.\n",
            "\u001b[90m 3\u001b[39m  \u001b[4m1\u001b[24m962 \u001b[4m1\u001b[24m\u001b[4m3\u001b[24m462.           \u001b[4m1\u001b[24m\u001b[4m2\u001b[24m477.\n",
            "\u001b[90m 4\u001b[39m  \u001b[4m1\u001b[24m967 \u001b[4m1\u001b[24m\u001b[4m6\u001b[24m077.           \u001b[4m1\u001b[24m\u001b[4m4\u001b[24m143.\n",
            "\u001b[90m 5\u001b[39m  \u001b[4m1\u001b[24m972 \u001b[4m1\u001b[24m\u001b[4m8\u001b[24m971.           \u001b[4m1\u001b[24m\u001b[4m5\u001b[24m895.\n",
            "\u001b[90m 6\u001b[39m  \u001b[4m1\u001b[24m977 \u001b[4m2\u001b[24m\u001b[4m2\u001b[24m091.           \u001b[4m1\u001b[24m\u001b[4m7\u001b[24m429.\n",
            "\u001b[90m 7\u001b[39m  \u001b[4m1\u001b[24m982 \u001b[4m2\u001b[24m\u001b[4m2\u001b[24m899.           \u001b[4m1\u001b[24m\u001b[4m8\u001b[24m232.\n",
            "\u001b[90m 8\u001b[39m  \u001b[4m1\u001b[24m987 \u001b[4m2\u001b[24m\u001b[4m6\u001b[24m627.           \u001b[4m2\u001b[24m\u001b[4m1\u001b[24m665.\n",
            "\u001b[90m 9\u001b[39m  \u001b[4m1\u001b[24m992 \u001b[4m2\u001b[24m\u001b[4m6\u001b[24m343.           \u001b[4m2\u001b[24m\u001b[4m2\u001b[24m705.\n",
            "\u001b[90m10\u001b[39m  \u001b[4m1\u001b[24m997 \u001b[4m2\u001b[24m\u001b[4m8\u001b[24m955.           \u001b[4m2\u001b[24m\u001b[4m6\u001b[24m075.\n",
            "\u001b[90m11\u001b[39m  \u001b[4m2\u001b[24m002 \u001b[4m3\u001b[24m\u001b[4m3\u001b[24m329.           \u001b[4m2\u001b[24m\u001b[4m9\u001b[24m479.\n",
            "\u001b[90m12\u001b[39m  \u001b[4m2\u001b[24m007 \u001b[4m3\u001b[24m\u001b[4m6\u001b[24m319.           \u001b[4m3\u001b[24m\u001b[4m3\u001b[24m203.\n"
          ]
        }
      ],
      "source": [
        "# your code here\n",
        "answer1.3 <- gapminder %>%\n",
        "  filter(country %in% c(\"Canada\", \"United Kingdom\")) %>%\n",
        "  select(year, country, gdpPercap) %>%\n",
        "  pivot_wider(names_from = country, values_from = gdpPercap)\n",
        "#fail() # No Answer - remove if you provide an answer\n",
        "print(answer1.3)"
      ]
    },
    {
      "cell_type": "code",
      "execution_count": null,
      "metadata": {
        "deletable": false,
        "editable": false,
        "nbgrader": {
          "cell_type": "code",
          "checksum": "f0c7b589ecae96c9e6bcf5cebc2835e2",
          "grade": true,
          "grade_id": "cell-02bda51b10d57f91",
          "locked": true,
          "points": 1,
          "schema_version": 3,
          "solution": false,
          "task": false
        },
        "colab": {
          "base_uri": "https://localhost:8080/"
        },
        "id": "NG4Qw2RjpiTk",
        "outputId": "b4da8d20-0c0a-46df-d5cb-b19e089cd2f6"
      },
      "outputs": [
        {
          "output_type": "stream",
          "name": "stdout",
          "text": [
            "[1] \"Success!\"\n"
          ]
        }
      ],
      "source": [
        "library(digest)\n",
        "stopifnot(\"answer1.3 should be a data frame\"= setequal(digest(paste(toString('data.frame' %in% class(answer1.3)), \"29081\")), \"38ee813e798643f54f60b967c8d8e956\"))\n",
        "stopifnot(\"dimensions of answer1.3 are not correct\"= setequal(digest(paste(toString(dim(answer1.3)), \"29081\")), \"932adc5f0953ff1d17c27a52c9680a83\"))\n",
        "stopifnot(\"column names of answer1.3 are not correct\"= setequal(digest(paste(toString(sort(colnames(answer1.3))), \"29081\")), \"a7778772e09d5ba2bddf4445e57b8c1e\"))\n",
        "stopifnot(\"types of columns in answer1.3 are not correct\"= setequal(digest(paste(toString(sort(unlist(sapply(answer1.3, class)))), \"29081\")), \"925174bbbcbe2f34118db1abdd66a56b\"))\n",
        "stopifnot(\"values in one or more numerical columns in answer1.3 are not correct\"= setequal(digest(paste(toString(if (any(sapply(answer1.3, is.numeric))) sort(round(sapply(answer1.3[, sapply(answer1.3, is.numeric)], sum, na.rm = TRUE), 2)) else 0), \"29081\")), \"739735a397fb9bb0e9a5bdbe88041fbe\"))\n",
        "stopifnot(\"values in one or more character columns in answer1.3 are not correct\"= setequal(digest(paste(toString(if (any(sapply(answer1.3, is.character))) sum(sapply(answer1.3[sapply(answer1.3, is.character)], function(x) length(unique(x)))) else 0), \"29081\")), \"0ae16cf60d1caa10c5c23f295f0408da\"))\n",
        "stopifnot(\"values in one or more factor columns in answer1.3 are not correct\"= setequal(digest(paste(toString(if (any(sapply(answer1.3, is.factor))) sum(sapply(answer1.3[, sapply(answer1.3, is.factor)], function(col) length(unique(col)))) else 0), \"29081\")), \"0ae16cf60d1caa10c5c23f295f0408da\"))\n",
        "\n",
        "print('Success!')"
      ]
    },
    {
      "cell_type": "markdown",
      "metadata": {
        "deletable": false,
        "editable": false,
        "nbgrader": {
          "cell_type": "markdown",
          "checksum": "00150ba251618ea412837c501720bc09",
          "grade": false,
          "grade_id": "cell-74b6ea9dd9cd3970",
          "locked": true,
          "schema_version": 3,
          "solution": false,
          "task": false
        },
        "id": "GS50baOOpiTk"
      },
      "source": [
        "# Part 2: Tidy Data with Multivariate Pivoting\n",
        "\n",
        "Congratulations, you’re getting married! In addition to the wedding, you’ve decided to hold two other events: a day-of brunch and a day-before round of golf. You’ve made a guestlist of attendance so far, along with food preference for the food events (wedding and brunch).\n",
        "\n",
        "Run the code cell below to see the first few rows of the `guest` data frame."
      ]
    },
    {
      "cell_type": "code",
      "execution_count": null,
      "metadata": {
        "deletable": false,
        "editable": false,
        "nbgrader": {
          "cell_type": "code",
          "checksum": "6c0ceeb14101994f6cb6b2f6917c8e33",
          "grade": false,
          "grade_id": "cell-f7d65824be40afab",
          "locked": true,
          "schema_version": 3,
          "solution": false,
          "task": false
        },
        "colab": {
          "base_uri": "https://localhost:8080/",
          "height": 286
        },
        "id": "NXIsn2F8piTl",
        "outputId": "5d226ee1-70b3-4d1f-a4d7-32640e270f4e"
      },
      "outputs": [
        {
          "output_type": "display_data",
          "data": {
            "text/html": [
              "<table class=\"dataframe\">\n",
              "<caption>A tibble: 6 × 7</caption>\n",
              "<thead>\n",
              "\t<tr><th scope=col>party</th><th scope=col>name</th><th scope=col>meal_wedding</th><th scope=col>meal_brunch</th><th scope=col>attendance_wedding</th><th scope=col>attendance_brunch</th><th scope=col>attendance_golf</th></tr>\n",
              "\t<tr><th scope=col>&lt;dbl&gt;</th><th scope=col>&lt;chr&gt;</th><th scope=col>&lt;chr&gt;</th><th scope=col>&lt;chr&gt;</th><th scope=col>&lt;chr&gt;</th><th scope=col>&lt;chr&gt;</th><th scope=col>&lt;chr&gt;</th></tr>\n",
              "</thead>\n",
              "<tbody>\n",
              "\t<tr><td>1</td><td>Sommer Medrano </td><td>PENDING   </td><td>PENDING</td><td>PENDING  </td><td>PENDING  </td><td>PENDING  </td></tr>\n",
              "\t<tr><td>1</td><td>Phillip Medrano</td><td>vegetarian</td><td>Menu C </td><td>CONFIRMED</td><td>CONFIRMED</td><td>CONFIRMED</td></tr>\n",
              "\t<tr><td>1</td><td>Blanka Medrano </td><td>chicken   </td><td>Menu A </td><td>CONFIRMED</td><td>CONFIRMED</td><td>CONFIRMED</td></tr>\n",
              "\t<tr><td>1</td><td>Emaan Medrano  </td><td>PENDING   </td><td>PENDING</td><td>PENDING  </td><td>PENDING  </td><td>PENDING  </td></tr>\n",
              "\t<tr><td>2</td><td>Blair Park     </td><td>chicken   </td><td>Menu C </td><td>CONFIRMED</td><td>CONFIRMED</td><td>CONFIRMED</td></tr>\n",
              "\t<tr><td>2</td><td>Nigel Webb     </td><td>NA        </td><td>NA     </td><td>CANCELLED</td><td>CANCELLED</td><td>CANCELLED</td></tr>\n",
              "</tbody>\n",
              "</table>\n"
            ],
            "text/markdown": "\nA tibble: 6 × 7\n\n| party &lt;dbl&gt; | name &lt;chr&gt; | meal_wedding &lt;chr&gt; | meal_brunch &lt;chr&gt; | attendance_wedding &lt;chr&gt; | attendance_brunch &lt;chr&gt; | attendance_golf &lt;chr&gt; |\n|---|---|---|---|---|---|---|\n| 1 | Sommer Medrano  | PENDING    | PENDING | PENDING   | PENDING   | PENDING   |\n| 1 | Phillip Medrano | vegetarian | Menu C  | CONFIRMED | CONFIRMED | CONFIRMED |\n| 1 | Blanka Medrano  | chicken    | Menu A  | CONFIRMED | CONFIRMED | CONFIRMED |\n| 1 | Emaan Medrano   | PENDING    | PENDING | PENDING   | PENDING   | PENDING   |\n| 2 | Blair Park      | chicken    | Menu C  | CONFIRMED | CONFIRMED | CONFIRMED |\n| 2 | Nigel Webb      | NA         | NA      | CANCELLED | CANCELLED | CANCELLED |\n\n",
            "text/latex": "A tibble: 6 × 7\n\\begin{tabular}{lllllll}\n party & name & meal\\_wedding & meal\\_brunch & attendance\\_wedding & attendance\\_brunch & attendance\\_golf\\\\\n <dbl> & <chr> & <chr> & <chr> & <chr> & <chr> & <chr>\\\\\n\\hline\n\t 1 & Sommer Medrano  & PENDING    & PENDING & PENDING   & PENDING   & PENDING  \\\\\n\t 1 & Phillip Medrano & vegetarian & Menu C  & CONFIRMED & CONFIRMED & CONFIRMED\\\\\n\t 1 & Blanka Medrano  & chicken    & Menu A  & CONFIRMED & CONFIRMED & CONFIRMED\\\\\n\t 1 & Emaan Medrano   & PENDING    & PENDING & PENDING   & PENDING   & PENDING  \\\\\n\t 2 & Blair Park      & chicken    & Menu C  & CONFIRMED & CONFIRMED & CONFIRMED\\\\\n\t 2 & Nigel Webb      & NA         & NA      & CANCELLED & CANCELLED & CANCELLED\\\\\n\\end{tabular}\n",
            "text/plain": [
              "  party name            meal_wedding meal_brunch attendance_wedding\n",
              "1 1     Sommer Medrano  PENDING      PENDING     PENDING           \n",
              "2 1     Phillip Medrano vegetarian   Menu C      CONFIRMED         \n",
              "3 1     Blanka Medrano  chicken      Menu A      CONFIRMED         \n",
              "4 1     Emaan Medrano   PENDING      PENDING     PENDING           \n",
              "5 2     Blair Park      chicken      Menu C      CONFIRMED         \n",
              "6 2     Nigel Webb      NA           NA          CANCELLED         \n",
              "  attendance_brunch attendance_golf\n",
              "1 PENDING           PENDING        \n",
              "2 CONFIRMED         CONFIRMED      \n",
              "3 CONFIRMED         CONFIRMED      \n",
              "4 PENDING           PENDING        \n",
              "5 CONFIRMED         CONFIRMED      \n",
              "6 CANCELLED         CANCELLED      "
            ]
          },
          "metadata": {}
        }
      ],
      "source": [
        "head(guest)"
      ]
    },
    {
      "cell_type": "markdown",
      "metadata": {
        "deletable": false,
        "editable": false,
        "nbgrader": {
          "cell_type": "markdown",
          "checksum": "0b147f64d01f74afac79a5808cecfe4d",
          "grade": false,
          "grade_id": "cell-a5e314661b36e3ae",
          "locked": true,
          "schema_version": 3,
          "solution": false,
          "task": false
        },
        "id": "fyqiznwypiTl"
      },
      "source": [
        "## Question 2.1\n",
        "\n",
        "{points: 1}\n",
        "\n",
        "\n",
        "Put `meal` and `attendance` as their own columns, with the events living in a new column. Store your answer in `answer2.1`.\n",
        "\n",
        "```\n",
        "(answer2.1 <- guest %>%\n",
        "  FILL_THIS_IN(cols      = c(-FILL_THIS_IN, -FILL_THIS_IN),\n",
        "               names_to  = c(FILL_THIS_IN, FILL_THIS_IN),\n",
        "               names_sep = FILL_THIS_IN))\n",
        "```               \n",
        "\n",
        "**Hint**: Read the possible values for `names_to` in the corresponding documentation of the function you choose!\n",
        "\n",
        "Your `answer2.1` should look something like this (full tibble not always shown):\n",
        "\n",
        "![answer2.1](https://github.com/UBC-STAT/stat545.stat.ubc.ca/raw/master/content/data/worksheet_04a/answer2.1.png)"
      ]
    },
    {
      "cell_type": "code",
      "execution_count": null,
      "metadata": {
        "deletable": false,
        "nbgrader": {
          "cell_type": "code",
          "checksum": "576225da011ab4f9b458ba61188e43b9",
          "grade": false,
          "grade_id": "cell-aa203ff65e28a500",
          "locked": false,
          "schema_version": 3,
          "solution": true,
          "task": false
        },
        "colab": {
          "base_uri": "https://localhost:8080/",
          "height": 1000
        },
        "id": "SrKYk7LMpiTl",
        "outputId": "bfa19776-da4e-405d-9d51-34117fc6cc39"
      },
      "outputs": [
        {
          "output_type": "display_data",
          "data": {
            "text/html": [
              "<table class=\"dataframe\">\n",
              "<caption>A tibble: 90 × 5</caption>\n",
              "<thead>\n",
              "\t<tr><th scope=col>party</th><th scope=col>name</th><th scope=col>event</th><th scope=col>meal</th><th scope=col>attendance</th></tr>\n",
              "\t<tr><th scope=col>&lt;dbl&gt;</th><th scope=col>&lt;chr&gt;</th><th scope=col>&lt;chr&gt;</th><th scope=col>&lt;chr&gt;</th><th scope=col>&lt;chr&gt;</th></tr>\n",
              "</thead>\n",
              "<tbody>\n",
              "\t<tr><td>1</td><td>Sommer Medrano  </td><td>wedding</td><td>PENDING   </td><td>PENDING  </td></tr>\n",
              "\t<tr><td>1</td><td>Sommer Medrano  </td><td>brunch </td><td>PENDING   </td><td>PENDING  </td></tr>\n",
              "\t<tr><td>1</td><td>Sommer Medrano  </td><td>golf   </td><td>NA        </td><td>PENDING  </td></tr>\n",
              "\t<tr><td>1</td><td>Phillip Medrano </td><td>wedding</td><td>vegetarian</td><td>CONFIRMED</td></tr>\n",
              "\t<tr><td>1</td><td>Phillip Medrano </td><td>brunch </td><td>Menu C    </td><td>CONFIRMED</td></tr>\n",
              "\t<tr><td>1</td><td>Phillip Medrano </td><td>golf   </td><td>NA        </td><td>CONFIRMED</td></tr>\n",
              "\t<tr><td>1</td><td>Blanka Medrano  </td><td>wedding</td><td>chicken   </td><td>CONFIRMED</td></tr>\n",
              "\t<tr><td>1</td><td>Blanka Medrano  </td><td>brunch </td><td>Menu A    </td><td>CONFIRMED</td></tr>\n",
              "\t<tr><td>1</td><td>Blanka Medrano  </td><td>golf   </td><td>NA        </td><td>CONFIRMED</td></tr>\n",
              "\t<tr><td>1</td><td>Emaan Medrano   </td><td>wedding</td><td>PENDING   </td><td>PENDING  </td></tr>\n",
              "\t<tr><td>1</td><td>Emaan Medrano   </td><td>brunch </td><td>PENDING   </td><td>PENDING  </td></tr>\n",
              "\t<tr><td>1</td><td>Emaan Medrano   </td><td>golf   </td><td>NA        </td><td>PENDING  </td></tr>\n",
              "\t<tr><td>2</td><td>Blair Park      </td><td>wedding</td><td>chicken   </td><td>CONFIRMED</td></tr>\n",
              "\t<tr><td>2</td><td>Blair Park      </td><td>brunch </td><td>Menu C    </td><td>CONFIRMED</td></tr>\n",
              "\t<tr><td>2</td><td>Blair Park      </td><td>golf   </td><td>NA        </td><td>CONFIRMED</td></tr>\n",
              "\t<tr><td>2</td><td>Nigel Webb      </td><td>wedding</td><td>NA        </td><td>CANCELLED</td></tr>\n",
              "\t<tr><td>2</td><td>Nigel Webb      </td><td>brunch </td><td>NA        </td><td>CANCELLED</td></tr>\n",
              "\t<tr><td>2</td><td>Nigel Webb      </td><td>golf   </td><td>NA        </td><td>CANCELLED</td></tr>\n",
              "\t<tr><td>3</td><td>Sinead English  </td><td>wedding</td><td>PENDING   </td><td>PENDING  </td></tr>\n",
              "\t<tr><td>3</td><td>Sinead English  </td><td>brunch </td><td>PENDING   </td><td>PENDING  </td></tr>\n",
              "\t<tr><td>3</td><td>Sinead English  </td><td>golf   </td><td>NA        </td><td>PENDING  </td></tr>\n",
              "\t<tr><td>4</td><td>Ayra Marks      </td><td>wedding</td><td>vegetarian</td><td>PENDING  </td></tr>\n",
              "\t<tr><td>4</td><td>Ayra Marks      </td><td>brunch </td><td>Menu B    </td><td>PENDING  </td></tr>\n",
              "\t<tr><td>4</td><td>Ayra Marks      </td><td>golf   </td><td>NA        </td><td>PENDING  </td></tr>\n",
              "\t<tr><td>5</td><td>Atlanta Connolly</td><td>wedding</td><td>PENDING   </td><td>PENDING  </td></tr>\n",
              "\t<tr><td>5</td><td>Atlanta Connolly</td><td>brunch </td><td>PENDING   </td><td>PENDING  </td></tr>\n",
              "\t<tr><td>5</td><td>Atlanta Connolly</td><td>golf   </td><td>NA        </td><td>PENDING  </td></tr>\n",
              "\t<tr><td>5</td><td>Denzel Connolly </td><td>wedding</td><td>fish      </td><td>CONFIRMED</td></tr>\n",
              "\t<tr><td>5</td><td>Denzel Connolly </td><td>brunch </td><td>Menu B    </td><td>CONFIRMED</td></tr>\n",
              "\t<tr><td>5</td><td>Denzel Connolly </td><td>golf   </td><td>NA        </td><td>CONFIRMED</td></tr>\n",
              "\t<tr><td>⋮</td><td>⋮</td><td>⋮</td><td>⋮</td><td>⋮</td></tr>\n",
              "\t<tr><td>12</td><td>Martin Caldwell </td><td>wedding</td><td>PENDING   </td><td>PENDING  </td></tr>\n",
              "\t<tr><td>12</td><td>Martin Caldwell </td><td>brunch </td><td>PENDING   </td><td>PENDING  </td></tr>\n",
              "\t<tr><td>12</td><td>Martin Caldwell </td><td>golf   </td><td>NA        </td><td>PENDING  </td></tr>\n",
              "\t<tr><td>12</td><td>Violet Caldwell </td><td>wedding</td><td>PENDING   </td><td>PENDING  </td></tr>\n",
              "\t<tr><td>12</td><td>Violet Caldwell </td><td>brunch </td><td>PENDING   </td><td>PENDING  </td></tr>\n",
              "\t<tr><td>12</td><td>Violet Caldwell </td><td>golf   </td><td>NA        </td><td>PENDING  </td></tr>\n",
              "\t<tr><td>12</td><td>Nazifa Caldwell </td><td>wedding</td><td>chicken   </td><td>PENDING  </td></tr>\n",
              "\t<tr><td>12</td><td>Nazifa Caldwell </td><td>brunch </td><td>PENDING   </td><td>PENDING  </td></tr>\n",
              "\t<tr><td>12</td><td>Nazifa Caldwell </td><td>golf   </td><td>NA        </td><td>PENDING  </td></tr>\n",
              "\t<tr><td>12</td><td>Eric Caldwell   </td><td>wedding</td><td>chicken   </td><td>CONFIRMED</td></tr>\n",
              "\t<tr><td>12</td><td>Eric Caldwell   </td><td>brunch </td><td>Menu B    </td><td>CONFIRMED</td></tr>\n",
              "\t<tr><td>12</td><td>Eric Caldwell   </td><td>golf   </td><td>NA        </td><td>CONFIRMED</td></tr>\n",
              "\t<tr><td>13</td><td>Rosanna Bird    </td><td>wedding</td><td>vegetarian</td><td>CONFIRMED</td></tr>\n",
              "\t<tr><td>13</td><td>Rosanna Bird    </td><td>brunch </td><td>Menu C    </td><td>CONFIRMED</td></tr>\n",
              "\t<tr><td>13</td><td>Rosanna Bird    </td><td>golf   </td><td>NA        </td><td>CONFIRMED</td></tr>\n",
              "\t<tr><td>13</td><td>Kurtis Frost    </td><td>wedding</td><td>PENDING   </td><td>PENDING  </td></tr>\n",
              "\t<tr><td>13</td><td>Kurtis Frost    </td><td>brunch </td><td>PENDING   </td><td>PENDING  </td></tr>\n",
              "\t<tr><td>13</td><td>Kurtis Frost    </td><td>golf   </td><td>NA        </td><td>PENDING  </td></tr>\n",
              "\t<tr><td>14</td><td>Huma Stokes     </td><td>wedding</td><td>NA        </td><td>CANCELLED</td></tr>\n",
              "\t<tr><td>14</td><td>Huma Stokes     </td><td>brunch </td><td>NA        </td><td>CANCELLED</td></tr>\n",
              "\t<tr><td>14</td><td>Huma Stokes     </td><td>golf   </td><td>NA        </td><td>CANCELLED</td></tr>\n",
              "\t<tr><td>14</td><td>Samuel Rutledge </td><td>wedding</td><td>chicken   </td><td>CONFIRMED</td></tr>\n",
              "\t<tr><td>14</td><td>Samuel Rutledge </td><td>brunch </td><td>Menu C    </td><td>CONFIRMED</td></tr>\n",
              "\t<tr><td>14</td><td>Samuel Rutledge </td><td>golf   </td><td>NA        </td><td>CONFIRMED</td></tr>\n",
              "\t<tr><td>15</td><td>Eddison Collier </td><td>wedding</td><td>PENDING   </td><td>PENDING  </td></tr>\n",
              "\t<tr><td>15</td><td>Eddison Collier </td><td>brunch </td><td>PENDING   </td><td>PENDING  </td></tr>\n",
              "\t<tr><td>15</td><td>Eddison Collier </td><td>golf   </td><td>NA        </td><td>PENDING  </td></tr>\n",
              "\t<tr><td>15</td><td>Stewart Nicholls</td><td>wedding</td><td>chicken   </td><td>CONFIRMED</td></tr>\n",
              "\t<tr><td>15</td><td>Stewart Nicholls</td><td>brunch </td><td>Menu B    </td><td>CONFIRMED</td></tr>\n",
              "\t<tr><td>15</td><td>Stewart Nicholls</td><td>golf   </td><td>NA        </td><td>CONFIRMED</td></tr>\n",
              "</tbody>\n",
              "</table>\n"
            ],
            "text/markdown": "\nA tibble: 90 × 5\n\n| party &lt;dbl&gt; | name &lt;chr&gt; | event &lt;chr&gt; | meal &lt;chr&gt; | attendance &lt;chr&gt; |\n|---|---|---|---|---|\n| 1 | Sommer Medrano   | wedding | PENDING    | PENDING   |\n| 1 | Sommer Medrano   | brunch  | PENDING    | PENDING   |\n| 1 | Sommer Medrano   | golf    | NA         | PENDING   |\n| 1 | Phillip Medrano  | wedding | vegetarian | CONFIRMED |\n| 1 | Phillip Medrano  | brunch  | Menu C     | CONFIRMED |\n| 1 | Phillip Medrano  | golf    | NA         | CONFIRMED |\n| 1 | Blanka Medrano   | wedding | chicken    | CONFIRMED |\n| 1 | Blanka Medrano   | brunch  | Menu A     | CONFIRMED |\n| 1 | Blanka Medrano   | golf    | NA         | CONFIRMED |\n| 1 | Emaan Medrano    | wedding | PENDING    | PENDING   |\n| 1 | Emaan Medrano    | brunch  | PENDING    | PENDING   |\n| 1 | Emaan Medrano    | golf    | NA         | PENDING   |\n| 2 | Blair Park       | wedding | chicken    | CONFIRMED |\n| 2 | Blair Park       | brunch  | Menu C     | CONFIRMED |\n| 2 | Blair Park       | golf    | NA         | CONFIRMED |\n| 2 | Nigel Webb       | wedding | NA         | CANCELLED |\n| 2 | Nigel Webb       | brunch  | NA         | CANCELLED |\n| 2 | Nigel Webb       | golf    | NA         | CANCELLED |\n| 3 | Sinead English   | wedding | PENDING    | PENDING   |\n| 3 | Sinead English   | brunch  | PENDING    | PENDING   |\n| 3 | Sinead English   | golf    | NA         | PENDING   |\n| 4 | Ayra Marks       | wedding | vegetarian | PENDING   |\n| 4 | Ayra Marks       | brunch  | Menu B     | PENDING   |\n| 4 | Ayra Marks       | golf    | NA         | PENDING   |\n| 5 | Atlanta Connolly | wedding | PENDING    | PENDING   |\n| 5 | Atlanta Connolly | brunch  | PENDING    | PENDING   |\n| 5 | Atlanta Connolly | golf    | NA         | PENDING   |\n| 5 | Denzel Connolly  | wedding | fish       | CONFIRMED |\n| 5 | Denzel Connolly  | brunch  | Menu B     | CONFIRMED |\n| 5 | Denzel Connolly  | golf    | NA         | CONFIRMED |\n| ⋮ | ⋮ | ⋮ | ⋮ | ⋮ |\n| 12 | Martin Caldwell  | wedding | PENDING    | PENDING   |\n| 12 | Martin Caldwell  | brunch  | PENDING    | PENDING   |\n| 12 | Martin Caldwell  | golf    | NA         | PENDING   |\n| 12 | Violet Caldwell  | wedding | PENDING    | PENDING   |\n| 12 | Violet Caldwell  | brunch  | PENDING    | PENDING   |\n| 12 | Violet Caldwell  | golf    | NA         | PENDING   |\n| 12 | Nazifa Caldwell  | wedding | chicken    | PENDING   |\n| 12 | Nazifa Caldwell  | brunch  | PENDING    | PENDING   |\n| 12 | Nazifa Caldwell  | golf    | NA         | PENDING   |\n| 12 | Eric Caldwell    | wedding | chicken    | CONFIRMED |\n| 12 | Eric Caldwell    | brunch  | Menu B     | CONFIRMED |\n| 12 | Eric Caldwell    | golf    | NA         | CONFIRMED |\n| 13 | Rosanna Bird     | wedding | vegetarian | CONFIRMED |\n| 13 | Rosanna Bird     | brunch  | Menu C     | CONFIRMED |\n| 13 | Rosanna Bird     | golf    | NA         | CONFIRMED |\n| 13 | Kurtis Frost     | wedding | PENDING    | PENDING   |\n| 13 | Kurtis Frost     | brunch  | PENDING    | PENDING   |\n| 13 | Kurtis Frost     | golf    | NA         | PENDING   |\n| 14 | Huma Stokes      | wedding | NA         | CANCELLED |\n| 14 | Huma Stokes      | brunch  | NA         | CANCELLED |\n| 14 | Huma Stokes      | golf    | NA         | CANCELLED |\n| 14 | Samuel Rutledge  | wedding | chicken    | CONFIRMED |\n| 14 | Samuel Rutledge  | brunch  | Menu C     | CONFIRMED |\n| 14 | Samuel Rutledge  | golf    | NA         | CONFIRMED |\n| 15 | Eddison Collier  | wedding | PENDING    | PENDING   |\n| 15 | Eddison Collier  | brunch  | PENDING    | PENDING   |\n| 15 | Eddison Collier  | golf    | NA         | PENDING   |\n| 15 | Stewart Nicholls | wedding | chicken    | CONFIRMED |\n| 15 | Stewart Nicholls | brunch  | Menu B     | CONFIRMED |\n| 15 | Stewart Nicholls | golf    | NA         | CONFIRMED |\n\n",
            "text/latex": "A tibble: 90 × 5\n\\begin{tabular}{lllll}\n party & name & event & meal & attendance\\\\\n <dbl> & <chr> & <chr> & <chr> & <chr>\\\\\n\\hline\n\t 1 & Sommer Medrano   & wedding & PENDING    & PENDING  \\\\\n\t 1 & Sommer Medrano   & brunch  & PENDING    & PENDING  \\\\\n\t 1 & Sommer Medrano   & golf    & NA         & PENDING  \\\\\n\t 1 & Phillip Medrano  & wedding & vegetarian & CONFIRMED\\\\\n\t 1 & Phillip Medrano  & brunch  & Menu C     & CONFIRMED\\\\\n\t 1 & Phillip Medrano  & golf    & NA         & CONFIRMED\\\\\n\t 1 & Blanka Medrano   & wedding & chicken    & CONFIRMED\\\\\n\t 1 & Blanka Medrano   & brunch  & Menu A     & CONFIRMED\\\\\n\t 1 & Blanka Medrano   & golf    & NA         & CONFIRMED\\\\\n\t 1 & Emaan Medrano    & wedding & PENDING    & PENDING  \\\\\n\t 1 & Emaan Medrano    & brunch  & PENDING    & PENDING  \\\\\n\t 1 & Emaan Medrano    & golf    & NA         & PENDING  \\\\\n\t 2 & Blair Park       & wedding & chicken    & CONFIRMED\\\\\n\t 2 & Blair Park       & brunch  & Menu C     & CONFIRMED\\\\\n\t 2 & Blair Park       & golf    & NA         & CONFIRMED\\\\\n\t 2 & Nigel Webb       & wedding & NA         & CANCELLED\\\\\n\t 2 & Nigel Webb       & brunch  & NA         & CANCELLED\\\\\n\t 2 & Nigel Webb       & golf    & NA         & CANCELLED\\\\\n\t 3 & Sinead English   & wedding & PENDING    & PENDING  \\\\\n\t 3 & Sinead English   & brunch  & PENDING    & PENDING  \\\\\n\t 3 & Sinead English   & golf    & NA         & PENDING  \\\\\n\t 4 & Ayra Marks       & wedding & vegetarian & PENDING  \\\\\n\t 4 & Ayra Marks       & brunch  & Menu B     & PENDING  \\\\\n\t 4 & Ayra Marks       & golf    & NA         & PENDING  \\\\\n\t 5 & Atlanta Connolly & wedding & PENDING    & PENDING  \\\\\n\t 5 & Atlanta Connolly & brunch  & PENDING    & PENDING  \\\\\n\t 5 & Atlanta Connolly & golf    & NA         & PENDING  \\\\\n\t 5 & Denzel Connolly  & wedding & fish       & CONFIRMED\\\\\n\t 5 & Denzel Connolly  & brunch  & Menu B     & CONFIRMED\\\\\n\t 5 & Denzel Connolly  & golf    & NA         & CONFIRMED\\\\\n\t ⋮ & ⋮ & ⋮ & ⋮ & ⋮\\\\\n\t 12 & Martin Caldwell  & wedding & PENDING    & PENDING  \\\\\n\t 12 & Martin Caldwell  & brunch  & PENDING    & PENDING  \\\\\n\t 12 & Martin Caldwell  & golf    & NA         & PENDING  \\\\\n\t 12 & Violet Caldwell  & wedding & PENDING    & PENDING  \\\\\n\t 12 & Violet Caldwell  & brunch  & PENDING    & PENDING  \\\\\n\t 12 & Violet Caldwell  & golf    & NA         & PENDING  \\\\\n\t 12 & Nazifa Caldwell  & wedding & chicken    & PENDING  \\\\\n\t 12 & Nazifa Caldwell  & brunch  & PENDING    & PENDING  \\\\\n\t 12 & Nazifa Caldwell  & golf    & NA         & PENDING  \\\\\n\t 12 & Eric Caldwell    & wedding & chicken    & CONFIRMED\\\\\n\t 12 & Eric Caldwell    & brunch  & Menu B     & CONFIRMED\\\\\n\t 12 & Eric Caldwell    & golf    & NA         & CONFIRMED\\\\\n\t 13 & Rosanna Bird     & wedding & vegetarian & CONFIRMED\\\\\n\t 13 & Rosanna Bird     & brunch  & Menu C     & CONFIRMED\\\\\n\t 13 & Rosanna Bird     & golf    & NA         & CONFIRMED\\\\\n\t 13 & Kurtis Frost     & wedding & PENDING    & PENDING  \\\\\n\t 13 & Kurtis Frost     & brunch  & PENDING    & PENDING  \\\\\n\t 13 & Kurtis Frost     & golf    & NA         & PENDING  \\\\\n\t 14 & Huma Stokes      & wedding & NA         & CANCELLED\\\\\n\t 14 & Huma Stokes      & brunch  & NA         & CANCELLED\\\\\n\t 14 & Huma Stokes      & golf    & NA         & CANCELLED\\\\\n\t 14 & Samuel Rutledge  & wedding & chicken    & CONFIRMED\\\\\n\t 14 & Samuel Rutledge  & brunch  & Menu C     & CONFIRMED\\\\\n\t 14 & Samuel Rutledge  & golf    & NA         & CONFIRMED\\\\\n\t 15 & Eddison Collier  & wedding & PENDING    & PENDING  \\\\\n\t 15 & Eddison Collier  & brunch  & PENDING    & PENDING  \\\\\n\t 15 & Eddison Collier  & golf    & NA         & PENDING  \\\\\n\t 15 & Stewart Nicholls & wedding & chicken    & CONFIRMED\\\\\n\t 15 & Stewart Nicholls & brunch  & Menu B     & CONFIRMED\\\\\n\t 15 & Stewart Nicholls & golf    & NA         & CONFIRMED\\\\\n\\end{tabular}\n",
            "text/plain": [
              "   party name             event   meal       attendance\n",
              "1  1     Sommer Medrano   wedding PENDING    PENDING   \n",
              "2  1     Sommer Medrano   brunch  PENDING    PENDING   \n",
              "3  1     Sommer Medrano   golf    NA         PENDING   \n",
              "4  1     Phillip Medrano  wedding vegetarian CONFIRMED \n",
              "5  1     Phillip Medrano  brunch  Menu C     CONFIRMED \n",
              "6  1     Phillip Medrano  golf    NA         CONFIRMED \n",
              "7  1     Blanka Medrano   wedding chicken    CONFIRMED \n",
              "8  1     Blanka Medrano   brunch  Menu A     CONFIRMED \n",
              "9  1     Blanka Medrano   golf    NA         CONFIRMED \n",
              "10 1     Emaan Medrano    wedding PENDING    PENDING   \n",
              "11 1     Emaan Medrano    brunch  PENDING    PENDING   \n",
              "12 1     Emaan Medrano    golf    NA         PENDING   \n",
              "13 2     Blair Park       wedding chicken    CONFIRMED \n",
              "14 2     Blair Park       brunch  Menu C     CONFIRMED \n",
              "15 2     Blair Park       golf    NA         CONFIRMED \n",
              "16 2     Nigel Webb       wedding NA         CANCELLED \n",
              "17 2     Nigel Webb       brunch  NA         CANCELLED \n",
              "18 2     Nigel Webb       golf    NA         CANCELLED \n",
              "19 3     Sinead English   wedding PENDING    PENDING   \n",
              "20 3     Sinead English   brunch  PENDING    PENDING   \n",
              "21 3     Sinead English   golf    NA         PENDING   \n",
              "22 4     Ayra Marks       wedding vegetarian PENDING   \n",
              "23 4     Ayra Marks       brunch  Menu B     PENDING   \n",
              "24 4     Ayra Marks       golf    NA         PENDING   \n",
              "25 5     Atlanta Connolly wedding PENDING    PENDING   \n",
              "26 5     Atlanta Connolly brunch  PENDING    PENDING   \n",
              "27 5     Atlanta Connolly golf    NA         PENDING   \n",
              "28 5     Denzel Connolly  wedding fish       CONFIRMED \n",
              "29 5     Denzel Connolly  brunch  Menu B     CONFIRMED \n",
              "30 5     Denzel Connolly  golf    NA         CONFIRMED \n",
              "⋮  ⋮     ⋮                ⋮       ⋮          ⋮         \n",
              "61 12    Martin Caldwell  wedding PENDING    PENDING   \n",
              "62 12    Martin Caldwell  brunch  PENDING    PENDING   \n",
              "63 12    Martin Caldwell  golf    NA         PENDING   \n",
              "64 12    Violet Caldwell  wedding PENDING    PENDING   \n",
              "65 12    Violet Caldwell  brunch  PENDING    PENDING   \n",
              "66 12    Violet Caldwell  golf    NA         PENDING   \n",
              "67 12    Nazifa Caldwell  wedding chicken    PENDING   \n",
              "68 12    Nazifa Caldwell  brunch  PENDING    PENDING   \n",
              "69 12    Nazifa Caldwell  golf    NA         PENDING   \n",
              "70 12    Eric Caldwell    wedding chicken    CONFIRMED \n",
              "71 12    Eric Caldwell    brunch  Menu B     CONFIRMED \n",
              "72 12    Eric Caldwell    golf    NA         CONFIRMED \n",
              "73 13    Rosanna Bird     wedding vegetarian CONFIRMED \n",
              "74 13    Rosanna Bird     brunch  Menu C     CONFIRMED \n",
              "75 13    Rosanna Bird     golf    NA         CONFIRMED \n",
              "76 13    Kurtis Frost     wedding PENDING    PENDING   \n",
              "77 13    Kurtis Frost     brunch  PENDING    PENDING   \n",
              "78 13    Kurtis Frost     golf    NA         PENDING   \n",
              "79 14    Huma Stokes      wedding NA         CANCELLED \n",
              "80 14    Huma Stokes      brunch  NA         CANCELLED \n",
              "81 14    Huma Stokes      golf    NA         CANCELLED \n",
              "82 14    Samuel Rutledge  wedding chicken    CONFIRMED \n",
              "83 14    Samuel Rutledge  brunch  Menu C     CONFIRMED \n",
              "84 14    Samuel Rutledge  golf    NA         CONFIRMED \n",
              "85 15    Eddison Collier  wedding PENDING    PENDING   \n",
              "86 15    Eddison Collier  brunch  PENDING    PENDING   \n",
              "87 15    Eddison Collier  golf    NA         PENDING   \n",
              "88 15    Stewart Nicholls wedding chicken    CONFIRMED \n",
              "89 15    Stewart Nicholls brunch  Menu B     CONFIRMED \n",
              "90 15    Stewart Nicholls golf    NA         CONFIRMED "
            ]
          },
          "metadata": {}
        },
        {
          "output_type": "stream",
          "name": "stdout",
          "text": [
            "\u001b[90m# A tibble: 90 × 5\u001b[39m\n",
            "   party name            event   meal       attendance\n",
            "   \u001b[3m\u001b[90m<dbl>\u001b[39m\u001b[23m \u001b[3m\u001b[90m<chr>\u001b[39m\u001b[23m           \u001b[3m\u001b[90m<chr>\u001b[39m\u001b[23m   \u001b[3m\u001b[90m<chr>\u001b[39m\u001b[23m      \u001b[3m\u001b[90m<chr>\u001b[39m\u001b[23m     \n",
            "\u001b[90m 1\u001b[39m     1 Sommer Medrano  wedding PENDING    PENDING   \n",
            "\u001b[90m 2\u001b[39m     1 Sommer Medrano  brunch  PENDING    PENDING   \n",
            "\u001b[90m 3\u001b[39m     1 Sommer Medrano  golf    \u001b[31mNA\u001b[39m         PENDING   \n",
            "\u001b[90m 4\u001b[39m     1 Phillip Medrano wedding vegetarian CONFIRMED \n",
            "\u001b[90m 5\u001b[39m     1 Phillip Medrano brunch  Menu C     CONFIRMED \n",
            "\u001b[90m 6\u001b[39m     1 Phillip Medrano golf    \u001b[31mNA\u001b[39m         CONFIRMED \n",
            "\u001b[90m 7\u001b[39m     1 Blanka Medrano  wedding chicken    CONFIRMED \n",
            "\u001b[90m 8\u001b[39m     1 Blanka Medrano  brunch  Menu A     CONFIRMED \n",
            "\u001b[90m 9\u001b[39m     1 Blanka Medrano  golf    \u001b[31mNA\u001b[39m         CONFIRMED \n",
            "\u001b[90m10\u001b[39m     1 Emaan Medrano   wedding PENDING    PENDING   \n",
            "\u001b[90m# ℹ 80 more rows\u001b[39m\n"
          ]
        }
      ],
      "source": [
        "# your code here\n",
        "(answer2.1 <- guest %>%\n",
        "  pivot_longer(\n",
        "    cols      = c( -party, -name),\n",
        "    names_to  = c(\".value\", \"event\"),\n",
        "    names_sep = \"_\"))\n",
        "\n",
        "#fail() # No Answer - remove if you provide an answer\n",
        "print(answer2.1)"
      ]
    },
    {
      "cell_type": "code",
      "execution_count": null,
      "metadata": {
        "deletable": false,
        "editable": false,
        "nbgrader": {
          "cell_type": "code",
          "checksum": "1d7ba33f0a9fbcc874bde93b657eb0c3",
          "grade": true,
          "grade_id": "cell-2f380c98eb6f4b92",
          "locked": true,
          "points": 1,
          "schema_version": 3,
          "solution": false,
          "task": false
        },
        "colab": {
          "base_uri": "https://localhost:8080/"
        },
        "id": "vFmCmvuHpiTl",
        "outputId": "99078e1d-0dad-4460-bae5-e52cef08dd68"
      },
      "outputs": [
        {
          "output_type": "stream",
          "name": "stdout",
          "text": [
            "[1] \"Success!\"\n"
          ]
        }
      ],
      "source": [
        "library(digest)\n",
        "stopifnot(\"answer2.1 should be a data frame\"= setequal(digest(paste(toString('data.frame' %in% class(answer2.1)), \"3a8ce\")), \"1f64ba0c5bd177bd75e4334c4b0048a6\"))\n",
        "stopifnot(\"dimensions of answer2.1 are not correct\"= setequal(digest(paste(toString(dim(answer2.1)), \"3a8ce\")), \"f5a1bafb9f30b3862488edd4c56f16cb\"))\n",
        "stopifnot(\"column names of answer2.1 are not correct\"= setequal(digest(paste(toString(sort(colnames(answer2.1))), \"3a8ce\")), \"7a5071653e3654dca6ae16d29fe4e37b\"))\n",
        "stopifnot(\"types of columns in answer2.1 are not correct\"= setequal(digest(paste(toString(sort(unlist(sapply(answer2.1, class)))), \"3a8ce\")), \"f2459aaf4142fba146c520dbf43803f4\"))\n",
        "stopifnot(\"values in one or more numerical columns in answer2.1 are not correct\"= setequal(digest(paste(toString(if (any(sapply(answer2.1, is.numeric))) sort(round(sapply(answer2.1[, sapply(answer2.1, is.numeric)], sum, na.rm = TRUE), 2)) else 0), \"3a8ce\")), \"5bca589a15b3716ad44bd4a5226a6460\"))\n",
        "stopifnot(\"values in one or more character columns in answer2.1 are not correct\"= setequal(digest(paste(toString(if (any(sapply(answer2.1, is.character))) sum(sapply(answer2.1[sapply(answer2.1, is.character)], function(x) length(unique(x)))) else 0), \"3a8ce\")), \"57e246478ed95aedd4910da19179c77e\"))\n",
        "stopifnot(\"values in one or more factor columns in answer2.1 are not correct\"= setequal(digest(paste(toString(if (any(sapply(answer2.1, is.factor))) sum(sapply(answer2.1[, sapply(answer2.1, is.factor)], function(col) length(unique(col)))) else 0), \"3a8ce\")), \"b8917890f47874def544610ded1c2bcb\"))\n",
        "\n",
        "print('Success!')"
      ]
    },
    {
      "cell_type": "markdown",
      "metadata": {
        "deletable": false,
        "editable": false,
        "nbgrader": {
          "cell_type": "markdown",
          "checksum": "2345802a031b219ecb0c9cf03351bfa8",
          "grade": false,
          "grade_id": "cell-4bf2cab5040a45a4",
          "locked": true,
          "schema_version": 3,
          "solution": false,
          "task": false
        },
        "id": "602WJu-rpiTl"
      },
      "source": [
        "## Question 2.2\n",
        "\n",
        "{points: 1}\n",
        "\n",
        "\n",
        "Use `tidyr::separate()` to split the `name` in `answer2.1` into two columns: `first_name` and `last_name`. Store your answer in `answer2.2`.\n",
        "\n",
        "```\n",
        "(answer2.2 <- answer2.1 %>%\n",
        "  FILL_THIS_IN(FILL_THIS_IN, into = c(FILL_THIS_IN, FILL_THIS_IN), sep=FILL_THIS_IN))\n",
        "```  \n",
        "\n",
        "Your `answer2.2` should look something like this (full tibble not always shown):\n",
        "\n",
        "![answer2.2](https://github.com/UBC-STAT/stat545.stat.ubc.ca/raw/master/content/data/worksheet_04a/answer2.2.png)"
      ]
    },
    {
      "cell_type": "code",
      "execution_count": null,
      "metadata": {
        "deletable": false,
        "nbgrader": {
          "cell_type": "code",
          "checksum": "a141fa3dd02872dad3abb48996c6488b",
          "grade": false,
          "grade_id": "cell-fb46ea7012910edc",
          "locked": false,
          "schema_version": 3,
          "solution": true,
          "task": false
        },
        "colab": {
          "base_uri": "https://localhost:8080/",
          "height": 1000
        },
        "id": "vr8fjpwopiTl",
        "outputId": "a4315e52-9fba-4286-e928-9e2b681870c9"
      },
      "outputs": [
        {
          "output_type": "display_data",
          "data": {
            "text/html": [
              "<table class=\"dataframe\">\n",
              "<caption>A tibble: 90 × 6</caption>\n",
              "<thead>\n",
              "\t<tr><th scope=col>party</th><th scope=col>first_name</th><th scope=col>last_name</th><th scope=col>event</th><th scope=col>meal</th><th scope=col>attendance</th></tr>\n",
              "\t<tr><th scope=col>&lt;dbl&gt;</th><th scope=col>&lt;chr&gt;</th><th scope=col>&lt;chr&gt;</th><th scope=col>&lt;chr&gt;</th><th scope=col>&lt;chr&gt;</th><th scope=col>&lt;chr&gt;</th></tr>\n",
              "</thead>\n",
              "<tbody>\n",
              "\t<tr><td>1</td><td>Sommer </td><td>Medrano </td><td>wedding</td><td>PENDING   </td><td>PENDING  </td></tr>\n",
              "\t<tr><td>1</td><td>Sommer </td><td>Medrano </td><td>brunch </td><td>PENDING   </td><td>PENDING  </td></tr>\n",
              "\t<tr><td>1</td><td>Sommer </td><td>Medrano </td><td>golf   </td><td>NA        </td><td>PENDING  </td></tr>\n",
              "\t<tr><td>1</td><td>Phillip</td><td>Medrano </td><td>wedding</td><td>vegetarian</td><td>CONFIRMED</td></tr>\n",
              "\t<tr><td>1</td><td>Phillip</td><td>Medrano </td><td>brunch </td><td>Menu C    </td><td>CONFIRMED</td></tr>\n",
              "\t<tr><td>1</td><td>Phillip</td><td>Medrano </td><td>golf   </td><td>NA        </td><td>CONFIRMED</td></tr>\n",
              "\t<tr><td>1</td><td>Blanka </td><td>Medrano </td><td>wedding</td><td>chicken   </td><td>CONFIRMED</td></tr>\n",
              "\t<tr><td>1</td><td>Blanka </td><td>Medrano </td><td>brunch </td><td>Menu A    </td><td>CONFIRMED</td></tr>\n",
              "\t<tr><td>1</td><td>Blanka </td><td>Medrano </td><td>golf   </td><td>NA        </td><td>CONFIRMED</td></tr>\n",
              "\t<tr><td>1</td><td>Emaan  </td><td>Medrano </td><td>wedding</td><td>PENDING   </td><td>PENDING  </td></tr>\n",
              "\t<tr><td>1</td><td>Emaan  </td><td>Medrano </td><td>brunch </td><td>PENDING   </td><td>PENDING  </td></tr>\n",
              "\t<tr><td>1</td><td>Emaan  </td><td>Medrano </td><td>golf   </td><td>NA        </td><td>PENDING  </td></tr>\n",
              "\t<tr><td>2</td><td>Blair  </td><td>Park    </td><td>wedding</td><td>chicken   </td><td>CONFIRMED</td></tr>\n",
              "\t<tr><td>2</td><td>Blair  </td><td>Park    </td><td>brunch </td><td>Menu C    </td><td>CONFIRMED</td></tr>\n",
              "\t<tr><td>2</td><td>Blair  </td><td>Park    </td><td>golf   </td><td>NA        </td><td>CONFIRMED</td></tr>\n",
              "\t<tr><td>2</td><td>Nigel  </td><td>Webb    </td><td>wedding</td><td>NA        </td><td>CANCELLED</td></tr>\n",
              "\t<tr><td>2</td><td>Nigel  </td><td>Webb    </td><td>brunch </td><td>NA        </td><td>CANCELLED</td></tr>\n",
              "\t<tr><td>2</td><td>Nigel  </td><td>Webb    </td><td>golf   </td><td>NA        </td><td>CANCELLED</td></tr>\n",
              "\t<tr><td>3</td><td>Sinead </td><td>English </td><td>wedding</td><td>PENDING   </td><td>PENDING  </td></tr>\n",
              "\t<tr><td>3</td><td>Sinead </td><td>English </td><td>brunch </td><td>PENDING   </td><td>PENDING  </td></tr>\n",
              "\t<tr><td>3</td><td>Sinead </td><td>English </td><td>golf   </td><td>NA        </td><td>PENDING  </td></tr>\n",
              "\t<tr><td>4</td><td>Ayra   </td><td>Marks   </td><td>wedding</td><td>vegetarian</td><td>PENDING  </td></tr>\n",
              "\t<tr><td>4</td><td>Ayra   </td><td>Marks   </td><td>brunch </td><td>Menu B    </td><td>PENDING  </td></tr>\n",
              "\t<tr><td>4</td><td>Ayra   </td><td>Marks   </td><td>golf   </td><td>NA        </td><td>PENDING  </td></tr>\n",
              "\t<tr><td>5</td><td>Atlanta</td><td>Connolly</td><td>wedding</td><td>PENDING   </td><td>PENDING  </td></tr>\n",
              "\t<tr><td>5</td><td>Atlanta</td><td>Connolly</td><td>brunch </td><td>PENDING   </td><td>PENDING  </td></tr>\n",
              "\t<tr><td>5</td><td>Atlanta</td><td>Connolly</td><td>golf   </td><td>NA        </td><td>PENDING  </td></tr>\n",
              "\t<tr><td>5</td><td>Denzel </td><td>Connolly</td><td>wedding</td><td>fish      </td><td>CONFIRMED</td></tr>\n",
              "\t<tr><td>5</td><td>Denzel </td><td>Connolly</td><td>brunch </td><td>Menu B    </td><td>CONFIRMED</td></tr>\n",
              "\t<tr><td>5</td><td>Denzel </td><td>Connolly</td><td>golf   </td><td>NA        </td><td>CONFIRMED</td></tr>\n",
              "\t<tr><td>⋮</td><td>⋮</td><td>⋮</td><td>⋮</td><td>⋮</td><td>⋮</td></tr>\n",
              "\t<tr><td>12</td><td>Martin </td><td>Caldwell</td><td>wedding</td><td>PENDING   </td><td>PENDING  </td></tr>\n",
              "\t<tr><td>12</td><td>Martin </td><td>Caldwell</td><td>brunch </td><td>PENDING   </td><td>PENDING  </td></tr>\n",
              "\t<tr><td>12</td><td>Martin </td><td>Caldwell</td><td>golf   </td><td>NA        </td><td>PENDING  </td></tr>\n",
              "\t<tr><td>12</td><td>Violet </td><td>Caldwell</td><td>wedding</td><td>PENDING   </td><td>PENDING  </td></tr>\n",
              "\t<tr><td>12</td><td>Violet </td><td>Caldwell</td><td>brunch </td><td>PENDING   </td><td>PENDING  </td></tr>\n",
              "\t<tr><td>12</td><td>Violet </td><td>Caldwell</td><td>golf   </td><td>NA        </td><td>PENDING  </td></tr>\n",
              "\t<tr><td>12</td><td>Nazifa </td><td>Caldwell</td><td>wedding</td><td>chicken   </td><td>PENDING  </td></tr>\n",
              "\t<tr><td>12</td><td>Nazifa </td><td>Caldwell</td><td>brunch </td><td>PENDING   </td><td>PENDING  </td></tr>\n",
              "\t<tr><td>12</td><td>Nazifa </td><td>Caldwell</td><td>golf   </td><td>NA        </td><td>PENDING  </td></tr>\n",
              "\t<tr><td>12</td><td>Eric   </td><td>Caldwell</td><td>wedding</td><td>chicken   </td><td>CONFIRMED</td></tr>\n",
              "\t<tr><td>12</td><td>Eric   </td><td>Caldwell</td><td>brunch </td><td>Menu B    </td><td>CONFIRMED</td></tr>\n",
              "\t<tr><td>12</td><td>Eric   </td><td>Caldwell</td><td>golf   </td><td>NA        </td><td>CONFIRMED</td></tr>\n",
              "\t<tr><td>13</td><td>Rosanna</td><td>Bird    </td><td>wedding</td><td>vegetarian</td><td>CONFIRMED</td></tr>\n",
              "\t<tr><td>13</td><td>Rosanna</td><td>Bird    </td><td>brunch </td><td>Menu C    </td><td>CONFIRMED</td></tr>\n",
              "\t<tr><td>13</td><td>Rosanna</td><td>Bird    </td><td>golf   </td><td>NA        </td><td>CONFIRMED</td></tr>\n",
              "\t<tr><td>13</td><td>Kurtis </td><td>Frost   </td><td>wedding</td><td>PENDING   </td><td>PENDING  </td></tr>\n",
              "\t<tr><td>13</td><td>Kurtis </td><td>Frost   </td><td>brunch </td><td>PENDING   </td><td>PENDING  </td></tr>\n",
              "\t<tr><td>13</td><td>Kurtis </td><td>Frost   </td><td>golf   </td><td>NA        </td><td>PENDING  </td></tr>\n",
              "\t<tr><td>14</td><td>Huma   </td><td>Stokes  </td><td>wedding</td><td>NA        </td><td>CANCELLED</td></tr>\n",
              "\t<tr><td>14</td><td>Huma   </td><td>Stokes  </td><td>brunch </td><td>NA        </td><td>CANCELLED</td></tr>\n",
              "\t<tr><td>14</td><td>Huma   </td><td>Stokes  </td><td>golf   </td><td>NA        </td><td>CANCELLED</td></tr>\n",
              "\t<tr><td>14</td><td>Samuel </td><td>Rutledge</td><td>wedding</td><td>chicken   </td><td>CONFIRMED</td></tr>\n",
              "\t<tr><td>14</td><td>Samuel </td><td>Rutledge</td><td>brunch </td><td>Menu C    </td><td>CONFIRMED</td></tr>\n",
              "\t<tr><td>14</td><td>Samuel </td><td>Rutledge</td><td>golf   </td><td>NA        </td><td>CONFIRMED</td></tr>\n",
              "\t<tr><td>15</td><td>Eddison</td><td>Collier </td><td>wedding</td><td>PENDING   </td><td>PENDING  </td></tr>\n",
              "\t<tr><td>15</td><td>Eddison</td><td>Collier </td><td>brunch </td><td>PENDING   </td><td>PENDING  </td></tr>\n",
              "\t<tr><td>15</td><td>Eddison</td><td>Collier </td><td>golf   </td><td>NA        </td><td>PENDING  </td></tr>\n",
              "\t<tr><td>15</td><td>Stewart</td><td>Nicholls</td><td>wedding</td><td>chicken   </td><td>CONFIRMED</td></tr>\n",
              "\t<tr><td>15</td><td>Stewart</td><td>Nicholls</td><td>brunch </td><td>Menu B    </td><td>CONFIRMED</td></tr>\n",
              "\t<tr><td>15</td><td>Stewart</td><td>Nicholls</td><td>golf   </td><td>NA        </td><td>CONFIRMED</td></tr>\n",
              "</tbody>\n",
              "</table>\n"
            ],
            "text/markdown": "\nA tibble: 90 × 6\n\n| party &lt;dbl&gt; | first_name &lt;chr&gt; | last_name &lt;chr&gt; | event &lt;chr&gt; | meal &lt;chr&gt; | attendance &lt;chr&gt; |\n|---|---|---|---|---|---|\n| 1 | Sommer  | Medrano  | wedding | PENDING    | PENDING   |\n| 1 | Sommer  | Medrano  | brunch  | PENDING    | PENDING   |\n| 1 | Sommer  | Medrano  | golf    | NA         | PENDING   |\n| 1 | Phillip | Medrano  | wedding | vegetarian | CONFIRMED |\n| 1 | Phillip | Medrano  | brunch  | Menu C     | CONFIRMED |\n| 1 | Phillip | Medrano  | golf    | NA         | CONFIRMED |\n| 1 | Blanka  | Medrano  | wedding | chicken    | CONFIRMED |\n| 1 | Blanka  | Medrano  | brunch  | Menu A     | CONFIRMED |\n| 1 | Blanka  | Medrano  | golf    | NA         | CONFIRMED |\n| 1 | Emaan   | Medrano  | wedding | PENDING    | PENDING   |\n| 1 | Emaan   | Medrano  | brunch  | PENDING    | PENDING   |\n| 1 | Emaan   | Medrano  | golf    | NA         | PENDING   |\n| 2 | Blair   | Park     | wedding | chicken    | CONFIRMED |\n| 2 | Blair   | Park     | brunch  | Menu C     | CONFIRMED |\n| 2 | Blair   | Park     | golf    | NA         | CONFIRMED |\n| 2 | Nigel   | Webb     | wedding | NA         | CANCELLED |\n| 2 | Nigel   | Webb     | brunch  | NA         | CANCELLED |\n| 2 | Nigel   | Webb     | golf    | NA         | CANCELLED |\n| 3 | Sinead  | English  | wedding | PENDING    | PENDING   |\n| 3 | Sinead  | English  | brunch  | PENDING    | PENDING   |\n| 3 | Sinead  | English  | golf    | NA         | PENDING   |\n| 4 | Ayra    | Marks    | wedding | vegetarian | PENDING   |\n| 4 | Ayra    | Marks    | brunch  | Menu B     | PENDING   |\n| 4 | Ayra    | Marks    | golf    | NA         | PENDING   |\n| 5 | Atlanta | Connolly | wedding | PENDING    | PENDING   |\n| 5 | Atlanta | Connolly | brunch  | PENDING    | PENDING   |\n| 5 | Atlanta | Connolly | golf    | NA         | PENDING   |\n| 5 | Denzel  | Connolly | wedding | fish       | CONFIRMED |\n| 5 | Denzel  | Connolly | brunch  | Menu B     | CONFIRMED |\n| 5 | Denzel  | Connolly | golf    | NA         | CONFIRMED |\n| ⋮ | ⋮ | ⋮ | ⋮ | ⋮ | ⋮ |\n| 12 | Martin  | Caldwell | wedding | PENDING    | PENDING   |\n| 12 | Martin  | Caldwell | brunch  | PENDING    | PENDING   |\n| 12 | Martin  | Caldwell | golf    | NA         | PENDING   |\n| 12 | Violet  | Caldwell | wedding | PENDING    | PENDING   |\n| 12 | Violet  | Caldwell | brunch  | PENDING    | PENDING   |\n| 12 | Violet  | Caldwell | golf    | NA         | PENDING   |\n| 12 | Nazifa  | Caldwell | wedding | chicken    | PENDING   |\n| 12 | Nazifa  | Caldwell | brunch  | PENDING    | PENDING   |\n| 12 | Nazifa  | Caldwell | golf    | NA         | PENDING   |\n| 12 | Eric    | Caldwell | wedding | chicken    | CONFIRMED |\n| 12 | Eric    | Caldwell | brunch  | Menu B     | CONFIRMED |\n| 12 | Eric    | Caldwell | golf    | NA         | CONFIRMED |\n| 13 | Rosanna | Bird     | wedding | vegetarian | CONFIRMED |\n| 13 | Rosanna | Bird     | brunch  | Menu C     | CONFIRMED |\n| 13 | Rosanna | Bird     | golf    | NA         | CONFIRMED |\n| 13 | Kurtis  | Frost    | wedding | PENDING    | PENDING   |\n| 13 | Kurtis  | Frost    | brunch  | PENDING    | PENDING   |\n| 13 | Kurtis  | Frost    | golf    | NA         | PENDING   |\n| 14 | Huma    | Stokes   | wedding | NA         | CANCELLED |\n| 14 | Huma    | Stokes   | brunch  | NA         | CANCELLED |\n| 14 | Huma    | Stokes   | golf    | NA         | CANCELLED |\n| 14 | Samuel  | Rutledge | wedding | chicken    | CONFIRMED |\n| 14 | Samuel  | Rutledge | brunch  | Menu C     | CONFIRMED |\n| 14 | Samuel  | Rutledge | golf    | NA         | CONFIRMED |\n| 15 | Eddison | Collier  | wedding | PENDING    | PENDING   |\n| 15 | Eddison | Collier  | brunch  | PENDING    | PENDING   |\n| 15 | Eddison | Collier  | golf    | NA         | PENDING   |\n| 15 | Stewart | Nicholls | wedding | chicken    | CONFIRMED |\n| 15 | Stewart | Nicholls | brunch  | Menu B     | CONFIRMED |\n| 15 | Stewart | Nicholls | golf    | NA         | CONFIRMED |\n\n",
            "text/latex": "A tibble: 90 × 6\n\\begin{tabular}{llllll}\n party & first\\_name & last\\_name & event & meal & attendance\\\\\n <dbl> & <chr> & <chr> & <chr> & <chr> & <chr>\\\\\n\\hline\n\t 1 & Sommer  & Medrano  & wedding & PENDING    & PENDING  \\\\\n\t 1 & Sommer  & Medrano  & brunch  & PENDING    & PENDING  \\\\\n\t 1 & Sommer  & Medrano  & golf    & NA         & PENDING  \\\\\n\t 1 & Phillip & Medrano  & wedding & vegetarian & CONFIRMED\\\\\n\t 1 & Phillip & Medrano  & brunch  & Menu C     & CONFIRMED\\\\\n\t 1 & Phillip & Medrano  & golf    & NA         & CONFIRMED\\\\\n\t 1 & Blanka  & Medrano  & wedding & chicken    & CONFIRMED\\\\\n\t 1 & Blanka  & Medrano  & brunch  & Menu A     & CONFIRMED\\\\\n\t 1 & Blanka  & Medrano  & golf    & NA         & CONFIRMED\\\\\n\t 1 & Emaan   & Medrano  & wedding & PENDING    & PENDING  \\\\\n\t 1 & Emaan   & Medrano  & brunch  & PENDING    & PENDING  \\\\\n\t 1 & Emaan   & Medrano  & golf    & NA         & PENDING  \\\\\n\t 2 & Blair   & Park     & wedding & chicken    & CONFIRMED\\\\\n\t 2 & Blair   & Park     & brunch  & Menu C     & CONFIRMED\\\\\n\t 2 & Blair   & Park     & golf    & NA         & CONFIRMED\\\\\n\t 2 & Nigel   & Webb     & wedding & NA         & CANCELLED\\\\\n\t 2 & Nigel   & Webb     & brunch  & NA         & CANCELLED\\\\\n\t 2 & Nigel   & Webb     & golf    & NA         & CANCELLED\\\\\n\t 3 & Sinead  & English  & wedding & PENDING    & PENDING  \\\\\n\t 3 & Sinead  & English  & brunch  & PENDING    & PENDING  \\\\\n\t 3 & Sinead  & English  & golf    & NA         & PENDING  \\\\\n\t 4 & Ayra    & Marks    & wedding & vegetarian & PENDING  \\\\\n\t 4 & Ayra    & Marks    & brunch  & Menu B     & PENDING  \\\\\n\t 4 & Ayra    & Marks    & golf    & NA         & PENDING  \\\\\n\t 5 & Atlanta & Connolly & wedding & PENDING    & PENDING  \\\\\n\t 5 & Atlanta & Connolly & brunch  & PENDING    & PENDING  \\\\\n\t 5 & Atlanta & Connolly & golf    & NA         & PENDING  \\\\\n\t 5 & Denzel  & Connolly & wedding & fish       & CONFIRMED\\\\\n\t 5 & Denzel  & Connolly & brunch  & Menu B     & CONFIRMED\\\\\n\t 5 & Denzel  & Connolly & golf    & NA         & CONFIRMED\\\\\n\t ⋮ & ⋮ & ⋮ & ⋮ & ⋮ & ⋮\\\\\n\t 12 & Martin  & Caldwell & wedding & PENDING    & PENDING  \\\\\n\t 12 & Martin  & Caldwell & brunch  & PENDING    & PENDING  \\\\\n\t 12 & Martin  & Caldwell & golf    & NA         & PENDING  \\\\\n\t 12 & Violet  & Caldwell & wedding & PENDING    & PENDING  \\\\\n\t 12 & Violet  & Caldwell & brunch  & PENDING    & PENDING  \\\\\n\t 12 & Violet  & Caldwell & golf    & NA         & PENDING  \\\\\n\t 12 & Nazifa  & Caldwell & wedding & chicken    & PENDING  \\\\\n\t 12 & Nazifa  & Caldwell & brunch  & PENDING    & PENDING  \\\\\n\t 12 & Nazifa  & Caldwell & golf    & NA         & PENDING  \\\\\n\t 12 & Eric    & Caldwell & wedding & chicken    & CONFIRMED\\\\\n\t 12 & Eric    & Caldwell & brunch  & Menu B     & CONFIRMED\\\\\n\t 12 & Eric    & Caldwell & golf    & NA         & CONFIRMED\\\\\n\t 13 & Rosanna & Bird     & wedding & vegetarian & CONFIRMED\\\\\n\t 13 & Rosanna & Bird     & brunch  & Menu C     & CONFIRMED\\\\\n\t 13 & Rosanna & Bird     & golf    & NA         & CONFIRMED\\\\\n\t 13 & Kurtis  & Frost    & wedding & PENDING    & PENDING  \\\\\n\t 13 & Kurtis  & Frost    & brunch  & PENDING    & PENDING  \\\\\n\t 13 & Kurtis  & Frost    & golf    & NA         & PENDING  \\\\\n\t 14 & Huma    & Stokes   & wedding & NA         & CANCELLED\\\\\n\t 14 & Huma    & Stokes   & brunch  & NA         & CANCELLED\\\\\n\t 14 & Huma    & Stokes   & golf    & NA         & CANCELLED\\\\\n\t 14 & Samuel  & Rutledge & wedding & chicken    & CONFIRMED\\\\\n\t 14 & Samuel  & Rutledge & brunch  & Menu C     & CONFIRMED\\\\\n\t 14 & Samuel  & Rutledge & golf    & NA         & CONFIRMED\\\\\n\t 15 & Eddison & Collier  & wedding & PENDING    & PENDING  \\\\\n\t 15 & Eddison & Collier  & brunch  & PENDING    & PENDING  \\\\\n\t 15 & Eddison & Collier  & golf    & NA         & PENDING  \\\\\n\t 15 & Stewart & Nicholls & wedding & chicken    & CONFIRMED\\\\\n\t 15 & Stewart & Nicholls & brunch  & Menu B     & CONFIRMED\\\\\n\t 15 & Stewart & Nicholls & golf    & NA         & CONFIRMED\\\\\n\\end{tabular}\n",
            "text/plain": [
              "   party first_name last_name event   meal       attendance\n",
              "1  1     Sommer     Medrano   wedding PENDING    PENDING   \n",
              "2  1     Sommer     Medrano   brunch  PENDING    PENDING   \n",
              "3  1     Sommer     Medrano   golf    NA         PENDING   \n",
              "4  1     Phillip    Medrano   wedding vegetarian CONFIRMED \n",
              "5  1     Phillip    Medrano   brunch  Menu C     CONFIRMED \n",
              "6  1     Phillip    Medrano   golf    NA         CONFIRMED \n",
              "7  1     Blanka     Medrano   wedding chicken    CONFIRMED \n",
              "8  1     Blanka     Medrano   brunch  Menu A     CONFIRMED \n",
              "9  1     Blanka     Medrano   golf    NA         CONFIRMED \n",
              "10 1     Emaan      Medrano   wedding PENDING    PENDING   \n",
              "11 1     Emaan      Medrano   brunch  PENDING    PENDING   \n",
              "12 1     Emaan      Medrano   golf    NA         PENDING   \n",
              "13 2     Blair      Park      wedding chicken    CONFIRMED \n",
              "14 2     Blair      Park      brunch  Menu C     CONFIRMED \n",
              "15 2     Blair      Park      golf    NA         CONFIRMED \n",
              "16 2     Nigel      Webb      wedding NA         CANCELLED \n",
              "17 2     Nigel      Webb      brunch  NA         CANCELLED \n",
              "18 2     Nigel      Webb      golf    NA         CANCELLED \n",
              "19 3     Sinead     English   wedding PENDING    PENDING   \n",
              "20 3     Sinead     English   brunch  PENDING    PENDING   \n",
              "21 3     Sinead     English   golf    NA         PENDING   \n",
              "22 4     Ayra       Marks     wedding vegetarian PENDING   \n",
              "23 4     Ayra       Marks     brunch  Menu B     PENDING   \n",
              "24 4     Ayra       Marks     golf    NA         PENDING   \n",
              "25 5     Atlanta    Connolly  wedding PENDING    PENDING   \n",
              "26 5     Atlanta    Connolly  brunch  PENDING    PENDING   \n",
              "27 5     Atlanta    Connolly  golf    NA         PENDING   \n",
              "28 5     Denzel     Connolly  wedding fish       CONFIRMED \n",
              "29 5     Denzel     Connolly  brunch  Menu B     CONFIRMED \n",
              "30 5     Denzel     Connolly  golf    NA         CONFIRMED \n",
              "⋮  ⋮     ⋮          ⋮         ⋮       ⋮          ⋮         \n",
              "61 12    Martin     Caldwell  wedding PENDING    PENDING   \n",
              "62 12    Martin     Caldwell  brunch  PENDING    PENDING   \n",
              "63 12    Martin     Caldwell  golf    NA         PENDING   \n",
              "64 12    Violet     Caldwell  wedding PENDING    PENDING   \n",
              "65 12    Violet     Caldwell  brunch  PENDING    PENDING   \n",
              "66 12    Violet     Caldwell  golf    NA         PENDING   \n",
              "67 12    Nazifa     Caldwell  wedding chicken    PENDING   \n",
              "68 12    Nazifa     Caldwell  brunch  PENDING    PENDING   \n",
              "69 12    Nazifa     Caldwell  golf    NA         PENDING   \n",
              "70 12    Eric       Caldwell  wedding chicken    CONFIRMED \n",
              "71 12    Eric       Caldwell  brunch  Menu B     CONFIRMED \n",
              "72 12    Eric       Caldwell  golf    NA         CONFIRMED \n",
              "73 13    Rosanna    Bird      wedding vegetarian CONFIRMED \n",
              "74 13    Rosanna    Bird      brunch  Menu C     CONFIRMED \n",
              "75 13    Rosanna    Bird      golf    NA         CONFIRMED \n",
              "76 13    Kurtis     Frost     wedding PENDING    PENDING   \n",
              "77 13    Kurtis     Frost     brunch  PENDING    PENDING   \n",
              "78 13    Kurtis     Frost     golf    NA         PENDING   \n",
              "79 14    Huma       Stokes    wedding NA         CANCELLED \n",
              "80 14    Huma       Stokes    brunch  NA         CANCELLED \n",
              "81 14    Huma       Stokes    golf    NA         CANCELLED \n",
              "82 14    Samuel     Rutledge  wedding chicken    CONFIRMED \n",
              "83 14    Samuel     Rutledge  brunch  Menu C     CONFIRMED \n",
              "84 14    Samuel     Rutledge  golf    NA         CONFIRMED \n",
              "85 15    Eddison    Collier   wedding PENDING    PENDING   \n",
              "86 15    Eddison    Collier   brunch  PENDING    PENDING   \n",
              "87 15    Eddison    Collier   golf    NA         PENDING   \n",
              "88 15    Stewart    Nicholls  wedding chicken    CONFIRMED \n",
              "89 15    Stewart    Nicholls  brunch  Menu B     CONFIRMED \n",
              "90 15    Stewart    Nicholls  golf    NA         CONFIRMED "
            ]
          },
          "metadata": {}
        },
        {
          "output_type": "stream",
          "name": "stdout",
          "text": [
            "\u001b[90m# A tibble: 90 × 6\u001b[39m\n",
            "   party first_name last_name event   meal       attendance\n",
            "   \u001b[3m\u001b[90m<dbl>\u001b[39m\u001b[23m \u001b[3m\u001b[90m<chr>\u001b[39m\u001b[23m      \u001b[3m\u001b[90m<chr>\u001b[39m\u001b[23m     \u001b[3m\u001b[90m<chr>\u001b[39m\u001b[23m   \u001b[3m\u001b[90m<chr>\u001b[39m\u001b[23m      \u001b[3m\u001b[90m<chr>\u001b[39m\u001b[23m     \n",
            "\u001b[90m 1\u001b[39m     1 Sommer     Medrano   wedding PENDING    PENDING   \n",
            "\u001b[90m 2\u001b[39m     1 Sommer     Medrano   brunch  PENDING    PENDING   \n",
            "\u001b[90m 3\u001b[39m     1 Sommer     Medrano   golf    \u001b[31mNA\u001b[39m         PENDING   \n",
            "\u001b[90m 4\u001b[39m     1 Phillip    Medrano   wedding vegetarian CONFIRMED \n",
            "\u001b[90m 5\u001b[39m     1 Phillip    Medrano   brunch  Menu C     CONFIRMED \n",
            "\u001b[90m 6\u001b[39m     1 Phillip    Medrano   golf    \u001b[31mNA\u001b[39m         CONFIRMED \n",
            "\u001b[90m 7\u001b[39m     1 Blanka     Medrano   wedding chicken    CONFIRMED \n",
            "\u001b[90m 8\u001b[39m     1 Blanka     Medrano   brunch  Menu A     CONFIRMED \n",
            "\u001b[90m 9\u001b[39m     1 Blanka     Medrano   golf    \u001b[31mNA\u001b[39m         CONFIRMED \n",
            "\u001b[90m10\u001b[39m     1 Emaan      Medrano   wedding PENDING    PENDING   \n",
            "\u001b[90m# ℹ 80 more rows\u001b[39m\n"
          ]
        }
      ],
      "source": [
        "# your code here\n",
        "(answer2.2 <- answer2.1 %>%\n",
        "  tidyr::separate(name, into = c(\"first_name\", \"last_name\"), sep = \" \"))\n",
        "#fail() # No Answer - remove if you provide an answer\n",
        "print(answer2.2)"
      ]
    },
    {
      "cell_type": "code",
      "execution_count": null,
      "metadata": {
        "deletable": false,
        "editable": false,
        "nbgrader": {
          "cell_type": "code",
          "checksum": "e0592b8a598a2656cf8072b6f5fbd142",
          "grade": true,
          "grade_id": "cell-0cba9b35e5add034",
          "locked": true,
          "points": 1,
          "schema_version": 3,
          "solution": false,
          "task": false
        },
        "colab": {
          "base_uri": "https://localhost:8080/"
        },
        "id": "VapwBCyppiTl",
        "outputId": "0cbaebd6-b765-48a3-93ea-e123ae7da54b"
      },
      "outputs": [
        {
          "output_type": "stream",
          "name": "stdout",
          "text": [
            "[1] \"Success!\"\n"
          ]
        }
      ],
      "source": [
        "library(digest)\n",
        "stopifnot(\"answer2.2 should be a data frame\"= setequal(digest(paste(toString('data.frame' %in% class(answer2.2)), \"a128f\")), \"1c23612cde1a8ac7ed65845e10ce7305\"))\n",
        "stopifnot(\"dimensions of answer2.2 are not correct\"= setequal(digest(paste(toString(dim(answer2.2)), \"a128f\")), \"c438f9d2cd74d0613456bdde8b354310\"))\n",
        "stopifnot(\"column names of answer2.2 are not correct\"= setequal(digest(paste(toString(sort(colnames(answer2.2))), \"a128f\")), \"becfc91c1ba34a32a6136054519b99c9\"))\n",
        "stopifnot(\"types of columns in answer2.2 are not correct\"= setequal(digest(paste(toString(sort(unlist(sapply(answer2.2, class)))), \"a128f\")), \"ac5634a037ebc7aa2c3f44872984b838\"))\n",
        "stopifnot(\"values in one or more numerical columns in answer2.2 are not correct\"= setequal(digest(paste(toString(if (any(sapply(answer2.2, is.numeric))) sort(round(sapply(answer2.2[, sapply(answer2.2, is.numeric)], sum, na.rm = TRUE), 2)) else 0), \"a128f\")), \"4dd77c63080dccc91b67bb227deed629\"))\n",
        "stopifnot(\"values in one or more character columns in answer2.2 are not correct\"= setequal(digest(paste(toString(if (any(sapply(answer2.2, is.character))) sum(sapply(answer2.2[sapply(answer2.2, is.character)], function(x) length(unique(x)))) else 0), \"a128f\")), \"b680e6c4f781afbfd3e34c648d8539d9\"))\n",
        "stopifnot(\"values in one or more factor columns in answer2.2 are not correct\"= setequal(digest(paste(toString(if (any(sapply(answer2.2, is.factor))) sum(sapply(answer2.2[, sapply(answer2.2, is.factor)], function(col) length(unique(col)))) else 0), \"a128f\")), \"960544919159fda96112b97f29db170b\"))\n",
        "\n",
        "print('Success!')"
      ]
    },
    {
      "cell_type": "markdown",
      "metadata": {
        "deletable": false,
        "editable": false,
        "nbgrader": {
          "cell_type": "markdown",
          "checksum": "68cc8b7fbd1f14c0ba0cc58c54cda8c6",
          "grade": false,
          "grade_id": "cell-4c777f9f3d24eca8",
          "locked": true,
          "schema_version": 3,
          "solution": false,
          "task": false
        },
        "id": "CuhNEhWVpiTm"
      },
      "source": [
        "### Question 2.3\n",
        "\n",
        "{points: 1}\n",
        "\n",
        "\n",
        "Re-unite `first_name` and `last_name` in `answer2.2` back into `name` using `tidyr::unite()`. Store your answer in `answer2.3`.\n",
        "\n",
        "```\n",
        "(answer2.3 <- answer2.2 %>%\n",
        "    FILL_THIS_IN(col = FILL_THIS_IN, c(FILL_THIS_IN, FILL_THIS_IN), sep = FILL_THIS_IN))\n",
        "```    \n",
        "\n",
        "Your `answer2.3` should look something like this (full tibble not always shown):\n",
        "\n",
        "![answer2.3](https://github.com/UBC-STAT/stat545.stat.ubc.ca/raw/master/content/data/worksheet_04a/answer2.3.png)"
      ]
    },
    {
      "cell_type": "code",
      "execution_count": null,
      "metadata": {
        "deletable": false,
        "nbgrader": {
          "cell_type": "code",
          "checksum": "14c67d43a1fbf9224f7475204e3e3a31",
          "grade": false,
          "grade_id": "cell-955ac07a83ed5e20",
          "locked": false,
          "schema_version": 3,
          "solution": true,
          "task": false
        },
        "colab": {
          "base_uri": "https://localhost:8080/",
          "height": 1000
        },
        "id": "p1QfDsxGpiTm",
        "outputId": "af737e13-f115-4aa8-98d2-c01249501b49"
      },
      "outputs": [
        {
          "output_type": "display_data",
          "data": {
            "text/html": [
              "<table class=\"dataframe\">\n",
              "<caption>A tibble: 90 × 5</caption>\n",
              "<thead>\n",
              "\t<tr><th scope=col>party</th><th scope=col>name</th><th scope=col>event</th><th scope=col>meal</th><th scope=col>attendance</th></tr>\n",
              "\t<tr><th scope=col>&lt;dbl&gt;</th><th scope=col>&lt;chr&gt;</th><th scope=col>&lt;chr&gt;</th><th scope=col>&lt;chr&gt;</th><th scope=col>&lt;chr&gt;</th></tr>\n",
              "</thead>\n",
              "<tbody>\n",
              "\t<tr><td>1</td><td>Sommer Medrano  </td><td>wedding</td><td>PENDING   </td><td>PENDING  </td></tr>\n",
              "\t<tr><td>1</td><td>Sommer Medrano  </td><td>brunch </td><td>PENDING   </td><td>PENDING  </td></tr>\n",
              "\t<tr><td>1</td><td>Sommer Medrano  </td><td>golf   </td><td>NA        </td><td>PENDING  </td></tr>\n",
              "\t<tr><td>1</td><td>Phillip Medrano </td><td>wedding</td><td>vegetarian</td><td>CONFIRMED</td></tr>\n",
              "\t<tr><td>1</td><td>Phillip Medrano </td><td>brunch </td><td>Menu C    </td><td>CONFIRMED</td></tr>\n",
              "\t<tr><td>1</td><td>Phillip Medrano </td><td>golf   </td><td>NA        </td><td>CONFIRMED</td></tr>\n",
              "\t<tr><td>1</td><td>Blanka Medrano  </td><td>wedding</td><td>chicken   </td><td>CONFIRMED</td></tr>\n",
              "\t<tr><td>1</td><td>Blanka Medrano  </td><td>brunch </td><td>Menu A    </td><td>CONFIRMED</td></tr>\n",
              "\t<tr><td>1</td><td>Blanka Medrano  </td><td>golf   </td><td>NA        </td><td>CONFIRMED</td></tr>\n",
              "\t<tr><td>1</td><td>Emaan Medrano   </td><td>wedding</td><td>PENDING   </td><td>PENDING  </td></tr>\n",
              "\t<tr><td>1</td><td>Emaan Medrano   </td><td>brunch </td><td>PENDING   </td><td>PENDING  </td></tr>\n",
              "\t<tr><td>1</td><td>Emaan Medrano   </td><td>golf   </td><td>NA        </td><td>PENDING  </td></tr>\n",
              "\t<tr><td>2</td><td>Blair Park      </td><td>wedding</td><td>chicken   </td><td>CONFIRMED</td></tr>\n",
              "\t<tr><td>2</td><td>Blair Park      </td><td>brunch </td><td>Menu C    </td><td>CONFIRMED</td></tr>\n",
              "\t<tr><td>2</td><td>Blair Park      </td><td>golf   </td><td>NA        </td><td>CONFIRMED</td></tr>\n",
              "\t<tr><td>2</td><td>Nigel Webb      </td><td>wedding</td><td>NA        </td><td>CANCELLED</td></tr>\n",
              "\t<tr><td>2</td><td>Nigel Webb      </td><td>brunch </td><td>NA        </td><td>CANCELLED</td></tr>\n",
              "\t<tr><td>2</td><td>Nigel Webb      </td><td>golf   </td><td>NA        </td><td>CANCELLED</td></tr>\n",
              "\t<tr><td>3</td><td>Sinead English  </td><td>wedding</td><td>PENDING   </td><td>PENDING  </td></tr>\n",
              "\t<tr><td>3</td><td>Sinead English  </td><td>brunch </td><td>PENDING   </td><td>PENDING  </td></tr>\n",
              "\t<tr><td>3</td><td>Sinead English  </td><td>golf   </td><td>NA        </td><td>PENDING  </td></tr>\n",
              "\t<tr><td>4</td><td>Ayra Marks      </td><td>wedding</td><td>vegetarian</td><td>PENDING  </td></tr>\n",
              "\t<tr><td>4</td><td>Ayra Marks      </td><td>brunch </td><td>Menu B    </td><td>PENDING  </td></tr>\n",
              "\t<tr><td>4</td><td>Ayra Marks      </td><td>golf   </td><td>NA        </td><td>PENDING  </td></tr>\n",
              "\t<tr><td>5</td><td>Atlanta Connolly</td><td>wedding</td><td>PENDING   </td><td>PENDING  </td></tr>\n",
              "\t<tr><td>5</td><td>Atlanta Connolly</td><td>brunch </td><td>PENDING   </td><td>PENDING  </td></tr>\n",
              "\t<tr><td>5</td><td>Atlanta Connolly</td><td>golf   </td><td>NA        </td><td>PENDING  </td></tr>\n",
              "\t<tr><td>5</td><td>Denzel Connolly </td><td>wedding</td><td>fish      </td><td>CONFIRMED</td></tr>\n",
              "\t<tr><td>5</td><td>Denzel Connolly </td><td>brunch </td><td>Menu B    </td><td>CONFIRMED</td></tr>\n",
              "\t<tr><td>5</td><td>Denzel Connolly </td><td>golf   </td><td>NA        </td><td>CONFIRMED</td></tr>\n",
              "\t<tr><td>⋮</td><td>⋮</td><td>⋮</td><td>⋮</td><td>⋮</td></tr>\n",
              "\t<tr><td>12</td><td>Martin Caldwell </td><td>wedding</td><td>PENDING   </td><td>PENDING  </td></tr>\n",
              "\t<tr><td>12</td><td>Martin Caldwell </td><td>brunch </td><td>PENDING   </td><td>PENDING  </td></tr>\n",
              "\t<tr><td>12</td><td>Martin Caldwell </td><td>golf   </td><td>NA        </td><td>PENDING  </td></tr>\n",
              "\t<tr><td>12</td><td>Violet Caldwell </td><td>wedding</td><td>PENDING   </td><td>PENDING  </td></tr>\n",
              "\t<tr><td>12</td><td>Violet Caldwell </td><td>brunch </td><td>PENDING   </td><td>PENDING  </td></tr>\n",
              "\t<tr><td>12</td><td>Violet Caldwell </td><td>golf   </td><td>NA        </td><td>PENDING  </td></tr>\n",
              "\t<tr><td>12</td><td>Nazifa Caldwell </td><td>wedding</td><td>chicken   </td><td>PENDING  </td></tr>\n",
              "\t<tr><td>12</td><td>Nazifa Caldwell </td><td>brunch </td><td>PENDING   </td><td>PENDING  </td></tr>\n",
              "\t<tr><td>12</td><td>Nazifa Caldwell </td><td>golf   </td><td>NA        </td><td>PENDING  </td></tr>\n",
              "\t<tr><td>12</td><td>Eric Caldwell   </td><td>wedding</td><td>chicken   </td><td>CONFIRMED</td></tr>\n",
              "\t<tr><td>12</td><td>Eric Caldwell   </td><td>brunch </td><td>Menu B    </td><td>CONFIRMED</td></tr>\n",
              "\t<tr><td>12</td><td>Eric Caldwell   </td><td>golf   </td><td>NA        </td><td>CONFIRMED</td></tr>\n",
              "\t<tr><td>13</td><td>Rosanna Bird    </td><td>wedding</td><td>vegetarian</td><td>CONFIRMED</td></tr>\n",
              "\t<tr><td>13</td><td>Rosanna Bird    </td><td>brunch </td><td>Menu C    </td><td>CONFIRMED</td></tr>\n",
              "\t<tr><td>13</td><td>Rosanna Bird    </td><td>golf   </td><td>NA        </td><td>CONFIRMED</td></tr>\n",
              "\t<tr><td>13</td><td>Kurtis Frost    </td><td>wedding</td><td>PENDING   </td><td>PENDING  </td></tr>\n",
              "\t<tr><td>13</td><td>Kurtis Frost    </td><td>brunch </td><td>PENDING   </td><td>PENDING  </td></tr>\n",
              "\t<tr><td>13</td><td>Kurtis Frost    </td><td>golf   </td><td>NA        </td><td>PENDING  </td></tr>\n",
              "\t<tr><td>14</td><td>Huma Stokes     </td><td>wedding</td><td>NA        </td><td>CANCELLED</td></tr>\n",
              "\t<tr><td>14</td><td>Huma Stokes     </td><td>brunch </td><td>NA        </td><td>CANCELLED</td></tr>\n",
              "\t<tr><td>14</td><td>Huma Stokes     </td><td>golf   </td><td>NA        </td><td>CANCELLED</td></tr>\n",
              "\t<tr><td>14</td><td>Samuel Rutledge </td><td>wedding</td><td>chicken   </td><td>CONFIRMED</td></tr>\n",
              "\t<tr><td>14</td><td>Samuel Rutledge </td><td>brunch </td><td>Menu C    </td><td>CONFIRMED</td></tr>\n",
              "\t<tr><td>14</td><td>Samuel Rutledge </td><td>golf   </td><td>NA        </td><td>CONFIRMED</td></tr>\n",
              "\t<tr><td>15</td><td>Eddison Collier </td><td>wedding</td><td>PENDING   </td><td>PENDING  </td></tr>\n",
              "\t<tr><td>15</td><td>Eddison Collier </td><td>brunch </td><td>PENDING   </td><td>PENDING  </td></tr>\n",
              "\t<tr><td>15</td><td>Eddison Collier </td><td>golf   </td><td>NA        </td><td>PENDING  </td></tr>\n",
              "\t<tr><td>15</td><td>Stewart Nicholls</td><td>wedding</td><td>chicken   </td><td>CONFIRMED</td></tr>\n",
              "\t<tr><td>15</td><td>Stewart Nicholls</td><td>brunch </td><td>Menu B    </td><td>CONFIRMED</td></tr>\n",
              "\t<tr><td>15</td><td>Stewart Nicholls</td><td>golf   </td><td>NA        </td><td>CONFIRMED</td></tr>\n",
              "</tbody>\n",
              "</table>\n"
            ],
            "text/markdown": "\nA tibble: 90 × 5\n\n| party &lt;dbl&gt; | name &lt;chr&gt; | event &lt;chr&gt; | meal &lt;chr&gt; | attendance &lt;chr&gt; |\n|---|---|---|---|---|\n| 1 | Sommer Medrano   | wedding | PENDING    | PENDING   |\n| 1 | Sommer Medrano   | brunch  | PENDING    | PENDING   |\n| 1 | Sommer Medrano   | golf    | NA         | PENDING   |\n| 1 | Phillip Medrano  | wedding | vegetarian | CONFIRMED |\n| 1 | Phillip Medrano  | brunch  | Menu C     | CONFIRMED |\n| 1 | Phillip Medrano  | golf    | NA         | CONFIRMED |\n| 1 | Blanka Medrano   | wedding | chicken    | CONFIRMED |\n| 1 | Blanka Medrano   | brunch  | Menu A     | CONFIRMED |\n| 1 | Blanka Medrano   | golf    | NA         | CONFIRMED |\n| 1 | Emaan Medrano    | wedding | PENDING    | PENDING   |\n| 1 | Emaan Medrano    | brunch  | PENDING    | PENDING   |\n| 1 | Emaan Medrano    | golf    | NA         | PENDING   |\n| 2 | Blair Park       | wedding | chicken    | CONFIRMED |\n| 2 | Blair Park       | brunch  | Menu C     | CONFIRMED |\n| 2 | Blair Park       | golf    | NA         | CONFIRMED |\n| 2 | Nigel Webb       | wedding | NA         | CANCELLED |\n| 2 | Nigel Webb       | brunch  | NA         | CANCELLED |\n| 2 | Nigel Webb       | golf    | NA         | CANCELLED |\n| 3 | Sinead English   | wedding | PENDING    | PENDING   |\n| 3 | Sinead English   | brunch  | PENDING    | PENDING   |\n| 3 | Sinead English   | golf    | NA         | PENDING   |\n| 4 | Ayra Marks       | wedding | vegetarian | PENDING   |\n| 4 | Ayra Marks       | brunch  | Menu B     | PENDING   |\n| 4 | Ayra Marks       | golf    | NA         | PENDING   |\n| 5 | Atlanta Connolly | wedding | PENDING    | PENDING   |\n| 5 | Atlanta Connolly | brunch  | PENDING    | PENDING   |\n| 5 | Atlanta Connolly | golf    | NA         | PENDING   |\n| 5 | Denzel Connolly  | wedding | fish       | CONFIRMED |\n| 5 | Denzel Connolly  | brunch  | Menu B     | CONFIRMED |\n| 5 | Denzel Connolly  | golf    | NA         | CONFIRMED |\n| ⋮ | ⋮ | ⋮ | ⋮ | ⋮ |\n| 12 | Martin Caldwell  | wedding | PENDING    | PENDING   |\n| 12 | Martin Caldwell  | brunch  | PENDING    | PENDING   |\n| 12 | Martin Caldwell  | golf    | NA         | PENDING   |\n| 12 | Violet Caldwell  | wedding | PENDING    | PENDING   |\n| 12 | Violet Caldwell  | brunch  | PENDING    | PENDING   |\n| 12 | Violet Caldwell  | golf    | NA         | PENDING   |\n| 12 | Nazifa Caldwell  | wedding | chicken    | PENDING   |\n| 12 | Nazifa Caldwell  | brunch  | PENDING    | PENDING   |\n| 12 | Nazifa Caldwell  | golf    | NA         | PENDING   |\n| 12 | Eric Caldwell    | wedding | chicken    | CONFIRMED |\n| 12 | Eric Caldwell    | brunch  | Menu B     | CONFIRMED |\n| 12 | Eric Caldwell    | golf    | NA         | CONFIRMED |\n| 13 | Rosanna Bird     | wedding | vegetarian | CONFIRMED |\n| 13 | Rosanna Bird     | brunch  | Menu C     | CONFIRMED |\n| 13 | Rosanna Bird     | golf    | NA         | CONFIRMED |\n| 13 | Kurtis Frost     | wedding | PENDING    | PENDING   |\n| 13 | Kurtis Frost     | brunch  | PENDING    | PENDING   |\n| 13 | Kurtis Frost     | golf    | NA         | PENDING   |\n| 14 | Huma Stokes      | wedding | NA         | CANCELLED |\n| 14 | Huma Stokes      | brunch  | NA         | CANCELLED |\n| 14 | Huma Stokes      | golf    | NA         | CANCELLED |\n| 14 | Samuel Rutledge  | wedding | chicken    | CONFIRMED |\n| 14 | Samuel Rutledge  | brunch  | Menu C     | CONFIRMED |\n| 14 | Samuel Rutledge  | golf    | NA         | CONFIRMED |\n| 15 | Eddison Collier  | wedding | PENDING    | PENDING   |\n| 15 | Eddison Collier  | brunch  | PENDING    | PENDING   |\n| 15 | Eddison Collier  | golf    | NA         | PENDING   |\n| 15 | Stewart Nicholls | wedding | chicken    | CONFIRMED |\n| 15 | Stewart Nicholls | brunch  | Menu B     | CONFIRMED |\n| 15 | Stewart Nicholls | golf    | NA         | CONFIRMED |\n\n",
            "text/latex": "A tibble: 90 × 5\n\\begin{tabular}{lllll}\n party & name & event & meal & attendance\\\\\n <dbl> & <chr> & <chr> & <chr> & <chr>\\\\\n\\hline\n\t 1 & Sommer Medrano   & wedding & PENDING    & PENDING  \\\\\n\t 1 & Sommer Medrano   & brunch  & PENDING    & PENDING  \\\\\n\t 1 & Sommer Medrano   & golf    & NA         & PENDING  \\\\\n\t 1 & Phillip Medrano  & wedding & vegetarian & CONFIRMED\\\\\n\t 1 & Phillip Medrano  & brunch  & Menu C     & CONFIRMED\\\\\n\t 1 & Phillip Medrano  & golf    & NA         & CONFIRMED\\\\\n\t 1 & Blanka Medrano   & wedding & chicken    & CONFIRMED\\\\\n\t 1 & Blanka Medrano   & brunch  & Menu A     & CONFIRMED\\\\\n\t 1 & Blanka Medrano   & golf    & NA         & CONFIRMED\\\\\n\t 1 & Emaan Medrano    & wedding & PENDING    & PENDING  \\\\\n\t 1 & Emaan Medrano    & brunch  & PENDING    & PENDING  \\\\\n\t 1 & Emaan Medrano    & golf    & NA         & PENDING  \\\\\n\t 2 & Blair Park       & wedding & chicken    & CONFIRMED\\\\\n\t 2 & Blair Park       & brunch  & Menu C     & CONFIRMED\\\\\n\t 2 & Blair Park       & golf    & NA         & CONFIRMED\\\\\n\t 2 & Nigel Webb       & wedding & NA         & CANCELLED\\\\\n\t 2 & Nigel Webb       & brunch  & NA         & CANCELLED\\\\\n\t 2 & Nigel Webb       & golf    & NA         & CANCELLED\\\\\n\t 3 & Sinead English   & wedding & PENDING    & PENDING  \\\\\n\t 3 & Sinead English   & brunch  & PENDING    & PENDING  \\\\\n\t 3 & Sinead English   & golf    & NA         & PENDING  \\\\\n\t 4 & Ayra Marks       & wedding & vegetarian & PENDING  \\\\\n\t 4 & Ayra Marks       & brunch  & Menu B     & PENDING  \\\\\n\t 4 & Ayra Marks       & golf    & NA         & PENDING  \\\\\n\t 5 & Atlanta Connolly & wedding & PENDING    & PENDING  \\\\\n\t 5 & Atlanta Connolly & brunch  & PENDING    & PENDING  \\\\\n\t 5 & Atlanta Connolly & golf    & NA         & PENDING  \\\\\n\t 5 & Denzel Connolly  & wedding & fish       & CONFIRMED\\\\\n\t 5 & Denzel Connolly  & brunch  & Menu B     & CONFIRMED\\\\\n\t 5 & Denzel Connolly  & golf    & NA         & CONFIRMED\\\\\n\t ⋮ & ⋮ & ⋮ & ⋮ & ⋮\\\\\n\t 12 & Martin Caldwell  & wedding & PENDING    & PENDING  \\\\\n\t 12 & Martin Caldwell  & brunch  & PENDING    & PENDING  \\\\\n\t 12 & Martin Caldwell  & golf    & NA         & PENDING  \\\\\n\t 12 & Violet Caldwell  & wedding & PENDING    & PENDING  \\\\\n\t 12 & Violet Caldwell  & brunch  & PENDING    & PENDING  \\\\\n\t 12 & Violet Caldwell  & golf    & NA         & PENDING  \\\\\n\t 12 & Nazifa Caldwell  & wedding & chicken    & PENDING  \\\\\n\t 12 & Nazifa Caldwell  & brunch  & PENDING    & PENDING  \\\\\n\t 12 & Nazifa Caldwell  & golf    & NA         & PENDING  \\\\\n\t 12 & Eric Caldwell    & wedding & chicken    & CONFIRMED\\\\\n\t 12 & Eric Caldwell    & brunch  & Menu B     & CONFIRMED\\\\\n\t 12 & Eric Caldwell    & golf    & NA         & CONFIRMED\\\\\n\t 13 & Rosanna Bird     & wedding & vegetarian & CONFIRMED\\\\\n\t 13 & Rosanna Bird     & brunch  & Menu C     & CONFIRMED\\\\\n\t 13 & Rosanna Bird     & golf    & NA         & CONFIRMED\\\\\n\t 13 & Kurtis Frost     & wedding & PENDING    & PENDING  \\\\\n\t 13 & Kurtis Frost     & brunch  & PENDING    & PENDING  \\\\\n\t 13 & Kurtis Frost     & golf    & NA         & PENDING  \\\\\n\t 14 & Huma Stokes      & wedding & NA         & CANCELLED\\\\\n\t 14 & Huma Stokes      & brunch  & NA         & CANCELLED\\\\\n\t 14 & Huma Stokes      & golf    & NA         & CANCELLED\\\\\n\t 14 & Samuel Rutledge  & wedding & chicken    & CONFIRMED\\\\\n\t 14 & Samuel Rutledge  & brunch  & Menu C     & CONFIRMED\\\\\n\t 14 & Samuel Rutledge  & golf    & NA         & CONFIRMED\\\\\n\t 15 & Eddison Collier  & wedding & PENDING    & PENDING  \\\\\n\t 15 & Eddison Collier  & brunch  & PENDING    & PENDING  \\\\\n\t 15 & Eddison Collier  & golf    & NA         & PENDING  \\\\\n\t 15 & Stewart Nicholls & wedding & chicken    & CONFIRMED\\\\\n\t 15 & Stewart Nicholls & brunch  & Menu B     & CONFIRMED\\\\\n\t 15 & Stewart Nicholls & golf    & NA         & CONFIRMED\\\\\n\\end{tabular}\n",
            "text/plain": [
              "   party name             event   meal       attendance\n",
              "1  1     Sommer Medrano   wedding PENDING    PENDING   \n",
              "2  1     Sommer Medrano   brunch  PENDING    PENDING   \n",
              "3  1     Sommer Medrano   golf    NA         PENDING   \n",
              "4  1     Phillip Medrano  wedding vegetarian CONFIRMED \n",
              "5  1     Phillip Medrano  brunch  Menu C     CONFIRMED \n",
              "6  1     Phillip Medrano  golf    NA         CONFIRMED \n",
              "7  1     Blanka Medrano   wedding chicken    CONFIRMED \n",
              "8  1     Blanka Medrano   brunch  Menu A     CONFIRMED \n",
              "9  1     Blanka Medrano   golf    NA         CONFIRMED \n",
              "10 1     Emaan Medrano    wedding PENDING    PENDING   \n",
              "11 1     Emaan Medrano    brunch  PENDING    PENDING   \n",
              "12 1     Emaan Medrano    golf    NA         PENDING   \n",
              "13 2     Blair Park       wedding chicken    CONFIRMED \n",
              "14 2     Blair Park       brunch  Menu C     CONFIRMED \n",
              "15 2     Blair Park       golf    NA         CONFIRMED \n",
              "16 2     Nigel Webb       wedding NA         CANCELLED \n",
              "17 2     Nigel Webb       brunch  NA         CANCELLED \n",
              "18 2     Nigel Webb       golf    NA         CANCELLED \n",
              "19 3     Sinead English   wedding PENDING    PENDING   \n",
              "20 3     Sinead English   brunch  PENDING    PENDING   \n",
              "21 3     Sinead English   golf    NA         PENDING   \n",
              "22 4     Ayra Marks       wedding vegetarian PENDING   \n",
              "23 4     Ayra Marks       brunch  Menu B     PENDING   \n",
              "24 4     Ayra Marks       golf    NA         PENDING   \n",
              "25 5     Atlanta Connolly wedding PENDING    PENDING   \n",
              "26 5     Atlanta Connolly brunch  PENDING    PENDING   \n",
              "27 5     Atlanta Connolly golf    NA         PENDING   \n",
              "28 5     Denzel Connolly  wedding fish       CONFIRMED \n",
              "29 5     Denzel Connolly  brunch  Menu B     CONFIRMED \n",
              "30 5     Denzel Connolly  golf    NA         CONFIRMED \n",
              "⋮  ⋮     ⋮                ⋮       ⋮          ⋮         \n",
              "61 12    Martin Caldwell  wedding PENDING    PENDING   \n",
              "62 12    Martin Caldwell  brunch  PENDING    PENDING   \n",
              "63 12    Martin Caldwell  golf    NA         PENDING   \n",
              "64 12    Violet Caldwell  wedding PENDING    PENDING   \n",
              "65 12    Violet Caldwell  brunch  PENDING    PENDING   \n",
              "66 12    Violet Caldwell  golf    NA         PENDING   \n",
              "67 12    Nazifa Caldwell  wedding chicken    PENDING   \n",
              "68 12    Nazifa Caldwell  brunch  PENDING    PENDING   \n",
              "69 12    Nazifa Caldwell  golf    NA         PENDING   \n",
              "70 12    Eric Caldwell    wedding chicken    CONFIRMED \n",
              "71 12    Eric Caldwell    brunch  Menu B     CONFIRMED \n",
              "72 12    Eric Caldwell    golf    NA         CONFIRMED \n",
              "73 13    Rosanna Bird     wedding vegetarian CONFIRMED \n",
              "74 13    Rosanna Bird     brunch  Menu C     CONFIRMED \n",
              "75 13    Rosanna Bird     golf    NA         CONFIRMED \n",
              "76 13    Kurtis Frost     wedding PENDING    PENDING   \n",
              "77 13    Kurtis Frost     brunch  PENDING    PENDING   \n",
              "78 13    Kurtis Frost     golf    NA         PENDING   \n",
              "79 14    Huma Stokes      wedding NA         CANCELLED \n",
              "80 14    Huma Stokes      brunch  NA         CANCELLED \n",
              "81 14    Huma Stokes      golf    NA         CANCELLED \n",
              "82 14    Samuel Rutledge  wedding chicken    CONFIRMED \n",
              "83 14    Samuel Rutledge  brunch  Menu C     CONFIRMED \n",
              "84 14    Samuel Rutledge  golf    NA         CONFIRMED \n",
              "85 15    Eddison Collier  wedding PENDING    PENDING   \n",
              "86 15    Eddison Collier  brunch  PENDING    PENDING   \n",
              "87 15    Eddison Collier  golf    NA         PENDING   \n",
              "88 15    Stewart Nicholls wedding chicken    CONFIRMED \n",
              "89 15    Stewart Nicholls brunch  Menu B     CONFIRMED \n",
              "90 15    Stewart Nicholls golf    NA         CONFIRMED "
            ]
          },
          "metadata": {}
        },
        {
          "output_type": "stream",
          "name": "stdout",
          "text": [
            "\u001b[90m# A tibble: 90 × 5\u001b[39m\n",
            "   party name            event   meal       attendance\n",
            "   \u001b[3m\u001b[90m<dbl>\u001b[39m\u001b[23m \u001b[3m\u001b[90m<chr>\u001b[39m\u001b[23m           \u001b[3m\u001b[90m<chr>\u001b[39m\u001b[23m   \u001b[3m\u001b[90m<chr>\u001b[39m\u001b[23m      \u001b[3m\u001b[90m<chr>\u001b[39m\u001b[23m     \n",
            "\u001b[90m 1\u001b[39m     1 Sommer Medrano  wedding PENDING    PENDING   \n",
            "\u001b[90m 2\u001b[39m     1 Sommer Medrano  brunch  PENDING    PENDING   \n",
            "\u001b[90m 3\u001b[39m     1 Sommer Medrano  golf    \u001b[31mNA\u001b[39m         PENDING   \n",
            "\u001b[90m 4\u001b[39m     1 Phillip Medrano wedding vegetarian CONFIRMED \n",
            "\u001b[90m 5\u001b[39m     1 Phillip Medrano brunch  Menu C     CONFIRMED \n",
            "\u001b[90m 6\u001b[39m     1 Phillip Medrano golf    \u001b[31mNA\u001b[39m         CONFIRMED \n",
            "\u001b[90m 7\u001b[39m     1 Blanka Medrano  wedding chicken    CONFIRMED \n",
            "\u001b[90m 8\u001b[39m     1 Blanka Medrano  brunch  Menu A     CONFIRMED \n",
            "\u001b[90m 9\u001b[39m     1 Blanka Medrano  golf    \u001b[31mNA\u001b[39m         CONFIRMED \n",
            "\u001b[90m10\u001b[39m     1 Emaan Medrano   wedding PENDING    PENDING   \n",
            "\u001b[90m# ℹ 80 more rows\u001b[39m\n"
          ]
        }
      ],
      "source": [
        "# your code here\n",
        "(answer2.3 <- answer2.2 %>%\n",
        "    tidyr::unite(col = \"name\", c(first_name, last_name), sep = \" \"))\n",
        "\n",
        "#fail() # No Answer - remove if you provide an answer\n",
        "print(answer2.3)"
      ]
    },
    {
      "cell_type": "code",
      "execution_count": null,
      "metadata": {
        "deletable": false,
        "editable": false,
        "nbgrader": {
          "cell_type": "code",
          "checksum": "8107d317eb9304d2f12bc70b2bf04252",
          "grade": true,
          "grade_id": "cell-ee5e83f00c565943",
          "locked": true,
          "points": 1,
          "schema_version": 3,
          "solution": false,
          "task": false
        },
        "colab": {
          "base_uri": "https://localhost:8080/"
        },
        "id": "-FYo0apppiTm",
        "outputId": "8ea00fbb-134a-48cf-88d8-20e49bb159c8"
      },
      "outputs": [
        {
          "output_type": "stream",
          "name": "stdout",
          "text": [
            "[1] \"Success!\"\n"
          ]
        }
      ],
      "source": [
        "library(digest)\n",
        "stopifnot(\"answer2.3 should be a data frame\"= setequal(digest(paste(toString('data.frame' %in% class(answer2.3)), \"bb3e2\")), \"f212ca4503d0b16a9d4dd7c132e18e22\"))\n",
        "stopifnot(\"dimensions of answer2.3 are not correct\"= setequal(digest(paste(toString(dim(answer2.3)), \"bb3e2\")), \"66f45f7b5c80647426397a22a77584c5\"))\n",
        "stopifnot(\"column names of answer2.3 are not correct\"= setequal(digest(paste(toString(sort(colnames(answer2.3))), \"bb3e2\")), \"88d3c70223136d104911c699d66a2aaf\"))\n",
        "stopifnot(\"types of columns in answer2.3 are not correct\"= setequal(digest(paste(toString(sort(unlist(sapply(answer2.3, class)))), \"bb3e2\")), \"efe8dabc512db0814e0c03f77aebcb21\"))\n",
        "stopifnot(\"values in one or more numerical columns in answer2.3 are not correct\"= setequal(digest(paste(toString(if (any(sapply(answer2.3, is.numeric))) sort(round(sapply(answer2.3[, sapply(answer2.3, is.numeric)], sum, na.rm = TRUE), 2)) else 0), \"bb3e2\")), \"f637a61726c9b440d586d0c1245354dc\"))\n",
        "stopifnot(\"values in one or more character columns in answer2.3 are not correct\"= setequal(digest(paste(toString(if (any(sapply(answer2.3, is.character))) sum(sapply(answer2.3[sapply(answer2.3, is.character)], function(x) length(unique(x)))) else 0), \"bb3e2\")), \"9eb74ece9591b6cbb5c7ab8f356a49b0\"))\n",
        "stopifnot(\"values in one or more factor columns in answer2.3 are not correct\"= setequal(digest(paste(toString(if (any(sapply(answer2.3, is.factor))) sum(sapply(answer2.3[, sapply(answer2.3, is.factor)], function(col) length(unique(col)))) else 0), \"bb3e2\")), \"4a8228a6a92c4e1891afeaa42ef87b76\"))\n",
        "\n",
        "print('Success!')"
      ]
    },
    {
      "cell_type": "markdown",
      "metadata": {
        "deletable": false,
        "editable": false,
        "nbgrader": {
          "cell_type": "markdown",
          "checksum": "343d249f5e8cbcb2db8112e979f67dd8",
          "grade": false,
          "grade_id": "cell-defaffa374701c1e",
          "locked": true,
          "schema_version": 3,
          "solution": false,
          "task": false
        },
        "id": "qeGsV7ubpiTm"
      },
      "source": [
        "## Question 2.4\n",
        "\n",
        "{points: 1}\n",
        "\n",
        "\n",
        "Which parties still have a \"PENDING\" attendance status for all of its members and all of the events? Your answer should be a vector of party ID's (not a tibble). Store your answer in `answer2.4`.\n",
        "\n",
        "**Hint**: use `answer2.1` as a starting point. Use `pull()` to access a column as a vector.\n",
        "\n",
        "```\n",
        "answer2.4 <- answer2.1 %>%\n",
        "    group_by(FILL_THIS_IN) %>%\n",
        "    summarize(all_pending = all(FILL_THIS_IN == \"PENDING\")) %>%\n",
        "    filter(all_pending) %>%\n",
        "    FILL_THIS_IN(party)\n",
        "```    "
      ]
    },
    {
      "cell_type": "code",
      "execution_count": null,
      "metadata": {
        "deletable": false,
        "nbgrader": {
          "cell_type": "code",
          "checksum": "85aa81d0f3d83dd9e8cee385fdad9e4e",
          "grade": false,
          "grade_id": "cell-caf4c538c01ad19c",
          "locked": false,
          "schema_version": 3,
          "solution": true,
          "task": false
        },
        "colab": {
          "base_uri": "https://localhost:8080/"
        },
        "id": "8lU-TeinpiTm",
        "outputId": "4fd27a42-c338-4969-ed1f-f28a40a8f362"
      },
      "outputs": [
        {
          "output_type": "stream",
          "name": "stdout",
          "text": [
            "[1]  3  4  8 10\n"
          ]
        }
      ],
      "source": [
        "# your code here\n",
        "answer2.4 <- answer2.1 %>%\n",
        "    group_by(party) %>%\n",
        "    summarize(all_pending = all(attendance == \"PENDING\")) %>%\n",
        "    filter(all_pending) %>%\n",
        "    pull(party)\n",
        "\n",
        "#fail() # No Answer - remove if you provide an answer\n",
        "print(answer2.4)"
      ]
    },
    {
      "cell_type": "code",
      "execution_count": null,
      "metadata": {
        "deletable": false,
        "editable": false,
        "nbgrader": {
          "cell_type": "code",
          "checksum": "3bdfbe773d331b5908d09f380c28055d",
          "grade": true,
          "grade_id": "cell-7bd8a19402a8d8f2",
          "locked": true,
          "points": 1,
          "schema_version": 3,
          "solution": false,
          "task": false
        },
        "colab": {
          "base_uri": "https://localhost:8080/"
        },
        "id": "yRF9G0HipiTm",
        "outputId": "adae170d-6f8a-41a5-c8bc-a7c96b32c8c1"
      },
      "outputs": [
        {
          "output_type": "stream",
          "name": "stdout",
          "text": [
            "[1] \"Success!\"\n"
          ]
        }
      ],
      "source": [
        "library(digest)\n",
        "stopifnot(\"type of answer2.4 is not numeric\"= setequal(digest(paste(toString(class(answer2.4)), \"91c09\")), \"f6969838f654260cfeb748149c23f32f\"))\n",
        "stopifnot(\"value of answer2.4 is not correct (rounded to 2 decimal places)\"= setequal(digest(paste(toString(round(answer2.4, 2)), \"91c09\")), \"234598db307ec7b6639ba4d2fae16afb\"))\n",
        "stopifnot(\"length of answer2.4 is not correct\"= setequal(digest(paste(toString(length(answer2.4)), \"91c09\")), \"1cc7eb7655a58238873dab3e2a46b27c\"))\n",
        "stopifnot(\"values of answer2.4 are not correct\"= setequal(digest(paste(toString(sort(round(answer2.4, 2))), \"91c09\")), \"234598db307ec7b6639ba4d2fae16afb\"))\n",
        "\n",
        "print('Success!')"
      ]
    },
    {
      "cell_type": "markdown",
      "metadata": {
        "deletable": false,
        "editable": false,
        "nbgrader": {
          "cell_type": "markdown",
          "checksum": "f349d88f84c09d444d3577b01010a855",
          "grade": false,
          "grade_id": "cell-7ce9d28a450b8dae",
          "locked": true,
          "schema_version": 3,
          "solution": false,
          "task": false
        },
        "id": "voerVyHfpiTm"
      },
      "source": [
        "## Question 2.5\n",
        "\n",
        "{points: 1}\n",
        "\n",
        "\n",
        "Which parties still have a \"PENDING\" attendance status for all of its members, for the wedding event only? Your answer should be a vector of party ID's (not a tibble). Store your answer in `answer2.5`.\n",
        "\n",
        "**Hint**: Use `pull()` to access a column as a vector.\n",
        "\n",
        "```\n",
        "answer2.5 <- guest %>%\n",
        "    group_by(FILL_THIS_IN) %>%\n",
        "    summarize(pending_wedding = all(FILL_THIS_IN == \"PENDING\")) %>%\n",
        "    filter(FILL_THIS_IN) %>%\n",
        "    FILL_THIS_IN(party)\n",
        "```    "
      ]
    },
    {
      "cell_type": "code",
      "execution_count": null,
      "metadata": {
        "deletable": false,
        "nbgrader": {
          "cell_type": "code",
          "checksum": "6580817ac5be3a4339f884e8eda9beae",
          "grade": false,
          "grade_id": "cell-69089bca0ebe5314",
          "locked": false,
          "schema_version": 3,
          "solution": true,
          "task": false
        },
        "colab": {
          "base_uri": "https://localhost:8080/"
        },
        "id": "Z6wBVLolpiTm",
        "outputId": "80f11e73-97ce-4451-a6f7-8e42f2d823f6"
      },
      "outputs": [
        {
          "output_type": "stream",
          "name": "stdout",
          "text": [
            "[1]  3  4  8 10\n"
          ]
        }
      ],
      "source": [
        "# your code here\n",
        "answer2.5 <- guest %>%\n",
        "  group_by(party) %>%\n",
        "  summarize(pending_wedding = all(attendance_wedding == \"PENDING\")) %>%\n",
        "  filter(pending_wedding) %>%\n",
        "  pull(party)\n",
        "\n",
        "\n",
        "#fail() # No Answer - remove if you provide an answer\n",
        "print(answer2.5)"
      ]
    },
    {
      "cell_type": "code",
      "execution_count": null,
      "metadata": {
        "deletable": false,
        "editable": false,
        "nbgrader": {
          "cell_type": "code",
          "checksum": "0f86c6fecbf28faea81a54e6b9ce0e33",
          "grade": true,
          "grade_id": "cell-cbecf06071548ada",
          "locked": true,
          "points": 1,
          "schema_version": 3,
          "solution": false,
          "task": false
        },
        "colab": {
          "base_uri": "https://localhost:8080/"
        },
        "id": "J-8IUV1-piTm",
        "outputId": "7ae08ba7-ecf5-4e21-94f2-1f24e559c71c"
      },
      "outputs": [
        {
          "output_type": "stream",
          "name": "stdout",
          "text": [
            "[1] \"Success!\"\n"
          ]
        }
      ],
      "source": [
        "library(digest)\n",
        "stopifnot(\"type of answer2.5 is not numeric\"= setequal(digest(paste(toString(class(answer2.5)), \"ae0b4\")), \"9ca57db34bd3122c62595fe31d524157\"))\n",
        "stopifnot(\"value of answer2.5 is not correct (rounded to 2 decimal places)\"= setequal(digest(paste(toString(round(answer2.5, 2)), \"ae0b4\")), \"64187cdc82b6ee9e6127a724f8d4a829\"))\n",
        "stopifnot(\"length of answer2.5 is not correct\"= setequal(digest(paste(toString(length(answer2.5)), \"ae0b4\")), \"14529dca5d5e585903d2e99e92d47132\"))\n",
        "stopifnot(\"values of answer2.5 are not correct\"= setequal(digest(paste(toString(sort(round(answer2.5, 2))), \"ae0b4\")), \"64187cdc82b6ee9e6127a724f8d4a829\"))\n",
        "\n",
        "print('Success!')"
      ]
    },
    {
      "cell_type": "markdown",
      "metadata": {
        "deletable": false,
        "editable": false,
        "nbgrader": {
          "cell_type": "markdown",
          "checksum": "5c138d79a4449ec5e49c3a361a7a84d3",
          "grade": false,
          "grade_id": "cell-51cc3f9c26a52de9",
          "locked": true,
          "schema_version": 3,
          "solution": false,
          "task": false
        },
        "id": "tklrxBOkpiTm"
      },
      "source": [
        "# Part 3: The Model-Fitting Paradigm in R\n",
        "\n",
        "**Overview**\n",
        "\n",
        "1. Fit a linear regression model to life expectancy (\"Y\") from year (\"X\") by filling in the formula. Notice what appears as the output.\n",
        "2. Use the `unclass` function to uncover the object's true nature: a list."
      ]
    },
    {
      "cell_type": "markdown",
      "metadata": {
        "deletable": false,
        "editable": false,
        "nbgrader": {
          "cell_type": "markdown",
          "checksum": "1e2b34eab68e41d8f33292d3fb17330c",
          "grade": false,
          "grade_id": "cell-c9bb114babd6a9b0",
          "locked": true,
          "schema_version": 3,
          "solution": false,
          "task": false
        },
        "id": "5WDykZ7RpiTn"
      },
      "source": [
        "## Question 3.1\n",
        "\n",
        "{points: 1}\n",
        "\n",
        "\n",
        "First, create a subset of the `gapminder` dataset containing only the country of `France`. Store your answer in `answer3.1`.\n",
        "\n",
        "```\n",
        "(answer3.1 <- gapminder %>%\n",
        "   FILL_THIS_IN(FILL_THIS_IN == FILL_THIS_IN))\n",
        "```   "
      ]
    },
    {
      "cell_type": "code",
      "execution_count": null,
      "metadata": {
        "deletable": false,
        "nbgrader": {
          "cell_type": "code",
          "checksum": "024305056f38d3c8a22c3ccddbb6fb3a",
          "grade": false,
          "grade_id": "cell-eac384fd230e3178",
          "locked": false,
          "schema_version": 3,
          "solution": true,
          "task": false
        },
        "colab": {
          "base_uri": "https://localhost:8080/",
          "height": 750
        },
        "id": "Hm8h7lvIpiTn",
        "outputId": "e0e89c1c-3920-41d2-abc5-1f0bc3b9c459"
      },
      "outputs": [
        {
          "output_type": "display_data",
          "data": {
            "text/html": [
              "<table class=\"dataframe\">\n",
              "<caption>A tibble: 12 × 6</caption>\n",
              "<thead>\n",
              "\t<tr><th scope=col>country</th><th scope=col>continent</th><th scope=col>year</th><th scope=col>lifeExp</th><th scope=col>pop</th><th scope=col>gdpPercap</th></tr>\n",
              "\t<tr><th scope=col>&lt;fct&gt;</th><th scope=col>&lt;fct&gt;</th><th scope=col>&lt;int&gt;</th><th scope=col>&lt;dbl&gt;</th><th scope=col>&lt;int&gt;</th><th scope=col>&lt;dbl&gt;</th></tr>\n",
              "</thead>\n",
              "<tbody>\n",
              "\t<tr><td>France</td><td>Europe</td><td>1952</td><td>67.410</td><td>42459667</td><td> 7029.809</td></tr>\n",
              "\t<tr><td>France</td><td>Europe</td><td>1957</td><td>68.930</td><td>44310863</td><td> 8662.835</td></tr>\n",
              "\t<tr><td>France</td><td>Europe</td><td>1962</td><td>70.510</td><td>47124000</td><td>10560.486</td></tr>\n",
              "\t<tr><td>France</td><td>Europe</td><td>1967</td><td>71.550</td><td>49569000</td><td>12999.918</td></tr>\n",
              "\t<tr><td>France</td><td>Europe</td><td>1972</td><td>72.380</td><td>51732000</td><td>16107.192</td></tr>\n",
              "\t<tr><td>France</td><td>Europe</td><td>1977</td><td>73.830</td><td>53165019</td><td>18292.635</td></tr>\n",
              "\t<tr><td>France</td><td>Europe</td><td>1982</td><td>74.890</td><td>54433565</td><td>20293.897</td></tr>\n",
              "\t<tr><td>France</td><td>Europe</td><td>1987</td><td>76.340</td><td>55630100</td><td>22066.442</td></tr>\n",
              "\t<tr><td>France</td><td>Europe</td><td>1992</td><td>77.460</td><td>57374179</td><td>24703.796</td></tr>\n",
              "\t<tr><td>France</td><td>Europe</td><td>1997</td><td>78.640</td><td>58623428</td><td>25889.785</td></tr>\n",
              "\t<tr><td>France</td><td>Europe</td><td>2002</td><td>79.590</td><td>59925035</td><td>28926.032</td></tr>\n",
              "\t<tr><td>France</td><td>Europe</td><td>2007</td><td>80.657</td><td>61083916</td><td>30470.017</td></tr>\n",
              "</tbody>\n",
              "</table>\n"
            ],
            "text/markdown": "\nA tibble: 12 × 6\n\n| country &lt;fct&gt; | continent &lt;fct&gt; | year &lt;int&gt; | lifeExp &lt;dbl&gt; | pop &lt;int&gt; | gdpPercap &lt;dbl&gt; |\n|---|---|---|---|---|---|\n| France | Europe | 1952 | 67.410 | 42459667 |  7029.809 |\n| France | Europe | 1957 | 68.930 | 44310863 |  8662.835 |\n| France | Europe | 1962 | 70.510 | 47124000 | 10560.486 |\n| France | Europe | 1967 | 71.550 | 49569000 | 12999.918 |\n| France | Europe | 1972 | 72.380 | 51732000 | 16107.192 |\n| France | Europe | 1977 | 73.830 | 53165019 | 18292.635 |\n| France | Europe | 1982 | 74.890 | 54433565 | 20293.897 |\n| France | Europe | 1987 | 76.340 | 55630100 | 22066.442 |\n| France | Europe | 1992 | 77.460 | 57374179 | 24703.796 |\n| France | Europe | 1997 | 78.640 | 58623428 | 25889.785 |\n| France | Europe | 2002 | 79.590 | 59925035 | 28926.032 |\n| France | Europe | 2007 | 80.657 | 61083916 | 30470.017 |\n\n",
            "text/latex": "A tibble: 12 × 6\n\\begin{tabular}{llllll}\n country & continent & year & lifeExp & pop & gdpPercap\\\\\n <fct> & <fct> & <int> & <dbl> & <int> & <dbl>\\\\\n\\hline\n\t France & Europe & 1952 & 67.410 & 42459667 &  7029.809\\\\\n\t France & Europe & 1957 & 68.930 & 44310863 &  8662.835\\\\\n\t France & Europe & 1962 & 70.510 & 47124000 & 10560.486\\\\\n\t France & Europe & 1967 & 71.550 & 49569000 & 12999.918\\\\\n\t France & Europe & 1972 & 72.380 & 51732000 & 16107.192\\\\\n\t France & Europe & 1977 & 73.830 & 53165019 & 18292.635\\\\\n\t France & Europe & 1982 & 74.890 & 54433565 & 20293.897\\\\\n\t France & Europe & 1987 & 76.340 & 55630100 & 22066.442\\\\\n\t France & Europe & 1992 & 77.460 & 57374179 & 24703.796\\\\\n\t France & Europe & 1997 & 78.640 & 58623428 & 25889.785\\\\\n\t France & Europe & 2002 & 79.590 & 59925035 & 28926.032\\\\\n\t France & Europe & 2007 & 80.657 & 61083916 & 30470.017\\\\\n\\end{tabular}\n",
            "text/plain": [
              "   country continent year lifeExp pop      gdpPercap\n",
              "1  France  Europe    1952 67.410  42459667  7029.809\n",
              "2  France  Europe    1957 68.930  44310863  8662.835\n",
              "3  France  Europe    1962 70.510  47124000 10560.486\n",
              "4  France  Europe    1967 71.550  49569000 12999.918\n",
              "5  France  Europe    1972 72.380  51732000 16107.192\n",
              "6  France  Europe    1977 73.830  53165019 18292.635\n",
              "7  France  Europe    1982 74.890  54433565 20293.897\n",
              "8  France  Europe    1987 76.340  55630100 22066.442\n",
              "9  France  Europe    1992 77.460  57374179 24703.796\n",
              "10 France  Europe    1997 78.640  58623428 25889.785\n",
              "11 France  Europe    2002 79.590  59925035 28926.032\n",
              "12 France  Europe    2007 80.657  61083916 30470.017"
            ]
          },
          "metadata": {}
        },
        {
          "output_type": "stream",
          "name": "stdout",
          "text": [
            "\u001b[90m# A tibble: 12 × 6\u001b[39m\n",
            "   country continent  year lifeExp      pop gdpPercap\n",
            "   \u001b[3m\u001b[90m<fct>\u001b[39m\u001b[23m   \u001b[3m\u001b[90m<fct>\u001b[39m\u001b[23m     \u001b[3m\u001b[90m<int>\u001b[39m\u001b[23m   \u001b[3m\u001b[90m<dbl>\u001b[39m\u001b[23m    \u001b[3m\u001b[90m<int>\u001b[39m\u001b[23m     \u001b[3m\u001b[90m<dbl>\u001b[39m\u001b[23m\n",
            "\u001b[90m 1\u001b[39m France  Europe     \u001b[4m1\u001b[24m952    67.4 42\u001b[4m4\u001b[24m\u001b[4m5\u001b[24m\u001b[4m9\u001b[24m667     \u001b[4m7\u001b[24m030.\n",
            "\u001b[90m 2\u001b[39m France  Europe     \u001b[4m1\u001b[24m957    68.9 44\u001b[4m3\u001b[24m\u001b[4m1\u001b[24m\u001b[4m0\u001b[24m863     \u001b[4m8\u001b[24m663.\n",
            "\u001b[90m 3\u001b[39m France  Europe     \u001b[4m1\u001b[24m962    70.5 47\u001b[4m1\u001b[24m\u001b[4m2\u001b[24m\u001b[4m4\u001b[24m000    \u001b[4m1\u001b[24m\u001b[4m0\u001b[24m560.\n",
            "\u001b[90m 4\u001b[39m France  Europe     \u001b[4m1\u001b[24m967    71.6 49\u001b[4m5\u001b[24m\u001b[4m6\u001b[24m\u001b[4m9\u001b[24m000    \u001b[4m1\u001b[24m\u001b[4m3\u001b[24m000.\n",
            "\u001b[90m 5\u001b[39m France  Europe     \u001b[4m1\u001b[24m972    72.4 51\u001b[4m7\u001b[24m\u001b[4m3\u001b[24m\u001b[4m2\u001b[24m000    \u001b[4m1\u001b[24m\u001b[4m6\u001b[24m107.\n",
            "\u001b[90m 6\u001b[39m France  Europe     \u001b[4m1\u001b[24m977    73.8 53\u001b[4m1\u001b[24m\u001b[4m6\u001b[24m\u001b[4m5\u001b[24m019    \u001b[4m1\u001b[24m\u001b[4m8\u001b[24m293.\n",
            "\u001b[90m 7\u001b[39m France  Europe     \u001b[4m1\u001b[24m982    74.9 54\u001b[4m4\u001b[24m\u001b[4m3\u001b[24m\u001b[4m3\u001b[24m565    \u001b[4m2\u001b[24m\u001b[4m0\u001b[24m294.\n",
            "\u001b[90m 8\u001b[39m France  Europe     \u001b[4m1\u001b[24m987    76.3 55\u001b[4m6\u001b[24m\u001b[4m3\u001b[24m\u001b[4m0\u001b[24m100    \u001b[4m2\u001b[24m\u001b[4m2\u001b[24m066.\n",
            "\u001b[90m 9\u001b[39m France  Europe     \u001b[4m1\u001b[24m992    77.5 57\u001b[4m3\u001b[24m\u001b[4m7\u001b[24m\u001b[4m4\u001b[24m179    \u001b[4m2\u001b[24m\u001b[4m4\u001b[24m704.\n",
            "\u001b[90m10\u001b[39m France  Europe     \u001b[4m1\u001b[24m997    78.6 58\u001b[4m6\u001b[24m\u001b[4m2\u001b[24m\u001b[4m3\u001b[24m428    \u001b[4m2\u001b[24m\u001b[4m5\u001b[24m890.\n",
            "\u001b[90m11\u001b[39m France  Europe     \u001b[4m2\u001b[24m002    79.6 59\u001b[4m9\u001b[24m\u001b[4m2\u001b[24m\u001b[4m5\u001b[24m035    \u001b[4m2\u001b[24m\u001b[4m8\u001b[24m926.\n",
            "\u001b[90m12\u001b[39m France  Europe     \u001b[4m2\u001b[24m007    80.7 61\u001b[4m0\u001b[24m\u001b[4m8\u001b[24m\u001b[4m3\u001b[24m916    \u001b[4m3\u001b[24m\u001b[4m0\u001b[24m470.\n"
          ]
        }
      ],
      "source": [
        "# your code here\n",
        "(answer3.1 <- gapminder %>%\n",
        "  filter(country == \"France\"))\n",
        "\n",
        "#fail() # No Answer - remove if you provide an answer\n",
        "print(answer3.1)"
      ]
    },
    {
      "cell_type": "code",
      "execution_count": null,
      "metadata": {
        "deletable": false,
        "editable": false,
        "nbgrader": {
          "cell_type": "code",
          "checksum": "9c3d59a6b3e7cb77ce3dfc4ce7a4061c",
          "grade": true,
          "grade_id": "cell-5d65551ed7f404dd",
          "locked": true,
          "points": 1,
          "schema_version": 3,
          "solution": false,
          "task": false
        },
        "colab": {
          "base_uri": "https://localhost:8080/"
        },
        "id": "mOerNWzQpiTn",
        "outputId": "bd85f366-1b5f-430a-999d-66e60d0f16d5"
      },
      "outputs": [
        {
          "output_type": "stream",
          "name": "stdout",
          "text": [
            "[1] \"Success!\"\n"
          ]
        }
      ],
      "source": [
        "library(digest)\n",
        "stopifnot(\"answer3.1 should be a data frame\"= setequal(digest(paste(toString('data.frame' %in% class(answer3.1)), \"73c86\")), \"1a7a80552c70c5413ce16d7a95771cb4\"))\n",
        "stopifnot(\"dimensions of answer3.1 are not correct\"= setequal(digest(paste(toString(dim(answer3.1)), \"73c86\")), \"256fefe71378fb3b3cf1607a6d720f6c\"))\n",
        "stopifnot(\"column names of answer3.1 are not correct\"= setequal(digest(paste(toString(sort(colnames(answer3.1))), \"73c86\")), \"e6d96096b69e432c1465e367b4f8a54c\"))\n",
        "stopifnot(\"types of columns in answer3.1 are not correct\"= setequal(digest(paste(toString(sort(unlist(sapply(answer3.1, class)))), \"73c86\")), \"6a1efb37001ad6b6c1779519e4bdec0d\"))\n",
        "stopifnot(\"values in one or more numerical columns in answer3.1 are not correct\"= setequal(digest(paste(toString(if (any(sapply(answer3.1, is.numeric))) sort(round(sapply(answer3.1[, sapply(answer3.1, is.numeric)], sum, na.rm = TRUE), 2)) else 0), \"73c86\")), \"787390f47059cfd099bb570536012068\"))\n",
        "stopifnot(\"values in one or more character columns in answer3.1 are not correct\"= setequal(digest(paste(toString(if (any(sapply(answer3.1, is.character))) sum(sapply(answer3.1[sapply(answer3.1, is.character)], function(x) length(unique(x)))) else 0), \"73c86\")), \"c93a264848e9b95315e088afa7947773\"))\n",
        "stopifnot(\"values in one or more factor columns in answer3.1 are not correct\"= setequal(digest(paste(toString(if (any(sapply(answer3.1, is.factor))) sum(sapply(answer3.1[, sapply(answer3.1, is.factor)], function(col) length(unique(col)))) else 0), \"73c86\")), \"b16487f393b926f87d88a96f84b6cba0\"))\n",
        "\n",
        "print('Success!')"
      ]
    },
    {
      "cell_type": "markdown",
      "metadata": {
        "deletable": false,
        "editable": false,
        "nbgrader": {
          "cell_type": "markdown",
          "checksum": "fdc00fbcd03a5353ca89e55f99ad3a68",
          "grade": false,
          "grade_id": "cell-9d3e1e0a4ba92267",
          "locked": true,
          "schema_version": 3,
          "solution": false,
          "task": false
        },
        "id": "kxifO26wpiTn"
      },
      "source": [
        "### Question 3.2\n",
        "\n",
        "{points: 1}\n",
        "\n",
        "> Fit a linear regression model to life expectancy (\"Y\") from year (\"X\") by filling in the formula\n",
        "\n",
        "Now, using the `lm()` function we will create the linear model. Store your answer in `answer3.2`.\n",
        "\n",
        "```\n",
        "(answer3.2 <- FILL_THIS_IN(FILL_THIS_IN ~ FILL_THIS_IN, answer3.1)\n",
        "```"
      ]
    },
    {
      "cell_type": "code",
      "execution_count": null,
      "metadata": {
        "deletable": false,
        "nbgrader": {
          "cell_type": "code",
          "checksum": "d7d88f3472df2967ef641d309d7f1d60",
          "grade": false,
          "grade_id": "cell-bd086872f7c88b6f",
          "locked": false,
          "schema_version": 3,
          "solution": true,
          "task": false
        },
        "colab": {
          "base_uri": "https://localhost:8080/",
          "height": 292
        },
        "id": "Hu3_KsRxpiTn",
        "outputId": "594c772c-7767-4e32-b00e-31ddf5b3965a"
      },
      "outputs": [
        {
          "output_type": "display_data",
          "data": {
            "text/plain": [
              "\n",
              "Call:\n",
              "lm(formula = lifeExp ~ year, data = answer3.1)\n",
              "\n",
              "Coefficients:\n",
              "(Intercept)         year  \n",
              "  -397.7646       0.2385  \n"
            ]
          },
          "metadata": {}
        },
        {
          "output_type": "stream",
          "name": "stdout",
          "text": [
            "\n",
            "Call:\n",
            "lm(formula = lifeExp ~ year, data = answer3.1)\n",
            "\n",
            "Coefficients:\n",
            "(Intercept)         year  \n",
            "  -397.7646       0.2385  \n",
            "\n"
          ]
        }
      ],
      "source": [
        "# your code here\n",
        "(answer3.2 <- lm(lifeExp ~ year, answer3.1))\n",
        "#fail() # No Answer - remove if you provide an answer\n",
        "print(answer3.2)"
      ]
    },
    {
      "cell_type": "code",
      "execution_count": null,
      "metadata": {
        "deletable": false,
        "editable": false,
        "nbgrader": {
          "cell_type": "code",
          "checksum": "d568db0b12ab20178cde19979d5b9e46",
          "grade": true,
          "grade_id": "cell-c32548a2940be4dd",
          "locked": true,
          "points": 1,
          "schema_version": 3,
          "solution": false,
          "task": false
        },
        "colab": {
          "base_uri": "https://localhost:8080/",
          "height": 110
        },
        "id": "UKFJNEckpiTn",
        "outputId": "aee90664-0020-483c-e28c-f449dca2cd05"
      },
      "outputs": [
        {
          "output_type": "error",
          "ename": "ERROR",
          "evalue": "Error: value of answer3.2 is not correct\n",
          "traceback": [
            "Error: value of answer3.2 is not correct\nTraceback:\n",
            "1. stop(simpleError(msg, call = if (p <- sys.parent(1L)) sys.call(p)))"
          ]
        }
      ],
      "source": [
        "library(digest)\n",
        "stopifnot(\"type of answer3.2 is not correct\"= setequal(digest(paste(toString(class(answer3.2)), \"a700b\")), \"e5e830b08c568b54673f81df8cd1243f\"))\n",
        "stopifnot(\"value of answer3.2 is not correct\"= setequal(digest(paste(toString(answer3.2), \"a700b\")), \"74853cfe95d6efd8807dc7eb7c463cf0\"))\n",
        "\n",
        "print('Success!')"
      ]
    },
    {
      "cell_type": "markdown",
      "metadata": {
        "deletable": false,
        "editable": false,
        "nbgrader": {
          "cell_type": "markdown",
          "checksum": "376a9361eea15cefe3f6869b9ea90c4d",
          "grade": false,
          "grade_id": "cell-0d8ce437120f0108",
          "locked": true,
          "schema_version": 3,
          "solution": false,
          "task": false
        },
        "id": "OS9m1WGOpiTn"
      },
      "source": [
        "## Question 3.3\n",
        "\n",
        "{points: 1}\n",
        "\n",
        "\n",
        "We are interested in the modeling results around the modeling period which starts at year 1952. To get a meaniningful \"interpretable\" intercept we can use the `I()` function.\n",
        "\n",
        "Use `I()` to make the intercept so that the \"beginning\" of our dataset (1952) corresponds to '0' in the model. This makes all the years in the data set relative to the first year, 1952.\n",
        "\n",
        "Store your answer in `answer3.3`.\n",
        "\n",
        "```\n",
        "answer3.3 <- FILL_THIS_IN(FILL_THIS_IN ~ I(FILL_THIS_IN-1952), answer3.1)\n",
        "```"
      ]
    },
    {
      "cell_type": "code",
      "execution_count": null,
      "metadata": {
        "deletable": false,
        "nbgrader": {
          "cell_type": "code",
          "checksum": "00e146e90647bde49727c7e4bd0cb2ca",
          "grade": false,
          "grade_id": "cell-de478c362e72ff34",
          "locked": false,
          "schema_version": 3,
          "solution": true,
          "task": false
        },
        "colab": {
          "base_uri": "https://localhost:8080/"
        },
        "id": "7EfUn3uLpiTn",
        "outputId": "a9a85164-2db4-46a7-bd9a-d04c3a602576"
      },
      "outputs": [
        {
          "output_type": "stream",
          "name": "stdout",
          "text": [
            "\n",
            "Call:\n",
            "lm(formula = lifeExp ~ I(year - 1952), data = answer3.1)\n",
            "\n",
            "Coefficients:\n",
            "   (Intercept)  I(year - 1952)  \n",
            "       67.7901          0.2385  \n",
            "\n"
          ]
        }
      ],
      "source": [
        "# your code here\n",
        "answer3.3 <- lm(lifeExp ~ I(year - 1952), answer3.1)\n",
        "#fail() # No Answer - remove if you provide an answer\n",
        "print(answer3.3)"
      ]
    },
    {
      "cell_type": "code",
      "execution_count": null,
      "metadata": {
        "deletable": false,
        "editable": false,
        "nbgrader": {
          "cell_type": "code",
          "checksum": "698f41e8fddf344165be72a656821bf8",
          "grade": true,
          "grade_id": "cell-f63ce0b4b32b1c75",
          "locked": true,
          "points": 1,
          "schema_version": 3,
          "solution": false,
          "task": false
        },
        "colab": {
          "base_uri": "https://localhost:8080/",
          "height": 110
        },
        "id": "iFebLojspiTn",
        "outputId": "b77401fc-536c-4ff3-f00e-15c3834f2c0e"
      },
      "outputs": [
        {
          "output_type": "error",
          "ename": "ERROR",
          "evalue": "Error: value of answer3.3 is not correct\n",
          "traceback": [
            "Error: value of answer3.3 is not correct\nTraceback:\n",
            "1. stop(simpleError(msg, call = if (p <- sys.parent(1L)) sys.call(p)))"
          ]
        }
      ],
      "source": [
        "library(digest)\n",
        "stopifnot(\"type of answer3.3 is not correct\"= setequal(digest(paste(toString(class(answer3.3)), \"cf936\")), \"7f89e7bbef07fec02f37154e77dc27c1\"))\n",
        "stopifnot(\"value of answer3.3 is not correct\"= setequal(digest(paste(toString(answer3.3), \"cf936\")), \"92c251248d09e45506e92e61113f00e9\"))\n",
        "\n",
        "print('Success!')"
      ]
    },
    {
      "cell_type": "markdown",
      "metadata": {
        "deletable": false,
        "editable": false,
        "nbgrader": {
          "cell_type": "markdown",
          "checksum": "d3c09ce0d5ed0f5f9ad9f04f59055805",
          "grade": false,
          "grade_id": "cell-e7c56c14d223147e",
          "locked": true,
          "schema_version": 3,
          "solution": false,
          "task": false
        },
        "id": "ESzO7kgMpiTo"
      },
      "source": [
        "## Question 3.4\n",
        "\n",
        "{points: 1}\n",
        "\n",
        "\n",
        "Use the `unclass()` function to take a look at how the `lm()` object actually looks like. Store your answer in `answer3.4`.\n",
        "\n",
        "```\n",
        "answer3.4 <- FILL_THIS_IN(answer3.3)\n",
        "```"
      ]
    },
    {
      "cell_type": "code",
      "execution_count": null,
      "metadata": {
        "deletable": false,
        "nbgrader": {
          "cell_type": "code",
          "checksum": "2b5c4fdd351a5538db72befde4e6922e",
          "grade": false,
          "grade_id": "cell-314348ceb2597207",
          "locked": false,
          "schema_version": 3,
          "solution": true,
          "task": false
        },
        "colab": {
          "base_uri": "https://localhost:8080/"
        },
        "id": "SLVxIEa3piTo",
        "outputId": "1560a6b1-44ea-4999-b5a2-189dbe1894d3"
      },
      "outputs": [
        {
          "output_type": "stream",
          "name": "stdout",
          "text": [
            "\n",
            "Call:\n",
            "lm(formula = answer3.3)\n",
            "\n",
            "Coefficients:\n",
            "   (Intercept)  I(year - 1952)  \n",
            "       67.7901          0.2385  \n",
            "\n"
          ]
        }
      ],
      "source": [
        "# your code here\n",
        "answer3.4 <- lm(answer3.3)\n",
        "#fail() # No Answer - remove if you provide an answer\n",
        "print(answer3.4)"
      ]
    },
    {
      "cell_type": "code",
      "execution_count": null,
      "metadata": {
        "deletable": false,
        "editable": false,
        "nbgrader": {
          "cell_type": "code",
          "checksum": "7b015759686d90c124c21e2ed04cabd1",
          "grade": true,
          "grade_id": "cell-bb41acc822c171ff",
          "locked": true,
          "points": 1,
          "schema_version": 3,
          "solution": false,
          "task": false
        },
        "colab": {
          "base_uri": "https://localhost:8080/",
          "height": 110
        },
        "id": "KGufgvPOpiTo",
        "outputId": "9a7530ab-d92d-4e37-b2dc-6b7687d04194"
      },
      "outputs": [
        {
          "output_type": "error",
          "ename": "ERROR",
          "evalue": "Error: type of answer3.4 is not list\n",
          "traceback": [
            "Error: type of answer3.4 is not list\nTraceback:\n",
            "1. stop(simpleError(msg, call = if (p <- sys.parent(1L)) sys.call(p)))"
          ]
        }
      ],
      "source": [
        "library(digest)\n",
        "stopifnot(\"type of answer3.4 is not list\"= setequal(digest(paste(toString(class(answer3.4)), \"9ffbe\")), \"4695bf135719c20753cd1de743aa8d4f\"))\n",
        "stopifnot(\"length of answer3.4 is not correct\"= setequal(digest(paste(toString(length(answer3.4)), \"9ffbe\")), \"198d9ee462cedee3ea886f8eed3e972f\"))\n",
        "stopifnot(\"values of answer3.4 names are not correct\"= setequal(digest(paste(toString(sort(c(names(answer3.4)))), \"9ffbe\")), \"f621dadbe91a5bdb8fc5c8d926ccdfdc\"))\n",
        "stopifnot(\"order of elements of answer3.4 is not correct\"= setequal(digest(paste(toString(answer3.4), \"9ffbe\")), \"227b8fea20a31bb4026ebd6f971a17c1\"))\n",
        "\n",
        "print('Success!')"
      ]
    },
    {
      "cell_type": "markdown",
      "metadata": {
        "deletable": false,
        "editable": false,
        "nbgrader": {
          "cell_type": "markdown",
          "checksum": "b58ec6c7760ae165ead575c33afb5397",
          "grade": false,
          "grade_id": "cell-4952813e2dd68ae0",
          "locked": true,
          "schema_version": 3,
          "solution": false,
          "task": false
        },
        "id": "SXI5pcjmpiTo"
      },
      "source": [
        "# Part 4: Producing Tidy Tibbles with broom\n",
        "\n",
        "## Question 4.1\n",
        "\n",
        "{points: 1}\n",
        "\n",
        "\n",
        "Apply `broom::tidy()` to `answer3.3`. Store your answer in `answer4.1`.\n",
        "\n",
        "```\n",
        "answer4.1 <- FILL_THIS_IN(answer3.3)\n",
        "```"
      ]
    },
    {
      "cell_type": "code",
      "execution_count": null,
      "metadata": {
        "deletable": false,
        "nbgrader": {
          "cell_type": "code",
          "checksum": "2f527796ad9d3684c086f91009e5bb27",
          "grade": false,
          "grade_id": "cell-ac2a0fd0bdb6d050",
          "locked": false,
          "schema_version": 3,
          "solution": true,
          "task": false
        },
        "colab": {
          "base_uri": "https://localhost:8080/"
        },
        "id": "Ec49FKszpiTo",
        "outputId": "a922cf38-3acf-4821-9ff4-b403141b40a6"
      },
      "outputs": [
        {
          "output_type": "stream",
          "name": "stdout",
          "text": [
            "\u001b[90m# A tibble: 2 × 5\u001b[39m\n",
            "  term           estimate std.error statistic  p.value\n",
            "  \u001b[3m\u001b[90m<chr>\u001b[39m\u001b[23m             \u001b[3m\u001b[90m<dbl>\u001b[39m\u001b[23m     \u001b[3m\u001b[90m<dbl>\u001b[39m\u001b[23m     \u001b[3m\u001b[90m<dbl>\u001b[39m\u001b[23m    \u001b[3m\u001b[90m<dbl>\u001b[39m\u001b[23m\n",
            "\u001b[90m1\u001b[39m (Intercept)      67.8     0.119       567.  7.12\u001b[90me\u001b[39m\u001b[31m-24\u001b[39m\n",
            "\u001b[90m2\u001b[39m I(year - 1952)    0.239   0.003\u001b[4m6\u001b[24m\u001b[4m8\u001b[24m      64.8 1.86\u001b[90me\u001b[39m\u001b[31m-14\u001b[39m\n"
          ]
        }
      ],
      "source": [
        "# your code here\n",
        "answer4.1 <- broom::tidy(answer3.3)\n",
        "#fail() # No Answer - remove if you provide an answer\n",
        "print(answer4.1)"
      ]
    },
    {
      "cell_type": "code",
      "execution_count": null,
      "metadata": {
        "deletable": false,
        "editable": false,
        "nbgrader": {
          "cell_type": "code",
          "checksum": "79de084c63d4d99e0cb95e306df5db68",
          "grade": true,
          "grade_id": "cell-bcc656e0f1096684",
          "locked": true,
          "points": 1,
          "schema_version": 3,
          "solution": false,
          "task": false
        },
        "colab": {
          "base_uri": "https://localhost:8080/"
        },
        "id": "W2L9bH_fpiTo",
        "outputId": "3a3230f6-1eab-4f14-fed3-c38ec9cd82ef"
      },
      "outputs": [
        {
          "output_type": "stream",
          "name": "stdout",
          "text": [
            "[1] \"Success!\"\n"
          ]
        }
      ],
      "source": [
        "library(digest)\n",
        "stopifnot(\"answer4.1 should be a data frame\"= setequal(digest(paste(toString('data.frame' %in% class(answer4.1)), \"c3da8\")), \"6ad85b4c69265821c01e11959d9d29e1\"))\n",
        "stopifnot(\"dimensions of answer4.1 are not correct\"= setequal(digest(paste(toString(dim(answer4.1)), \"c3da8\")), \"86ccb20b1569c32d06eb3aead605f8db\"))\n",
        "stopifnot(\"column names of answer4.1 are not correct\"= setequal(digest(paste(toString(sort(colnames(answer4.1))), \"c3da8\")), \"5bd2029d201b32ced4bb2dbae8e9e3ec\"))\n",
        "stopifnot(\"types of columns in answer4.1 are not correct\"= setequal(digest(paste(toString(sort(unlist(sapply(answer4.1, class)))), \"c3da8\")), \"4598a308fc62b85e3db63f1e1db8f0ed\"))\n",
        "stopifnot(\"values in one or more numerical columns in answer4.1 are not correct\"= setequal(digest(paste(toString(if (any(sapply(answer4.1, is.numeric))) sort(round(sapply(answer4.1[, sapply(answer4.1, is.numeric)], sum, na.rm = TRUE), 2)) else 0), \"c3da8\")), \"583f7970e3b309022630bf4cd0cc1760\"))\n",
        "stopifnot(\"values in one or more character columns in answer4.1 are not correct\"= setequal(digest(paste(toString(if (any(sapply(answer4.1, is.character))) sum(sapply(answer4.1[sapply(answer4.1, is.character)], function(x) length(unique(x)))) else 0), \"c3da8\")), \"87e69fb049e13dd44cc2cab54d0a30b3\"))\n",
        "stopifnot(\"values in one or more factor columns in answer4.1 are not correct\"= setequal(digest(paste(toString(if (any(sapply(answer4.1, is.factor))) sum(sapply(answer4.1[, sapply(answer4.1, is.factor)], function(col) length(unique(col)))) else 0), \"c3da8\")), \"c5bda529bc96074500f754acdfa61f76\"))\n",
        "\n",
        "print('Success!')"
      ]
    },
    {
      "cell_type": "markdown",
      "metadata": {
        "deletable": false,
        "editable": false,
        "nbgrader": {
          "cell_type": "markdown",
          "checksum": "190c5097624661199b6482accfb3b8d7",
          "grade": false,
          "grade_id": "cell-9b91f64b029dc78f",
          "locked": true,
          "schema_version": 3,
          "solution": false,
          "task": false
        },
        "id": "VikwG2-DpiTo"
      },
      "source": [
        "## Question 4.2\n",
        "\n",
        "{points: 1}\n",
        "\n",
        "\n",
        "Apply `broom::augment()` to `answer3.3`. Store your answer in `answer4.2`.\n",
        "\n",
        "```\n",
        "answer4.2 <- FILL_THIS_IN(answer3.3)\n",
        "```"
      ]
    },
    {
      "cell_type": "code",
      "execution_count": null,
      "metadata": {
        "deletable": false,
        "nbgrader": {
          "cell_type": "code",
          "checksum": "ae09ff412dabf99718319b599d19adc6",
          "grade": false,
          "grade_id": "cell-11acddecce607fde",
          "locked": false,
          "schema_version": 3,
          "solution": true,
          "task": false
        },
        "colab": {
          "base_uri": "https://localhost:8080/"
        },
        "id": "tR9rEhotpiTo",
        "outputId": "2993eedd-a567-4453-fbe5-f618786faf41"
      },
      "outputs": [
        {
          "output_type": "stream",
          "name": "stdout",
          "text": [
            "\u001b[90m# A tibble: 12 × 8\u001b[39m\n",
            "   lifeExp `I(year - 1952)` .fitted  .resid   .hat .sigma .cooksd .std.resid\n",
            "     \u001b[3m\u001b[90m<dbl>\u001b[39m\u001b[23m         \u001b[3m\u001b[90m<I<dbl>>\u001b[39m\u001b[23m   \u001b[3m\u001b[90m<dbl>\u001b[39m\u001b[23m   \u001b[3m\u001b[90m<dbl>\u001b[39m\u001b[23m  \u001b[3m\u001b[90m<dbl>\u001b[39m\u001b[23m  \u001b[3m\u001b[90m<dbl>\u001b[39m\u001b[23m   \u001b[3m\u001b[90m<dbl>\u001b[39m\u001b[23m      \u001b[3m\u001b[90m<dbl>\u001b[39m\u001b[23m\n",
            "\u001b[90m 1\u001b[39m    67.4                0    67.8 -\u001b[31m0\u001b[39m\u001b[31m.\u001b[39m\u001b[31m380\u001b[39m  0.295   0.176 0.885       -\u001b[31m2\u001b[39m\u001b[31m.\u001b[39m\u001b[31m0\u001b[39m\u001b[31m6\u001b[39m \n",
            "\u001b[90m 2\u001b[39m    68.9                5    69.0 -\u001b[31m0\u001b[39m\u001b[31m.\u001b[39m\u001b[31m0\u001b[39m\u001b[31m52\u001b[4m6\u001b[24m\u001b[39m 0.225   0.231 0.010\u001b[4m7\u001b[24m      -\u001b[31m0\u001b[39m\u001b[31m.\u001b[39m\u001b[31m272\u001b[39m\n",
            "\u001b[90m 3\u001b[39m    70.5               10    70.2  0.335  0.169   0.197 0.283        1.67 \n",
            "\u001b[90m 4\u001b[39m    71.6               15    71.4  0.182  0.127   0.223 0.057\u001b[4m2\u001b[24m       0.887\n",
            "\u001b[90m 5\u001b[39m    72.4               20    72.6 -\u001b[31m0\u001b[39m\u001b[31m.\u001b[39m\u001b[31m180\u001b[39m  0.099\u001b[4m1\u001b[24m  0.223 0.040\u001b[4m9\u001b[24m      -\u001b[31m0\u001b[39m\u001b[31m.\u001b[39m\u001b[31m863\u001b[39m\n",
            "\u001b[90m 6\u001b[39m    73.8               25    73.8  0.077\u001b[4m3\u001b[24m 0.085\u001b[4m1\u001b[24m  0.230 0.006\u001b[4m2\u001b[24m\u001b[4m8\u001b[24m      0.367\n",
            "\u001b[90m 7\u001b[39m    74.9               30    74.9 -\u001b[31m0\u001b[39m\u001b[31m.\u001b[39m\u001b[31m0\u001b[39m\u001b[31m55\u001b[4m2\u001b[24m\u001b[39m 0.085\u001b[4m1\u001b[24m  0.231 0.003\u001b[4m1\u001b[24m\u001b[4m9\u001b[24m     -\u001b[31m0\u001b[39m\u001b[31m.\u001b[39m\u001b[31m262\u001b[39m\n",
            "\u001b[90m 8\u001b[39m    76.3               35    76.1  0.202  0.099\u001b[4m1\u001b[24m  0.221 0.051\u001b[4m6\u001b[24m       0.969\n",
            "\u001b[90m 9\u001b[39m    77.5               40    77.3  0.130  0.127   0.227 0.029\u001b[4m0\u001b[24m       0.631\n",
            "\u001b[90m10\u001b[39m    78.6               45    78.5  0.117  0.169   0.228 0.034\u001b[4m8\u001b[24m       0.585\n",
            "\u001b[90m11\u001b[39m    79.6               50    79.7 -\u001b[31m0\u001b[39m\u001b[31m.\u001b[39m\u001b[31m125\u001b[39m  0.225   0.227 0.060\u001b[4m6\u001b[24m      -\u001b[31m0\u001b[39m\u001b[31m.\u001b[39m\u001b[31m646\u001b[39m\n",
            "\u001b[90m12\u001b[39m    80.7               55    80.9 -\u001b[31m0\u001b[39m\u001b[31m.\u001b[39m\u001b[31m251\u001b[39m  0.295   0.210 0.385       -\u001b[31m1\u001b[39m\u001b[31m.\u001b[39m\u001b[31m36\u001b[39m \n"
          ]
        }
      ],
      "source": [
        "# your code here\n",
        "answer4.2 <- broom::augment(answer3.3)\n",
        "\n",
        "#fail() # No Answer - remove if you provide an answer\n",
        "print(answer4.2)"
      ]
    },
    {
      "cell_type": "code",
      "execution_count": null,
      "metadata": {
        "deletable": false,
        "editable": false,
        "nbgrader": {
          "cell_type": "code",
          "checksum": "67796407030acbec7d569fd7758394b2",
          "grade": true,
          "grade_id": "cell-6f28d2ff5f8a394c",
          "locked": true,
          "points": 1,
          "schema_version": 3,
          "solution": false,
          "task": false
        },
        "colab": {
          "base_uri": "https://localhost:8080/"
        },
        "id": "AI8mNBHkpiTo",
        "outputId": "ea85e1fe-b1b3-4fc3-fbad-b0453c951599"
      },
      "outputs": [
        {
          "output_type": "stream",
          "name": "stdout",
          "text": [
            "[1] \"Success!\"\n"
          ]
        }
      ],
      "source": [
        "library(digest)\n",
        "stopifnot(\"answer4.2 should be a data frame\"= setequal(digest(paste(toString('data.frame' %in% class(answer4.2)), \"9c13\")), \"d827fc316b1fa0e17244350c8c9c11c3\"))\n",
        "stopifnot(\"dimensions of answer4.2 are not correct\"= setequal(digest(paste(toString(dim(answer4.2)), \"9c13\")), \"f1d8c92dda3683ea252c0fcb252af9cd\"))\n",
        "stopifnot(\"column names of answer4.2 are not correct\"= setequal(digest(paste(toString(sort(colnames(answer4.2))), \"9c13\")), \"2e52d22800ef46aed45d04f38175e53a\"))\n",
        "stopifnot(\"types of columns in answer4.2 are not correct\"= setequal(digest(paste(toString(sort(unlist(sapply(answer4.2, class)))), \"9c13\")), \"c6243d63bed9b658234f38ce7527b4dd\"))\n",
        "stopifnot(\"values in one or more numerical columns in answer4.2 are not correct\"= setequal(digest(paste(toString(if (any(sapply(answer4.2, is.numeric))) sort(round(sapply(answer4.2[, sapply(answer4.2, is.numeric)], sum, na.rm = TRUE), 2)) else 0), \"9c13\")), \"5894b1655cd523e1492e61bcf1f5358e\"))\n",
        "stopifnot(\"values in one or more character columns in answer4.2 are not correct\"= setequal(digest(paste(toString(if (any(sapply(answer4.2, is.character))) sum(sapply(answer4.2[sapply(answer4.2, is.character)], function(x) length(unique(x)))) else 0), \"9c13\")), \"28cf20c34f048b81c32dfb7ae5e37efb\"))\n",
        "stopifnot(\"values in one or more factor columns in answer4.2 are not correct\"= setequal(digest(paste(toString(if (any(sapply(answer4.2, is.factor))) sum(sapply(answer4.2[, sapply(answer4.2, is.factor)], function(col) length(unique(col)))) else 0), \"9c13\")), \"28cf20c34f048b81c32dfb7ae5e37efb\"))\n",
        "\n",
        "print('Success!')"
      ]
    },
    {
      "cell_type": "markdown",
      "metadata": {
        "deletable": false,
        "editable": false,
        "nbgrader": {
          "cell_type": "markdown",
          "checksum": "b5d4b370e17b3f1511b046ff668a41c2",
          "grade": false,
          "grade_id": "cell-10c482e46bfb6925",
          "locked": true,
          "schema_version": 3,
          "solution": false,
          "task": false
        },
        "id": "IW_6UDuHpiTo"
      },
      "source": [
        "## Question 4.3\n",
        "\n",
        "{points: 1}\n",
        "\n",
        "Apply `broom::glance()` to `answer3.3`. Store your answer in `answer4.3`.\n",
        "\n",
        "```\n",
        "answer4.3 <- FILL_THIS_IN(answer3.3)\n",
        "```"
      ]
    },
    {
      "cell_type": "code",
      "execution_count": null,
      "metadata": {
        "deletable": false,
        "jupyter": {
          "outputs_hidden": true
        },
        "nbgrader": {
          "cell_type": "code",
          "checksum": "565342293534ce3f622e45ede3d9d8db",
          "grade": false,
          "grade_id": "cell-6fc7f2ff75650015",
          "locked": false,
          "schema_version": 3,
          "solution": true,
          "task": false
        },
        "colab": {
          "base_uri": "https://localhost:8080/"
        },
        "id": "rsl5eNEIpiTp",
        "outputId": "e55b483a-e6d2-4b5e-9451-279c0b72ed82"
      },
      "outputs": [
        {
          "output_type": "stream",
          "name": "stdout",
          "text": [
            "\u001b[90m# A tibble: 1 × 12\u001b[39m\n",
            "  r.squared adj.r.squared sigma statistic  p.value    df logLik   AIC   BIC\n",
            "      \u001b[3m\u001b[90m<dbl>\u001b[39m\u001b[23m         \u001b[3m\u001b[90m<dbl>\u001b[39m\u001b[23m \u001b[3m\u001b[90m<dbl>\u001b[39m\u001b[23m     \u001b[3m\u001b[90m<dbl>\u001b[39m\u001b[23m    \u001b[3m\u001b[90m<dbl>\u001b[39m\u001b[23m \u001b[3m\u001b[90m<dbl>\u001b[39m\u001b[23m  \u001b[3m\u001b[90m<dbl>\u001b[39m\u001b[23m \u001b[3m\u001b[90m<dbl>\u001b[39m\u001b[23m \u001b[3m\u001b[90m<dbl>\u001b[39m\u001b[23m\n",
            "\u001b[90m1\u001b[39m     0.998         0.997 0.220     \u001b[4m4\u001b[24m200. 1.86\u001b[90me\u001b[39m\u001b[31m-14\u001b[39m     1   2.23  1.53  2.99\n",
            "\u001b[90m# ℹ 3 more variables: deviance <dbl>, df.residual <int>, nobs <int>\u001b[39m\n"
          ]
        }
      ],
      "source": [
        "# your code here\n",
        "answer4.3 <- broom::glance(answer3.3)\n",
        "\n",
        "#fail() # No Answer - remove if you provide an answer\n",
        "print(answer4.3)"
      ]
    },
    {
      "cell_type": "code",
      "execution_count": null,
      "metadata": {
        "deletable": false,
        "editable": false,
        "nbgrader": {
          "cell_type": "code",
          "checksum": "a83106a6e4187a478bc7821a45b7ce46",
          "grade": true,
          "grade_id": "cell-0c6c4d5f47779e91",
          "locked": true,
          "points": 1,
          "schema_version": 3,
          "solution": false,
          "task": false
        },
        "colab": {
          "base_uri": "https://localhost:8080/"
        },
        "id": "cRhgW8Y6piTp",
        "outputId": "5a3176f4-70b4-48f7-eca2-40c16f0a7f94"
      },
      "outputs": [
        {
          "output_type": "stream",
          "name": "stdout",
          "text": [
            "[1] \"Success!\"\n"
          ]
        }
      ],
      "source": [
        "library(digest)\n",
        "stopifnot(\"answer4.3 should be a data frame\"= setequal(digest(paste(toString('data.frame' %in% class(answer4.3)), \"fda6\")), \"83224130dc0f690811f1da6b978c2eb4\"))\n",
        "stopifnot(\"dimensions of answer4.3 are not correct\"= setequal(digest(paste(toString(dim(answer4.3)), \"fda6\")), \"6602aff7af610530570265a61d672acc\"))\n",
        "stopifnot(\"column names of answer4.3 are not correct\"= setequal(digest(paste(toString(sort(colnames(answer4.3))), \"fda6\")), \"ef58a8ed3e188007c15724881600d695\"))\n",
        "stopifnot(\"types of columns in answer4.3 are not correct\"= setequal(digest(paste(toString(sort(unlist(sapply(answer4.3, class)))), \"fda6\")), \"df0f174f2f886b564c41aaff4170c15e\"))\n",
        "stopifnot(\"values in one or more numerical columns in answer4.3 are not correct\"= setequal(digest(paste(toString(if (any(sapply(answer4.3, is.numeric))) sort(round(sapply(answer4.3[, sapply(answer4.3, is.numeric)], sum, na.rm = TRUE), 2)) else 0), \"fda6\")), \"77caa50b6f77eb036abe2cf499c915cd\"))\n",
        "stopifnot(\"values in one or more character columns in answer4.3 are not correct\"= setequal(digest(paste(toString(if (any(sapply(answer4.3, is.character))) sum(sapply(answer4.3[sapply(answer4.3, is.character)], function(x) length(unique(x)))) else 0), \"fda6\")), \"6aa31086ad11609925ba28589b3807db\"))\n",
        "stopifnot(\"values in one or more factor columns in answer4.3 are not correct\"= setequal(digest(paste(toString(if (any(sapply(answer4.3, is.factor))) sum(sapply(answer4.3[, sapply(answer4.3, is.factor)], function(col) length(unique(col)))) else 0), \"fda6\")), \"6aa31086ad11609925ba28589b3807db\"))\n",
        "\n",
        "print('Success!')"
      ]
    },
    {
      "cell_type": "markdown",
      "metadata": {
        "id": "ZHoHzfAzpiTp"
      },
      "source": [
        "Great work! 😁 Please Restart and Run all, check for errors, Save, and submit this worksheet on Canvas.\n",
        "\n",
        "### Attribution\n",
        "\n",
        "Thanks to Diana Lin, Icíar Fernández Boyano, David Kepplinger, and Vincenzo Coia for putting this worksheet together."
      ]
    }
  ],
  "metadata": {
    "kernelspec": {
      "display_name": "R",
      "language": "R",
      "name": "ir"
    },
    "language_info": {
      "codemirror_mode": "r",
      "file_extension": ".r",
      "mimetype": "text/x-r-source",
      "name": "R",
      "pygments_lexer": "r",
      "version": "4.5.1"
    },
    "colab": {
      "provenance": [],
      "include_colab_link": true
    }
  },
  "nbformat": 4,
  "nbformat_minor": 0
}