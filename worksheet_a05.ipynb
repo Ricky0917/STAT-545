{
  "cells": [
    {
      "cell_type": "markdown",
      "metadata": {
        "id": "view-in-github",
        "colab_type": "text"
      },
      "source": [
        "<a href=\"https://colab.research.google.com/github/Ricky0917/STAT-545/blob/main/worksheet_a05.ipynb\" target=\"_parent\"><img src=\"https://colab.research.google.com/assets/colab-badge.svg\" alt=\"Open In Colab\"/></a>"
      ]
    },
    {
      "cell_type": "markdown",
      "metadata": {
        "id": "DnjH9Pat1eg9"
      },
      "source": [
        "Name:\n",
        "\n",
        "Student ID:"
      ]
    },
    {
      "cell_type": "markdown",
      "metadata": {
        "deletable": false,
        "editable": false,
        "lines_to_next_cell": 0,
        "nbgrader": {
          "cell_type": "markdown",
          "checksum": "e3b3e4665115efae6bcc502e8ce5e028",
          "grade": false,
          "grade_id": "cell-a52fdbcf333bb582",
          "locked": true,
          "schema_version": 3,
          "solution": false,
          "task": false
        },
        "id": "o4qKY22W1eg-"
      },
      "source": [
        "# Worksheet A5: Working With Factors & Tibble Joins (20 points)\n",
        "**Fall 2025**\n",
        "\n",
        "\n",
        "There are 20 questions, each worth 1 point. Please submit this assignment on Canvas.\n",
        "\n",
        "## Getting Started\n",
        "\n",
        "Load the requirements for this worksheet:"
      ]
    },
    {
      "cell_type": "code",
      "execution_count": 151,
      "metadata": {
        "deletable": false,
        "editable": false,
        "nbgrader": {
          "cell_type": "code",
          "checksum": "e999f78c3475485bda71c1cd4a38219c",
          "grade": false,
          "grade_id": "cell-c48a21406e8bb917",
          "locked": true,
          "schema_version": 3,
          "solution": false,
          "task": false
        },
        "id": "16yU2s2Q1eg-"
      },
      "outputs": [],
      "source": [
        "suppressPackageStartupMessages(library(tidyverse))\n",
        "suppressPackageStartupMessages(library(tsibble))\n",
        "suppressPackageStartupMessages(library(gapminder))\n",
        "suppressPackageStartupMessages(library(testthat))\n",
        "suppressPackageStartupMessages(library(digest))\n",
        "suppressMessages({\n",
        "  time <- read_csv(\"https://raw.githubusercontent.com/STAT545-UBC/Classroom/master/data/singer/songs.csv\") %>%\n",
        "    rename(song = title)\n",
        "  album <- read_csv(\"https://raw.githubusercontent.com/STAT545-UBC/Classroom/master/data/singer/loc.csv\") %>%\n",
        "    select(title, everything()) %>%\n",
        "    rename(song = title, album = release)\n",
        "})\n",
        "suppressMessages({\n",
        "  fell <- read_csv(\"https://raw.githubusercontent.com/jennybc/lotr-tidy/master/data/The_Fellowship_Of_The_Ring.csv\")\n",
        "  ttow <- read_csv(\"https://raw.githubusercontent.com/jennybc/lotr-tidy/master/data/The_Two_Towers.csv\")\n",
        "  retk <- read_csv(\"https://raw.githubusercontent.com/jennybc/lotr-tidy/master/data/The_Return_Of_The_King.csv\")\n",
        "})"
      ]
    },
    {
      "cell_type": "markdown",
      "metadata": {
        "deletable": false,
        "editable": false,
        "lines_to_next_cell": 0,
        "nbgrader": {
          "cell_type": "markdown",
          "checksum": "1a9cd5eb0778d5d434c5cefe6e3f4c55",
          "grade": false,
          "grade_id": "cell-c67ecef016e98418",
          "locked": true,
          "schema_version": 3,
          "solution": false,
          "task": false
        },
        "id": "iRqaT2YZ1eg_"
      },
      "source": [
        "The following code chunk has been unlocked, to give you the flexibility to start this document with some of your own code. Remember, it's bad manners to keep a call to `install.packages()` in your source code, so don't forget to delete these lines if you ever need to run them."
      ]
    },
    {
      "cell_type": "code",
      "execution_count": 152,
      "metadata": {
        "colab": {
          "base_uri": "https://localhost:8080/"
        },
        "id": "7xV-zpX-1eg_",
        "outputId": "d24886f4-4f62-4740-a681-2b532a462d32"
      },
      "outputs": [
        {
          "output_type": "stream",
          "name": "stderr",
          "text": [
            "Installing package into ‘/usr/local/lib/R/site-library’\n",
            "(as ‘lib’ is unspecified)\n",
            "\n"
          ]
        }
      ],
      "source": [
        "# An unlocked code cell.\n",
        "#install.packages(\"tsibble\")\n",
        "install.packages(\"gapminder\")"
      ]
    },
    {
      "cell_type": "markdown",
      "metadata": {
        "deletable": false,
        "editable": false,
        "nbgrader": {
          "cell_type": "markdown",
          "checksum": "a3b920d0d0fe659ee12e60f965d3ce53",
          "grade": false,
          "grade_id": "cell-dbacfd6c24590e38",
          "locked": true,
          "schema_version": 3,
          "solution": false,
          "task": false
        },
        "id": "KUX77tFX1eg_"
      },
      "source": [
        "# Part 0: Dates and Tsibble\n",
        "\n",
        "We'll convert dates into a year-month object with the tsibble package (loaded at the start of the worksheet).\n",
        "\n",
        "## Question 0.1\n",
        "\n",
        "{points: 1}\n",
        "\n",
        "Consider the built-in presidential dataset that looks at the start and ending terms of US presidents:"
      ]
    },
    {
      "cell_type": "code",
      "execution_count": 153,
      "metadata": {
        "deletable": false,
        "editable": false,
        "nbgrader": {
          "cell_type": "code",
          "checksum": "9efcf5c512faf2887050ff3eeae06dc9",
          "grade": false,
          "grade_id": "cell-a37c8810b6e3de5d",
          "locked": true,
          "schema_version": 3,
          "solution": false,
          "task": false
        },
        "colab": {
          "base_uri": "https://localhost:8080/",
          "height": 286
        },
        "id": "ZaQzXwQm1eg_",
        "outputId": "a8af9f43-455c-4702-feb8-ddccaca1cdb0"
      },
      "outputs": [
        {
          "output_type": "display_data",
          "data": {
            "text/html": [
              "<table class=\"dataframe\">\n",
              "<caption>A tibble: 6 × 4</caption>\n",
              "<thead>\n",
              "\t<tr><th scope=col>name</th><th scope=col>start</th><th scope=col>end</th><th scope=col>party</th></tr>\n",
              "\t<tr><th scope=col>&lt;chr&gt;</th><th scope=col>&lt;date&gt;</th><th scope=col>&lt;date&gt;</th><th scope=col>&lt;chr&gt;</th></tr>\n",
              "</thead>\n",
              "<tbody>\n",
              "\t<tr><td>Eisenhower</td><td>1953-01-20</td><td>1961-01-20</td><td>Republican</td></tr>\n",
              "\t<tr><td>Kennedy   </td><td>1961-01-20</td><td>1963-11-22</td><td>Democratic</td></tr>\n",
              "\t<tr><td>Johnson   </td><td>1963-11-22</td><td>1969-01-20</td><td>Democratic</td></tr>\n",
              "\t<tr><td>Nixon     </td><td>1969-01-20</td><td>1974-08-09</td><td>Republican</td></tr>\n",
              "\t<tr><td>Ford      </td><td>1974-08-09</td><td>1977-01-20</td><td>Republican</td></tr>\n",
              "\t<tr><td>Carter    </td><td>1977-01-20</td><td>1981-01-20</td><td>Democratic</td></tr>\n",
              "</tbody>\n",
              "</table>\n"
            ],
            "text/markdown": "\nA tibble: 6 × 4\n\n| name &lt;chr&gt; | start &lt;date&gt; | end &lt;date&gt; | party &lt;chr&gt; |\n|---|---|---|---|\n| Eisenhower | 1953-01-20 | 1961-01-20 | Republican |\n| Kennedy    | 1961-01-20 | 1963-11-22 | Democratic |\n| Johnson    | 1963-11-22 | 1969-01-20 | Democratic |\n| Nixon      | 1969-01-20 | 1974-08-09 | Republican |\n| Ford       | 1974-08-09 | 1977-01-20 | Republican |\n| Carter     | 1977-01-20 | 1981-01-20 | Democratic |\n\n",
            "text/latex": "A tibble: 6 × 4\n\\begin{tabular}{llll}\n name & start & end & party\\\\\n <chr> & <date> & <date> & <chr>\\\\\n\\hline\n\t Eisenhower & 1953-01-20 & 1961-01-20 & Republican\\\\\n\t Kennedy    & 1961-01-20 & 1963-11-22 & Democratic\\\\\n\t Johnson    & 1963-11-22 & 1969-01-20 & Democratic\\\\\n\t Nixon      & 1969-01-20 & 1974-08-09 & Republican\\\\\n\t Ford       & 1974-08-09 & 1977-01-20 & Republican\\\\\n\t Carter     & 1977-01-20 & 1981-01-20 & Democratic\\\\\n\\end{tabular}\n",
            "text/plain": [
              "  name       start      end        party     \n",
              "1 Eisenhower 1953-01-20 1961-01-20 Republican\n",
              "2 Kennedy    1961-01-20 1963-11-22 Democratic\n",
              "3 Johnson    1963-11-22 1969-01-20 Democratic\n",
              "4 Nixon      1969-01-20 1974-08-09 Republican\n",
              "5 Ford       1974-08-09 1977-01-20 Republican\n",
              "6 Carter     1977-01-20 1981-01-20 Democratic"
            ]
          },
          "metadata": {}
        }
      ],
      "source": [
        "head(presidential)"
      ]
    },
    {
      "cell_type": "markdown",
      "metadata": {
        "deletable": false,
        "editable": false,
        "nbgrader": {
          "cell_type": "markdown",
          "checksum": "b591a232fecb42899af696e4a98bac6c",
          "grade": false,
          "grade_id": "cell-3ec12f8dddc1b136",
          "locked": true,
          "schema_version": 3,
          "solution": false,
          "task": false
        },
        "id": "5dvdueq91eg_"
      },
      "source": [
        "Use `tsibble::yearmonth()` to convert the existing start and end column dates into include only the year and month (i.e., \"1953 Jan\" instead of 1953-01-20). Name this tibble `president_ym`.\n",
        "\n",
        "```\n",
        "president_ym <- presidential %>%\n",
        "   mutate(start = FILL_THIS_IN,\n",
        "          end = FILL_THIS_IN)\n",
        "```"
      ]
    },
    {
      "cell_type": "code",
      "execution_count": 154,
      "metadata": {
        "deletable": false,
        "nbgrader": {
          "cell_type": "code",
          "checksum": "9d733bf26d4c42d2dbb724c591c5d93c",
          "grade": false,
          "grade_id": "cell-1bb9d4544eb25006",
          "locked": false,
          "schema_version": 3,
          "solution": true,
          "task": false
        },
        "colab": {
          "base_uri": "https://localhost:8080/",
          "height": 286
        },
        "id": "69uY5NKj1ehA",
        "outputId": "172b7420-f01b-46fc-91e5-96adaea0415f"
      },
      "outputs": [
        {
          "output_type": "display_data",
          "data": {
            "text/html": [
              "<table class=\"dataframe\">\n",
              "<caption>A tibble: 6 × 4</caption>\n",
              "<thead>\n",
              "\t<tr><th scope=col>name</th><th scope=col>start</th><th scope=col>end</th><th scope=col>party</th></tr>\n",
              "\t<tr><th scope=col>&lt;chr&gt;</th><th scope=col>&lt;mth&gt;</th><th scope=col>&lt;mth&gt;</th><th scope=col>&lt;chr&gt;</th></tr>\n",
              "</thead>\n",
              "<tbody>\n",
              "\t<tr><td>Eisenhower</td><td>1953 Jan</td><td>1961 Jan</td><td>Republican</td></tr>\n",
              "\t<tr><td>Kennedy   </td><td>1961 Jan</td><td>1963 Nov</td><td>Democratic</td></tr>\n",
              "\t<tr><td>Johnson   </td><td>1963 Nov</td><td>1969 Jan</td><td>Democratic</td></tr>\n",
              "\t<tr><td>Nixon     </td><td>1969 Jan</td><td>1974 Aug</td><td>Republican</td></tr>\n",
              "\t<tr><td>Ford      </td><td>1974 Aug</td><td>1977 Jan</td><td>Republican</td></tr>\n",
              "\t<tr><td>Carter    </td><td>1977 Jan</td><td>1981 Jan</td><td>Democratic</td></tr>\n",
              "</tbody>\n",
              "</table>\n"
            ],
            "text/markdown": "\nA tibble: 6 × 4\n\n| name &lt;chr&gt; | start &lt;mth&gt; | end &lt;mth&gt; | party &lt;chr&gt; |\n|---|---|---|---|\n| Eisenhower | 1953 Jan | 1961 Jan | Republican |\n| Kennedy    | 1961 Jan | 1963 Nov | Democratic |\n| Johnson    | 1963 Nov | 1969 Jan | Democratic |\n| Nixon      | 1969 Jan | 1974 Aug | Republican |\n| Ford       | 1974 Aug | 1977 Jan | Republican |\n| Carter     | 1977 Jan | 1981 Jan | Democratic |\n\n",
            "text/latex": "A tibble: 6 × 4\n\\begin{tabular}{llll}\n name & start & end & party\\\\\n <chr> & <mth> & <mth> & <chr>\\\\\n\\hline\n\t Eisenhower & 1953 Jan & 1961 Jan & Republican\\\\\n\t Kennedy    & 1961 Jan & 1963 Nov & Democratic\\\\\n\t Johnson    & 1963 Nov & 1969 Jan & Democratic\\\\\n\t Nixon      & 1969 Jan & 1974 Aug & Republican\\\\\n\t Ford       & 1974 Aug & 1977 Jan & Republican\\\\\n\t Carter     & 1977 Jan & 1981 Jan & Democratic\\\\\n\\end{tabular}\n",
            "text/plain": [
              "  name       start    end      party     \n",
              "1 Eisenhower 1953 Jan 1961 Jan Republican\n",
              "2 Kennedy    1961 Jan 1963 Nov Democratic\n",
              "3 Johnson    1963 Nov 1969 Jan Democratic\n",
              "4 Nixon      1969 Jan 1974 Aug Republican\n",
              "5 Ford       1974 Aug 1977 Jan Republican\n",
              "6 Carter     1977 Jan 1981 Jan Democratic"
            ]
          },
          "metadata": {}
        }
      ],
      "source": [
        "# your code here\n",
        "president_ym <- presidential %>%\n",
        "  mutate(start = yearmonth(start),\n",
        "         end = yearmonth(end))\n",
        "#fail() # No Answer - remove if you provide an answer\n",
        "head(president_ym)"
      ]
    },
    {
      "cell_type": "code",
      "execution_count": 155,
      "metadata": {
        "deletable": false,
        "editable": false,
        "nbgrader": {
          "cell_type": "code",
          "checksum": "6af72bd0057e5f19ac7200cf22087a17",
          "grade": true,
          "grade_id": "cell-7d4a3a9d3ba31dd4",
          "locked": true,
          "points": 1,
          "schema_version": 3,
          "solution": false,
          "task": false
        },
        "colab": {
          "base_uri": "https://localhost:8080/"
        },
        "id": "WllN-OBc1ehA",
        "outputId": "f8fb05c4-a5e0-49e7-e97d-1d3a6d0a1eb8"
      },
      "outputs": [
        {
          "output_type": "stream",
          "name": "stdout",
          "text": [
            "[1] \"Success!\"\n"
          ]
        }
      ],
      "source": [
        "library(digest)\n",
        "stopifnot(\"president_ym should be a data frame\"= setequal(digest(paste(toString('data.frame' %in% class(president_ym)), \"8811c\")), \"a3c6cc92dd463a3bebbcfa3a00e81e8e\"))\n",
        "stopifnot(\"dimensions of president_ym are not correct\"= setequal(digest(paste(toString(dim(president_ym)), \"8811c\")), \"f74f6d65bb40a50cc6951b51db24cf4e\"))\n",
        "stopifnot(\"column names of president_ym are not correct\"= setequal(digest(paste(toString(sort(colnames(president_ym))), \"8811c\")), \"729c7eaa6ac9b0ac7d38d379bd28936c\"))\n",
        "stopifnot(\"types of columns in president_ym are not correct\"= setequal(digest(paste(toString(sort(unlist(sapply(president_ym, class)))), \"8811c\")), \"0e48f9967a5de4e5124c564562bdaa0a\"))\n",
        "stopifnot(\"values in one or more numerical columns in president_ym are not correct\"= setequal(digest(paste(toString(if (any(sapply(president_ym, is.numeric))) sort(round(sapply(president_ym[, sapply(president_ym, is.numeric)], sum, na.rm = TRUE), 2)) else 0), \"8811c\")), \"e3347067539a6905f60971d870629af7\"))\n",
        "stopifnot(\"values in one or more character columns in president_ym are not correct\"= setequal(digest(paste(toString(if (any(sapply(president_ym, is.character))) sum(sapply(president_ym[sapply(president_ym, is.character)], function(x) length(unique(x)))) else 0), \"8811c\")), \"1a916d68b65c4704f91e19b86bb129ff\"))\n",
        "stopifnot(\"values in one or more factor columns in president_ym are not correct\"= setequal(digest(paste(toString(if (any(sapply(president_ym, is.factor))) sum(sapply(president_ym[, sapply(president_ym, is.factor)], function(col) length(unique(col)))) else 0), \"8811c\")), \"e3347067539a6905f60971d870629af7\"))\n",
        "\n",
        "print('Success!')"
      ]
    },
    {
      "cell_type": "markdown",
      "metadata": {
        "deletable": false,
        "editable": false,
        "nbgrader": {
          "cell_type": "markdown",
          "checksum": "8886026ae4e7f5cf43ae7ea7f8aec7fd",
          "grade": false,
          "grade_id": "cell-ff4d90bac29bce18",
          "locked": true,
          "schema_version": 3,
          "solution": false,
          "task": false
        },
        "id": "NtSyDhiY1ehA"
      },
      "source": [
        "# Part 1: Creating Factors\n",
        "\n",
        "For the best experience working with factors in R, we will use the `forcats` package, which is part of the `tidyverse` metapackage."
      ]
    },
    {
      "cell_type": "markdown",
      "metadata": {
        "deletable": false,
        "editable": false,
        "nbgrader": {
          "cell_type": "markdown",
          "checksum": "7124203ebde94bdeee804ca8c2703597",
          "grade": false,
          "grade_id": "cell-92d93e5de5944b49",
          "locked": true,
          "schema_version": 3,
          "solution": false,
          "task": false
        },
        "id": "9Q_YzF4z1ehA"
      },
      "source": [
        "## Question 1.1\n",
        "\n",
        "{points: 1}\n",
        "\n",
        "\n",
        "Using the gapminder dataset from the gapminder package, create a new data set named `gapminder_1997` that includes only data from 1997, and add a new column `life_level` containing 5 new levels according to the following table:\n",
        "\n",
        "| Criteria          |`life_level`   |\n",
        "|-------------------|-------------|\n",
        "| less than 23      | very low    |\n",
        "| between 23 and 48 | low         |\n",
        "| between 48 and 59 | moderate    |\n",
        "| between 59 and 70 | high        |\n",
        "| more than 70      | very high   |\n",
        "\n",
        "\n",
        "**Hint**: We are using `case_when()`, a tidier way to vectorise multiple `if_else()` statements.\n",
        "You can read more about this function [in the tidyverse reference](https://dplyr.tidyverse.org/reference/case_when.html).\n",
        "\n",
        "```\n",
        "gapminder_1997 <- gapminder %>%\n",
        "   FILL_THIS_IN(year == FILL_THIS_IN) %>%\n",
        "   FILL_THIS_IN(life_level = case_when(FILL_THIS_IN < FILL_THIS_IN ~ \"very low\",\n",
        "                                 FILL_THIS_IN < FILL_THIS_IN ~ \"low\",\n",
        "                                 FILL_THIS_IN < FILL_THIS_IN ~ \"moderate\",\n",
        "                                 FILL_THIS_IN < FILL_THIS_IN ~ \"high\",\n",
        "                                 TRUE ~ \"very high\"))\n",
        "```"
      ]
    },
    {
      "cell_type": "code",
      "execution_count": 156,
      "metadata": {
        "deletable": false,
        "lines_to_next_cell": 0,
        "nbgrader": {
          "cell_type": "code",
          "checksum": "ef0f70c7ff836ae444c855a3f6806b99",
          "grade": false,
          "grade_id": "cell-dc036d146cef2025",
          "locked": false,
          "schema_version": 3,
          "solution": true,
          "task": false
        },
        "colab": {
          "base_uri": "https://localhost:8080/",
          "height": 286
        },
        "id": "9ZtsRlny1ehA",
        "outputId": "93f1801a-3a9c-404b-8b16-c1b3ebc5d292"
      },
      "outputs": [
        {
          "output_type": "display_data",
          "data": {
            "text/html": [
              "<table class=\"dataframe\">\n",
              "<caption>A tibble: 6 × 7</caption>\n",
              "<thead>\n",
              "\t<tr><th scope=col>country</th><th scope=col>continent</th><th scope=col>year</th><th scope=col>lifeExp</th><th scope=col>pop</th><th scope=col>gdpPercap</th><th scope=col>life_level</th></tr>\n",
              "\t<tr><th scope=col>&lt;fct&gt;</th><th scope=col>&lt;fct&gt;</th><th scope=col>&lt;int&gt;</th><th scope=col>&lt;dbl&gt;</th><th scope=col>&lt;int&gt;</th><th scope=col>&lt;dbl&gt;</th><th scope=col>&lt;chr&gt;</th></tr>\n",
              "</thead>\n",
              "<tbody>\n",
              "\t<tr><td>Afghanistan</td><td>Asia    </td><td>1997</td><td>41.763</td><td>22227415</td><td>  635.3414</td><td>low      </td></tr>\n",
              "\t<tr><td>Albania    </td><td>Europe  </td><td>1997</td><td>72.950</td><td> 3428038</td><td> 3193.0546</td><td>very high</td></tr>\n",
              "\t<tr><td>Algeria    </td><td>Africa  </td><td>1997</td><td>69.152</td><td>29072015</td><td> 4797.2951</td><td>high     </td></tr>\n",
              "\t<tr><td>Angola     </td><td>Africa  </td><td>1997</td><td>40.963</td><td> 9875024</td><td> 2277.1409</td><td>low      </td></tr>\n",
              "\t<tr><td>Argentina  </td><td>Americas</td><td>1997</td><td>73.275</td><td>36203463</td><td>10967.2820</td><td>very high</td></tr>\n",
              "\t<tr><td>Australia  </td><td>Oceania </td><td>1997</td><td>78.830</td><td>18565243</td><td>26997.9366</td><td>very high</td></tr>\n",
              "</tbody>\n",
              "</table>\n"
            ],
            "text/markdown": "\nA tibble: 6 × 7\n\n| country &lt;fct&gt; | continent &lt;fct&gt; | year &lt;int&gt; | lifeExp &lt;dbl&gt; | pop &lt;int&gt; | gdpPercap &lt;dbl&gt; | life_level &lt;chr&gt; |\n|---|---|---|---|---|---|---|\n| Afghanistan | Asia     | 1997 | 41.763 | 22227415 |   635.3414 | low       |\n| Albania     | Europe   | 1997 | 72.950 |  3428038 |  3193.0546 | very high |\n| Algeria     | Africa   | 1997 | 69.152 | 29072015 |  4797.2951 | high      |\n| Angola      | Africa   | 1997 | 40.963 |  9875024 |  2277.1409 | low       |\n| Argentina   | Americas | 1997 | 73.275 | 36203463 | 10967.2820 | very high |\n| Australia   | Oceania  | 1997 | 78.830 | 18565243 | 26997.9366 | very high |\n\n",
            "text/latex": "A tibble: 6 × 7\n\\begin{tabular}{lllllll}\n country & continent & year & lifeExp & pop & gdpPercap & life\\_level\\\\\n <fct> & <fct> & <int> & <dbl> & <int> & <dbl> & <chr>\\\\\n\\hline\n\t Afghanistan & Asia     & 1997 & 41.763 & 22227415 &   635.3414 & low      \\\\\n\t Albania     & Europe   & 1997 & 72.950 &  3428038 &  3193.0546 & very high\\\\\n\t Algeria     & Africa   & 1997 & 69.152 & 29072015 &  4797.2951 & high     \\\\\n\t Angola      & Africa   & 1997 & 40.963 &  9875024 &  2277.1409 & low      \\\\\n\t Argentina   & Americas & 1997 & 73.275 & 36203463 & 10967.2820 & very high\\\\\n\t Australia   & Oceania  & 1997 & 78.830 & 18565243 & 26997.9366 & very high\\\\\n\\end{tabular}\n",
            "text/plain": [
              "  country     continent year lifeExp pop      gdpPercap  life_level\n",
              "1 Afghanistan Asia      1997 41.763  22227415   635.3414 low       \n",
              "2 Albania     Europe    1997 72.950   3428038  3193.0546 very high \n",
              "3 Algeria     Africa    1997 69.152  29072015  4797.2951 high      \n",
              "4 Angola      Africa    1997 40.963   9875024  2277.1409 low       \n",
              "5 Argentina   Americas  1997 73.275  36203463 10967.2820 very high \n",
              "6 Australia   Oceania   1997 78.830  18565243 26997.9366 very high "
            ]
          },
          "metadata": {}
        }
      ],
      "source": [
        "# your code here\n",
        "gapminder_1997 <- gapminder %>%\n",
        "  filter(year == 1997) %>%\n",
        "  mutate(life_level = case_when(\n",
        "    lifeExp < 23 ~ \"very low\",\n",
        "    lifeExp < 48 ~ \"low\",\n",
        "    lifeExp < 59 ~ \"moderate\",\n",
        "    lifeExp < 70 ~ \"high\",\n",
        "    TRUE ~ \"very high\"\n",
        "  ))\n",
        "#fail() # No Answer - remove if you provide an answer\n",
        "head(gapminder_1997)"
      ]
    },
    {
      "cell_type": "code",
      "execution_count": 157,
      "metadata": {
        "deletable": false,
        "editable": false,
        "nbgrader": {
          "cell_type": "code",
          "checksum": "9b099e8f63923ac91e83d4dea300148a",
          "grade": true,
          "grade_id": "cell-f8b2ff75e5097542",
          "locked": true,
          "points": 1,
          "schema_version": 3,
          "solution": false,
          "task": false
        },
        "colab": {
          "base_uri": "https://localhost:8080/"
        },
        "id": "x3XS0x1d1ehB",
        "outputId": "d3ad780d-9d87-4481-f768-ea887bd5ea05"
      },
      "outputs": [
        {
          "output_type": "stream",
          "name": "stdout",
          "text": [
            "[1] \"Success!\"\n"
          ]
        }
      ],
      "source": [
        "library(digest)\n",
        "stopifnot(\"gapminder_1997 should be a data frame\"= setequal(digest(paste(toString('data.frame' %in% class(gapminder_1997)), \"37d3f\")), \"3bdba6e8a844e989674e11cf2082e451\"))\n",
        "stopifnot(\"dimensions of gapminder_1997 are not correct\"= setequal(digest(paste(toString(dim(gapminder_1997)), \"37d3f\")), \"bd5a50f8bfe77b16654ce2e6bd91b3cb\"))\n",
        "stopifnot(\"column names of gapminder_1997 are not correct\"= setequal(digest(paste(toString(sort(colnames(gapminder_1997))), \"37d3f\")), \"574816bf9e392dadea4f3ebac3b19ad7\"))\n",
        "stopifnot(\"types of columns in gapminder_1997 are not correct\"= setequal(digest(paste(toString(sort(unlist(sapply(gapminder_1997, class)))), \"37d3f\")), \"e909c264323996a0262c1c246642779a\"))\n",
        "stopifnot(\"values in one or more numerical columns in gapminder_1997 are not correct\"= setequal(digest(paste(toString(if (any(sapply(gapminder_1997, is.numeric))) sort(round(sapply(gapminder_1997[, sapply(gapminder_1997, is.numeric)], sum, na.rm = TRUE), 2)) else 0), \"37d3f\")), \"aa388abc904b9e40173be7f0e9992982\"))\n",
        "stopifnot(\"values in one or more character columns in gapminder_1997 are not correct\"= setequal(digest(paste(toString(if (any(sapply(gapminder_1997, is.character))) sum(sapply(gapminder_1997[sapply(gapminder_1997, is.character)], function(x) length(unique(x)))) else 0), \"37d3f\")), \"d1bff0133124c739e6076d276ec81487\"))\n",
        "stopifnot(\"values in one or more factor columns in gapminder_1997 are not correct\"= setequal(digest(paste(toString(if (any(sapply(gapminder_1997, is.factor))) sum(sapply(gapminder_1997[, sapply(gapminder_1997, is.factor)], function(col) length(unique(col)))) else 0), \"37d3f\")), \"ea532649019a92729189abd3644de2b2\"))\n",
        "\n",
        "print('Success!')"
      ]
    },
    {
      "cell_type": "markdown",
      "metadata": {
        "deletable": false,
        "editable": false,
        "nbgrader": {
          "cell_type": "markdown",
          "checksum": "27362b06ff6270477cb4b383f7c307d0",
          "grade": false,
          "grade_id": "cell-5c2f86da93e2a963",
          "locked": true,
          "schema_version": 3,
          "solution": false,
          "task": false
        },
        "id": "aemV4utw1ehB"
      },
      "source": [
        "FYI: We can now plot boxplots for the GDP per capita per level of life expectancy.\n",
        "Run the following code to see the boxplots."
      ]
    },
    {
      "cell_type": "code",
      "execution_count": 158,
      "metadata": {
        "deletable": false,
        "editable": false,
        "nbgrader": {
          "cell_type": "code",
          "checksum": "483f75964e96e4e9b9c37a729a55195f",
          "grade": false,
          "grade_id": "cell-bb53dd9bcb9f2f82",
          "locked": true,
          "schema_version": 3,
          "solution": false,
          "task": false
        },
        "colab": {
          "base_uri": "https://localhost:8080/",
          "height": 437
        },
        "id": "GGpPRbsD1ehB",
        "outputId": "7e2a6573-09c0-414f-e733-888cd9678a98"
      },
      "outputs": [
        {
          "output_type": "display_data",
          "data": {
            "text/plain": [
              "plot without title"
            ],
            "image/png": "[encoded data removed]"
          },
          "metadata": {
            "image/png": {
              "width": 420,
              "height": 420
            }
          }
        }
      ],
      "source": [
        "ggplot(gapminder_1997) + geom_boxplot(aes(x = life_level, y = gdpPercap)) +\n",
        "  labs(y = \"GDP per capita ($)\", x = \"Life expectancy level (years)\") +\n",
        "  ggtitle(\"GDP per capita per Level of Life Expectancy\") +\n",
        "  theme_bw()"
      ]
    },
    {
      "cell_type": "markdown",
      "metadata": {
        "deletable": false,
        "editable": false,
        "nbgrader": {
          "cell_type": "markdown",
          "checksum": "c1f4c51ffd856aa9cb0a1a1a84bdaed4",
          "grade": false,
          "grade_id": "cell-95e05c5acbdd7a28",
          "locked": true,
          "schema_version": 3,
          "solution": false,
          "task": false
        },
        "id": "o_Bug8HG1ehB"
      },
      "source": [
        "## Question 1.2\n",
        "\n",
        "{points: 1}\n",
        "\n",
        "\n",
        "Notice a few oddities in the above plot:\n",
        "\n",
        "- It seems that none of the countries had a \"very low\" life-expectancy in 1997.\n",
        "- However, since it was an option in our analysis it should be included in our plot. Right?\n",
        "- Notice also how levels on x-axis are placed in the \"wrong\" order. (in alphabetical order)\n",
        "\n",
        "You can correct these issues by explicitly making `life_level` a factor and setting the levels parameter.\n",
        "Create a new data frame as in Question 1.1, but make the column `life_level` a factor with levels **ordered** from *very low* to *very high*.\n",
        "Store this new data frame in variable `gapminder_1997_fct`.\n",
        "\n",
        "```\n",
        "gapminder_1997_fct <- gapminder %>%\n",
        "   FILL_THIS_IN(year == 1997) %>%\n",
        "   FILL_THIS_IN(life_level = FILL_THIS_IN(case_when(FILL_THIS_IN < FILL_THIS_IN ~ \"very low\",\n",
        "                                        FILL_THIS_IN < FILL_THIS_IN ~ \"low\",\n",
        "                                        FILL_THIS_IN < FILL_THIS_IN ~ \"moderate\",\n",
        "                                        FILL_THIS_IN < FILL_THIS_IN ~ \"high\",\n",
        "                                        TRUE ~ \"very high\"),\n",
        "                              levels = c('FILL_THIS_IN', 'FILL_THIS_IN', 'FILL_THIS_IN', 'FILL_THIS_IN', 'FILL_THIS_IN')))\n",
        "```"
      ]
    },
    {
      "cell_type": "code",
      "execution_count": 159,
      "metadata": {
        "deletable": false,
        "lines_to_next_cell": 0,
        "nbgrader": {
          "cell_type": "code",
          "checksum": "a6b7375914651c80d4f8e35697d45ccc",
          "grade": false,
          "grade_id": "cell-0f65d0f778ec6287",
          "locked": false,
          "schema_version": 3,
          "solution": true,
          "task": false
        },
        "colab": {
          "base_uri": "https://localhost:8080/",
          "height": 286
        },
        "id": "L8zC_EvJ1ehB",
        "outputId": "96259f0a-da15-4694-a079-05970175e129"
      },
      "outputs": [
        {
          "output_type": "display_data",
          "data": {
            "text/html": [
              "<table class=\"dataframe\">\n",
              "<caption>A tibble: 6 × 7</caption>\n",
              "<thead>\n",
              "\t<tr><th scope=col>country</th><th scope=col>continent</th><th scope=col>year</th><th scope=col>lifeExp</th><th scope=col>pop</th><th scope=col>gdpPercap</th><th scope=col>life_level</th></tr>\n",
              "\t<tr><th scope=col>&lt;fct&gt;</th><th scope=col>&lt;fct&gt;</th><th scope=col>&lt;int&gt;</th><th scope=col>&lt;dbl&gt;</th><th scope=col>&lt;int&gt;</th><th scope=col>&lt;dbl&gt;</th><th scope=col>&lt;fct&gt;</th></tr>\n",
              "</thead>\n",
              "<tbody>\n",
              "\t<tr><td>Afghanistan</td><td>Asia    </td><td>1997</td><td>41.763</td><td>22227415</td><td>  635.3414</td><td>low      </td></tr>\n",
              "\t<tr><td>Albania    </td><td>Europe  </td><td>1997</td><td>72.950</td><td> 3428038</td><td> 3193.0546</td><td>very high</td></tr>\n",
              "\t<tr><td>Algeria    </td><td>Africa  </td><td>1997</td><td>69.152</td><td>29072015</td><td> 4797.2951</td><td>high     </td></tr>\n",
              "\t<tr><td>Angola     </td><td>Africa  </td><td>1997</td><td>40.963</td><td> 9875024</td><td> 2277.1409</td><td>low      </td></tr>\n",
              "\t<tr><td>Argentina  </td><td>Americas</td><td>1997</td><td>73.275</td><td>36203463</td><td>10967.2820</td><td>very high</td></tr>\n",
              "\t<tr><td>Australia  </td><td>Oceania </td><td>1997</td><td>78.830</td><td>18565243</td><td>26997.9366</td><td>very high</td></tr>\n",
              "</tbody>\n",
              "</table>\n"
            ],
            "text/markdown": "\nA tibble: 6 × 7\n\n| country &lt;fct&gt; | continent &lt;fct&gt; | year &lt;int&gt; | lifeExp &lt;dbl&gt; | pop &lt;int&gt; | gdpPercap &lt;dbl&gt; | life_level &lt;fct&gt; |\n|---|---|---|---|---|---|---|\n| Afghanistan | Asia     | 1997 | 41.763 | 22227415 |   635.3414 | low       |\n| Albania     | Europe   | 1997 | 72.950 |  3428038 |  3193.0546 | very high |\n| Algeria     | Africa   | 1997 | 69.152 | 29072015 |  4797.2951 | high      |\n| Angola      | Africa   | 1997 | 40.963 |  9875024 |  2277.1409 | low       |\n| Argentina   | Americas | 1997 | 73.275 | 36203463 | 10967.2820 | very high |\n| Australia   | Oceania  | 1997 | 78.830 | 18565243 | 26997.9366 | very high |\n\n",
            "text/latex": "A tibble: 6 × 7\n\\begin{tabular}{lllllll}\n country & continent & year & lifeExp & pop & gdpPercap & life\\_level\\\\\n <fct> & <fct> & <int> & <dbl> & <int> & <dbl> & <fct>\\\\\n\\hline\n\t Afghanistan & Asia     & 1997 & 41.763 & 22227415 &   635.3414 & low      \\\\\n\t Albania     & Europe   & 1997 & 72.950 &  3428038 &  3193.0546 & very high\\\\\n\t Algeria     & Africa   & 1997 & 69.152 & 29072015 &  4797.2951 & high     \\\\\n\t Angola      & Africa   & 1997 & 40.963 &  9875024 &  2277.1409 & low      \\\\\n\t Argentina   & Americas & 1997 & 73.275 & 36203463 & 10967.2820 & very high\\\\\n\t Australia   & Oceania  & 1997 & 78.830 & 18565243 & 26997.9366 & very high\\\\\n\\end{tabular}\n",
            "text/plain": [
              "  country     continent year lifeExp pop      gdpPercap  life_level\n",
              "1 Afghanistan Asia      1997 41.763  22227415   635.3414 low       \n",
              "2 Albania     Europe    1997 72.950   3428038  3193.0546 very high \n",
              "3 Algeria     Africa    1997 69.152  29072015  4797.2951 high      \n",
              "4 Angola      Africa    1997 40.963   9875024  2277.1409 low       \n",
              "5 Argentina   Americas  1997 73.275  36203463 10967.2820 very high \n",
              "6 Australia   Oceania   1997 78.830  18565243 26997.9366 very high "
            ]
          },
          "metadata": {}
        }
      ],
      "source": [
        "# your code here\n",
        "gapminder_1997_fct <- gapminder %>%\n",
        "  filter(year == 1997) %>%\n",
        "  mutate(life_level = factor(\n",
        "    case_when(\n",
        "      lifeExp < 23 ~ \"very low\",\n",
        "      lifeExp < 48 ~ \"low\",\n",
        "      lifeExp < 59 ~ \"moderate\",\n",
        "      lifeExp < 70 ~ \"high\",\n",
        "      TRUE ~ \"very high\"\n",
        "    ),\n",
        "    levels = c(\"very low\", \"low\", \"moderate\", \"high\", \"very high\")\n",
        "  ))\n",
        "#fail() # No Answer - remove if you provide an answer\n",
        "head(gapminder_1997_fct)"
      ]
    },
    {
      "cell_type": "code",
      "execution_count": 160,
      "metadata": {
        "deletable": false,
        "editable": false,
        "nbgrader": {
          "cell_type": "code",
          "checksum": "00d36dbca1b7c500810bfb6aca6ec0ee",
          "grade": true,
          "grade_id": "cell-8448390b94500381",
          "locked": true,
          "points": 1,
          "schema_version": 3,
          "solution": false,
          "task": false
        },
        "colab": {
          "base_uri": "https://localhost:8080/"
        },
        "id": "NqoaYZQ71ehB",
        "outputId": "178e8888-2863-47c3-cfb2-0a50ac2c253c"
      },
      "outputs": [
        {
          "output_type": "stream",
          "name": "stdout",
          "text": [
            "[1] \"Success!\"\n"
          ]
        }
      ],
      "source": [
        "library(digest)\n",
        "stopifnot(\"gapminder_1997_fct should be a data frame\"= setequal(digest(paste(toString('data.frame' %in% class(gapminder_1997_fct)), \"7ab99\")), \"d211702e5ab6ed57b2f654acfb95faf0\"))\n",
        "stopifnot(\"dimensions of gapminder_1997_fct are not correct\"= setequal(digest(paste(toString(dim(gapminder_1997_fct)), \"7ab99\")), \"f4de55251732e824d56ed44b4d9b20c5\"))\n",
        "stopifnot(\"column names of gapminder_1997_fct are not correct\"= setequal(digest(paste(toString(sort(colnames(gapminder_1997_fct))), \"7ab99\")), \"db56c9bb48ae9aa778724fc61328b5a2\"))\n",
        "stopifnot(\"types of columns in gapminder_1997_fct are not correct\"= setequal(digest(paste(toString(sort(unlist(sapply(gapminder_1997_fct, class)))), \"7ab99\")), \"1f0014e7710854af76fdc3087367bbd0\"))\n",
        "stopifnot(\"values in one or more numerical columns in gapminder_1997_fct are not correct\"= setequal(digest(paste(toString(if (any(sapply(gapminder_1997_fct, is.numeric))) sort(round(sapply(gapminder_1997_fct[, sapply(gapminder_1997_fct, is.numeric)], sum, na.rm = TRUE), 2)) else 0), \"7ab99\")), \"7340f7fadbdf8e0e0dbf3f8c9f36d28b\"))\n",
        "stopifnot(\"values in one or more character columns in gapminder_1997_fct are not correct\"= setequal(digest(paste(toString(if (any(sapply(gapminder_1997_fct, is.character))) sum(sapply(gapminder_1997_fct[sapply(gapminder_1997_fct, is.character)], function(x) length(unique(x)))) else 0), \"7ab99\")), \"6dd578b82fdabfb9e524767c62a4086b\"))\n",
        "stopifnot(\"values in one or more factor columns in gapminder_1997_fct are not correct\"= setequal(digest(paste(toString(if (any(sapply(gapminder_1997_fct, is.factor))) sum(sapply(gapminder_1997_fct[, sapply(gapminder_1997_fct, is.factor)], function(col) length(unique(col)))) else 0), \"7ab99\")), \"18043be51137e5afac676e1586c01d30\"))\n",
        "\n",
        "print('Success!')"
      ]
    },
    {
      "cell_type": "markdown",
      "metadata": {
        "deletable": false,
        "editable": false,
        "nbgrader": {
          "cell_type": "markdown",
          "checksum": "79159e2f1e076a32d34245013baeb8c8",
          "grade": false,
          "grade_id": "cell-ab66c1758a1353d7",
          "locked": true,
          "schema_version": 3,
          "solution": false,
          "task": false
        },
        "id": "ImNMiZHf1ehB"
      },
      "source": [
        "Run the following code to see the boxplots from the new data frame with life expectancy level as factor."
      ]
    },
    {
      "cell_type": "code",
      "execution_count": 161,
      "metadata": {
        "deletable": false,
        "editable": false,
        "lines_to_next_cell": 2,
        "nbgrader": {
          "cell_type": "code",
          "checksum": "49428ed049346010159818eab9a71a9d",
          "grade": false,
          "grade_id": "cell-a660106ec5a2bf52",
          "locked": true,
          "schema_version": 3,
          "solution": false,
          "task": false
        },
        "colab": {
          "base_uri": "https://localhost:8080/",
          "height": 437
        },
        "id": "s3z4L0dt1ehC",
        "outputId": "fe4c8e62-d086-48f2-ee0c-6df92bdcc4e6"
      },
      "outputs": [
        {
          "output_type": "display_data",
          "data": {
            "text/plain": [
              "plot without title"
            ],
            "image/png": "[encoded data removed]"
          },
          "metadata": {
            "image/png": {
              "width": 420,
              "height": 420
            }
          }
        }
      ],
      "source": [
        "ggplot(gapminder_1997_fct) + geom_boxplot(aes(x = life_level, y = gdpPercap)) +\n",
        "  labs(y = \"GDP per capita ($)\", x= \"Life expectancy level (years)\") +\n",
        "  scale_x_discrete(drop = FALSE) + # Don't drop the very low factor\n",
        "  ggtitle(\"GDP per capita per level of Life Expectancy\") +\n",
        "  theme_bw()"
      ]
    },
    {
      "cell_type": "markdown",
      "metadata": {
        "deletable": false,
        "editable": false,
        "nbgrader": {
          "cell_type": "markdown",
          "checksum": "9714549980e1e2d09cfdd01beebeae71",
          "grade": false,
          "grade_id": "cell-d2c47ea01eefe9d8",
          "locked": true,
          "schema_version": 3,
          "solution": false,
          "task": false
        },
        "id": "Dn41wG9Y1ehC"
      },
      "source": [
        "# Part 2: Inspecting Factors\n",
        "\n",
        "In Part 1, you created your own factors, so now let's explore what categorical variables are in the `gapminder` dataset.\n",
        "\n",
        "## Question 2.1\n",
        "\n",
        "{points: 1}\n",
        "\n",
        "\n",
        "What levels does the column `continent` have?\n",
        "Assign the levels to variable `continent_levels`, using the `levels()` function. (To mix things up a bit, the template code we're giving you extracts a column using the Base R way of extracting columns -- with a dollar sign.)\n",
        "\n",
        "```\n",
        "continent_levels <- FILL_THIS_IN(gapminder$FILL_THIS_IN)\n",
        "```"
      ]
    },
    {
      "cell_type": "code",
      "execution_count": 162,
      "metadata": {
        "deletable": false,
        "lines_to_next_cell": 0,
        "nbgrader": {
          "cell_type": "code",
          "checksum": "76a3507ffca700c224121447d12fb9f0",
          "grade": false,
          "grade_id": "cell-537277f01997b17c",
          "locked": false,
          "schema_version": 3,
          "solution": true,
          "task": false
        },
        "colab": {
          "base_uri": "https://localhost:8080/"
        },
        "id": "OmN9vgW51ehC",
        "outputId": "3c07a6de-6844-4e06-c413-13116f8c3e6e"
      },
      "outputs": [
        {
          "output_type": "stream",
          "name": "stdout",
          "text": [
            "[1] \"Africa\"   \"Americas\" \"Asia\"     \"Europe\"   \"Oceania\" \n"
          ]
        }
      ],
      "source": [
        "# your code here\n",
        "continent_levels <- levels(gapminder$continent)\n",
        "#fail()  No Answer - remove if you provide an answer\n",
        "print(continent_levels)"
      ]
    },
    {
      "cell_type": "code",
      "execution_count": 163,
      "metadata": {
        "deletable": false,
        "editable": false,
        "nbgrader": {
          "cell_type": "code",
          "checksum": "7c97b1c9d824cb1cfc9f6243d78daa26",
          "grade": true,
          "grade_id": "cell-5aacbda4d51ef339",
          "locked": true,
          "points": 1,
          "schema_version": 3,
          "solution": false,
          "task": false
        },
        "colab": {
          "base_uri": "https://localhost:8080/"
        },
        "id": "kymmfpH51ehC",
        "outputId": "ee2a0dbe-e479-429a-8c8b-d4e6359f03b1"
      },
      "outputs": [
        {
          "output_type": "stream",
          "name": "stdout",
          "text": [
            "[1] \"Success!\"\n"
          ]
        }
      ],
      "source": [
        "library(digest)\n",
        "stopifnot(\"type of continent_levels is not character\"= setequal(digest(paste(toString(class(continent_levels)), \"4895d\")), \"5d4ab01a44998464119edf7bbc8e49ff\"))\n",
        "stopifnot(\"length of continent_levels is not correct\"= setequal(digest(paste(toString(length(continent_levels)), \"4895d\")), \"b1755949b7863621be6cec5bbf34b659\"))\n",
        "stopifnot(\"value of continent_levels is not correct\"= setequal(digest(paste(toString(tolower(continent_levels)), \"4895d\")), \"412fb64cb3883de86557b584a0dadcdb\"))\n",
        "stopifnot(\"letters in string value of continent_levels are correct but case is not correct\"= setequal(digest(paste(toString(continent_levels), \"4895d\")), \"a65ebb2d7e1b0f8b01afbf3b9b92c0f7\"))\n",
        "\n",
        "print('Success!')"
      ]
    },
    {
      "cell_type": "markdown",
      "metadata": {
        "deletable": false,
        "editable": false,
        "nbgrader": {
          "cell_type": "markdown",
          "checksum": "d10b1581e9221d1f091bc5e6ed9b7235",
          "grade": false,
          "grade_id": "cell-49df2e07dc37ef51",
          "locked": true,
          "schema_version": 3,
          "solution": false,
          "task": false
        },
        "id": "dsGooV7Z1ehC"
      },
      "source": [
        "## Question 2.2\n",
        "\n",
        "{points: 1}\n",
        "\n",
        "\n",
        "How many levels does the column `country` have?\n",
        "Assign the number of levels to variable `gap_nr_countries`. Hint: there's a function called `nlevels()`.\n",
        "\n",
        "```\n",
        "gap_nr_countries <- FILL_THIS_IN(gapminder$FILL_THIS_IN)\n",
        "```"
      ]
    },
    {
      "cell_type": "code",
      "execution_count": 164,
      "metadata": {
        "deletable": false,
        "lines_to_next_cell": 0,
        "nbgrader": {
          "cell_type": "code",
          "checksum": "993a22e5837b922d522afb6b1edabffa",
          "grade": false,
          "grade_id": "cell-b79dc64b081f578c",
          "locked": false,
          "schema_version": 3,
          "solution": true,
          "task": false
        },
        "colab": {
          "base_uri": "https://localhost:8080/"
        },
        "id": "h5x98Duh1ehC",
        "outputId": "4f54bd34-248d-44b6-9fff-009bac8d6190"
      },
      "outputs": [
        {
          "output_type": "stream",
          "name": "stdout",
          "text": [
            "[1] 142\n"
          ]
        }
      ],
      "source": [
        "# your code here\n",
        "gap_nr_countries <- nlevels(gapminder$country)\n",
        "#fail()  No Answer - remove if you provide an answer\n",
        "print(gap_nr_countries)"
      ]
    },
    {
      "cell_type": "code",
      "execution_count": 165,
      "metadata": {
        "deletable": false,
        "editable": false,
        "nbgrader": {
          "cell_type": "code",
          "checksum": "9973ccd735b6ec5a2592f11745b29264",
          "grade": true,
          "grade_id": "cell-e34eff454c51eedd",
          "locked": true,
          "points": 1,
          "schema_version": 3,
          "solution": false,
          "task": false
        },
        "colab": {
          "base_uri": "https://localhost:8080/"
        },
        "id": "OKJvOpfd1ehC",
        "outputId": "79c7bb08-66e2-49fb-e59d-31bed87d2ade"
      },
      "outputs": [
        {
          "output_type": "stream",
          "name": "stdout",
          "text": [
            "[1] \"Success!\"\n"
          ]
        }
      ],
      "source": [
        "library(digest)\n",
        "stopifnot(\"type of gap_nr_countries is not integer\"= setequal(digest(paste(toString(class(gap_nr_countries)), \"9e480\")), \"3be9e582a1ad0a66c7cceafe5d05754d\"))\n",
        "stopifnot(\"length of gap_nr_countries is not correct\"= setequal(digest(paste(toString(length(gap_nr_countries)), \"9e480\")), \"3c193bd257ca5cba1b3d113f528d211f\"))\n",
        "stopifnot(\"values of gap_nr_countries are not correct\"= setequal(digest(paste(toString(sort(gap_nr_countries)), \"9e480\")), \"40eaf9c342a718472ef3c26b7a109724\"))\n",
        "\n",
        "print('Success!')"
      ]
    },
    {
      "cell_type": "markdown",
      "metadata": {
        "deletable": false,
        "editable": false,
        "nbgrader": {
          "cell_type": "markdown",
          "checksum": "d14c4059ea6871dc0cf404f68b7c35d5",
          "grade": false,
          "grade_id": "cell-6fe136fd3a220c57",
          "locked": true,
          "schema_version": 3,
          "solution": false,
          "task": false
        },
        "id": "IFLlkHmu1ehC"
      },
      "source": [
        "## Question 2.3\n",
        "\n",
        "{points: 1}\n",
        "\n",
        "Consider we are only interested in the following 5 countries: Egypt, Haiti, Romania, Thailand, and Venezuela.\n",
        "Create a new data frame with only these 5 countries and store it in variable `gap_5`. _Hint_: nothing new here -- use your dplyr knowledge!\n",
        "\n",
        "```\n",
        "gap_5 <- gapminder %>%\n",
        "   FILL_THIS_IN(FILL_THIS_IN %in% c(\"FILL_THIS_IN\", \"FILL_THIS_IN\", \"FILL_THIS_IN\", \"FILL_THIS_IN\", \"FILL_THIS_IN\"))\n",
        "```"
      ]
    },
    {
      "cell_type": "code",
      "execution_count": 166,
      "metadata": {
        "deletable": false,
        "lines_to_next_cell": 0,
        "nbgrader": {
          "cell_type": "code",
          "checksum": "bc2f4d1b202663df76a5a79622e9c121",
          "grade": false,
          "grade_id": "cell-46503448ea2a9cb9",
          "locked": false,
          "schema_version": 3,
          "solution": true,
          "task": false
        },
        "colab": {
          "base_uri": "https://localhost:8080/",
          "height": 286
        },
        "id": "KHxhyFJU1ehC",
        "outputId": "3d6f33f5-f746-495e-a32d-ea5e3d9735d9"
      },
      "outputs": [
        {
          "output_type": "display_data",
          "data": {
            "text/html": [
              "<table class=\"dataframe\">\n",
              "<caption>A tibble: 6 × 6</caption>\n",
              "<thead>\n",
              "\t<tr><th scope=col>country</th><th scope=col>continent</th><th scope=col>year</th><th scope=col>lifeExp</th><th scope=col>pop</th><th scope=col>gdpPercap</th></tr>\n",
              "\t<tr><th scope=col>&lt;fct&gt;</th><th scope=col>&lt;fct&gt;</th><th scope=col>&lt;int&gt;</th><th scope=col>&lt;dbl&gt;</th><th scope=col>&lt;int&gt;</th><th scope=col>&lt;dbl&gt;</th></tr>\n",
              "</thead>\n",
              "<tbody>\n",
              "\t<tr><td>Egypt</td><td>Africa</td><td>1952</td><td>41.893</td><td>22223309</td><td>1418.822</td></tr>\n",
              "\t<tr><td>Egypt</td><td>Africa</td><td>1957</td><td>44.444</td><td>25009741</td><td>1458.915</td></tr>\n",
              "\t<tr><td>Egypt</td><td>Africa</td><td>1962</td><td>46.992</td><td>28173309</td><td>1693.336</td></tr>\n",
              "\t<tr><td>Egypt</td><td>Africa</td><td>1967</td><td>49.293</td><td>31681188</td><td>1814.881</td></tr>\n",
              "\t<tr><td>Egypt</td><td>Africa</td><td>1972</td><td>51.137</td><td>34807417</td><td>2024.008</td></tr>\n",
              "\t<tr><td>Egypt</td><td>Africa</td><td>1977</td><td>53.319</td><td>38783863</td><td>2785.494</td></tr>\n",
              "</tbody>\n",
              "</table>\n"
            ],
            "text/markdown": "\nA tibble: 6 × 6\n\n| country &lt;fct&gt; | continent &lt;fct&gt; | year &lt;int&gt; | lifeExp &lt;dbl&gt; | pop &lt;int&gt; | gdpPercap &lt;dbl&gt; |\n|---|---|---|---|---|---|\n| Egypt | Africa | 1952 | 41.893 | 22223309 | 1418.822 |\n| Egypt | Africa | 1957 | 44.444 | 25009741 | 1458.915 |\n| Egypt | Africa | 1962 | 46.992 | 28173309 | 1693.336 |\n| Egypt | Africa | 1967 | 49.293 | 31681188 | 1814.881 |\n| Egypt | Africa | 1972 | 51.137 | 34807417 | 2024.008 |\n| Egypt | Africa | 1977 | 53.319 | 38783863 | 2785.494 |\n\n",
            "text/latex": "A tibble: 6 × 6\n\\begin{tabular}{llllll}\n country & continent & year & lifeExp & pop & gdpPercap\\\\\n <fct> & <fct> & <int> & <dbl> & <int> & <dbl>\\\\\n\\hline\n\t Egypt & Africa & 1952 & 41.893 & 22223309 & 1418.822\\\\\n\t Egypt & Africa & 1957 & 44.444 & 25009741 & 1458.915\\\\\n\t Egypt & Africa & 1962 & 46.992 & 28173309 & 1693.336\\\\\n\t Egypt & Africa & 1967 & 49.293 & 31681188 & 1814.881\\\\\n\t Egypt & Africa & 1972 & 51.137 & 34807417 & 2024.008\\\\\n\t Egypt & Africa & 1977 & 53.319 & 38783863 & 2785.494\\\\\n\\end{tabular}\n",
            "text/plain": [
              "  country continent year lifeExp pop      gdpPercap\n",
              "1 Egypt   Africa    1952 41.893  22223309 1418.822 \n",
              "2 Egypt   Africa    1957 44.444  25009741 1458.915 \n",
              "3 Egypt   Africa    1962 46.992  28173309 1693.336 \n",
              "4 Egypt   Africa    1967 49.293  31681188 1814.881 \n",
              "5 Egypt   Africa    1972 51.137  34807417 2024.008 \n",
              "6 Egypt   Africa    1977 53.319  38783863 2785.494 "
            ]
          },
          "metadata": {}
        }
      ],
      "source": [
        "# your code here\n",
        "gap_5 <- gapminder %>%\n",
        "  filter(country %in% c(\"Egypt\", \"Haiti\", \"Romania\", \"Thailand\", \"Venezuela\"))\n",
        "#fail()  No Answer - remove if you provide an answer\n",
        "head(gap_5)"
      ]
    },
    {
      "cell_type": "code",
      "execution_count": 167,
      "metadata": {
        "deletable": false,
        "editable": false,
        "lines_to_next_cell": 2,
        "nbgrader": {
          "cell_type": "code",
          "checksum": "66e07f7efb3e6c8901b3e8e87a0c78cd",
          "grade": true,
          "grade_id": "cell-caed098411987014",
          "locked": true,
          "points": 1,
          "schema_version": 3,
          "solution": false,
          "task": false
        },
        "colab": {
          "base_uri": "https://localhost:8080/"
        },
        "id": "vSq9FEug1ehC",
        "outputId": "68692c42-65e9-422e-f1c8-b0ebbdabe703"
      },
      "outputs": [
        {
          "output_type": "stream",
          "name": "stdout",
          "text": [
            "[1] \"Success!\"\n"
          ]
        }
      ],
      "source": [
        "library(digest)\n",
        "stopifnot(\"gap_5 should be a data frame\"= setequal(digest(paste(toString('data.frame' %in% class(gap_5)), \"2f1a1\")), \"ee86417882d82e36b82411fcd0f4fa27\"))\n",
        "stopifnot(\"dimensions of gap_5 are not correct\"= setequal(digest(paste(toString(dim(gap_5)), \"2f1a1\")), \"81d06d285910da8d696011f71c495868\"))\n",
        "stopifnot(\"column names of gap_5 are not correct\"= setequal(digest(paste(toString(sort(colnames(gap_5))), \"2f1a1\")), \"e1b52f6074857db0bb25b4972f23fd37\"))\n",
        "stopifnot(\"types of columns in gap_5 are not correct\"= setequal(digest(paste(toString(sort(unlist(sapply(gap_5, class)))), \"2f1a1\")), \"7100c09ccb01e51c29d1ebe0cd1d5c8e\"))\n",
        "stopifnot(\"values in one or more numerical columns in gap_5 are not correct\"= setequal(digest(paste(toString(if (any(sapply(gap_5, is.numeric))) sort(round(sapply(gap_5[, sapply(gap_5, is.numeric)], sum, na.rm = TRUE), 2)) else 0), \"2f1a1\")), \"5bf805de6d2c4f6a18587ed48ebef99b\"))\n",
        "stopifnot(\"values in one or more character columns in gap_5 are not correct\"= setequal(digest(paste(toString(if (any(sapply(gap_5, is.character))) sum(sapply(gap_5[sapply(gap_5, is.character)], function(x) length(unique(x)))) else 0), \"2f1a1\")), \"5d4b9850ddf17d08965c7819de2d43e2\"))\n",
        "stopifnot(\"values in one or more factor columns in gap_5 are not correct\"= setequal(digest(paste(toString(if (any(sapply(gap_5, is.factor))) sum(sapply(gap_5[, sapply(gap_5, is.factor)], function(col) length(unique(col)))) else 0), \"2f1a1\")), \"fbae95666a0e2aaabd9515d712d8b263\"))\n",
        "\n",
        "print('Success!')"
      ]
    },
    {
      "cell_type": "markdown",
      "metadata": {
        "deletable": false,
        "editable": false,
        "nbgrader": {
          "cell_type": "markdown",
          "checksum": "47eadc1aec4262916060c407b7060ff9",
          "grade": false,
          "grade_id": "cell-4ad94aa7ee66ed58",
          "locked": true,
          "schema_version": 3,
          "solution": false,
          "task": false
        },
        "id": "mHNfT7Lz1ehC"
      },
      "source": [
        "## Question 2.4\n",
        "\n",
        "{points: 1}\n",
        "\n",
        "\n",
        "However, subsetting the data set does not affect the levels of the factors.\n",
        "The column `country` in tibble `gap_5` still has the same number of levels as in the original data frame.\n",
        "\n",
        "Your task: create a new tibble from `gap_5`, where all unused levels from column `country` are dropped. _Hint_: use the `droplevels()` function. Store new new tibble in variable `gap_5_dropped`.\n",
        "\n",
        "By way of demonstration, check the number of levels in the \"country\" column before and after the change -- we've included the code for this for you.\n",
        "\n",
        "```\n",
        "nlevels(gap_5$country)\n",
        "gap_5_dropped <- FILL_THIS_IN(FILL_THIS_IN)\n",
        "nlevels(gap_5_dropped$country)\n",
        "```"
      ]
    },
    {
      "cell_type": "code",
      "execution_count": 168,
      "metadata": {
        "deletable": false,
        "lines_to_next_cell": 0,
        "nbgrader": {
          "cell_type": "code",
          "checksum": "1ca53dfb9b1eb9799849178862b07658",
          "grade": false,
          "grade_id": "cell-7e52beeb587753f4",
          "locked": false,
          "schema_version": 3,
          "solution": true,
          "task": false
        },
        "colab": {
          "base_uri": "https://localhost:8080/",
          "height": 321
        },
        "id": "84KbhDOT1ehD",
        "outputId": "2c8f4f9b-eb31-4fb2-a8ee-b31678f1330b"
      },
      "outputs": [
        {
          "output_type": "display_data",
          "data": {
            "text/html": [
              "142"
            ],
            "text/markdown": "142",
            "text/latex": "142",
            "text/plain": [
              "[1] 142"
            ]
          },
          "metadata": {}
        },
        {
          "output_type": "display_data",
          "data": {
            "text/html": [
              "5"
            ],
            "text/markdown": "5",
            "text/latex": "5",
            "text/plain": [
              "[1] 5"
            ]
          },
          "metadata": {}
        },
        {
          "output_type": "display_data",
          "data": {
            "text/html": [
              "<table class=\"dataframe\">\n",
              "<caption>A tibble: 6 × 6</caption>\n",
              "<thead>\n",
              "\t<tr><th scope=col>country</th><th scope=col>continent</th><th scope=col>year</th><th scope=col>lifeExp</th><th scope=col>pop</th><th scope=col>gdpPercap</th></tr>\n",
              "\t<tr><th scope=col>&lt;fct&gt;</th><th scope=col>&lt;fct&gt;</th><th scope=col>&lt;int&gt;</th><th scope=col>&lt;dbl&gt;</th><th scope=col>&lt;int&gt;</th><th scope=col>&lt;dbl&gt;</th></tr>\n",
              "</thead>\n",
              "<tbody>\n",
              "\t<tr><td>Egypt</td><td>Africa</td><td>1952</td><td>41.893</td><td>22223309</td><td>1418.822</td></tr>\n",
              "\t<tr><td>Egypt</td><td>Africa</td><td>1957</td><td>44.444</td><td>25009741</td><td>1458.915</td></tr>\n",
              "\t<tr><td>Egypt</td><td>Africa</td><td>1962</td><td>46.992</td><td>28173309</td><td>1693.336</td></tr>\n",
              "\t<tr><td>Egypt</td><td>Africa</td><td>1967</td><td>49.293</td><td>31681188</td><td>1814.881</td></tr>\n",
              "\t<tr><td>Egypt</td><td>Africa</td><td>1972</td><td>51.137</td><td>34807417</td><td>2024.008</td></tr>\n",
              "\t<tr><td>Egypt</td><td>Africa</td><td>1977</td><td>53.319</td><td>38783863</td><td>2785.494</td></tr>\n",
              "</tbody>\n",
              "</table>\n"
            ],
            "text/markdown": "\nA tibble: 6 × 6\n\n| country &lt;fct&gt; | continent &lt;fct&gt; | year &lt;int&gt; | lifeExp &lt;dbl&gt; | pop &lt;int&gt; | gdpPercap &lt;dbl&gt; |\n|---|---|---|---|---|---|\n| Egypt | Africa | 1952 | 41.893 | 22223309 | 1418.822 |\n| Egypt | Africa | 1957 | 44.444 | 25009741 | 1458.915 |\n| Egypt | Africa | 1962 | 46.992 | 28173309 | 1693.336 |\n| Egypt | Africa | 1967 | 49.293 | 31681188 | 1814.881 |\n| Egypt | Africa | 1972 | 51.137 | 34807417 | 2024.008 |\n| Egypt | Africa | 1977 | 53.319 | 38783863 | 2785.494 |\n\n",
            "text/latex": "A tibble: 6 × 6\n\\begin{tabular}{llllll}\n country & continent & year & lifeExp & pop & gdpPercap\\\\\n <fct> & <fct> & <int> & <dbl> & <int> & <dbl>\\\\\n\\hline\n\t Egypt & Africa & 1952 & 41.893 & 22223309 & 1418.822\\\\\n\t Egypt & Africa & 1957 & 44.444 & 25009741 & 1458.915\\\\\n\t Egypt & Africa & 1962 & 46.992 & 28173309 & 1693.336\\\\\n\t Egypt & Africa & 1967 & 49.293 & 31681188 & 1814.881\\\\\n\t Egypt & Africa & 1972 & 51.137 & 34807417 & 2024.008\\\\\n\t Egypt & Africa & 1977 & 53.319 & 38783863 & 2785.494\\\\\n\\end{tabular}\n",
            "text/plain": [
              "  country continent year lifeExp pop      gdpPercap\n",
              "1 Egypt   Africa    1952 41.893  22223309 1418.822 \n",
              "2 Egypt   Africa    1957 44.444  25009741 1458.915 \n",
              "3 Egypt   Africa    1962 46.992  28173309 1693.336 \n",
              "4 Egypt   Africa    1967 49.293  31681188 1814.881 \n",
              "5 Egypt   Africa    1972 51.137  34807417 2024.008 \n",
              "6 Egypt   Africa    1977 53.319  38783863 2785.494 "
            ]
          },
          "metadata": {}
        }
      ],
      "source": [
        "# your code here\n",
        "nlevels(gap_5$country)\n",
        "\n",
        "gap_5_dropped <- droplevels(gap_5)\n",
        "\n",
        "nlevels(gap_5_dropped$country)\n",
        "\n",
        "#fail() # No Answer - remove if you provide an answer\n",
        "head(gap_5_dropped)"
      ]
    },
    {
      "cell_type": "code",
      "execution_count": 169,
      "metadata": {
        "deletable": false,
        "editable": false,
        "nbgrader": {
          "cell_type": "code",
          "checksum": "6ee798589ed758617524db31ce0919c3",
          "grade": true,
          "grade_id": "cell-806b19b02e2333e2",
          "locked": true,
          "points": 1,
          "schema_version": 3,
          "solution": false,
          "task": false
        },
        "colab": {
          "base_uri": "https://localhost:8080/"
        },
        "id": "63lpA96v1ehD",
        "outputId": "4397b158-d33c-450c-993f-eacb3fa824b5"
      },
      "outputs": [
        {
          "output_type": "stream",
          "name": "stdout",
          "text": [
            "[1] \"Success!\"\n"
          ]
        }
      ],
      "source": [
        "library(digest)\n",
        "stopifnot(\"gap_5_dropped should be a data frame\"= setequal(digest(paste(toString('data.frame' %in% class(gap_5_dropped)), \"48b97\")), \"f4d890e90f23ba5a97b1ed19b14e0307\"))\n",
        "stopifnot(\"dimensions of gap_5_dropped are not correct\"= setequal(digest(paste(toString(dim(gap_5_dropped)), \"48b97\")), \"cf3b8a8bca887e7a0af17a9b48b395f7\"))\n",
        "stopifnot(\"column names of gap_5_dropped are not correct\"= setequal(digest(paste(toString(sort(colnames(gap_5_dropped))), \"48b97\")), \"4dcfcb248186f6282514b0d7f90c04e8\"))\n",
        "stopifnot(\"types of columns in gap_5_dropped are not correct\"= setequal(digest(paste(toString(sort(unlist(sapply(gap_5_dropped, class)))), \"48b97\")), \"3c4239080bd11eb2d194ef8f7e9a47e3\"))\n",
        "stopifnot(\"values in one or more numerical columns in gap_5_dropped are not correct\"= setequal(digest(paste(toString(if (any(sapply(gap_5_dropped, is.numeric))) sort(round(sapply(gap_5_dropped[, sapply(gap_5_dropped, is.numeric)], sum, na.rm = TRUE), 2)) else 0), \"48b97\")), \"e7dc2bf8bf9c0345af5f452cb38b050a\"))\n",
        "stopifnot(\"values in one or more character columns in gap_5_dropped are not correct\"= setequal(digest(paste(toString(if (any(sapply(gap_5_dropped, is.character))) sum(sapply(gap_5_dropped[sapply(gap_5_dropped, is.character)], function(x) length(unique(x)))) else 0), \"48b97\")), \"7e4b774275a507345b49cdbe11a3c8b9\"))\n",
        "stopifnot(\"values in one or more factor columns in gap_5_dropped are not correct\"= setequal(digest(paste(toString(if (any(sapply(gap_5_dropped, is.factor))) sum(sapply(gap_5_dropped[, sapply(gap_5_dropped, is.factor)], function(col) length(unique(col)))) else 0), \"48b97\")), \"5ac0fb905505fb24dbb9b4b917749ae6\"))\n",
        "\n",
        "print('Success!')"
      ]
    },
    {
      "cell_type": "markdown",
      "metadata": {
        "deletable": false,
        "editable": false,
        "nbgrader": {
          "cell_type": "markdown",
          "checksum": "312fbb5b0ea5ca9c944b6985d7fa4dc5",
          "grade": false,
          "grade_id": "cell-1d6499c6b3e1bea1",
          "locked": true,
          "schema_version": 3,
          "solution": false,
          "task": false
        },
        "id": "3KOdn4NL1ehD"
      },
      "source": [
        "## Question 2.5\n",
        "\n",
        "{points: 1}\n",
        "\n",
        "\n",
        "The factor levels of column `continent` in data frame `gapminder` are ordered alphabetically.\n",
        "Create a new data frame, with the levels of column `continent` in *increasing* order according to their frequency (i.e., the number of rows for each continent).\n",
        "Store the new data frame in variable `gap_continent_freq`. *Hint*: Use `fct_infreq()` and `fct_rev()`.\n",
        "\n",
        "```\n",
        "gap_continent_freq <- gapminder %>%\n",
        "   mutate(continent = FILL_THIS_IN(FILL_THIS_IN(continent)))\n",
        "```\n",
        "\n",
        "**Hint**: The first `FILL_THIS_IN` corresponds to a `fct_*` function that reverses the levels of the factors. The second `FILL_THIS_IN` correspond to a `fct_*` function that orders the levels by *decreasing* frequency."
      ]
    },
    {
      "cell_type": "code",
      "execution_count": 170,
      "metadata": {
        "deletable": false,
        "lines_to_next_cell": 0,
        "nbgrader": {
          "cell_type": "code",
          "checksum": "60c7da198c7e04c9b493fa3bb0cbefd3",
          "grade": false,
          "grade_id": "cell-041e1b9fdf167cc9",
          "locked": false,
          "schema_version": 3,
          "solution": true,
          "task": false
        },
        "colab": {
          "base_uri": "https://localhost:8080/",
          "height": 286
        },
        "id": "EX3h04Rd1ehD",
        "outputId": "2f81e866-b5b6-4778-940f-258a22a2e218"
      },
      "outputs": [
        {
          "output_type": "display_data",
          "data": {
            "text/html": [
              "<table class=\"dataframe\">\n",
              "<caption>A tibble: 6 × 6</caption>\n",
              "<thead>\n",
              "\t<tr><th scope=col>country</th><th scope=col>continent</th><th scope=col>year</th><th scope=col>lifeExp</th><th scope=col>pop</th><th scope=col>gdpPercap</th></tr>\n",
              "\t<tr><th scope=col>&lt;fct&gt;</th><th scope=col>&lt;fct&gt;</th><th scope=col>&lt;int&gt;</th><th scope=col>&lt;dbl&gt;</th><th scope=col>&lt;int&gt;</th><th scope=col>&lt;dbl&gt;</th></tr>\n",
              "</thead>\n",
              "<tbody>\n",
              "\t<tr><td>Afghanistan</td><td>Asia</td><td>1952</td><td>28.801</td><td> 8425333</td><td>779.4453</td></tr>\n",
              "\t<tr><td>Afghanistan</td><td>Asia</td><td>1957</td><td>30.332</td><td> 9240934</td><td>820.8530</td></tr>\n",
              "\t<tr><td>Afghanistan</td><td>Asia</td><td>1962</td><td>31.997</td><td>10267083</td><td>853.1007</td></tr>\n",
              "\t<tr><td>Afghanistan</td><td>Asia</td><td>1967</td><td>34.020</td><td>11537966</td><td>836.1971</td></tr>\n",
              "\t<tr><td>Afghanistan</td><td>Asia</td><td>1972</td><td>36.088</td><td>13079460</td><td>739.9811</td></tr>\n",
              "\t<tr><td>Afghanistan</td><td>Asia</td><td>1977</td><td>38.438</td><td>14880372</td><td>786.1134</td></tr>\n",
              "</tbody>\n",
              "</table>\n"
            ],
            "text/markdown": "\nA tibble: 6 × 6\n\n| country &lt;fct&gt; | continent &lt;fct&gt; | year &lt;int&gt; | lifeExp &lt;dbl&gt; | pop &lt;int&gt; | gdpPercap &lt;dbl&gt; |\n|---|---|---|---|---|---|\n| Afghanistan | Asia | 1952 | 28.801 |  8425333 | 779.4453 |\n| Afghanistan | Asia | 1957 | 30.332 |  9240934 | 820.8530 |\n| Afghanistan | Asia | 1962 | 31.997 | 10267083 | 853.1007 |\n| Afghanistan | Asia | 1967 | 34.020 | 11537966 | 836.1971 |\n| Afghanistan | Asia | 1972 | 36.088 | 13079460 | 739.9811 |\n| Afghanistan | Asia | 1977 | 38.438 | 14880372 | 786.1134 |\n\n",
            "text/latex": "A tibble: 6 × 6\n\\begin{tabular}{llllll}\n country & continent & year & lifeExp & pop & gdpPercap\\\\\n <fct> & <fct> & <int> & <dbl> & <int> & <dbl>\\\\\n\\hline\n\t Afghanistan & Asia & 1952 & 28.801 &  8425333 & 779.4453\\\\\n\t Afghanistan & Asia & 1957 & 30.332 &  9240934 & 820.8530\\\\\n\t Afghanistan & Asia & 1962 & 31.997 & 10267083 & 853.1007\\\\\n\t Afghanistan & Asia & 1967 & 34.020 & 11537966 & 836.1971\\\\\n\t Afghanistan & Asia & 1972 & 36.088 & 13079460 & 739.9811\\\\\n\t Afghanistan & Asia & 1977 & 38.438 & 14880372 & 786.1134\\\\\n\\end{tabular}\n",
            "text/plain": [
              "  country     continent year lifeExp pop      gdpPercap\n",
              "1 Afghanistan Asia      1952 28.801   8425333 779.4453 \n",
              "2 Afghanistan Asia      1957 30.332   9240934 820.8530 \n",
              "3 Afghanistan Asia      1962 31.997  10267083 853.1007 \n",
              "4 Afghanistan Asia      1967 34.020  11537966 836.1971 \n",
              "5 Afghanistan Asia      1972 36.088  13079460 739.9811 \n",
              "6 Afghanistan Asia      1977 38.438  14880372 786.1134 "
            ]
          },
          "metadata": {}
        }
      ],
      "source": [
        "# your code here\n",
        "gap_continent_freq <- gapminder %>%\n",
        "  mutate(continent = fct_rev(fct_infreq(continent)))\n",
        "#fail()  No Answer - remove if you provide an answer\n",
        "head(gap_continent_freq)"
      ]
    },
    {
      "cell_type": "code",
      "execution_count": 171,
      "metadata": {
        "deletable": false,
        "editable": false,
        "nbgrader": {
          "cell_type": "code",
          "checksum": "1622f9fada95d79f99a7d9178d348769",
          "grade": true,
          "grade_id": "cell-b38804e6a06d9de3",
          "locked": true,
          "points": 1,
          "schema_version": 3,
          "solution": false,
          "task": false
        },
        "colab": {
          "base_uri": "https://localhost:8080/"
        },
        "id": "QkKF7pmE1ehD",
        "outputId": "65d0bcf1-ed12-4c94-fdff-0475fdbb0e22"
      },
      "outputs": [
        {
          "output_type": "stream",
          "name": "stdout",
          "text": [
            "[1] \"Success!\"\n"
          ]
        }
      ],
      "source": [
        "library(digest)\n",
        "stopifnot(\"gap_continent_freq should be a data frame\"= setequal(digest(paste(toString('data.frame' %in% class(gap_continent_freq)), \"723dd\")), \"5d22966c4dc5d7fe7a3da096801ff7f7\"))\n",
        "stopifnot(\"dimensions of gap_continent_freq are not correct\"= setequal(digest(paste(toString(dim(gap_continent_freq)), \"723dd\")), \"ee987885c73573b99120d932d9a5fd08\"))\n",
        "stopifnot(\"column names of gap_continent_freq are not correct\"= setequal(digest(paste(toString(sort(colnames(gap_continent_freq))), \"723dd\")), \"9bbc3e2207321a2daa84afe6f53a5c7c\"))\n",
        "stopifnot(\"types of columns in gap_continent_freq are not correct\"= setequal(digest(paste(toString(sort(unlist(sapply(gap_continent_freq, class)))), \"723dd\")), \"20ed489335aed295c7ed4d4a3a23c79b\"))\n",
        "stopifnot(\"values in one or more numerical columns in gap_continent_freq are not correct\"= setequal(digest(paste(toString(if (any(sapply(gap_continent_freq, is.numeric))) sort(round(sapply(gap_continent_freq[, sapply(gap_continent_freq, is.numeric)], sum, na.rm = TRUE), 2)) else 0), \"723dd\")), \"47d9febd40029de56e516afbd201f55a\"))\n",
        "stopifnot(\"values in one or more character columns in gap_continent_freq are not correct\"= setequal(digest(paste(toString(if (any(sapply(gap_continent_freq, is.character))) sum(sapply(gap_continent_freq[sapply(gap_continent_freq, is.character)], function(x) length(unique(x)))) else 0), \"723dd\")), \"2fab8faf00996b326564a0a4bf35bfad\"))\n",
        "stopifnot(\"values in one or more factor columns in gap_continent_freq are not correct\"= setequal(digest(paste(toString(if (any(sapply(gap_continent_freq, is.factor))) sum(sapply(gap_continent_freq[, sapply(gap_continent_freq, is.factor)], function(col) length(unique(col)))) else 0), \"723dd\")), \"c18069b4d164a7d8173b5c44a336f6ab\"))\n",
        "\n",
        "print('Success!')"
      ]
    },
    {
      "cell_type": "markdown",
      "metadata": {
        "deletable": false,
        "editable": false,
        "nbgrader": {
          "cell_type": "markdown",
          "checksum": "20b5f11b6f24b9fed13a6135737a95b0",
          "grade": false,
          "grade_id": "cell-ff00d58b5fb34ad7",
          "locked": true,
          "schema_version": 3,
          "solution": false,
          "task": false
        },
        "id": "9AI2az2Y1ehD"
      },
      "source": [
        "FYI: You can't \"see\" any difference in the tibble, but there are _attributes_ behind the hood keeping track of the order of the \"continent\" entries. You _can_ see the difference, however, in a plot, as below. Notice how the x-axis is no longer ordered alphabetically."
      ]
    },
    {
      "cell_type": "code",
      "execution_count": 172,
      "metadata": {
        "deletable": false,
        "editable": false,
        "nbgrader": {
          "cell_type": "code",
          "checksum": "c9da62f05387398682067d5af42f4019",
          "grade": false,
          "grade_id": "cell-1317f4d18c821807",
          "locked": true,
          "schema_version": 3,
          "solution": false,
          "task": false
        },
        "colab": {
          "base_uri": "https://localhost:8080/",
          "height": 437
        },
        "id": "Jngf4NtW1ehD",
        "outputId": "cdd963a2-f8bb-4e15-f787-8aca32806ad4"
      },
      "outputs": [
        {
          "output_type": "display_data",
          "data": {
            "text/plain": [
              "plot without title"
            ],
            "image/png": "[encoded data removed]"
          },
          "metadata": {
            "image/png": {
              "width": 420,
              "height": 420
            }
          }
        }
      ],
      "source": [
        "ggplot(gap_continent_freq, aes(continent)) + geom_bar()"
      ]
    },
    {
      "cell_type": "markdown",
      "metadata": {
        "deletable": false,
        "editable": false,
        "nbgrader": {
          "cell_type": "markdown",
          "checksum": "f3bf1ec0e429865f8c0bf0f6e76c0f5d",
          "grade": false,
          "grade_id": "cell-b8379204e1f83944",
          "locked": true,
          "schema_version": 3,
          "solution": false,
          "task": false
        },
        "id": "AZ6Gj-CH1ehD"
      },
      "source": [
        "## Question 2.6\n",
        "\n",
        "{points: 1}\n",
        "\n",
        "\n",
        "Again based on the `gapminder` data set, create another data frame, with the levels of column `continent` in *increasing* order of their average life expectancy (from column `lifeExp`).\n",
        "Store the new data frame in variable `gap_continent_life`. _Hint_: use `fct_reorder()`.\n",
        "\n",
        "```\n",
        "gap_continent_life <- gapminder %>%\n",
        "   mutate(continent = FILL_THIS_IN(FILL_THIS_IN, FILL_THIS_IN, FILL_THIS_IN))\n",
        "```"
      ]
    },
    {
      "cell_type": "code",
      "execution_count": 173,
      "metadata": {
        "deletable": false,
        "lines_to_next_cell": 0,
        "nbgrader": {
          "cell_type": "code",
          "checksum": "7cb6057e8abd5a4083f9c08f43411355",
          "grade": false,
          "grade_id": "cell-d9568dc0d8c17add",
          "locked": false,
          "schema_version": 3,
          "solution": true,
          "task": false
        },
        "colab": {
          "base_uri": "https://localhost:8080/",
          "height": 286
        },
        "id": "uNOMGK5_1ehN",
        "outputId": "cf2eb860-1baa-4c4f-f977-2e85e64d6c6e"
      },
      "outputs": [
        {
          "output_type": "display_data",
          "data": {
            "text/html": [
              "<table class=\"dataframe\">\n",
              "<caption>A tibble: 6 × 6</caption>\n",
              "<thead>\n",
              "\t<tr><th scope=col>country</th><th scope=col>continent</th><th scope=col>year</th><th scope=col>lifeExp</th><th scope=col>pop</th><th scope=col>gdpPercap</th></tr>\n",
              "\t<tr><th scope=col>&lt;fct&gt;</th><th scope=col>&lt;fct&gt;</th><th scope=col>&lt;int&gt;</th><th scope=col>&lt;dbl&gt;</th><th scope=col>&lt;int&gt;</th><th scope=col>&lt;dbl&gt;</th></tr>\n",
              "</thead>\n",
              "<tbody>\n",
              "\t<tr><td>Afghanistan</td><td>Asia</td><td>1952</td><td>28.801</td><td> 8425333</td><td>779.4453</td></tr>\n",
              "\t<tr><td>Afghanistan</td><td>Asia</td><td>1957</td><td>30.332</td><td> 9240934</td><td>820.8530</td></tr>\n",
              "\t<tr><td>Afghanistan</td><td>Asia</td><td>1962</td><td>31.997</td><td>10267083</td><td>853.1007</td></tr>\n",
              "\t<tr><td>Afghanistan</td><td>Asia</td><td>1967</td><td>34.020</td><td>11537966</td><td>836.1971</td></tr>\n",
              "\t<tr><td>Afghanistan</td><td>Asia</td><td>1972</td><td>36.088</td><td>13079460</td><td>739.9811</td></tr>\n",
              "\t<tr><td>Afghanistan</td><td>Asia</td><td>1977</td><td>38.438</td><td>14880372</td><td>786.1134</td></tr>\n",
              "</tbody>\n",
              "</table>\n"
            ],
            "text/markdown": "\nA tibble: 6 × 6\n\n| country &lt;fct&gt; | continent &lt;fct&gt; | year &lt;int&gt; | lifeExp &lt;dbl&gt; | pop &lt;int&gt; | gdpPercap &lt;dbl&gt; |\n|---|---|---|---|---|---|\n| Afghanistan | Asia | 1952 | 28.801 |  8425333 | 779.4453 |\n| Afghanistan | Asia | 1957 | 30.332 |  9240934 | 820.8530 |\n| Afghanistan | Asia | 1962 | 31.997 | 10267083 | 853.1007 |\n| Afghanistan | Asia | 1967 | 34.020 | 11537966 | 836.1971 |\n| Afghanistan | Asia | 1972 | 36.088 | 13079460 | 739.9811 |\n| Afghanistan | Asia | 1977 | 38.438 | 14880372 | 786.1134 |\n\n",
            "text/latex": "A tibble: 6 × 6\n\\begin{tabular}{llllll}\n country & continent & year & lifeExp & pop & gdpPercap\\\\\n <fct> & <fct> & <int> & <dbl> & <int> & <dbl>\\\\\n\\hline\n\t Afghanistan & Asia & 1952 & 28.801 &  8425333 & 779.4453\\\\\n\t Afghanistan & Asia & 1957 & 30.332 &  9240934 & 820.8530\\\\\n\t Afghanistan & Asia & 1962 & 31.997 & 10267083 & 853.1007\\\\\n\t Afghanistan & Asia & 1967 & 34.020 & 11537966 & 836.1971\\\\\n\t Afghanistan & Asia & 1972 & 36.088 & 13079460 & 739.9811\\\\\n\t Afghanistan & Asia & 1977 & 38.438 & 14880372 & 786.1134\\\\\n\\end{tabular}\n",
            "text/plain": [
              "  country     continent year lifeExp pop      gdpPercap\n",
              "1 Afghanistan Asia      1952 28.801   8425333 779.4453 \n",
              "2 Afghanistan Asia      1957 30.332   9240934 820.8530 \n",
              "3 Afghanistan Asia      1962 31.997  10267083 853.1007 \n",
              "4 Afghanistan Asia      1967 34.020  11537966 836.1971 \n",
              "5 Afghanistan Asia      1972 36.088  13079460 739.9811 \n",
              "6 Afghanistan Asia      1977 38.438  14880372 786.1134 "
            ]
          },
          "metadata": {}
        }
      ],
      "source": [
        "# your code here\n",
        "gap_continent_life <- gapminder %>%\n",
        "   mutate(continent = fct_reorder(continent, lifeExp, .fun = mean))\n",
        "\n",
        "#fail()  No Answer - remove if you provide an answer\n",
        "head(gap_continent_life)"
      ]
    },
    {
      "cell_type": "code",
      "execution_count": 174,
      "metadata": {
        "deletable": false,
        "editable": false,
        "nbgrader": {
          "cell_type": "code",
          "checksum": "d8f63d48bf3b221ca1bed404af574fde",
          "grade": true,
          "grade_id": "cell-7afaeb0beeff31e0",
          "locked": true,
          "points": 1,
          "schema_version": 3,
          "solution": false,
          "task": false
        },
        "colab": {
          "base_uri": "https://localhost:8080/"
        },
        "id": "oWInbo3t1ehN",
        "outputId": "98e1155d-c4f1-46ef-aef8-7a5b023dd2a1"
      },
      "outputs": [
        {
          "output_type": "stream",
          "name": "stdout",
          "text": [
            "[1] \"Success!\"\n"
          ]
        }
      ],
      "source": [
        "library(digest)\n",
        "stopifnot(\"gap_continent_life should be a data frame\"= setequal(digest(paste(toString('data.frame' %in% class(gap_continent_life)), \"1b528\")), \"e348bdceb67b97360535e3edc81e762e\"))\n",
        "stopifnot(\"dimensions of gap_continent_life are not correct\"= setequal(digest(paste(toString(dim(gap_continent_life)), \"1b528\")), \"523a6812763c6363ec7c23513858e5f5\"))\n",
        "stopifnot(\"column names of gap_continent_life are not correct\"= setequal(digest(paste(toString(sort(colnames(gap_continent_life))), \"1b528\")), \"d2527105d38aabce31e17c56a5122dc5\"))\n",
        "stopifnot(\"types of columns in gap_continent_life are not correct\"= setequal(digest(paste(toString(sort(unlist(sapply(gap_continent_life, class)))), \"1b528\")), \"c3b2061bb68c622b5e9e013886166b8e\"))\n",
        "stopifnot(\"values in one or more numerical columns in gap_continent_life are not correct\"= setequal(digest(paste(toString(if (any(sapply(gap_continent_life, is.numeric))) sort(round(sapply(gap_continent_life[, sapply(gap_continent_life, is.numeric)], sum, na.rm = TRUE), 2)) else 0), \"1b528\")), \"787f9af95ca20c69e39a8361b4b27f7e\"))\n",
        "stopifnot(\"values in one or more character columns in gap_continent_life are not correct\"= setequal(digest(paste(toString(if (any(sapply(gap_continent_life, is.character))) sum(sapply(gap_continent_life[sapply(gap_continent_life, is.character)], function(x) length(unique(x)))) else 0), \"1b528\")), \"92c4860f693a52888def9a8edfca3e44\"))\n",
        "stopifnot(\"values in one or more factor columns in gap_continent_life are not correct\"= setequal(digest(paste(toString(if (any(sapply(gap_continent_life, is.factor))) sum(sapply(gap_continent_life[, sapply(gap_continent_life, is.factor)], function(col) length(unique(col)))) else 0), \"1b528\")), \"c2d13933b9497408f5fd6241d3aac0e0\"))\n",
        "\n",
        "print('Success!')"
      ]
    },
    {
      "cell_type": "markdown",
      "metadata": {
        "deletable": false,
        "editable": false,
        "nbgrader": {
          "cell_type": "markdown",
          "checksum": "9a928e67b020017df4a9d01eaa41596e",
          "grade": false,
          "grade_id": "cell-c3992342f9ce1001",
          "locked": true,
          "schema_version": 3,
          "solution": false,
          "task": false
        },
        "id": "juUoylHR1ehN"
      },
      "source": [
        "Again, you can't \"see\" any difference in the tibble. But here's a plot that makes the difference clearer. Notice the ordering of the x-axis."
      ]
    },
    {
      "cell_type": "code",
      "execution_count": 175,
      "metadata": {
        "deletable": false,
        "editable": false,
        "nbgrader": {
          "cell_type": "code",
          "checksum": "6d289297f5bed91afe065f8082874b65",
          "grade": false,
          "grade_id": "cell-50e1fa7db691ef53",
          "locked": true,
          "schema_version": 3,
          "solution": false,
          "task": false
        },
        "colab": {
          "base_uri": "https://localhost:8080/",
          "height": 437
        },
        "id": "tXglC8cL1ehN",
        "outputId": "80c03bc8-caf9-48fa-d4d2-915d7f5a0296"
      },
      "outputs": [
        {
          "output_type": "display_data",
          "data": {
            "text/plain": [
              "plot without title"
            ],
            "image/png": "[encoded data removed]"
          },
          "metadata": {
            "image/png": {
              "width": 420,
              "height": 420
            }
          }
        }
      ],
      "source": [
        "ggplot(gap_continent_life, aes(continent, lifeExp)) + geom_boxplot()"
      ]
    },
    {
      "cell_type": "markdown",
      "metadata": {
        "deletable": false,
        "editable": false,
        "nbgrader": {
          "cell_type": "markdown",
          "checksum": "4bed58ae934b25cf876b31eb8d4e7a7e",
          "grade": false,
          "grade_id": "cell-99aa45fbba8d8199",
          "locked": true,
          "schema_version": 3,
          "solution": false,
          "task": false
        },
        "id": "mIhkGmcO1ehN"
      },
      "source": [
        "## Question 2.7\n",
        "\n",
        "{points: 1}\n",
        "\n",
        "\n",
        "Consider now you want to make comparisons between countries, relative to Canada.\n",
        "Create a new data frame, with the levels of column `country` rearranged to have Canada as the first one.\n",
        "Store the new data frame in variable `gap_canada_base`.\n",
        "\n",
        "```\n",
        "(gap_canada_base <- gapminder %>%\n",
        "   mutate(country = FILL_THIS_IN(FILL_THIS_IN, \"FILL_THIS_IN\")))\n",
        "```"
      ]
    },
    {
      "cell_type": "code",
      "execution_count": 176,
      "metadata": {
        "deletable": false,
        "lines_to_next_cell": 0,
        "nbgrader": {
          "cell_type": "code",
          "checksum": "8cd80b87102d4581e588fd2a73ced4f5",
          "grade": false,
          "grade_id": "cell-636b191a444f10bf",
          "locked": false,
          "schema_version": 3,
          "solution": true,
          "task": false
        },
        "colab": {
          "base_uri": "https://localhost:8080/",
          "height": 286
        },
        "id": "qjXWI-cl1ehN",
        "outputId": "d8ced2f9-b3bc-4d45-a068-0f6d159cde7b"
      },
      "outputs": [
        {
          "output_type": "display_data",
          "data": {
            "text/html": [
              "<table class=\"dataframe\">\n",
              "<caption>A tibble: 6 × 6</caption>\n",
              "<thead>\n",
              "\t<tr><th scope=col>country</th><th scope=col>continent</th><th scope=col>year</th><th scope=col>lifeExp</th><th scope=col>pop</th><th scope=col>gdpPercap</th></tr>\n",
              "\t<tr><th scope=col>&lt;fct&gt;</th><th scope=col>&lt;fct&gt;</th><th scope=col>&lt;int&gt;</th><th scope=col>&lt;dbl&gt;</th><th scope=col>&lt;int&gt;</th><th scope=col>&lt;dbl&gt;</th></tr>\n",
              "</thead>\n",
              "<tbody>\n",
              "\t<tr><td>Afghanistan</td><td>Asia</td><td>1952</td><td>28.801</td><td> 8425333</td><td>779.4453</td></tr>\n",
              "\t<tr><td>Afghanistan</td><td>Asia</td><td>1957</td><td>30.332</td><td> 9240934</td><td>820.8530</td></tr>\n",
              "\t<tr><td>Afghanistan</td><td>Asia</td><td>1962</td><td>31.997</td><td>10267083</td><td>853.1007</td></tr>\n",
              "\t<tr><td>Afghanistan</td><td>Asia</td><td>1967</td><td>34.020</td><td>11537966</td><td>836.1971</td></tr>\n",
              "\t<tr><td>Afghanistan</td><td>Asia</td><td>1972</td><td>36.088</td><td>13079460</td><td>739.9811</td></tr>\n",
              "\t<tr><td>Afghanistan</td><td>Asia</td><td>1977</td><td>38.438</td><td>14880372</td><td>786.1134</td></tr>\n",
              "</tbody>\n",
              "</table>\n"
            ],
            "text/markdown": "\nA tibble: 6 × 6\n\n| country &lt;fct&gt; | continent &lt;fct&gt; | year &lt;int&gt; | lifeExp &lt;dbl&gt; | pop &lt;int&gt; | gdpPercap &lt;dbl&gt; |\n|---|---|---|---|---|---|\n| Afghanistan | Asia | 1952 | 28.801 |  8425333 | 779.4453 |\n| Afghanistan | Asia | 1957 | 30.332 |  9240934 | 820.8530 |\n| Afghanistan | Asia | 1962 | 31.997 | 10267083 | 853.1007 |\n| Afghanistan | Asia | 1967 | 34.020 | 11537966 | 836.1971 |\n| Afghanistan | Asia | 1972 | 36.088 | 13079460 | 739.9811 |\n| Afghanistan | Asia | 1977 | 38.438 | 14880372 | 786.1134 |\n\n",
            "text/latex": "A tibble: 6 × 6\n\\begin{tabular}{llllll}\n country & continent & year & lifeExp & pop & gdpPercap\\\\\n <fct> & <fct> & <int> & <dbl> & <int> & <dbl>\\\\\n\\hline\n\t Afghanistan & Asia & 1952 & 28.801 &  8425333 & 779.4453\\\\\n\t Afghanistan & Asia & 1957 & 30.332 &  9240934 & 820.8530\\\\\n\t Afghanistan & Asia & 1962 & 31.997 & 10267083 & 853.1007\\\\\n\t Afghanistan & Asia & 1967 & 34.020 & 11537966 & 836.1971\\\\\n\t Afghanistan & Asia & 1972 & 36.088 & 13079460 & 739.9811\\\\\n\t Afghanistan & Asia & 1977 & 38.438 & 14880372 & 786.1134\\\\\n\\end{tabular}\n",
            "text/plain": [
              "  country     continent year lifeExp pop      gdpPercap\n",
              "1 Afghanistan Asia      1952 28.801   8425333 779.4453 \n",
              "2 Afghanistan Asia      1957 30.332   9240934 820.8530 \n",
              "3 Afghanistan Asia      1962 31.997  10267083 853.1007 \n",
              "4 Afghanistan Asia      1967 34.020  11537966 836.1971 \n",
              "5 Afghanistan Asia      1972 36.088  13079460 739.9811 \n",
              "6 Afghanistan Asia      1977 38.438  14880372 786.1134 "
            ]
          },
          "metadata": {}
        }
      ],
      "source": [
        "# your code here\n",
        "gap_canada_base <- gapminder %>%\n",
        "  mutate(country = fct_relevel(country, \"Canada\"))\n",
        "#fail() # No Answer - remove if you provide an answer\n",
        "head(gap_canada_base)"
      ]
    },
    {
      "cell_type": "code",
      "execution_count": 177,
      "metadata": {
        "deletable": false,
        "editable": false,
        "nbgrader": {
          "cell_type": "code",
          "checksum": "5d1c6eda7d305db38cf95413c38e247f",
          "grade": true,
          "grade_id": "cell-de2504ab380c7da4",
          "locked": true,
          "points": 1,
          "schema_version": 3,
          "solution": false,
          "task": false
        },
        "colab": {
          "base_uri": "https://localhost:8080/"
        },
        "id": "hoA19SDF1ehN",
        "outputId": "24c53270-d9b2-4cbd-ff4a-af8d296cfe81"
      },
      "outputs": [
        {
          "output_type": "stream",
          "name": "stdout",
          "text": [
            "[1] \"Success!\"\n"
          ]
        }
      ],
      "source": [
        "library(digest)\n",
        "stopifnot(\"gap_canada_base should be a data frame\"= setequal(digest(paste(toString('data.frame' %in% class(gap_canada_base)), \"f9a4\")), \"e87dc3e585eecfd5e489572d377534d6\"))\n",
        "stopifnot(\"dimensions of gap_canada_base are not correct\"= setequal(digest(paste(toString(dim(gap_canada_base)), \"f9a4\")), \"067cb93c12c95300973ef7b58126e407\"))\n",
        "stopifnot(\"column names of gap_canada_base are not correct\"= setequal(digest(paste(toString(sort(colnames(gap_canada_base))), \"f9a4\")), \"a7c5f2af3f28ac304de4da3f401ee776\"))\n",
        "stopifnot(\"types of columns in gap_canada_base are not correct\"= setequal(digest(paste(toString(sort(unlist(sapply(gap_canada_base, class)))), \"f9a4\")), \"7cfb0bcdd54ce212ff80fcbec75226d3\"))\n",
        "stopifnot(\"values in one or more numerical columns in gap_canada_base are not correct\"= setequal(digest(paste(toString(if (any(sapply(gap_canada_base, is.numeric))) sort(round(sapply(gap_canada_base[, sapply(gap_canada_base, is.numeric)], sum, na.rm = TRUE), 2)) else 0), \"f9a4\")), \"0c2e2181e4d41e2d00b0534bf8f9e8f8\"))\n",
        "stopifnot(\"values in one or more character columns in gap_canada_base are not correct\"= setequal(digest(paste(toString(if (any(sapply(gap_canada_base, is.character))) sum(sapply(gap_canada_base[sapply(gap_canada_base, is.character)], function(x) length(unique(x)))) else 0), \"f9a4\")), \"176a1710a984d17b0893503d00432f88\"))\n",
        "stopifnot(\"values in one or more factor columns in gap_canada_base are not correct\"= setequal(digest(paste(toString(if (any(sapply(gap_canada_base, is.factor))) sum(sapply(gap_canada_base[, sapply(gap_canada_base, is.factor)], function(col) length(unique(col)))) else 0), \"f9a4\")), \"001b8fb0f157282e4d044f6d85bc2a02\"))\n",
        "\n",
        "print('Success!')"
      ]
    },
    {
      "cell_type": "markdown",
      "metadata": {
        "deletable": false,
        "editable": false,
        "nbgrader": {
          "cell_type": "markdown",
          "checksum": "9d58e265ab80ca22275c8b12936eaebd",
          "grade": false,
          "grade_id": "cell-ab318aa41d0d5f13",
          "locked": true,
          "schema_version": 3,
          "solution": false,
          "task": false
        },
        "id": "IpaZhinP1ehN"
      },
      "source": [
        "Take a look at the levels of the \"country\" factor, and you'll now see Canada first:"
      ]
    },
    {
      "cell_type": "code",
      "execution_count": 178,
      "metadata": {
        "deletable": false,
        "editable": false,
        "nbgrader": {
          "cell_type": "code",
          "checksum": "efc00230990576f114feeda6ffd242c5",
          "grade": false,
          "grade_id": "cell-81562f5b59805bcf",
          "locked": true,
          "schema_version": 3,
          "solution": false,
          "task": false
        },
        "colab": {
          "base_uri": "https://localhost:8080/",
          "height": 173
        },
        "id": "WgS07uel1ehN",
        "outputId": "e8f786bf-ce8d-41b6-bcc5-c0012662893e"
      },
      "outputs": [
        {
          "output_type": "display_data",
          "data": {
            "text/html": [
              "<style>\n",
              ".list-inline {list-style: none; margin:0; padding: 0}\n",
              ".list-inline>li {display: inline-block}\n",
              ".list-inline>li:not(:last-child)::after {content: \"\\00b7\"; padding: 0 .5ex}\n",
              "</style>\n",
              "<ol class=list-inline><li>'Canada'</li><li>'Afghanistan'</li><li>'Albania'</li><li>'Algeria'</li><li>'Angola'</li><li>'Argentina'</li><li>'Australia'</li><li>'Austria'</li><li>'Bahrain'</li><li>'Bangladesh'</li><li>'Belgium'</li><li>'Benin'</li><li>'Bolivia'</li><li>'Bosnia and Herzegovina'</li><li>'Botswana'</li><li>'Brazil'</li><li>'Bulgaria'</li><li>'Burkina Faso'</li><li>'Burundi'</li><li>'Cambodia'</li><li>'Cameroon'</li><li>'Central African Republic'</li><li>'Chad'</li><li>'Chile'</li><li>'China'</li><li>'Colombia'</li><li>'Comoros'</li><li>'Congo, Dem. Rep.'</li><li>'Congo, Rep.'</li><li>'Costa Rica'</li><li>'Cote d\\'Ivoire'</li><li>'Croatia'</li><li>'Cuba'</li><li>'Czech Republic'</li><li>'Denmark'</li><li>'Djibouti'</li><li>'Dominican Republic'</li><li>'Ecuador'</li><li>'Egypt'</li><li>'El Salvador'</li><li>'Equatorial Guinea'</li><li>'Eritrea'</li><li>'Ethiopia'</li><li>'Finland'</li><li>'France'</li><li>'Gabon'</li><li>'Gambia'</li><li>'Germany'</li><li>'Ghana'</li><li>'Greece'</li><li>'Guatemala'</li><li>'Guinea'</li><li>'Guinea-Bissau'</li><li>'Haiti'</li><li>'Honduras'</li><li>'Hong Kong, China'</li><li>'Hungary'</li><li>'Iceland'</li><li>'India'</li><li>'Indonesia'</li><li>'Iran'</li><li>'Iraq'</li><li>'Ireland'</li><li>'Israel'</li><li>'Italy'</li><li>'Jamaica'</li><li>'Japan'</li><li>'Jordan'</li><li>'Kenya'</li><li>'Korea, Dem. Rep.'</li><li>'Korea, Rep.'</li><li>'Kuwait'</li><li>'Lebanon'</li><li>'Lesotho'</li><li>'Liberia'</li><li>'Libya'</li><li>'Madagascar'</li><li>'Malawi'</li><li>'Malaysia'</li><li>'Mali'</li><li>'Mauritania'</li><li>'Mauritius'</li><li>'Mexico'</li><li>'Mongolia'</li><li>'Montenegro'</li><li>'Morocco'</li><li>'Mozambique'</li><li>'Myanmar'</li><li>'Namibia'</li><li>'Nepal'</li><li>'Netherlands'</li><li>'New Zealand'</li><li>'Nicaragua'</li><li>'Niger'</li><li>'Nigeria'</li><li>'Norway'</li><li>'Oman'</li><li>'Pakistan'</li><li>'Panama'</li><li>'Paraguay'</li><li>'Peru'</li><li>'Philippines'</li><li>'Poland'</li><li>'Portugal'</li><li>'Puerto Rico'</li><li>'Reunion'</li><li>'Romania'</li><li>'Rwanda'</li><li>'Sao Tome and Principe'</li><li>'Saudi Arabia'</li><li>'Senegal'</li><li>'Serbia'</li><li>'Sierra Leone'</li><li>'Singapore'</li><li>'Slovak Republic'</li><li>'Slovenia'</li><li>'Somalia'</li><li>'South Africa'</li><li>'Spain'</li><li>'Sri Lanka'</li><li>'Sudan'</li><li>'Swaziland'</li><li>'Sweden'</li><li>'Switzerland'</li><li>'Syria'</li><li>'Taiwan'</li><li>'Tanzania'</li><li>'Thailand'</li><li>'Togo'</li><li>'Trinidad and Tobago'</li><li>'Tunisia'</li><li>'Turkey'</li><li>'Uganda'</li><li>'United Kingdom'</li><li>'United States'</li><li>'Uruguay'</li><li>'Venezuela'</li><li>'Vietnam'</li><li>'West Bank and Gaza'</li><li>'Yemen, Rep.'</li><li>'Zambia'</li><li>'Zimbabwe'</li></ol>\n"
            ],
            "text/markdown": "1. 'Canada'\n2. 'Afghanistan'\n3. 'Albania'\n4. 'Algeria'\n5. 'Angola'\n6. 'Argentina'\n7. 'Australia'\n8. 'Austria'\n9. 'Bahrain'\n10. 'Bangladesh'\n11. 'Belgium'\n12. 'Benin'\n13. 'Bolivia'\n14. 'Bosnia and Herzegovina'\n15. 'Botswana'\n16. 'Brazil'\n17. 'Bulgaria'\n18. 'Burkina Faso'\n19. 'Burundi'\n20. 'Cambodia'\n21. 'Cameroon'\n22. 'Central African Republic'\n23. 'Chad'\n24. 'Chile'\n25. 'China'\n26. 'Colombia'\n27. 'Comoros'\n28. 'Congo, Dem. Rep.'\n29. 'Congo, Rep.'\n30. 'Costa Rica'\n31. 'Cote d\\'Ivoire'\n32. 'Croatia'\n33. 'Cuba'\n34. 'Czech Republic'\n35. 'Denmark'\n36. 'Djibouti'\n37. 'Dominican Republic'\n38. 'Ecuador'\n39. 'Egypt'\n40. 'El Salvador'\n41. 'Equatorial Guinea'\n42. 'Eritrea'\n43. 'Ethiopia'\n44. 'Finland'\n45. 'France'\n46. 'Gabon'\n47. 'Gambia'\n48. 'Germany'\n49. 'Ghana'\n50. 'Greece'\n51. 'Guatemala'\n52. 'Guinea'\n53. 'Guinea-Bissau'\n54. 'Haiti'\n55. 'Honduras'\n56. 'Hong Kong, China'\n57. 'Hungary'\n58. 'Iceland'\n59. 'India'\n60. 'Indonesia'\n61. 'Iran'\n62. 'Iraq'\n63. 'Ireland'\n64. 'Israel'\n65. 'Italy'\n66. 'Jamaica'\n67. 'Japan'\n68. 'Jordan'\n69. 'Kenya'\n70. 'Korea, Dem. Rep.'\n71. 'Korea, Rep.'\n72. 'Kuwait'\n73. 'Lebanon'\n74. 'Lesotho'\n75. 'Liberia'\n76. 'Libya'\n77. 'Madagascar'\n78. 'Malawi'\n79. 'Malaysia'\n80. 'Mali'\n81. 'Mauritania'\n82. 'Mauritius'\n83. 'Mexico'\n84. 'Mongolia'\n85. 'Montenegro'\n86. 'Morocco'\n87. 'Mozambique'\n88. 'Myanmar'\n89. 'Namibia'\n90. 'Nepal'\n91. 'Netherlands'\n92. 'New Zealand'\n93. 'Nicaragua'\n94. 'Niger'\n95. 'Nigeria'\n96. 'Norway'\n97. 'Oman'\n98. 'Pakistan'\n99. 'Panama'\n100. 'Paraguay'\n101. 'Peru'\n102. 'Philippines'\n103. 'Poland'\n104. 'Portugal'\n105. 'Puerto Rico'\n106. 'Reunion'\n107. 'Romania'\n108. 'Rwanda'\n109. 'Sao Tome and Principe'\n110. 'Saudi Arabia'\n111. 'Senegal'\n112. 'Serbia'\n113. 'Sierra Leone'\n114. 'Singapore'\n115. 'Slovak Republic'\n116. 'Slovenia'\n117. 'Somalia'\n118. 'South Africa'\n119. 'Spain'\n120. 'Sri Lanka'\n121. 'Sudan'\n122. 'Swaziland'\n123. 'Sweden'\n124. 'Switzerland'\n125. 'Syria'\n126. 'Taiwan'\n127. 'Tanzania'\n128. 'Thailand'\n129. 'Togo'\n130. 'Trinidad and Tobago'\n131. 'Tunisia'\n132. 'Turkey'\n133. 'Uganda'\n134. 'United Kingdom'\n135. 'United States'\n136. 'Uruguay'\n137. 'Venezuela'\n138. 'Vietnam'\n139. 'West Bank and Gaza'\n140. 'Yemen, Rep.'\n141. 'Zambia'\n142. 'Zimbabwe'\n\n\n",
            "text/latex": "\\begin{enumerate*}\n\\item 'Canada'\n\\item 'Afghanistan'\n\\item 'Albania'\n\\item 'Algeria'\n\\item 'Angola'\n\\item 'Argentina'\n\\item 'Australia'\n\\item 'Austria'\n\\item 'Bahrain'\n\\item 'Bangladesh'\n\\item 'Belgium'\n\\item 'Benin'\n\\item 'Bolivia'\n\\item 'Bosnia and Herzegovina'\n\\item 'Botswana'\n\\item 'Brazil'\n\\item 'Bulgaria'\n\\item 'Burkina Faso'\n\\item 'Burundi'\n\\item 'Cambodia'\n\\item 'Cameroon'\n\\item 'Central African Republic'\n\\item 'Chad'\n\\item 'Chile'\n\\item 'China'\n\\item 'Colombia'\n\\item 'Comoros'\n\\item 'Congo, Dem. Rep.'\n\\item 'Congo, Rep.'\n\\item 'Costa Rica'\n\\item 'Cote d\\textbackslash{}'Ivoire'\n\\item 'Croatia'\n\\item 'Cuba'\n\\item 'Czech Republic'\n\\item 'Denmark'\n\\item 'Djibouti'\n\\item 'Dominican Republic'\n\\item 'Ecuador'\n\\item 'Egypt'\n\\item 'El Salvador'\n\\item 'Equatorial Guinea'\n\\item 'Eritrea'\n\\item 'Ethiopia'\n\\item 'Finland'\n\\item 'France'\n\\item 'Gabon'\n\\item 'Gambia'\n\\item 'Germany'\n\\item 'Ghana'\n\\item 'Greece'\n\\item 'Guatemala'\n\\item 'Guinea'\n\\item 'Guinea-Bissau'\n\\item 'Haiti'\n\\item 'Honduras'\n\\item 'Hong Kong, China'\n\\item 'Hungary'\n\\item 'Iceland'\n\\item 'India'\n\\item 'Indonesia'\n\\item 'Iran'\n\\item 'Iraq'\n\\item 'Ireland'\n\\item 'Israel'\n\\item 'Italy'\n\\item 'Jamaica'\n\\item 'Japan'\n\\item 'Jordan'\n\\item 'Kenya'\n\\item 'Korea, Dem. Rep.'\n\\item 'Korea, Rep.'\n\\item 'Kuwait'\n\\item 'Lebanon'\n\\item 'Lesotho'\n\\item 'Liberia'\n\\item 'Libya'\n\\item 'Madagascar'\n\\item 'Malawi'\n\\item 'Malaysia'\n\\item 'Mali'\n\\item 'Mauritania'\n\\item 'Mauritius'\n\\item 'Mexico'\n\\item 'Mongolia'\n\\item 'Montenegro'\n\\item 'Morocco'\n\\item 'Mozambique'\n\\item 'Myanmar'\n\\item 'Namibia'\n\\item 'Nepal'\n\\item 'Netherlands'\n\\item 'New Zealand'\n\\item 'Nicaragua'\n\\item 'Niger'\n\\item 'Nigeria'\n\\item 'Norway'\n\\item 'Oman'\n\\item 'Pakistan'\n\\item 'Panama'\n\\item 'Paraguay'\n\\item 'Peru'\n\\item 'Philippines'\n\\item 'Poland'\n\\item 'Portugal'\n\\item 'Puerto Rico'\n\\item 'Reunion'\n\\item 'Romania'\n\\item 'Rwanda'\n\\item 'Sao Tome and Principe'\n\\item 'Saudi Arabia'\n\\item 'Senegal'\n\\item 'Serbia'\n\\item 'Sierra Leone'\n\\item 'Singapore'\n\\item 'Slovak Republic'\n\\item 'Slovenia'\n\\item 'Somalia'\n\\item 'South Africa'\n\\item 'Spain'\n\\item 'Sri Lanka'\n\\item 'Sudan'\n\\item 'Swaziland'\n\\item 'Sweden'\n\\item 'Switzerland'\n\\item 'Syria'\n\\item 'Taiwan'\n\\item 'Tanzania'\n\\item 'Thailand'\n\\item 'Togo'\n\\item 'Trinidad and Tobago'\n\\item 'Tunisia'\n\\item 'Turkey'\n\\item 'Uganda'\n\\item 'United Kingdom'\n\\item 'United States'\n\\item 'Uruguay'\n\\item 'Venezuela'\n\\item 'Vietnam'\n\\item 'West Bank and Gaza'\n\\item 'Yemen, Rep.'\n\\item 'Zambia'\n\\item 'Zimbabwe'\n\\end{enumerate*}\n",
            "text/plain": [
              "  [1] \"Canada\"                   \"Afghanistan\"             \n",
              "  [3] \"Albania\"                  \"Algeria\"                 \n",
              "  [5] \"Angola\"                   \"Argentina\"               \n",
              "  [7] \"Australia\"                \"Austria\"                 \n",
              "  [9] \"Bahrain\"                  \"Bangladesh\"              \n",
              " [11] \"Belgium\"                  \"Benin\"                   \n",
              " [13] \"Bolivia\"                  \"Bosnia and Herzegovina\"  \n",
              " [15] \"Botswana\"                 \"Brazil\"                  \n",
              " [17] \"Bulgaria\"                 \"Burkina Faso\"            \n",
              " [19] \"Burundi\"                  \"Cambodia\"                \n",
              " [21] \"Cameroon\"                 \"Central African Republic\"\n",
              " [23] \"Chad\"                     \"Chile\"                   \n",
              " [25] \"China\"                    \"Colombia\"                \n",
              " [27] \"Comoros\"                  \"Congo, Dem. Rep.\"        \n",
              " [29] \"Congo, Rep.\"              \"Costa Rica\"              \n",
              " [31] \"Cote d'Ivoire\"            \"Croatia\"                 \n",
              " [33] \"Cuba\"                     \"Czech Republic\"          \n",
              " [35] \"Denmark\"                  \"Djibouti\"                \n",
              " [37] \"Dominican Republic\"       \"Ecuador\"                 \n",
              " [39] \"Egypt\"                    \"El Salvador\"             \n",
              " [41] \"Equatorial Guinea\"        \"Eritrea\"                 \n",
              " [43] \"Ethiopia\"                 \"Finland\"                 \n",
              " [45] \"France\"                   \"Gabon\"                   \n",
              " [47] \"Gambia\"                   \"Germany\"                 \n",
              " [49] \"Ghana\"                    \"Greece\"                  \n",
              " [51] \"Guatemala\"                \"Guinea\"                  \n",
              " [53] \"Guinea-Bissau\"            \"Haiti\"                   \n",
              " [55] \"Honduras\"                 \"Hong Kong, China\"        \n",
              " [57] \"Hungary\"                  \"Iceland\"                 \n",
              " [59] \"India\"                    \"Indonesia\"               \n",
              " [61] \"Iran\"                     \"Iraq\"                    \n",
              " [63] \"Ireland\"                  \"Israel\"                  \n",
              " [65] \"Italy\"                    \"Jamaica\"                 \n",
              " [67] \"Japan\"                    \"Jordan\"                  \n",
              " [69] \"Kenya\"                    \"Korea, Dem. Rep.\"        \n",
              " [71] \"Korea, Rep.\"              \"Kuwait\"                  \n",
              " [73] \"Lebanon\"                  \"Lesotho\"                 \n",
              " [75] \"Liberia\"                  \"Libya\"                   \n",
              " [77] \"Madagascar\"               \"Malawi\"                  \n",
              " [79] \"Malaysia\"                 \"Mali\"                    \n",
              " [81] \"Mauritania\"               \"Mauritius\"               \n",
              " [83] \"Mexico\"                   \"Mongolia\"                \n",
              " [85] \"Montenegro\"               \"Morocco\"                 \n",
              " [87] \"Mozambique\"               \"Myanmar\"                 \n",
              " [89] \"Namibia\"                  \"Nepal\"                   \n",
              " [91] \"Netherlands\"              \"New Zealand\"             \n",
              " [93] \"Nicaragua\"                \"Niger\"                   \n",
              " [95] \"Nigeria\"                  \"Norway\"                  \n",
              " [97] \"Oman\"                     \"Pakistan\"                \n",
              " [99] \"Panama\"                   \"Paraguay\"                \n",
              "[101] \"Peru\"                     \"Philippines\"             \n",
              "[103] \"Poland\"                   \"Portugal\"                \n",
              "[105] \"Puerto Rico\"              \"Reunion\"                 \n",
              "[107] \"Romania\"                  \"Rwanda\"                  \n",
              "[109] \"Sao Tome and Principe\"    \"Saudi Arabia\"            \n",
              "[111] \"Senegal\"                  \"Serbia\"                  \n",
              "[113] \"Sierra Leone\"             \"Singapore\"               \n",
              "[115] \"Slovak Republic\"          \"Slovenia\"                \n",
              "[117] \"Somalia\"                  \"South Africa\"            \n",
              "[119] \"Spain\"                    \"Sri Lanka\"               \n",
              "[121] \"Sudan\"                    \"Swaziland\"               \n",
              "[123] \"Sweden\"                   \"Switzerland\"             \n",
              "[125] \"Syria\"                    \"Taiwan\"                  \n",
              "[127] \"Tanzania\"                 \"Thailand\"                \n",
              "[129] \"Togo\"                     \"Trinidad and Tobago\"     \n",
              "[131] \"Tunisia\"                  \"Turkey\"                  \n",
              "[133] \"Uganda\"                   \"United Kingdom\"          \n",
              "[135] \"United States\"            \"Uruguay\"                 \n",
              "[137] \"Venezuela\"                \"Vietnam\"                 \n",
              "[139] \"West Bank and Gaza\"       \"Yemen, Rep.\"             \n",
              "[141] \"Zambia\"                   \"Zimbabwe\"                "
            ]
          },
          "metadata": {}
        }
      ],
      "source": [
        "gap_canada_base %>%\n",
        "   pull(country) %>%\n",
        "   levels()"
      ]
    },
    {
      "cell_type": "markdown",
      "metadata": {
        "deletable": false,
        "editable": false,
        "nbgrader": {
          "cell_type": "markdown",
          "checksum": "d4b37296b40a6172b7a105066cb71a3f",
          "grade": false,
          "grade_id": "cell-4474329a11f182dd",
          "locked": true,
          "schema_version": 3,
          "solution": false,
          "task": false
        },
        "id": "Ddokps8W1ehO"
      },
      "source": [
        "## Question 2.8\n",
        "\n",
        "{points: 1}\n",
        "\n",
        "\n",
        "Sometimes you want to manually change a few factor levels, e.g., if the level is too wide for plotting.\n",
        "Based on the `gapminder` data set, create a new data frame with the Central African Republic renamed to *Central African Rep.* and Bosnia and Herzegovina renamed to *Bosnia & Herzegovina*.\n",
        "Store the new data frame in variable `gap_car`. _Hint_: use `fct_recode()`.\n",
        "\n",
        "```\n",
        "gap_car <- gapminder %>%\n",
        "   mutate(country = FILL_THIS_IN(FILL_THIS_IN, \"Central African Rep.\" = \"FILL_THIS_IN\",\n",
        "                               \"Bosnia & Herzegovina\" = \"FILL_THIS_IN\"))\n",
        "```"
      ]
    },
    {
      "cell_type": "code",
      "execution_count": 179,
      "metadata": {
        "deletable": false,
        "lines_to_next_cell": 0,
        "nbgrader": {
          "cell_type": "code",
          "checksum": "ce084968f1e3785c1637a76d3df88371",
          "grade": false,
          "grade_id": "cell-57746edd3f5caa7d",
          "locked": false,
          "schema_version": 3,
          "solution": true,
          "task": false
        },
        "colab": {
          "base_uri": "https://localhost:8080/",
          "height": 286
        },
        "id": "pU-s5JpL1ehO",
        "outputId": "32b3d21b-ddbe-4d47-c6d3-b784bb187ffa"
      },
      "outputs": [
        {
          "output_type": "display_data",
          "data": {
            "text/html": [
              "<table class=\"dataframe\">\n",
              "<caption>A tibble: 6 × 6</caption>\n",
              "<thead>\n",
              "\t<tr><th scope=col>country</th><th scope=col>continent</th><th scope=col>year</th><th scope=col>lifeExp</th><th scope=col>pop</th><th scope=col>gdpPercap</th></tr>\n",
              "\t<tr><th scope=col>&lt;fct&gt;</th><th scope=col>&lt;fct&gt;</th><th scope=col>&lt;int&gt;</th><th scope=col>&lt;dbl&gt;</th><th scope=col>&lt;int&gt;</th><th scope=col>&lt;dbl&gt;</th></tr>\n",
              "</thead>\n",
              "<tbody>\n",
              "\t<tr><td>Afghanistan</td><td>Asia</td><td>1952</td><td>28.801</td><td> 8425333</td><td>779.4453</td></tr>\n",
              "\t<tr><td>Afghanistan</td><td>Asia</td><td>1957</td><td>30.332</td><td> 9240934</td><td>820.8530</td></tr>\n",
              "\t<tr><td>Afghanistan</td><td>Asia</td><td>1962</td><td>31.997</td><td>10267083</td><td>853.1007</td></tr>\n",
              "\t<tr><td>Afghanistan</td><td>Asia</td><td>1967</td><td>34.020</td><td>11537966</td><td>836.1971</td></tr>\n",
              "\t<tr><td>Afghanistan</td><td>Asia</td><td>1972</td><td>36.088</td><td>13079460</td><td>739.9811</td></tr>\n",
              "\t<tr><td>Afghanistan</td><td>Asia</td><td>1977</td><td>38.438</td><td>14880372</td><td>786.1134</td></tr>\n",
              "</tbody>\n",
              "</table>\n"
            ],
            "text/markdown": "\nA tibble: 6 × 6\n\n| country &lt;fct&gt; | continent &lt;fct&gt; | year &lt;int&gt; | lifeExp &lt;dbl&gt; | pop &lt;int&gt; | gdpPercap &lt;dbl&gt; |\n|---|---|---|---|---|---|\n| Afghanistan | Asia | 1952 | 28.801 |  8425333 | 779.4453 |\n| Afghanistan | Asia | 1957 | 30.332 |  9240934 | 820.8530 |\n| Afghanistan | Asia | 1962 | 31.997 | 10267083 | 853.1007 |\n| Afghanistan | Asia | 1967 | 34.020 | 11537966 | 836.1971 |\n| Afghanistan | Asia | 1972 | 36.088 | 13079460 | 739.9811 |\n| Afghanistan | Asia | 1977 | 38.438 | 14880372 | 786.1134 |\n\n",
            "text/latex": "A tibble: 6 × 6\n\\begin{tabular}{llllll}\n country & continent & year & lifeExp & pop & gdpPercap\\\\\n <fct> & <fct> & <int> & <dbl> & <int> & <dbl>\\\\\n\\hline\n\t Afghanistan & Asia & 1952 & 28.801 &  8425333 & 779.4453\\\\\n\t Afghanistan & Asia & 1957 & 30.332 &  9240934 & 820.8530\\\\\n\t Afghanistan & Asia & 1962 & 31.997 & 10267083 & 853.1007\\\\\n\t Afghanistan & Asia & 1967 & 34.020 & 11537966 & 836.1971\\\\\n\t Afghanistan & Asia & 1972 & 36.088 & 13079460 & 739.9811\\\\\n\t Afghanistan & Asia & 1977 & 38.438 & 14880372 & 786.1134\\\\\n\\end{tabular}\n",
            "text/plain": [
              "  country     continent year lifeExp pop      gdpPercap\n",
              "1 Afghanistan Asia      1952 28.801   8425333 779.4453 \n",
              "2 Afghanistan Asia      1957 30.332   9240934 820.8530 \n",
              "3 Afghanistan Asia      1962 31.997  10267083 853.1007 \n",
              "4 Afghanistan Asia      1967 34.020  11537966 836.1971 \n",
              "5 Afghanistan Asia      1972 36.088  13079460 739.9811 \n",
              "6 Afghanistan Asia      1977 38.438  14880372 786.1134 "
            ]
          },
          "metadata": {}
        }
      ],
      "source": [
        "# your code here\n",
        "gap_car <- gapminder %>%\n",
        "  mutate(country = fct_recode(country,\n",
        "                              \"Central African Rep.\" = \"Central African Republic\",\n",
        "                              \"Bosnia & Herzegovina\" = \"Bosnia and Herzegovina\"))\n",
        "#fail() # No Answer - remove if you provide an answer\n",
        "head(gap_car)"
      ]
    },
    {
      "cell_type": "code",
      "execution_count": 180,
      "metadata": {
        "deletable": false,
        "editable": false,
        "lines_to_next_cell": 2,
        "nbgrader": {
          "cell_type": "code",
          "checksum": "4fb022f6cce80b5241bf3966f4fcd7be",
          "grade": true,
          "grade_id": "cell-339f3fc46993a445",
          "locked": true,
          "points": 1,
          "schema_version": 3,
          "solution": false,
          "task": false
        },
        "colab": {
          "base_uri": "https://localhost:8080/"
        },
        "id": "tPoGV4Au1ehO",
        "outputId": "4e101ecc-7e82-4733-9eb4-46550371e03a"
      },
      "outputs": [
        {
          "output_type": "stream",
          "name": "stdout",
          "text": [
            "[1] \"Success!\"\n"
          ]
        }
      ],
      "source": [
        "library(digest)\n",
        "stopifnot(\"gap_car should be a data frame\"= setequal(digest(paste(toString('data.frame' %in% class(gap_car)), \"5b459\")), \"78b77797ae649112bd236b7dbc5c5ba5\"))\n",
        "stopifnot(\"dimensions of gap_car are not correct\"= setequal(digest(paste(toString(dim(gap_car)), \"5b459\")), \"9fe4db85ee3e8168cd113852d9033271\"))\n",
        "stopifnot(\"column names of gap_car are not correct\"= setequal(digest(paste(toString(sort(colnames(gap_car))), \"5b459\")), \"e27cf649363b23f003f1a5421b41a42f\"))\n",
        "stopifnot(\"types of columns in gap_car are not correct\"= setequal(digest(paste(toString(sort(unlist(sapply(gap_car, class)))), \"5b459\")), \"53234702a2726cd1541d04fdb81ea7ba\"))\n",
        "stopifnot(\"values in one or more numerical columns in gap_car are not correct\"= setequal(digest(paste(toString(if (any(sapply(gap_car, is.numeric))) sort(round(sapply(gap_car[, sapply(gap_car, is.numeric)], sum, na.rm = TRUE), 2)) else 0), \"5b459\")), \"1bfbb448ef0edf4e4e946dbcce36d682\"))\n",
        "stopifnot(\"values in one or more character columns in gap_car are not correct\"= setequal(digest(paste(toString(if (any(sapply(gap_car, is.character))) sum(sapply(gap_car[sapply(gap_car, is.character)], function(x) length(unique(x)))) else 0), \"5b459\")), \"f42722a1ee2f45ae9b42e503075f657f\"))\n",
        "stopifnot(\"values in one or more factor columns in gap_car are not correct\"= setequal(digest(paste(toString(if (any(sapply(gap_car, is.factor))) sum(sapply(gap_car[, sapply(gap_car, is.factor)], function(col) length(unique(col)))) else 0), \"5b459\")), \"b2b366d9d395949dde2202e071d55740\"))\n",
        "\n",
        "print('Success!')"
      ]
    },
    {
      "cell_type": "markdown",
      "metadata": {
        "deletable": false,
        "editable": false,
        "lines_to_next_cell": 0,
        "nbgrader": {
          "cell_type": "markdown",
          "checksum": "debd146fdf7bd7f964caf53e5664791c",
          "grade": false,
          "grade_id": "cell-ebce2cf9fcfbd426",
          "locked": true,
          "schema_version": 3,
          "solution": false,
          "task": false
        },
        "id": "oyu1TLgU1ehO"
      },
      "source": [
        "# Part 3: Tibble Joins\n",
        "\n",
        "At the start of this worksheet, we loaded a couple datasets from the [singer](https://github.com/JoeyBernhardt/singer) package, and called them `time` and `album`. These two data sets contain information about a few popular songs and albums.\n",
        "\n",
        "We'll practice various joins using these two datasets. You'll need to find out which join is appropriate for each case!\n",
        "\n",
        "Run the following R codes to look at the two data sets:"
      ]
    },
    {
      "cell_type": "code",
      "execution_count": 181,
      "metadata": {
        "deletable": false,
        "editable": false,
        "lines_to_next_cell": 0,
        "nbgrader": {
          "cell_type": "code",
          "checksum": "75a59fdaeb80fc4672eb7cfe95760f4a",
          "grade": false,
          "grade_id": "cell-e42385546e19be2e",
          "locked": true,
          "schema_version": 3,
          "solution": false,
          "task": false
        },
        "colab": {
          "base_uri": "https://localhost:8080/",
          "height": 286
        },
        "id": "lWWWNFHU1ehO",
        "outputId": "b8cc9515-7b30-4ff4-ff52-2cc7cd0b6601"
      },
      "outputs": [
        {
          "output_type": "display_data",
          "data": {
            "text/html": [
              "<table class=\"dataframe\">\n",
              "<caption>A tibble: 6 × 3</caption>\n",
              "<thead>\n",
              "\t<tr><th scope=col>song</th><th scope=col>artist_name</th><th scope=col>year</th></tr>\n",
              "\t<tr><th scope=col>&lt;chr&gt;</th><th scope=col>&lt;chr&gt;</th><th scope=col>&lt;dbl&gt;</th></tr>\n",
              "</thead>\n",
              "<tbody>\n",
              "\t<tr><td>Corduroy     </td><td>Pearl Jam</td><td>1994</td></tr>\n",
              "\t<tr><td>Grievance    </td><td>Pearl Jam</td><td>2000</td></tr>\n",
              "\t<tr><td>Stupidmop    </td><td>Pearl Jam</td><td>1994</td></tr>\n",
              "\t<tr><td>Present Tense</td><td>Pearl Jam</td><td>1996</td></tr>\n",
              "\t<tr><td>MFC          </td><td>Pearl Jam</td><td>1998</td></tr>\n",
              "\t<tr><td>Lukin        </td><td>Pearl Jam</td><td>1996</td></tr>\n",
              "</tbody>\n",
              "</table>\n"
            ],
            "text/markdown": "\nA tibble: 6 × 3\n\n| song &lt;chr&gt; | artist_name &lt;chr&gt; | year &lt;dbl&gt; |\n|---|---|---|\n| Corduroy      | Pearl Jam | 1994 |\n| Grievance     | Pearl Jam | 2000 |\n| Stupidmop     | Pearl Jam | 1994 |\n| Present Tense | Pearl Jam | 1996 |\n| MFC           | Pearl Jam | 1998 |\n| Lukin         | Pearl Jam | 1996 |\n\n",
            "text/latex": "A tibble: 6 × 3\n\\begin{tabular}{lll}\n song & artist\\_name & year\\\\\n <chr> & <chr> & <dbl>\\\\\n\\hline\n\t Corduroy      & Pearl Jam & 1994\\\\\n\t Grievance     & Pearl Jam & 2000\\\\\n\t Stupidmop     & Pearl Jam & 1994\\\\\n\t Present Tense & Pearl Jam & 1996\\\\\n\t MFC           & Pearl Jam & 1998\\\\\n\t Lukin         & Pearl Jam & 1996\\\\\n\\end{tabular}\n",
            "text/plain": [
              "  song          artist_name year\n",
              "1 Corduroy      Pearl Jam   1994\n",
              "2 Grievance     Pearl Jam   2000\n",
              "3 Stupidmop     Pearl Jam   1994\n",
              "4 Present Tense Pearl Jam   1996\n",
              "5 MFC           Pearl Jam   1998\n",
              "6 Lukin         Pearl Jam   1996"
            ]
          },
          "metadata": {}
        }
      ],
      "source": [
        "head(time)"
      ]
    },
    {
      "cell_type": "code",
      "execution_count": 182,
      "metadata": {
        "deletable": false,
        "editable": false,
        "nbgrader": {
          "cell_type": "code",
          "checksum": "4f30e20a803c7da4a45fa2ce0b832722",
          "grade": false,
          "grade_id": "cell-43a2ee99557fd52e",
          "locked": true,
          "schema_version": 3,
          "solution": false,
          "task": false
        },
        "colab": {
          "base_uri": "https://localhost:8080/",
          "height": 286
        },
        "id": "6fEiLt6p1ehO",
        "outputId": "1242ec6a-8204-4d23-bfba-f29e9f563c3d"
      },
      "outputs": [
        {
          "output_type": "display_data",
          "data": {
            "text/html": [
              "<table class=\"dataframe\">\n",
              "<caption>A tibble: 6 × 4</caption>\n",
              "<thead>\n",
              "\t<tr><th scope=col>song</th><th scope=col>artist_name</th><th scope=col>city</th><th scope=col>album</th></tr>\n",
              "\t<tr><th scope=col>&lt;chr&gt;</th><th scope=col>&lt;chr&gt;</th><th scope=col>&lt;chr&gt;</th><th scope=col>&lt;chr&gt;</th></tr>\n",
              "</thead>\n",
              "<tbody>\n",
              "\t<tr><td>Grievance     </td><td>Pearl Jam      </td><td>Seattle, WA       </td><td>Binaural                          </td></tr>\n",
              "\t<tr><td>Stupidmop     </td><td>Pearl Jam      </td><td>Seattle, WA       </td><td>Vitalogy                          </td></tr>\n",
              "\t<tr><td>Present Tense </td><td>Pearl Jam      </td><td>Seattle, WA       </td><td>No Code                           </td></tr>\n",
              "\t<tr><td>MFC           </td><td>Pearl Jam      </td><td>Seattle, WA       </td><td>Live On Two Legs                  </td></tr>\n",
              "\t<tr><td>Lukin         </td><td>Pearl Jam      </td><td>Seattle, WA       </td><td>Seattle Washington November 5 2000</td></tr>\n",
              "\t<tr><td>Stuck On Amber</td><td>The Boo Radleys</td><td>Liverpool, England</td><td>Wake Up!                          </td></tr>\n",
              "</tbody>\n",
              "</table>\n"
            ],
            "text/markdown": "\nA tibble: 6 × 4\n\n| song &lt;chr&gt; | artist_name &lt;chr&gt; | city &lt;chr&gt; | album &lt;chr&gt; |\n|---|---|---|---|\n| Grievance      | Pearl Jam       | Seattle, WA        | Binaural                           |\n| Stupidmop      | Pearl Jam       | Seattle, WA        | Vitalogy                           |\n| Present Tense  | Pearl Jam       | Seattle, WA        | No Code                            |\n| MFC            | Pearl Jam       | Seattle, WA        | Live On Two Legs                   |\n| Lukin          | Pearl Jam       | Seattle, WA        | Seattle Washington November 5 2000 |\n| Stuck On Amber | The Boo Radleys | Liverpool, England | Wake Up!                           |\n\n",
            "text/latex": "A tibble: 6 × 4\n\\begin{tabular}{llll}\n song & artist\\_name & city & album\\\\\n <chr> & <chr> & <chr> & <chr>\\\\\n\\hline\n\t Grievance      & Pearl Jam       & Seattle, WA        & Binaural                          \\\\\n\t Stupidmop      & Pearl Jam       & Seattle, WA        & Vitalogy                          \\\\\n\t Present Tense  & Pearl Jam       & Seattle, WA        & No Code                           \\\\\n\t MFC            & Pearl Jam       & Seattle, WA        & Live On Two Legs                  \\\\\n\t Lukin          & Pearl Jam       & Seattle, WA        & Seattle Washington November 5 2000\\\\\n\t Stuck On Amber & The Boo Radleys & Liverpool, England & Wake Up!                          \\\\\n\\end{tabular}\n",
            "text/plain": [
              "  song           artist_name     city              \n",
              "1 Grievance      Pearl Jam       Seattle, WA       \n",
              "2 Stupidmop      Pearl Jam       Seattle, WA       \n",
              "3 Present Tense  Pearl Jam       Seattle, WA       \n",
              "4 MFC            Pearl Jam       Seattle, WA       \n",
              "5 Lukin          Pearl Jam       Seattle, WA       \n",
              "6 Stuck On Amber The Boo Radleys Liverpool, England\n",
              "  album                             \n",
              "1 Binaural                          \n",
              "2 Vitalogy                          \n",
              "3 No Code                           \n",
              "4 Live On Two Legs                  \n",
              "5 Seattle Washington November 5 2000\n",
              "6 Wake Up!                          "
            ]
          },
          "metadata": {}
        }
      ],
      "source": [
        "head(album)"
      ]
    },
    {
      "cell_type": "markdown",
      "metadata": {
        "deletable": false,
        "editable": false,
        "nbgrader": {
          "cell_type": "markdown",
          "checksum": "4556eacc8fdadb119dad3642f4cce467",
          "grade": false,
          "grade_id": "cell-81082dfacbaa989f",
          "locked": true,
          "schema_version": 3,
          "solution": false,
          "task": false
        },
        "id": "C1-AAAli1ehO"
      },
      "source": [
        "## Question 3.1\n",
        "\n",
        "{points: 1}\n",
        "\n",
        "\n",
        "Create a new data frame containing all songs from `time` that have a corresponding album in the `album` dataset, while also adding the album information. Store the joined data set in variable `songs_with_album`.\n",
        "\n",
        "```\n",
        "songs_with_album <- time %>%\n",
        "  FILL_THIS_IN(FILL_THIS_IN, by = c(\"FILL_THIS_IN\", \"FILL_THIS_IN\"))\n",
        "```"
      ]
    },
    {
      "cell_type": "code",
      "execution_count": 183,
      "metadata": {
        "deletable": false,
        "lines_to_next_cell": 0,
        "nbgrader": {
          "cell_type": "code",
          "checksum": "5cc779ee29fc8f53bff600d1517061ca",
          "grade": false,
          "grade_id": "cell-7d3c34b0dd2dff5c",
          "locked": false,
          "schema_version": 3,
          "solution": true,
          "task": false
        },
        "colab": {
          "base_uri": "https://localhost:8080/",
          "height": 286
        },
        "id": "p3qfnNqG1ehO",
        "outputId": "11ab2732-4447-4631-d481-fcee100285cb"
      },
      "outputs": [
        {
          "output_type": "display_data",
          "data": {
            "text/html": [
              "<table class=\"dataframe\">\n",
              "<caption>A tibble: 6 × 5</caption>\n",
              "<thead>\n",
              "\t<tr><th scope=col>song</th><th scope=col>artist_name</th><th scope=col>year</th><th scope=col>city</th><th scope=col>album</th></tr>\n",
              "\t<tr><th scope=col>&lt;chr&gt;</th><th scope=col>&lt;chr&gt;</th><th scope=col>&lt;dbl&gt;</th><th scope=col>&lt;chr&gt;</th><th scope=col>&lt;chr&gt;</th></tr>\n",
              "</thead>\n",
              "<tbody>\n",
              "\t<tr><td>Grievance    </td><td>Pearl Jam      </td><td>2000</td><td>Seattle, WA       </td><td>Binaural                          </td></tr>\n",
              "\t<tr><td>Stupidmop    </td><td>Pearl Jam      </td><td>1994</td><td>Seattle, WA       </td><td>Vitalogy                          </td></tr>\n",
              "\t<tr><td>Present Tense</td><td>Pearl Jam      </td><td>1996</td><td>Seattle, WA       </td><td>No Code                           </td></tr>\n",
              "\t<tr><td>MFC          </td><td>Pearl Jam      </td><td>1998</td><td>Seattle, WA       </td><td>Live On Two Legs                  </td></tr>\n",
              "\t<tr><td>Lukin        </td><td>Pearl Jam      </td><td>1996</td><td>Seattle, WA       </td><td>Seattle Washington November 5 2000</td></tr>\n",
              "\t<tr><td>It's Lulu    </td><td>The Boo Radleys</td><td>1995</td><td>Liverpool, England</td><td>Best Of                           </td></tr>\n",
              "</tbody>\n",
              "</table>\n"
            ],
            "text/markdown": "\nA tibble: 6 × 5\n\n| song &lt;chr&gt; | artist_name &lt;chr&gt; | year &lt;dbl&gt; | city &lt;chr&gt; | album &lt;chr&gt; |\n|---|---|---|---|---|\n| Grievance     | Pearl Jam       | 2000 | Seattle, WA        | Binaural                           |\n| Stupidmop     | Pearl Jam       | 1994 | Seattle, WA        | Vitalogy                           |\n| Present Tense | Pearl Jam       | 1996 | Seattle, WA        | No Code                            |\n| MFC           | Pearl Jam       | 1998 | Seattle, WA        | Live On Two Legs                   |\n| Lukin         | Pearl Jam       | 1996 | Seattle, WA        | Seattle Washington November 5 2000 |\n| It's Lulu     | The Boo Radleys | 1995 | Liverpool, England | Best Of                            |\n\n",
            "text/latex": "A tibble: 6 × 5\n\\begin{tabular}{lllll}\n song & artist\\_name & year & city & album\\\\\n <chr> & <chr> & <dbl> & <chr> & <chr>\\\\\n\\hline\n\t Grievance     & Pearl Jam       & 2000 & Seattle, WA        & Binaural                          \\\\\n\t Stupidmop     & Pearl Jam       & 1994 & Seattle, WA        & Vitalogy                          \\\\\n\t Present Tense & Pearl Jam       & 1996 & Seattle, WA        & No Code                           \\\\\n\t MFC           & Pearl Jam       & 1998 & Seattle, WA        & Live On Two Legs                  \\\\\n\t Lukin         & Pearl Jam       & 1996 & Seattle, WA        & Seattle Washington November 5 2000\\\\\n\t It's Lulu     & The Boo Radleys & 1995 & Liverpool, England & Best Of                           \\\\\n\\end{tabular}\n",
            "text/plain": [
              "  song          artist_name     year city              \n",
              "1 Grievance     Pearl Jam       2000 Seattle, WA       \n",
              "2 Stupidmop     Pearl Jam       1994 Seattle, WA       \n",
              "3 Present Tense Pearl Jam       1996 Seattle, WA       \n",
              "4 MFC           Pearl Jam       1998 Seattle, WA       \n",
              "5 Lukin         Pearl Jam       1996 Seattle, WA       \n",
              "6 It's Lulu     The Boo Radleys 1995 Liverpool, England\n",
              "  album                             \n",
              "1 Binaural                          \n",
              "2 Vitalogy                          \n",
              "3 No Code                           \n",
              "4 Live On Two Legs                  \n",
              "5 Seattle Washington November 5 2000\n",
              "6 Best Of                           "
            ]
          },
          "metadata": {}
        }
      ],
      "source": [
        "# your code here\n",
        "songs_with_album <- time %>%\n",
        "  inner_join(album, by = c(\"song\", \"artist_name\"))\n",
        "#fail() # No Answer - remove if you provide an answer\n",
        "head(songs_with_album)"
      ]
    },
    {
      "cell_type": "code",
      "execution_count": 184,
      "metadata": {
        "deletable": false,
        "editable": false,
        "nbgrader": {
          "cell_type": "code",
          "checksum": "105aa169193d490f96d8ac7e377be3d3",
          "grade": true,
          "grade_id": "cell-e851d23c3d11b3bd",
          "locked": true,
          "points": 1,
          "schema_version": 3,
          "solution": false,
          "task": false
        },
        "colab": {
          "base_uri": "https://localhost:8080/"
        },
        "id": "cmnu8d1_1ehO",
        "outputId": "6c5b9129-aca5-45ab-851a-86c7d5bf2836"
      },
      "outputs": [
        {
          "output_type": "stream",
          "name": "stdout",
          "text": [
            "[1] \"Success!\"\n"
          ]
        }
      ],
      "source": [
        "library(digest)\n",
        "stopifnot(\"songs_with_album should be a data frame\"= setequal(digest(paste(toString('data.frame' %in% class(songs_with_album)), \"b819e\")), \"ff6a1db82ac699a9b4cee31ff08aa569\"))\n",
        "stopifnot(\"dimensions of songs_with_album are not correct\"= setequal(digest(paste(toString(dim(songs_with_album)), \"b819e\")), \"e1aa822f43dd8d797f0534665dee35cb\"))\n",
        "stopifnot(\"column names of songs_with_album are not correct\"= setequal(digest(paste(toString(sort(colnames(songs_with_album))), \"b819e\")), \"11c75527436b344a3f6a5ce02c279db9\"))\n",
        "stopifnot(\"types of columns in songs_with_album are not correct\"= setequal(digest(paste(toString(sort(unlist(sapply(songs_with_album, class)))), \"b819e\")), \"048e7f001613e27e5e613ebb525952d4\"))\n",
        "stopifnot(\"values in one or more numerical columns in songs_with_album are not correct\"= setequal(digest(paste(toString(if (any(sapply(songs_with_album, is.numeric))) sort(round(sapply(songs_with_album[, sapply(songs_with_album, is.numeric)], sum, na.rm = TRUE), 2)) else 0), \"b819e\")), \"47a272bf8571aa55c865aba66b596b77\"))\n",
        "stopifnot(\"values in one or more character columns in songs_with_album are not correct\"= setequal(digest(paste(toString(if (any(sapply(songs_with_album, is.character))) sum(sapply(songs_with_album[sapply(songs_with_album, is.character)], function(x) length(unique(x)))) else 0), \"b819e\")), \"fa9bb75a460a99cc9c4c842aaabaa5bb\"))\n",
        "stopifnot(\"values in one or more factor columns in songs_with_album are not correct\"= setequal(digest(paste(toString(if (any(sapply(songs_with_album, is.factor))) sum(sapply(songs_with_album[, sapply(songs_with_album, is.factor)], function(col) length(unique(col)))) else 0), \"b819e\")), \"72dd67fb8c4639867505180a00642ff6\"))\n",
        "\n",
        "print('Success!')"
      ]
    },
    {
      "cell_type": "markdown",
      "metadata": {
        "deletable": false,
        "editable": false,
        "nbgrader": {
          "cell_type": "markdown",
          "checksum": "b3dd007476bfe44aabd87ec22e91f061",
          "grade": false,
          "grade_id": "cell-bfbeb7e5c7c5da68",
          "locked": true,
          "schema_version": 3,
          "solution": false,
          "task": false
        },
        "id": "WmNr2MXv1ehO"
      },
      "source": [
        "## Question 3.2\n",
        "\n",
        "{points: 1}\n",
        "\n",
        "\n",
        "Go ahead and add the corresponding albums to the `time` tibble, being sure to preserve rows even if album info is not readily available.\n",
        "Store the joined data set in variable `all_songs`.\n",
        "\n",
        "```\n",
        "all_songs <- time %>%\n",
        "  FILL_THIS_IN(FILL_THIS_IN, by = c(\"FILL_THIS_IN\", \"FILL_THIS_IN\"))\n",
        "```"
      ]
    },
    {
      "cell_type": "code",
      "execution_count": 185,
      "metadata": {
        "deletable": false,
        "lines_to_next_cell": 0,
        "nbgrader": {
          "cell_type": "code",
          "checksum": "b69ab410a37f5b67909c472e8b372518",
          "grade": false,
          "grade_id": "cell-05f5f08439831d83",
          "locked": false,
          "schema_version": 3,
          "solution": true,
          "task": false
        },
        "colab": {
          "base_uri": "https://localhost:8080/",
          "height": 286
        },
        "id": "jJVTJuf-1ehO",
        "outputId": "f029a35d-7d8d-413a-c968-5a588e9d9fb4"
      },
      "outputs": [
        {
          "output_type": "display_data",
          "data": {
            "text/html": [
              "<table class=\"dataframe\">\n",
              "<caption>A tibble: 6 × 5</caption>\n",
              "<thead>\n",
              "\t<tr><th scope=col>song</th><th scope=col>artist_name</th><th scope=col>year</th><th scope=col>city</th><th scope=col>album</th></tr>\n",
              "\t<tr><th scope=col>&lt;chr&gt;</th><th scope=col>&lt;chr&gt;</th><th scope=col>&lt;dbl&gt;</th><th scope=col>&lt;chr&gt;</th><th scope=col>&lt;chr&gt;</th></tr>\n",
              "</thead>\n",
              "<tbody>\n",
              "\t<tr><td>Corduroy     </td><td>Pearl Jam</td><td>1994</td><td>NA         </td><td>NA                                </td></tr>\n",
              "\t<tr><td>Grievance    </td><td>Pearl Jam</td><td>2000</td><td>Seattle, WA</td><td>Binaural                          </td></tr>\n",
              "\t<tr><td>Stupidmop    </td><td>Pearl Jam</td><td>1994</td><td>Seattle, WA</td><td>Vitalogy                          </td></tr>\n",
              "\t<tr><td>Present Tense</td><td>Pearl Jam</td><td>1996</td><td>Seattle, WA</td><td>No Code                           </td></tr>\n",
              "\t<tr><td>MFC          </td><td>Pearl Jam</td><td>1998</td><td>Seattle, WA</td><td>Live On Two Legs                  </td></tr>\n",
              "\t<tr><td>Lukin        </td><td>Pearl Jam</td><td>1996</td><td>Seattle, WA</td><td>Seattle Washington November 5 2000</td></tr>\n",
              "</tbody>\n",
              "</table>\n"
            ],
            "text/markdown": "\nA tibble: 6 × 5\n\n| song &lt;chr&gt; | artist_name &lt;chr&gt; | year &lt;dbl&gt; | city &lt;chr&gt; | album &lt;chr&gt; |\n|---|---|---|---|---|\n| Corduroy      | Pearl Jam | 1994 | NA          | NA                                 |\n| Grievance     | Pearl Jam | 2000 | Seattle, WA | Binaural                           |\n| Stupidmop     | Pearl Jam | 1994 | Seattle, WA | Vitalogy                           |\n| Present Tense | Pearl Jam | 1996 | Seattle, WA | No Code                            |\n| MFC           | Pearl Jam | 1998 | Seattle, WA | Live On Two Legs                   |\n| Lukin         | Pearl Jam | 1996 | Seattle, WA | Seattle Washington November 5 2000 |\n\n",
            "text/latex": "A tibble: 6 × 5\n\\begin{tabular}{lllll}\n song & artist\\_name & year & city & album\\\\\n <chr> & <chr> & <dbl> & <chr> & <chr>\\\\\n\\hline\n\t Corduroy      & Pearl Jam & 1994 & NA          & NA                                \\\\\n\t Grievance     & Pearl Jam & 2000 & Seattle, WA & Binaural                          \\\\\n\t Stupidmop     & Pearl Jam & 1994 & Seattle, WA & Vitalogy                          \\\\\n\t Present Tense & Pearl Jam & 1996 & Seattle, WA & No Code                           \\\\\n\t MFC           & Pearl Jam & 1998 & Seattle, WA & Live On Two Legs                  \\\\\n\t Lukin         & Pearl Jam & 1996 & Seattle, WA & Seattle Washington November 5 2000\\\\\n\\end{tabular}\n",
            "text/plain": [
              "  song          artist_name year city        album                             \n",
              "1 Corduroy      Pearl Jam   1994 NA          NA                                \n",
              "2 Grievance     Pearl Jam   2000 Seattle, WA Binaural                          \n",
              "3 Stupidmop     Pearl Jam   1994 Seattle, WA Vitalogy                          \n",
              "4 Present Tense Pearl Jam   1996 Seattle, WA No Code                           \n",
              "5 MFC           Pearl Jam   1998 Seattle, WA Live On Two Legs                  \n",
              "6 Lukin         Pearl Jam   1996 Seattle, WA Seattle Washington November 5 2000"
            ]
          },
          "metadata": {}
        }
      ],
      "source": [
        "# your code here\n",
        "all_songs <- time %>%\n",
        "  left_join(album, by = c(\"song\", \"artist_name\"))\n",
        "#fail() # No Answer - remove if you provide an answer\n",
        "head(all_songs)"
      ]
    },
    {
      "cell_type": "code",
      "execution_count": 186,
      "metadata": {
        "deletable": false,
        "editable": false,
        "nbgrader": {
          "cell_type": "code",
          "checksum": "6239baf9348c8d384df839be147c302a",
          "grade": true,
          "grade_id": "cell-3add15a64f96339a",
          "locked": true,
          "points": 1,
          "schema_version": 3,
          "solution": false,
          "task": false
        },
        "colab": {
          "base_uri": "https://localhost:8080/"
        },
        "id": "EvRuXlc21ehO",
        "outputId": "5b9c8e73-8041-41a7-c817-331385136279"
      },
      "outputs": [
        {
          "output_type": "stream",
          "name": "stdout",
          "text": [
            "[1] \"Success!\"\n"
          ]
        }
      ],
      "source": [
        "library(digest)\n",
        "stopifnot(\"all_songs should be a data frame\"= setequal(digest(paste(toString('data.frame' %in% class(all_songs)), \"ac396\")), \"c5901f0efdde4adc7d33a12156019110\"))\n",
        "stopifnot(\"dimensions of all_songs are not correct\"= setequal(digest(paste(toString(dim(all_songs)), \"ac396\")), \"b1a11be261e02d10a1cbea8ca1973a32\"))\n",
        "stopifnot(\"column names of all_songs are not correct\"= setequal(digest(paste(toString(sort(colnames(all_songs))), \"ac396\")), \"2da0d8a9b2fcd889695e672deee0a830\"))\n",
        "stopifnot(\"types of columns in all_songs are not correct\"= setequal(digest(paste(toString(sort(unlist(sapply(all_songs, class)))), \"ac396\")), \"6fc0f55e3976f387ebbde1dd2b189cfd\"))\n",
        "stopifnot(\"values in one or more numerical columns in all_songs are not correct\"= setequal(digest(paste(toString(if (any(sapply(all_songs, is.numeric))) sort(round(sapply(all_songs[, sapply(all_songs, is.numeric)], sum, na.rm = TRUE), 2)) else 0), \"ac396\")), \"ea7d64d4526fa10fe9df32cc9d7e6006\"))\n",
        "stopifnot(\"values in one or more character columns in all_songs are not correct\"= setequal(digest(paste(toString(if (any(sapply(all_songs, is.character))) sum(sapply(all_songs[sapply(all_songs, is.character)], function(x) length(unique(x)))) else 0), \"ac396\")), \"4b0e64b7b7b3d60e8be247c7bd6e0468\"))\n",
        "stopifnot(\"values in one or more factor columns in all_songs are not correct\"= setequal(digest(paste(toString(if (any(sapply(all_songs, is.factor))) sum(sapply(all_songs[, sapply(all_songs, is.factor)], function(col) length(unique(col)))) else 0), \"ac396\")), \"b66429c1429310f33677aa40767fc0d6\"))\n",
        "\n",
        "print('Success!')"
      ]
    },
    {
      "cell_type": "markdown",
      "metadata": {
        "deletable": false,
        "editable": false,
        "nbgrader": {
          "cell_type": "markdown",
          "checksum": "bb1d4075a01ebcc30a294d52d6240449",
          "grade": false,
          "grade_id": "cell-eff281d8aeda3161",
          "locked": true,
          "schema_version": 3,
          "solution": false,
          "task": false
        },
        "id": "2zSJinHm1ehP"
      },
      "source": [
        "## Question 3.3: Joining Rows by Columns\n",
        "\n",
        "{points: 1}\n",
        "\n",
        "\n",
        "Create a new tibble with songs from `time` for which there is no album info.\n",
        "Store the new data set in variable `songs_without_album`.\n",
        "\n",
        "```\n",
        "songs_without_album <- time %>%\n",
        "  FILL_THIS_IN(FILL_THIS_IN, by = c(\"FILL_THIS_IN\", \"FILL_THIS_IN\"))\n",
        "```"
      ]
    },
    {
      "cell_type": "code",
      "execution_count": 187,
      "metadata": {
        "deletable": false,
        "lines_to_next_cell": 0,
        "nbgrader": {
          "cell_type": "code",
          "checksum": "93ae01956cda7b91c33d53d66815ef03",
          "grade": false,
          "grade_id": "cell-bd6ca35fe501ec50",
          "locked": false,
          "schema_version": 3,
          "solution": true,
          "task": false
        },
        "colab": {
          "base_uri": "https://localhost:8080/",
          "height": 286
        },
        "id": "J4llK2ji1ehP",
        "outputId": "57353ee4-2709-45c6-d6a4-41121567db4a"
      },
      "outputs": [
        {
          "output_type": "display_data",
          "data": {
            "text/html": [
              "<table class=\"dataframe\">\n",
              "<caption>A tibble: 6 × 3</caption>\n",
              "<thead>\n",
              "\t<tr><th scope=col>song</th><th scope=col>artist_name</th><th scope=col>year</th></tr>\n",
              "\t<tr><th scope=col>&lt;chr&gt;</th><th scope=col>&lt;chr&gt;</th><th scope=col>&lt;dbl&gt;</th></tr>\n",
              "</thead>\n",
              "<tbody>\n",
              "\t<tr><td>Corduroy                        </td><td>Pearl Jam      </td><td>1994</td></tr>\n",
              "\t<tr><td>Martin_ Doom! It's Seven O'Clock</td><td>The Boo Radleys</td><td>1995</td></tr>\n",
              "\t<tr><td>Leaves And Sand                 </td><td>The Boo Radleys</td><td>1993</td></tr>\n",
              "\t<tr><td>Comb Your Hair                  </td><td>The Boo Radleys</td><td>1998</td></tr>\n",
              "\t<tr><td>Mine Again                      </td><td>Mariah Carey   </td><td>2005</td></tr>\n",
              "\t<tr><td>Don't Forget About Us           </td><td>Mariah Carey   </td><td>2005</td></tr>\n",
              "</tbody>\n",
              "</table>\n"
            ],
            "text/markdown": "\nA tibble: 6 × 3\n\n| song &lt;chr&gt; | artist_name &lt;chr&gt; | year &lt;dbl&gt; |\n|---|---|---|\n| Corduroy                         | Pearl Jam       | 1994 |\n| Martin_ Doom! It's Seven O'Clock | The Boo Radleys | 1995 |\n| Leaves And Sand                  | The Boo Radleys | 1993 |\n| Comb Your Hair                   | The Boo Radleys | 1998 |\n| Mine Again                       | Mariah Carey    | 2005 |\n| Don't Forget About Us            | Mariah Carey    | 2005 |\n\n",
            "text/latex": "A tibble: 6 × 3\n\\begin{tabular}{lll}\n song & artist\\_name & year\\\\\n <chr> & <chr> & <dbl>\\\\\n\\hline\n\t Corduroy                         & Pearl Jam       & 1994\\\\\n\t Martin\\_ Doom! It's Seven O'Clock & The Boo Radleys & 1995\\\\\n\t Leaves And Sand                  & The Boo Radleys & 1993\\\\\n\t Comb Your Hair                   & The Boo Radleys & 1998\\\\\n\t Mine Again                       & Mariah Carey    & 2005\\\\\n\t Don't Forget About Us            & Mariah Carey    & 2005\\\\\n\\end{tabular}\n",
            "text/plain": [
              "  song                             artist_name     year\n",
              "1 Corduroy                         Pearl Jam       1994\n",
              "2 Martin_ Doom! It's Seven O'Clock The Boo Radleys 1995\n",
              "3 Leaves And Sand                  The Boo Radleys 1993\n",
              "4 Comb Your Hair                   The Boo Radleys 1998\n",
              "5 Mine Again                       Mariah Carey    2005\n",
              "6 Don't Forget About Us            Mariah Carey    2005"
            ]
          },
          "metadata": {}
        }
      ],
      "source": [
        "# your code here\n",
        "songs_without_album <- time %>%\n",
        "  anti_join(album, by = c(\"song\", \"artist_name\"))\n",
        "#fail()  No Answer - remove if you provide an answer\n",
        "head(songs_without_album)"
      ]
    },
    {
      "cell_type": "code",
      "execution_count": 188,
      "metadata": {
        "deletable": false,
        "editable": false,
        "nbgrader": {
          "cell_type": "code",
          "checksum": "7de0bfc15dba08a5109b6e58bc423311",
          "grade": true,
          "grade_id": "cell-0c5e0fec11dfa949",
          "locked": true,
          "points": 1,
          "schema_version": 3,
          "solution": false,
          "task": false
        },
        "colab": {
          "base_uri": "https://localhost:8080/"
        },
        "id": "vy1jrj4N1ehP",
        "outputId": "b1122f4e-9c60-4723-d930-4e2c122bdac6"
      },
      "outputs": [
        {
          "output_type": "stream",
          "name": "stdout",
          "text": [
            "[1] \"Success!\"\n"
          ]
        }
      ],
      "source": [
        "library(digest)\n",
        "stopifnot(\"songs_without_album should be a data frame\"= setequal(digest(paste(toString('data.frame' %in% class(songs_without_album)), \"a88fc\")), \"8db11c32ed7f89a90180eea77e374e99\"))\n",
        "stopifnot(\"dimensions of songs_without_album are not correct\"= setequal(digest(paste(toString(dim(songs_without_album)), \"a88fc\")), \"1c48642e3e094ae740024eb8a5223752\"))\n",
        "stopifnot(\"column names of songs_without_album are not correct\"= setequal(digest(paste(toString(sort(colnames(songs_without_album))), \"a88fc\")), \"613b6dc858b0534ec7491fc511cf52a9\"))\n",
        "stopifnot(\"types of columns in songs_without_album are not correct\"= setequal(digest(paste(toString(sort(unlist(sapply(songs_without_album, class)))), \"a88fc\")), \"42359bf5b0a7b2af3062046f3ad2a557\"))\n",
        "stopifnot(\"values in one or more numerical columns in songs_without_album are not correct\"= setequal(digest(paste(toString(if (any(sapply(songs_without_album, is.numeric))) sort(round(sapply(songs_without_album[, sapply(songs_without_album, is.numeric)], sum, na.rm = TRUE), 2)) else 0), \"a88fc\")), \"d6c0734c386da7b99cfe10b0f2f1f501\"))\n",
        "stopifnot(\"values in one or more character columns in songs_without_album are not correct\"= setequal(digest(paste(toString(if (any(sapply(songs_without_album, is.character))) sum(sapply(songs_without_album[sapply(songs_without_album, is.character)], function(x) length(unique(x)))) else 0), \"a88fc\")), \"6d0d44ada2dcb03fa2ce397ceb36da6e\"))\n",
        "stopifnot(\"values in one or more factor columns in songs_without_album are not correct\"= setequal(digest(paste(toString(if (any(sapply(songs_without_album, is.factor))) sum(sapply(songs_without_album[, sapply(songs_without_album, is.factor)], function(col) length(unique(col)))) else 0), \"a88fc\")), \"3062ea57e3b3080241118cd522a46669\"))\n",
        "\n",
        "print('Success!')"
      ]
    },
    {
      "cell_type": "markdown",
      "metadata": {
        "id": "2xsJ7NlQ1ehP"
      },
      "source": [
        "## Question 3.4\n",
        "\n",
        "{points: 1}\n",
        "\n",
        "\n",
        "Create a new tibble with all songs from artists for whom there is no album information.\n",
        "Store the new data set in variable `songs_artists_no_album`.\n",
        "\n",
        "```\n",
        "songs_artists_no_album <- time %>%\n",
        "  FILL_THIS_IN(FILL_THIS_IN, by = \"FILL_THIS_IN\")\n",
        "```"
      ]
    },
    {
      "cell_type": "code",
      "execution_count": 189,
      "metadata": {
        "deletable": false,
        "lines_to_next_cell": 0,
        "nbgrader": {
          "cell_type": "code",
          "checksum": "6341db6003ef5b98261f5bf21bcaa4ef",
          "grade": false,
          "grade_id": "cell-129b24ab36ddde03",
          "locked": false,
          "schema_version": 3,
          "solution": true,
          "task": false
        },
        "colab": {
          "base_uri": "https://localhost:8080/",
          "height": 255
        },
        "id": "cW6WjPJS1ehP",
        "outputId": "dd631d47-44a5-4310-9e8f-3a6c5f5f9a50"
      },
      "outputs": [
        {
          "output_type": "display_data",
          "data": {
            "text/html": [
              "<table class=\"dataframe\">\n",
              "<caption>A tibble: 5 × 3</caption>\n",
              "<thead>\n",
              "\t<tr><th scope=col>song</th><th scope=col>artist_name</th><th scope=col>year</th></tr>\n",
              "\t<tr><th scope=col>&lt;chr&gt;</th><th scope=col>&lt;chr&gt;</th><th scope=col>&lt;dbl&gt;</th></tr>\n",
              "</thead>\n",
              "<tbody>\n",
              "\t<tr><td>Mine Again           </td><td>Mariah Carey</td><td>2005</td></tr>\n",
              "\t<tr><td>Don't Forget About Us</td><td>Mariah Carey</td><td>2005</td></tr>\n",
              "\t<tr><td>Babydoll             </td><td>Mariah Carey</td><td>1997</td></tr>\n",
              "\t<tr><td>Don't Forget About Us</td><td>Mariah Carey</td><td>2005</td></tr>\n",
              "\t<tr><td>Vision Of Love       </td><td>Mariah Carey</td><td>1990</td></tr>\n",
              "</tbody>\n",
              "</table>\n"
            ],
            "text/markdown": "\nA tibble: 5 × 3\n\n| song &lt;chr&gt; | artist_name &lt;chr&gt; | year &lt;dbl&gt; |\n|---|---|---|\n| Mine Again            | Mariah Carey | 2005 |\n| Don't Forget About Us | Mariah Carey | 2005 |\n| Babydoll              | Mariah Carey | 1997 |\n| Don't Forget About Us | Mariah Carey | 2005 |\n| Vision Of Love        | Mariah Carey | 1990 |\n\n",
            "text/latex": "A tibble: 5 × 3\n\\begin{tabular}{lll}\n song & artist\\_name & year\\\\\n <chr> & <chr> & <dbl>\\\\\n\\hline\n\t Mine Again            & Mariah Carey & 2005\\\\\n\t Don't Forget About Us & Mariah Carey & 2005\\\\\n\t Babydoll              & Mariah Carey & 1997\\\\\n\t Don't Forget About Us & Mariah Carey & 2005\\\\\n\t Vision Of Love        & Mariah Carey & 1990\\\\\n\\end{tabular}\n",
            "text/plain": [
              "  song                  artist_name  year\n",
              "1 Mine Again            Mariah Carey 2005\n",
              "2 Don't Forget About Us Mariah Carey 2005\n",
              "3 Babydoll              Mariah Carey 1997\n",
              "4 Don't Forget About Us Mariah Carey 2005\n",
              "5 Vision Of Love        Mariah Carey 1990"
            ]
          },
          "metadata": {}
        }
      ],
      "source": [
        "# your code here\n",
        "songs_artists_no_album <- time %>%\n",
        "  anti_join(album, by = \"artist_name\")\n",
        "\n",
        "#fail() # No Answer - remove if you provide an answer\n",
        "head(songs_artists_no_album)"
      ]
    },
    {
      "cell_type": "code",
      "execution_count": 190,
      "metadata": {
        "deletable": false,
        "editable": false,
        "nbgrader": {
          "cell_type": "code",
          "checksum": "b454a39b8b8299c02ac5dce7cd807a35",
          "grade": true,
          "grade_id": "cell-3452c71d7eb8391d",
          "locked": true,
          "points": 1,
          "schema_version": 3,
          "solution": false,
          "task": false
        },
        "colab": {
          "base_uri": "https://localhost:8080/"
        },
        "id": "Xpd2-nvQ1ehP",
        "outputId": "f3933c88-6a91-470d-b0da-797edc9629d8"
      },
      "outputs": [
        {
          "output_type": "stream",
          "name": "stdout",
          "text": [
            "[1] \"Success!\"\n"
          ]
        }
      ],
      "source": [
        "library(digest)\n",
        "stopifnot(\"songs_artists_no_album should be a data frame\"= setequal(digest(paste(toString('data.frame' %in% class(songs_artists_no_album)), \"48b20\")), \"167d8f7c1b10fd4768cb1d84e1ebaee1\"))\n",
        "stopifnot(\"dimensions of songs_artists_no_album are not correct\"= setequal(digest(paste(toString(dim(songs_artists_no_album)), \"48b20\")), \"b706eeea584cc496d448fe7106be2438\"))\n",
        "stopifnot(\"column names of songs_artists_no_album are not correct\"= setequal(digest(paste(toString(sort(colnames(songs_artists_no_album))), \"48b20\")), \"abe8594012949a11f6293bbed07de283\"))\n",
        "stopifnot(\"types of columns in songs_artists_no_album are not correct\"= setequal(digest(paste(toString(sort(unlist(sapply(songs_artists_no_album, class)))), \"48b20\")), \"699d26040c0a852ca53481e9bbb42bba\"))\n",
        "stopifnot(\"values in one or more numerical columns in songs_artists_no_album are not correct\"= setequal(digest(paste(toString(if (any(sapply(songs_artists_no_album, is.numeric))) sort(round(sapply(songs_artists_no_album[, sapply(songs_artists_no_album, is.numeric)], sum, na.rm = TRUE), 2)) else 0), \"48b20\")), \"b5ae4683063e641d48e5d2c83e0dc221\"))\n",
        "stopifnot(\"values in one or more character columns in songs_artists_no_album are not correct\"= setequal(digest(paste(toString(if (any(sapply(songs_artists_no_album, is.character))) sum(sapply(songs_artists_no_album[sapply(songs_artists_no_album, is.character)], function(x) length(unique(x)))) else 0), \"48b20\")), \"052ff6bbdd0bd754fc5169b455346309\"))\n",
        "stopifnot(\"values in one or more factor columns in songs_artists_no_album are not correct\"= setequal(digest(paste(toString(if (any(sapply(songs_artists_no_album, is.factor))) sum(sapply(songs_artists_no_album[, sapply(songs_artists_no_album, is.factor)], function(col) length(unique(col)))) else 0), \"48b20\")), \"2dfe7c0fb5904fc4c7ed1bfd794c2f5f\"))\n",
        "\n",
        "print('Success!')"
      ]
    },
    {
      "cell_type": "markdown",
      "metadata": {
        "deletable": false,
        "editable": false,
        "nbgrader": {
          "cell_type": "markdown",
          "checksum": "655b0329525189d4353a3c673d2451bc",
          "grade": false,
          "grade_id": "cell-7fec11ba9e292ff8",
          "locked": true,
          "schema_version": 3,
          "solution": false,
          "task": false
        },
        "id": "T6Uor_aR1ehP"
      },
      "source": [
        "## Question 3.5\n",
        "\n",
        "{points: 1}\n",
        "\n",
        "\n",
        "Create a new tibble with all the information from both tibbles, regardless of no corresponding information being present in the other tibble.\n",
        "Store the new data set in variable `all_songs_and_albums`.\n",
        "\n",
        "```\n",
        "all_songs_and_albums <- time %>%\n",
        "  FILL_THIS_IN(FILL_THIS_IN, by = c(\"FILL_THIS_IN\", \"FILL_THIS_IN\"))\n",
        "```"
      ]
    },
    {
      "cell_type": "code",
      "execution_count": 191,
      "metadata": {
        "deletable": false,
        "lines_to_next_cell": 0,
        "nbgrader": {
          "cell_type": "code",
          "checksum": "c3d7b242129fe696c878dff7ca1d3387",
          "grade": false,
          "grade_id": "cell-17f8124265baf8e0",
          "locked": false,
          "schema_version": 3,
          "solution": true,
          "task": false
        },
        "colab": {
          "base_uri": "https://localhost:8080/",
          "height": 286
        },
        "id": "Ht0L2wyL1ehP",
        "outputId": "5f2481d9-2a09-4ae7-dee8-e29f3e257c7a"
      },
      "outputs": [
        {
          "output_type": "display_data",
          "data": {
            "text/html": [
              "<table class=\"dataframe\">\n",
              "<caption>A tibble: 6 × 5</caption>\n",
              "<thead>\n",
              "\t<tr><th scope=col>song</th><th scope=col>artist_name</th><th scope=col>year</th><th scope=col>city</th><th scope=col>album</th></tr>\n",
              "\t<tr><th scope=col>&lt;chr&gt;</th><th scope=col>&lt;chr&gt;</th><th scope=col>&lt;dbl&gt;</th><th scope=col>&lt;chr&gt;</th><th scope=col>&lt;chr&gt;</th></tr>\n",
              "</thead>\n",
              "<tbody>\n",
              "\t<tr><td>Corduroy     </td><td>Pearl Jam</td><td>1994</td><td>NA         </td><td>NA                                </td></tr>\n",
              "\t<tr><td>Grievance    </td><td>Pearl Jam</td><td>2000</td><td>Seattle, WA</td><td>Binaural                          </td></tr>\n",
              "\t<tr><td>Stupidmop    </td><td>Pearl Jam</td><td>1994</td><td>Seattle, WA</td><td>Vitalogy                          </td></tr>\n",
              "\t<tr><td>Present Tense</td><td>Pearl Jam</td><td>1996</td><td>Seattle, WA</td><td>No Code                           </td></tr>\n",
              "\t<tr><td>MFC          </td><td>Pearl Jam</td><td>1998</td><td>Seattle, WA</td><td>Live On Two Legs                  </td></tr>\n",
              "\t<tr><td>Lukin        </td><td>Pearl Jam</td><td>1996</td><td>Seattle, WA</td><td>Seattle Washington November 5 2000</td></tr>\n",
              "</tbody>\n",
              "</table>\n"
            ],
            "text/markdown": "\nA tibble: 6 × 5\n\n| song &lt;chr&gt; | artist_name &lt;chr&gt; | year &lt;dbl&gt; | city &lt;chr&gt; | album &lt;chr&gt; |\n|---|---|---|---|---|\n| Corduroy      | Pearl Jam | 1994 | NA          | NA                                 |\n| Grievance     | Pearl Jam | 2000 | Seattle, WA | Binaural                           |\n| Stupidmop     | Pearl Jam | 1994 | Seattle, WA | Vitalogy                           |\n| Present Tense | Pearl Jam | 1996 | Seattle, WA | No Code                            |\n| MFC           | Pearl Jam | 1998 | Seattle, WA | Live On Two Legs                   |\n| Lukin         | Pearl Jam | 1996 | Seattle, WA | Seattle Washington November 5 2000 |\n\n",
            "text/latex": "A tibble: 6 × 5\n\\begin{tabular}{lllll}\n song & artist\\_name & year & city & album\\\\\n <chr> & <chr> & <dbl> & <chr> & <chr>\\\\\n\\hline\n\t Corduroy      & Pearl Jam & 1994 & NA          & NA                                \\\\\n\t Grievance     & Pearl Jam & 2000 & Seattle, WA & Binaural                          \\\\\n\t Stupidmop     & Pearl Jam & 1994 & Seattle, WA & Vitalogy                          \\\\\n\t Present Tense & Pearl Jam & 1996 & Seattle, WA & No Code                           \\\\\n\t MFC           & Pearl Jam & 1998 & Seattle, WA & Live On Two Legs                  \\\\\n\t Lukin         & Pearl Jam & 1996 & Seattle, WA & Seattle Washington November 5 2000\\\\\n\\end{tabular}\n",
            "text/plain": [
              "  song          artist_name year city        album                             \n",
              "1 Corduroy      Pearl Jam   1994 NA          NA                                \n",
              "2 Grievance     Pearl Jam   2000 Seattle, WA Binaural                          \n",
              "3 Stupidmop     Pearl Jam   1994 Seattle, WA Vitalogy                          \n",
              "4 Present Tense Pearl Jam   1996 Seattle, WA No Code                           \n",
              "5 MFC           Pearl Jam   1998 Seattle, WA Live On Two Legs                  \n",
              "6 Lukin         Pearl Jam   1996 Seattle, WA Seattle Washington November 5 2000"
            ]
          },
          "metadata": {}
        }
      ],
      "source": [
        "# your code here\n",
        "all_songs_and_albums <- time %>%\n",
        "  full_join(album, by = c(\"song\", \"artist_name\"))\n",
        "#fail() # No Answer - remove if you provide an answer\n",
        "head(all_songs_and_albums)"
      ]
    },
    {
      "cell_type": "code",
      "execution_count": 192,
      "metadata": {
        "deletable": false,
        "editable": false,
        "nbgrader": {
          "cell_type": "code",
          "checksum": "18e08231c71b66f6823934bd3dd47533",
          "grade": true,
          "grade_id": "cell-0bae4a61eb231bdc",
          "locked": true,
          "points": 1,
          "schema_version": 3,
          "solution": false,
          "task": false
        },
        "colab": {
          "base_uri": "https://localhost:8080/"
        },
        "id": "T1IT3LFs1ehP",
        "outputId": "2d720542-b888-40a4-94dd-a888f55dfb42"
      },
      "outputs": [
        {
          "output_type": "stream",
          "name": "stdout",
          "text": [
            "[1] \"Success!\"\n"
          ]
        }
      ],
      "source": [
        "library(digest)\n",
        "stopifnot(\"all_songs_and_albums should be a data frame\"= setequal(digest(paste(toString('data.frame' %in% class(all_songs_and_albums)), \"9740c\")), \"0466f7b06251ba974d4b867a7db35983\"))\n",
        "stopifnot(\"dimensions of all_songs_and_albums are not correct\"= setequal(digest(paste(toString(dim(all_songs_and_albums)), \"9740c\")), \"7dccfe1fbcbf928b818906abe85fb3de\"))\n",
        "stopifnot(\"column names of all_songs_and_albums are not correct\"= setequal(digest(paste(toString(sort(colnames(all_songs_and_albums))), \"9740c\")), \"7a86961d54f6a7e9504528e4a80f3235\"))\n",
        "stopifnot(\"types of columns in all_songs_and_albums are not correct\"= setequal(digest(paste(toString(sort(unlist(sapply(all_songs_and_albums, class)))), \"9740c\")), \"15ca0d9fdda8cf02d055b1cc071528f7\"))\n",
        "stopifnot(\"values in one or more numerical columns in all_songs_and_albums are not correct\"= setequal(digest(paste(toString(if (any(sapply(all_songs_and_albums, is.numeric))) sort(round(sapply(all_songs_and_albums[, sapply(all_songs_and_albums, is.numeric)], sum, na.rm = TRUE), 2)) else 0), \"9740c\")), \"e823c3dcd4895e0f069f5e865f8808e3\"))\n",
        "stopifnot(\"values in one or more character columns in all_songs_and_albums are not correct\"= setequal(digest(paste(toString(if (any(sapply(all_songs_and_albums, is.character))) sum(sapply(all_songs_and_albums[sapply(all_songs_and_albums, is.character)], function(x) length(unique(x)))) else 0), \"9740c\")), \"845357d176b54b8487cf01a589561a8c\"))\n",
        "stopifnot(\"values in one or more factor columns in all_songs_and_albums are not correct\"= setequal(digest(paste(toString(if (any(sapply(all_songs_and_albums, is.factor))) sum(sapply(all_songs_and_albums[, sapply(all_songs_and_albums, is.factor)], function(col) length(unique(col)))) else 0), \"9740c\")), \"545e3b500de6bab9c3c2c8e91f1143b7\"))\n",
        "\n",
        "print('Success!')"
      ]
    },
    {
      "cell_type": "markdown",
      "metadata": {
        "deletable": false,
        "editable": false,
        "nbgrader": {
          "cell_type": "markdown",
          "checksum": "a80eaac62f4f6cc387b81e6cc71ff526",
          "grade": false,
          "grade_id": "cell-3bca1c6621e1410f",
          "locked": true,
          "schema_version": 3,
          "solution": false,
          "task": false
        },
        "id": "cwP1b_Ay1ehP"
      },
      "source": [
        "## Part 4: Concatenating Rows\n",
        "\n",
        "At the start of the worksheet, we loaded three Lord of the Rings datasets (one for each of the three movies). Run the following R codes to take a look at the 3 tibbles:"
      ]
    },
    {
      "cell_type": "code",
      "execution_count": 193,
      "metadata": {
        "deletable": false,
        "editable": false,
        "lines_to_next_cell": 0,
        "nbgrader": {
          "cell_type": "code",
          "checksum": "cf3c8b40799f4e0901e1ba86eed4b994",
          "grade": false,
          "grade_id": "cell-83ad6b3db4ab34cd",
          "locked": true,
          "schema_version": 3,
          "solution": false,
          "task": false
        },
        "colab": {
          "base_uri": "https://localhost:8080/",
          "height": 192
        },
        "id": "CQIDVOFS1ehP",
        "outputId": "6047f5ea-8bce-4381-e06d-ee7698d8cfdc"
      },
      "outputs": [
        {
          "output_type": "display_data",
          "data": {
            "text/html": [
              "<table class=\"dataframe\">\n",
              "<caption>A spec_tbl_df: 3 × 4</caption>\n",
              "<thead>\n",
              "\t<tr><th scope=col>Film</th><th scope=col>Race</th><th scope=col>Female</th><th scope=col>Male</th></tr>\n",
              "\t<tr><th scope=col>&lt;chr&gt;</th><th scope=col>&lt;chr&gt;</th><th scope=col>&lt;dbl&gt;</th><th scope=col>&lt;dbl&gt;</th></tr>\n",
              "</thead>\n",
              "<tbody>\n",
              "\t<tr><td>The Fellowship Of The Ring</td><td>Elf   </td><td>1229</td><td> 971</td></tr>\n",
              "\t<tr><td>The Fellowship Of The Ring</td><td>Hobbit</td><td>  14</td><td>3644</td></tr>\n",
              "\t<tr><td>The Fellowship Of The Ring</td><td>Man   </td><td>   0</td><td>1995</td></tr>\n",
              "</tbody>\n",
              "</table>\n"
            ],
            "text/markdown": "\nA spec_tbl_df: 3 × 4\n\n| Film &lt;chr&gt; | Race &lt;chr&gt; | Female &lt;dbl&gt; | Male &lt;dbl&gt; |\n|---|---|---|---|\n| The Fellowship Of The Ring | Elf    | 1229 |  971 |\n| The Fellowship Of The Ring | Hobbit |   14 | 3644 |\n| The Fellowship Of The Ring | Man    |    0 | 1995 |\n\n",
            "text/latex": "A spec\\_tbl\\_df: 3 × 4\n\\begin{tabular}{llll}\n Film & Race & Female & Male\\\\\n <chr> & <chr> & <dbl> & <dbl>\\\\\n\\hline\n\t The Fellowship Of The Ring & Elf    & 1229 &  971\\\\\n\t The Fellowship Of The Ring & Hobbit &   14 & 3644\\\\\n\t The Fellowship Of The Ring & Man    &    0 & 1995\\\\\n\\end{tabular}\n",
            "text/plain": [
              "  Film                       Race   Female Male\n",
              "1 The Fellowship Of The Ring Elf    1229    971\n",
              "2 The Fellowship Of The Ring Hobbit   14   3644\n",
              "3 The Fellowship Of The Ring Man       0   1995"
            ]
          },
          "metadata": {}
        }
      ],
      "source": [
        "fell"
      ]
    },
    {
      "cell_type": "code",
      "execution_count": 194,
      "metadata": {
        "deletable": false,
        "editable": false,
        "lines_to_next_cell": 0,
        "nbgrader": {
          "cell_type": "code",
          "checksum": "735e681bd18461f3016d948b43c8787a",
          "grade": false,
          "grade_id": "cell-d6e0b8ca24c1e571",
          "locked": true,
          "schema_version": 3,
          "solution": false,
          "task": false
        },
        "colab": {
          "base_uri": "https://localhost:8080/",
          "height": 192
        },
        "id": "BdeXLlf01ehP",
        "outputId": "6bdc7a48-0d27-4ead-f383-cb7d7e543427"
      },
      "outputs": [
        {
          "output_type": "display_data",
          "data": {
            "text/html": [
              "<table class=\"dataframe\">\n",
              "<caption>A spec_tbl_df: 3 × 4</caption>\n",
              "<thead>\n",
              "\t<tr><th scope=col>Film</th><th scope=col>Race</th><th scope=col>Female</th><th scope=col>Male</th></tr>\n",
              "\t<tr><th scope=col>&lt;chr&gt;</th><th scope=col>&lt;chr&gt;</th><th scope=col>&lt;dbl&gt;</th><th scope=col>&lt;dbl&gt;</th></tr>\n",
              "</thead>\n",
              "<tbody>\n",
              "\t<tr><td>The Two Towers</td><td>Elf   </td><td>331</td><td> 513</td></tr>\n",
              "\t<tr><td>The Two Towers</td><td>Hobbit</td><td>  0</td><td>2463</td></tr>\n",
              "\t<tr><td>The Two Towers</td><td>Man   </td><td>401</td><td>3589</td></tr>\n",
              "</tbody>\n",
              "</table>\n"
            ],
            "text/markdown": "\nA spec_tbl_df: 3 × 4\n\n| Film &lt;chr&gt; | Race &lt;chr&gt; | Female &lt;dbl&gt; | Male &lt;dbl&gt; |\n|---|---|---|---|\n| The Two Towers | Elf    | 331 |  513 |\n| The Two Towers | Hobbit |   0 | 2463 |\n| The Two Towers | Man    | 401 | 3589 |\n\n",
            "text/latex": "A spec\\_tbl\\_df: 3 × 4\n\\begin{tabular}{llll}\n Film & Race & Female & Male\\\\\n <chr> & <chr> & <dbl> & <dbl>\\\\\n\\hline\n\t The Two Towers & Elf    & 331 &  513\\\\\n\t The Two Towers & Hobbit &   0 & 2463\\\\\n\t The Two Towers & Man    & 401 & 3589\\\\\n\\end{tabular}\n",
            "text/plain": [
              "  Film           Race   Female Male\n",
              "1 The Two Towers Elf    331     513\n",
              "2 The Two Towers Hobbit   0    2463\n",
              "3 The Two Towers Man    401    3589"
            ]
          },
          "metadata": {}
        }
      ],
      "source": [
        "ttow"
      ]
    },
    {
      "cell_type": "code",
      "execution_count": 195,
      "metadata": {
        "deletable": false,
        "editable": false,
        "nbgrader": {
          "cell_type": "code",
          "checksum": "5829d1044a023667ebcb840e4e1b02c2",
          "grade": false,
          "grade_id": "cell-35c54be74e77d971",
          "locked": true,
          "schema_version": 3,
          "solution": false,
          "task": false
        },
        "colab": {
          "base_uri": "https://localhost:8080/",
          "height": 192
        },
        "id": "0PLqn-M_1ehQ",
        "outputId": "7c67013d-7b27-40e8-80db-609053da454e"
      },
      "outputs": [
        {
          "output_type": "display_data",
          "data": {
            "text/html": [
              "<table class=\"dataframe\">\n",
              "<caption>A spec_tbl_df: 3 × 4</caption>\n",
              "<thead>\n",
              "\t<tr><th scope=col>Film</th><th scope=col>Race</th><th scope=col>Female</th><th scope=col>Male</th></tr>\n",
              "\t<tr><th scope=col>&lt;chr&gt;</th><th scope=col>&lt;chr&gt;</th><th scope=col>&lt;dbl&gt;</th><th scope=col>&lt;dbl&gt;</th></tr>\n",
              "</thead>\n",
              "<tbody>\n",
              "\t<tr><td>The Return Of The King</td><td>Elf   </td><td>183</td><td> 510</td></tr>\n",
              "\t<tr><td>The Return Of The King</td><td>Hobbit</td><td>  2</td><td>2673</td></tr>\n",
              "\t<tr><td>The Return Of The King</td><td>Man   </td><td>268</td><td>2459</td></tr>\n",
              "</tbody>\n",
              "</table>\n"
            ],
            "text/markdown": "\nA spec_tbl_df: 3 × 4\n\n| Film &lt;chr&gt; | Race &lt;chr&gt; | Female &lt;dbl&gt; | Male &lt;dbl&gt; |\n|---|---|---|---|\n| The Return Of The King | Elf    | 183 |  510 |\n| The Return Of The King | Hobbit |   2 | 2673 |\n| The Return Of The King | Man    | 268 | 2459 |\n\n",
            "text/latex": "A spec\\_tbl\\_df: 3 × 4\n\\begin{tabular}{llll}\n Film & Race & Female & Male\\\\\n <chr> & <chr> & <dbl> & <dbl>\\\\\n\\hline\n\t The Return Of The King & Elf    & 183 &  510\\\\\n\t The Return Of The King & Hobbit &   2 & 2673\\\\\n\t The Return Of The King & Man    & 268 & 2459\\\\\n\\end{tabular}\n",
            "text/plain": [
              "  Film                   Race   Female Male\n",
              "1 The Return Of The King Elf    183     510\n",
              "2 The Return Of The King Hobbit   2    2673\n",
              "3 The Return Of The King Man    268    2459"
            ]
          },
          "metadata": {}
        }
      ],
      "source": [
        "retk"
      ]
    },
    {
      "cell_type": "markdown",
      "metadata": {
        "deletable": false,
        "editable": false,
        "nbgrader": {
          "cell_type": "markdown",
          "checksum": "a75168c7d6649148ccb6cc245c0d489a",
          "grade": false,
          "grade_id": "cell-dccbf8195a0dae5c",
          "locked": true,
          "schema_version": 3,
          "solution": false,
          "task": false
        },
        "id": "Ytg_typ81ehQ"
      },
      "source": [
        "## Question 4.1\n",
        "\n",
        "{points: 1}\n",
        "\n",
        "\n",
        "Combine the three data sets into a single tibble, storing the new tibble in variable `lotr`.\n",
        "\n",
        "```\n",
        "lotr <- FILL_THIS_IN(fell, ttow, retk)\n",
        "```"
      ]
    },
    {
      "cell_type": "code",
      "execution_count": 196,
      "metadata": {
        "deletable": false,
        "lines_to_next_cell": 0,
        "nbgrader": {
          "cell_type": "code",
          "checksum": "c124fce98a9b8d0005c5af1541b6b970",
          "grade": false,
          "grade_id": "cell-ef7784a633e9d4cb",
          "locked": false,
          "schema_version": 3,
          "solution": true,
          "task": false
        },
        "colab": {
          "base_uri": "https://localhost:8080/"
        },
        "id": "Sgmam7BG1ehQ",
        "outputId": "176c909d-7a6d-4afc-ac1b-53863413149b"
      },
      "outputs": [
        {
          "output_type": "stream",
          "name": "stdout",
          "text": [
            "\u001b[90m# A tibble: 9 × 4\u001b[39m\n",
            "  Film                       Race   Female  Male\n",
            "  \u001b[3m\u001b[90m<chr>\u001b[39m\u001b[23m                      \u001b[3m\u001b[90m<chr>\u001b[39m\u001b[23m   \u001b[3m\u001b[90m<dbl>\u001b[39m\u001b[23m \u001b[3m\u001b[90m<dbl>\u001b[39m\u001b[23m\n",
            "\u001b[90m1\u001b[39m The Fellowship Of The Ring Elf      \u001b[4m1\u001b[24m229   971\n",
            "\u001b[90m2\u001b[39m The Fellowship Of The Ring Hobbit     14  \u001b[4m3\u001b[24m644\n",
            "\u001b[90m3\u001b[39m The Fellowship Of The Ring Man         0  \u001b[4m1\u001b[24m995\n",
            "\u001b[90m4\u001b[39m The Two Towers             Elf       331   513\n",
            "\u001b[90m5\u001b[39m The Two Towers             Hobbit      0  \u001b[4m2\u001b[24m463\n",
            "\u001b[90m6\u001b[39m The Two Towers             Man       401  \u001b[4m3\u001b[24m589\n",
            "\u001b[90m7\u001b[39m The Return Of The King     Elf       183   510\n",
            "\u001b[90m8\u001b[39m The Return Of The King     Hobbit      2  \u001b[4m2\u001b[24m673\n",
            "\u001b[90m9\u001b[39m The Return Of The King     Man       268  \u001b[4m2\u001b[24m459\n"
          ]
        }
      ],
      "source": [
        "# your code here\n",
        "lotr <- bind_rows(fell, ttow, retk)\n",
        "#fail() # No Answer - remove if you provide an answer\n",
        "print(lotr)"
      ]
    },
    {
      "cell_type": "code",
      "execution_count": 197,
      "metadata": {
        "deletable": false,
        "editable": false,
        "nbgrader": {
          "cell_type": "code",
          "checksum": "8e3629a18ec2d8ab0a603223a593a812",
          "grade": true,
          "grade_id": "cell-f900e47761160711",
          "locked": true,
          "points": 1,
          "schema_version": 3,
          "solution": false,
          "task": false
        },
        "colab": {
          "base_uri": "https://localhost:8080/"
        },
        "id": "D_BovIC11ehQ",
        "outputId": "9714b727-07d4-46d6-c46a-d91ca6110511"
      },
      "outputs": [
        {
          "output_type": "stream",
          "name": "stdout",
          "text": [
            "[1] \"Success!\"\n"
          ]
        }
      ],
      "source": [
        "library(digest)\n",
        "stopifnot(\"lotr should be a data frame\"= setequal(digest(paste(toString('data.frame' %in% class(lotr)), \"6b563\")), \"4b1e369d9296e24ad7da503818b2e2b3\"))\n",
        "stopifnot(\"dimensions of lotr are not correct\"= setequal(digest(paste(toString(dim(lotr)), \"6b563\")), \"bc3b9f15a5bc257d25f363deba55304e\"))\n",
        "stopifnot(\"column names of lotr are not correct\"= setequal(digest(paste(toString(sort(colnames(lotr))), \"6b563\")), \"b2f946def641d930904063558ba61cc6\"))\n",
        "stopifnot(\"types of columns in lotr are not correct\"= setequal(digest(paste(toString(sort(unlist(sapply(lotr, class)))), \"6b563\")), \"0e93b6b2aca72b0b33f8a4ab6fc66453\"))\n",
        "stopifnot(\"values in one or more numerical columns in lotr are not correct\"= setequal(digest(paste(toString(if (any(sapply(lotr, is.numeric))) sort(round(sapply(lotr[, sapply(lotr, is.numeric)], sum, na.rm = TRUE), 2)) else 0), \"6b563\")), \"ec32631faa5ccb790b28313727a2f507\"))\n",
        "stopifnot(\"values in one or more character columns in lotr are not correct\"= setequal(digest(paste(toString(if (any(sapply(lotr, is.character))) sum(sapply(lotr[sapply(lotr, is.character)], function(x) length(unique(x)))) else 0), \"6b563\")), \"ec97d0a32dbfbe5dbab1f9ba1b233b21\"))\n",
        "stopifnot(\"values in one or more factor columns in lotr are not correct\"= setequal(digest(paste(toString(if (any(sapply(lotr, is.factor))) sum(sapply(lotr[, sapply(lotr, is.factor)], function(col) length(unique(col)))) else 0), \"6b563\")), \"06e82e3680e813fd12a02f9e1b8cf81d\"))\n",
        "\n",
        "print('Success!')"
      ]
    },
    {
      "cell_type": "markdown",
      "metadata": {
        "deletable": false,
        "editable": false,
        "lines_to_next_cell": 0,
        "nbgrader": {
          "cell_type": "markdown",
          "checksum": "26509d11eadc1f644d5e98d3f9e1d9d5",
          "grade": false,
          "grade_id": "cell-d1bd923a8a3c9a16",
          "locked": true,
          "schema_version": 3,
          "solution": false,
          "task": false
        },
        "id": "dD8j7gK71ehQ"
      },
      "source": [
        "# Part 5: Set Operations\n",
        "\n",
        "Let's use three set functions: `intersect()`, `union()` and `setdiff()`.\n",
        "They work for data frames with the same column names.\n",
        "\n",
        "We'll work with two toy tibbles named `y` and `z`, similar to the Data Wrangling Cheatsheet.\n",
        "\n",
        "Run the following R codes to create the data."
      ]
    },
    {
      "cell_type": "code",
      "execution_count": 198,
      "metadata": {
        "deletable": false,
        "editable": false,
        "nbgrader": {
          "cell_type": "code",
          "checksum": "70773086505cfcc2bf778def8428e9e8",
          "grade": false,
          "grade_id": "cell-baae74bab6546360",
          "locked": true,
          "schema_version": 3,
          "solution": false,
          "task": false
        },
        "colab": {
          "base_uri": "https://localhost:8080/",
          "height": 192
        },
        "id": "BvJZYGYm1ehQ",
        "outputId": "88dc81cf-f851-45e4-e429-b64f5d85cbe1"
      },
      "outputs": [
        {
          "output_type": "display_data",
          "data": {
            "text/html": [
              "<table class=\"dataframe\">\n",
              "<caption>A tibble: 3 × 2</caption>\n",
              "<thead>\n",
              "\t<tr><th scope=col>x1</th><th scope=col>x2</th></tr>\n",
              "\t<tr><th scope=col>&lt;chr&gt;</th><th scope=col>&lt;int&gt;</th></tr>\n",
              "</thead>\n",
              "<tbody>\n",
              "\t<tr><td>A</td><td>1</td></tr>\n",
              "\t<tr><td>B</td><td>2</td></tr>\n",
              "\t<tr><td>C</td><td>3</td></tr>\n",
              "</tbody>\n",
              "</table>\n"
            ],
            "text/markdown": "\nA tibble: 3 × 2\n\n| x1 &lt;chr&gt; | x2 &lt;int&gt; |\n|---|---|\n| A | 1 |\n| B | 2 |\n| C | 3 |\n\n",
            "text/latex": "A tibble: 3 × 2\n\\begin{tabular}{ll}\n x1 & x2\\\\\n <chr> & <int>\\\\\n\\hline\n\t A & 1\\\\\n\t B & 2\\\\\n\t C & 3\\\\\n\\end{tabular}\n",
            "text/plain": [
              "  x1 x2\n",
              "1 A  1 \n",
              "2 B  2 \n",
              "3 C  3 "
            ]
          },
          "metadata": {}
        }
      ],
      "source": [
        "(y <-  tibble(x1 = LETTERS[1:3], x2 = 1:3))"
      ]
    },
    {
      "cell_type": "code",
      "execution_count": 199,
      "metadata": {
        "deletable": false,
        "editable": false,
        "nbgrader": {
          "cell_type": "code",
          "checksum": "ef560d32a3416dbb9632c4d77c2af662",
          "grade": false,
          "grade_id": "cell-2b7351a73648122a",
          "locked": true,
          "schema_version": 3,
          "solution": false,
          "task": false
        },
        "colab": {
          "base_uri": "https://localhost:8080/",
          "height": 192
        },
        "id": "VRMPFUDS1ehQ",
        "outputId": "fe91fe5f-e337-432e-f566-bd16d545c22a"
      },
      "outputs": [
        {
          "output_type": "display_data",
          "data": {
            "text/html": [
              "<table class=\"dataframe\">\n",
              "<caption>A tibble: 3 × 2</caption>\n",
              "<thead>\n",
              "\t<tr><th scope=col>x1</th><th scope=col>x2</th></tr>\n",
              "\t<tr><th scope=col>&lt;chr&gt;</th><th scope=col>&lt;int&gt;</th></tr>\n",
              "</thead>\n",
              "<tbody>\n",
              "\t<tr><td>B</td><td>2</td></tr>\n",
              "\t<tr><td>C</td><td>3</td></tr>\n",
              "\t<tr><td>D</td><td>4</td></tr>\n",
              "</tbody>\n",
              "</table>\n"
            ],
            "text/markdown": "\nA tibble: 3 × 2\n\n| x1 &lt;chr&gt; | x2 &lt;int&gt; |\n|---|---|\n| B | 2 |\n| C | 3 |\n| D | 4 |\n\n",
            "text/latex": "A tibble: 3 × 2\n\\begin{tabular}{ll}\n x1 & x2\\\\\n <chr> & <int>\\\\\n\\hline\n\t B & 2\\\\\n\t C & 3\\\\\n\t D & 4\\\\\n\\end{tabular}\n",
            "text/plain": [
              "  x1 x2\n",
              "1 B  2 \n",
              "2 C  3 \n",
              "3 D  4 "
            ]
          },
          "metadata": {}
        }
      ],
      "source": [
        "(z <- tibble(x1 = c(\"B\", \"C\", \"D\"), x2 = 2:4))"
      ]
    },
    {
      "cell_type": "markdown",
      "metadata": {
        "deletable": false,
        "editable": false,
        "nbgrader": {
          "cell_type": "markdown",
          "checksum": "df25b14c290bc8d8e7d3bc0eaecd326e",
          "grade": false,
          "grade_id": "cell-5e730724ecd74680",
          "locked": true,
          "schema_version": 3,
          "solution": false,
          "task": false
        },
        "id": "x3U5aARq1ehQ"
      },
      "source": [
        "## Question 5.1\n",
        "\n",
        "{points: 1}\n",
        "\n",
        "\n",
        "Use one of the three methods mentioned above to create a new data set which contains all rows that appear in both `y` and `z`.\n",
        "Store the new data frame in variable `in_both`\n",
        "\n",
        "```\n",
        "in_both <- FILL_THIS_IN(y, z)\n",
        "```"
      ]
    },
    {
      "cell_type": "code",
      "execution_count": 200,
      "metadata": {
        "deletable": false,
        "lines_to_next_cell": 0,
        "nbgrader": {
          "cell_type": "code",
          "checksum": "f34d6e1fa9f1bb1cd7d083f3d51d5f8e",
          "grade": false,
          "grade_id": "cell-e267783b3599e511",
          "locked": false,
          "schema_version": 3,
          "solution": true,
          "task": false
        },
        "colab": {
          "base_uri": "https://localhost:8080/",
          "height": 161
        },
        "id": "J7IOrkqv1ehQ",
        "outputId": "8f8d0536-a6c7-4f4e-d4db-c4ef7597b005"
      },
      "outputs": [
        {
          "output_type": "display_data",
          "data": {
            "text/html": [
              "<table class=\"dataframe\">\n",
              "<caption>A tibble: 2 × 2</caption>\n",
              "<thead>\n",
              "\t<tr><th scope=col>x1</th><th scope=col>x2</th></tr>\n",
              "\t<tr><th scope=col>&lt;chr&gt;</th><th scope=col>&lt;int&gt;</th></tr>\n",
              "</thead>\n",
              "<tbody>\n",
              "\t<tr><td>B</td><td>2</td></tr>\n",
              "\t<tr><td>C</td><td>3</td></tr>\n",
              "</tbody>\n",
              "</table>\n"
            ],
            "text/markdown": "\nA tibble: 2 × 2\n\n| x1 &lt;chr&gt; | x2 &lt;int&gt; |\n|---|---|\n| B | 2 |\n| C | 3 |\n\n",
            "text/latex": "A tibble: 2 × 2\n\\begin{tabular}{ll}\n x1 & x2\\\\\n <chr> & <int>\\\\\n\\hline\n\t B & 2\\\\\n\t C & 3\\\\\n\\end{tabular}\n",
            "text/plain": [
              "  x1 x2\n",
              "1 B  2 \n",
              "2 C  3 "
            ]
          },
          "metadata": {}
        }
      ],
      "source": [
        "# your code here\n",
        "in_both <- intersect(y, z)\n",
        "#fail() # No Answer - remove if you provide an answer\n",
        "in_both"
      ]
    },
    {
      "cell_type": "code",
      "execution_count": 201,
      "metadata": {
        "deletable": false,
        "editable": false,
        "nbgrader": {
          "cell_type": "code",
          "checksum": "d8484ac014a0b7d5e9576a29c66fe8c4",
          "grade": true,
          "grade_id": "cell-52d241c8bca32dad",
          "locked": true,
          "points": 1,
          "schema_version": 3,
          "solution": false,
          "task": false
        },
        "colab": {
          "base_uri": "https://localhost:8080/"
        },
        "id": "PRNxHgdP1ehQ",
        "outputId": "f170fcab-a01a-4ce4-d5da-7bdba0a81cb3"
      },
      "outputs": [
        {
          "output_type": "stream",
          "name": "stdout",
          "text": [
            "[1] \"Success!\"\n"
          ]
        }
      ],
      "source": [
        "library(digest)\n",
        "stopifnot(\"in_both should be a data frame\"= setequal(digest(paste(toString('data.frame' %in% class(in_both)), \"340f3\")), \"0fdfcd0e39c47f65fe5fc832f0961f7a\"))\n",
        "stopifnot(\"dimensions of in_both are not correct\"= setequal(digest(paste(toString(dim(in_both)), \"340f3\")), \"551fb8273da22ecfac76f460fbbbefd5\"))\n",
        "stopifnot(\"column names of in_both are not correct\"= setequal(digest(paste(toString(sort(colnames(in_both))), \"340f3\")), \"525fc58529d9493e7bfea7ee1770b92f\"))\n",
        "stopifnot(\"types of columns in in_both are not correct\"= setequal(digest(paste(toString(sort(unlist(sapply(in_both, class)))), \"340f3\")), \"8cc94a69e665a57259180c55c46cec91\"))\n",
        "stopifnot(\"values in one or more numerical columns in in_both are not correct\"= setequal(digest(paste(toString(if (any(sapply(in_both, is.numeric))) sort(round(sapply(in_both[, sapply(in_both, is.numeric)], sum, na.rm = TRUE), 2)) else 0), \"340f3\")), \"b90fed7f71eff97e4bbfb26fb19b9654\"))\n",
        "stopifnot(\"values in one or more character columns in in_both are not correct\"= setequal(digest(paste(toString(if (any(sapply(in_both, is.character))) sum(sapply(in_both[sapply(in_both, is.character)], function(x) length(unique(x)))) else 0), \"340f3\")), \"4782c87697c6ff8a422f1bb83f698146\"))\n",
        "stopifnot(\"values in one or more factor columns in in_both are not correct\"= setequal(digest(paste(toString(if (any(sapply(in_both, is.factor))) sum(sapply(in_both[, sapply(in_both, is.factor)], function(col) length(unique(col)))) else 0), \"340f3\")), \"546d7335ba63d60a5944dc98bd999a12\"))\n",
        "\n",
        "print('Success!')"
      ]
    },
    {
      "cell_type": "markdown",
      "metadata": {
        "deletable": false,
        "editable": false,
        "nbgrader": {
          "cell_type": "markdown",
          "checksum": "a65bc3db1035ba86863ea11481682911",
          "grade": false,
          "grade_id": "cell-26dd7f2f3531aef8",
          "locked": true,
          "schema_version": 3,
          "solution": false,
          "task": false
        },
        "id": "pkH_Hzzi1ehQ"
      },
      "source": [
        "## Question 5.2\n",
        "\n",
        "{points: 1}\n",
        "\n",
        "\n",
        "Assume that rows in `y` are from *Day 1* and rows in `z` are from *Day 2*.\n",
        "Create a new data set with all rows from `y` and `z`, as well as an additional column `day` which is *Day 1* for rows from `y` and *Day 2* for rows from `z`.\n",
        "Store the new data set in variable `both_days`.\n",
        "\n",
        "```\n",
        "both_days <- FILL_THIS_IN(\n",
        "  mutate(y, day = \"Day 1\"),\n",
        "  mutate(z, day = \"Day 2\")\n",
        ")\n",
        "```"
      ]
    },
    {
      "cell_type": "code",
      "execution_count": 202,
      "metadata": {
        "deletable": false,
        "lines_to_next_cell": 0,
        "nbgrader": {
          "cell_type": "code",
          "checksum": "4845d5d3090b34c53e1e9139ef317f7c",
          "grade": false,
          "grade_id": "cell-cb58ae9785411629",
          "locked": false,
          "schema_version": 3,
          "solution": true,
          "task": false
        },
        "colab": {
          "base_uri": "https://localhost:8080/",
          "height": 286
        },
        "id": "n9yp9-7a1ehR",
        "outputId": "01dc2a8e-0284-4123-d491-807eca8bda44"
      },
      "outputs": [
        {
          "output_type": "display_data",
          "data": {
            "text/html": [
              "<table class=\"dataframe\">\n",
              "<caption>A tibble: 6 × 3</caption>\n",
              "<thead>\n",
              "\t<tr><th scope=col>x1</th><th scope=col>x2</th><th scope=col>day</th></tr>\n",
              "\t<tr><th scope=col>&lt;chr&gt;</th><th scope=col>&lt;int&gt;</th><th scope=col>&lt;chr&gt;</th></tr>\n",
              "</thead>\n",
              "<tbody>\n",
              "\t<tr><td>A</td><td>1</td><td>Day 1</td></tr>\n",
              "\t<tr><td>B</td><td>2</td><td>Day 1</td></tr>\n",
              "\t<tr><td>C</td><td>3</td><td>Day 1</td></tr>\n",
              "\t<tr><td>B</td><td>2</td><td>Day 2</td></tr>\n",
              "\t<tr><td>C</td><td>3</td><td>Day 2</td></tr>\n",
              "\t<tr><td>D</td><td>4</td><td>Day 2</td></tr>\n",
              "</tbody>\n",
              "</table>\n"
            ],
            "text/markdown": "\nA tibble: 6 × 3\n\n| x1 &lt;chr&gt; | x2 &lt;int&gt; | day &lt;chr&gt; |\n|---|---|---|\n| A | 1 | Day 1 |\n| B | 2 | Day 1 |\n| C | 3 | Day 1 |\n| B | 2 | Day 2 |\n| C | 3 | Day 2 |\n| D | 4 | Day 2 |\n\n",
            "text/latex": "A tibble: 6 × 3\n\\begin{tabular}{lll}\n x1 & x2 & day\\\\\n <chr> & <int> & <chr>\\\\\n\\hline\n\t A & 1 & Day 1\\\\\n\t B & 2 & Day 1\\\\\n\t C & 3 & Day 1\\\\\n\t B & 2 & Day 2\\\\\n\t C & 3 & Day 2\\\\\n\t D & 4 & Day 2\\\\\n\\end{tabular}\n",
            "text/plain": [
              "  x1 x2 day  \n",
              "1 A  1  Day 1\n",
              "2 B  2  Day 1\n",
              "3 C  3  Day 1\n",
              "4 B  2  Day 2\n",
              "5 C  3  Day 2\n",
              "6 D  4  Day 2"
            ]
          },
          "metadata": {}
        }
      ],
      "source": [
        "# your code here\n",
        "both_days <- bind_rows(\n",
        "  mutate(y, day = \"Day 1\"),\n",
        "  mutate(z, day = \"Day 2\")\n",
        ")\n",
        "#fail() # No Answer - remove if you provide an answer\n",
        "both_days"
      ]
    },
    {
      "cell_type": "code",
      "execution_count": 203,
      "metadata": {
        "deletable": false,
        "editable": false,
        "nbgrader": {
          "cell_type": "code",
          "checksum": "b806dce64563d769d9cdb9da949ea346",
          "grade": true,
          "grade_id": "cell-50e235b2f53237e1",
          "locked": true,
          "points": 1,
          "schema_version": 3,
          "solution": false,
          "task": false
        },
        "colab": {
          "base_uri": "https://localhost:8080/"
        },
        "id": "JHOF2rRn1ehR",
        "outputId": "1d390c9f-4446-4acb-8b8e-6895f77a69cb"
      },
      "outputs": [
        {
          "output_type": "stream",
          "name": "stdout",
          "text": [
            "[1] \"Success!\"\n"
          ]
        }
      ],
      "source": [
        "library(digest)\n",
        "stopifnot(\"both_days should be a data frame\"= setequal(digest(paste(toString('data.frame' %in% class(both_days)), \"202a5\")), \"1f791d40107d0d860776ccfa126c2c37\"))\n",
        "stopifnot(\"dimensions of both_days are not correct\"= setequal(digest(paste(toString(dim(both_days)), \"202a5\")), \"3d66df6bd87f7de9290f12e747a9ad3a\"))\n",
        "stopifnot(\"column names of both_days are not correct\"= setequal(digest(paste(toString(sort(colnames(both_days))), \"202a5\")), \"f4b893debdf466715930074233ee9803\"))\n",
        "stopifnot(\"types of columns in both_days are not correct\"= setequal(digest(paste(toString(sort(unlist(sapply(both_days, class)))), \"202a5\")), \"5845d63442307ba260807961fb301049\"))\n",
        "stopifnot(\"values in one or more numerical columns in both_days are not correct\"= setequal(digest(paste(toString(if (any(sapply(both_days, is.numeric))) sort(round(sapply(both_days[, sapply(both_days, is.numeric)], sum, na.rm = TRUE), 2)) else 0), \"202a5\")), \"56be2548d87efe64f9e5fd9336f96a72\"))\n",
        "stopifnot(\"values in one or more character columns in both_days are not correct\"= setequal(digest(paste(toString(if (any(sapply(both_days, is.character))) sum(sapply(both_days[sapply(both_days, is.character)], function(x) length(unique(x)))) else 0), \"202a5\")), \"5d0b0adb84e57a77c3008b21c1fecd0e\"))\n",
        "stopifnot(\"values in one or more factor columns in both_days are not correct\"= setequal(digest(paste(toString(if (any(sapply(both_days, is.factor))) sum(sapply(both_days[, sapply(both_days, is.factor)], function(col) length(unique(col)))) else 0), \"202a5\")), \"28989e05824b24482282fa796ec7b6f6\"))\n",
        "\n",
        "print('Success!')"
      ]
    },
    {
      "cell_type": "markdown",
      "metadata": {
        "deletable": false,
        "editable": false,
        "nbgrader": {
          "cell_type": "markdown",
          "checksum": "01608a59d4c2f923236aff93e2839acb",
          "grade": false,
          "grade_id": "cell-199323d324c8580e",
          "locked": true,
          "schema_version": 3,
          "solution": false,
          "task": false
        },
        "id": "3CeOj1Ho1ehR"
      },
      "source": [
        "## Question 5.3\n",
        "\n",
        "{points: 1}\n",
        "\n",
        "\n",
        "The rows contained in `z` are bad.\n",
        "Use one of the three methods mentioned above to create a new data set which contains only the rows from `y` which are not in `z`.\n",
        "Store the new data frame in variable `only_y`\n",
        "\n",
        "```\n",
        "only_y <- FILL_THIS_IN(y, z)\n",
        "```"
      ]
    },
    {
      "cell_type": "code",
      "execution_count": 204,
      "metadata": {
        "deletable": false,
        "lines_to_next_cell": 0,
        "nbgrader": {
          "cell_type": "code",
          "checksum": "02a4edeff864160a7265c3968b7fc732",
          "grade": false,
          "grade_id": "cell-f23a4f7c749f9a42",
          "locked": false,
          "schema_version": 3,
          "solution": true,
          "task": false
        },
        "colab": {
          "base_uri": "https://localhost:8080/",
          "height": 129
        },
        "id": "OrGnUt3e1ehR",
        "outputId": "91a324d1-9445-4647-9b63-dfdea707c9a6"
      },
      "outputs": [
        {
          "output_type": "display_data",
          "data": {
            "text/html": [
              "<table class=\"dataframe\">\n",
              "<caption>A tibble: 1 × 2</caption>\n",
              "<thead>\n",
              "\t<tr><th scope=col>x1</th><th scope=col>x2</th></tr>\n",
              "\t<tr><th scope=col>&lt;chr&gt;</th><th scope=col>&lt;int&gt;</th></tr>\n",
              "</thead>\n",
              "<tbody>\n",
              "\t<tr><td>A</td><td>1</td></tr>\n",
              "</tbody>\n",
              "</table>\n"
            ],
            "text/markdown": "\nA tibble: 1 × 2\n\n| x1 &lt;chr&gt; | x2 &lt;int&gt; |\n|---|---|\n| A | 1 |\n\n",
            "text/latex": "A tibble: 1 × 2\n\\begin{tabular}{ll}\n x1 & x2\\\\\n <chr> & <int>\\\\\n\\hline\n\t A & 1\\\\\n\\end{tabular}\n",
            "text/plain": [
              "  x1 x2\n",
              "1 A  1 "
            ]
          },
          "metadata": {}
        }
      ],
      "source": [
        "# your code here\n",
        "only_y <- setdiff(y, z)\n",
        "#fail() # No Answer - remove if you provide an answer\n",
        "only_y"
      ]
    },
    {
      "cell_type": "code",
      "execution_count": 205,
      "metadata": {
        "deletable": false,
        "editable": false,
        "nbgrader": {
          "cell_type": "code",
          "checksum": "704d485108078c9f553020dab0837f02",
          "grade": true,
          "grade_id": "cell-99b0c66bc2260c3a",
          "locked": true,
          "points": 1,
          "schema_version": 3,
          "solution": false,
          "task": false
        },
        "colab": {
          "base_uri": "https://localhost:8080/"
        },
        "id": "2SmMG_9o1ehR",
        "outputId": "864a67f5-abe0-436e-8a4a-e5eef22db235"
      },
      "outputs": [
        {
          "output_type": "stream",
          "name": "stdout",
          "text": [
            "[1] \"Success!\"\n"
          ]
        }
      ],
      "source": [
        "library(digest)\n",
        "stopifnot(\"only_y should be a data frame\"= setequal(digest(paste(toString('data.frame' %in% class(only_y)), \"67641\")), \"66c80fdbdbebabad2e4163824b036b13\"))\n",
        "stopifnot(\"dimensions of only_y are not correct\"= setequal(digest(paste(toString(dim(only_y)), \"67641\")), \"f5cf343ba981f808b0fccd5cf9c22f71\"))\n",
        "stopifnot(\"column names of only_y are not correct\"= setequal(digest(paste(toString(sort(colnames(only_y))), \"67641\")), \"38cf2b2a4ea7256eaebf2cfa3b9379d2\"))\n",
        "stopifnot(\"types of columns in only_y are not correct\"= setequal(digest(paste(toString(sort(unlist(sapply(only_y, class)))), \"67641\")), \"353d5ea15366dc7223060942ea61ebfd\"))\n",
        "stopifnot(\"values in one or more numerical columns in only_y are not correct\"= setequal(digest(paste(toString(if (any(sapply(only_y, is.numeric))) sort(round(sapply(only_y[, sapply(only_y, is.numeric)], sum, na.rm = TRUE), 2)) else 0), \"67641\")), \"dc4efb6e2bf609a614713b6a474898e0\"))\n",
        "stopifnot(\"values in one or more character columns in only_y are not correct\"= setequal(digest(paste(toString(if (any(sapply(only_y, is.character))) sum(sapply(only_y[sapply(only_y, is.character)], function(x) length(unique(x)))) else 0), \"67641\")), \"dc4efb6e2bf609a614713b6a474898e0\"))\n",
        "stopifnot(\"values in one or more factor columns in only_y are not correct\"= setequal(digest(paste(toString(if (any(sapply(only_y, is.factor))) sum(sapply(only_y[, sapply(only_y, is.factor)], function(col) length(unique(col)))) else 0), \"67641\")), \"97e2bd67054737fb0470881784ee18ac\"))\n",
        "\n",
        "print('Success!')"
      ]
    },
    {
      "cell_type": "markdown",
      "metadata": {
        "id": "3W6jpd4-1ehR"
      },
      "source": [
        "Great work! 👏\n",
        "Please Restart and Run all, check for errors, Save, and submit this worksheet on Canvas.\n"
      ]
    },
    {
      "cell_type": "markdown",
      "metadata": {
        "id": "U4-xiZ8s1ehR"
      },
      "source": [
        "### Attribution\n",
        "\n",
        "Assembled by Almas Khan and Vincenzo Coia, reviewed by Diana Lin, and assisted by David Kepplinger."
      ]
    }
  ],
  "metadata": {
    "jupytext": {
      "cell_metadata_filter": "-all"
    },
    "kernelspec": {
      "display_name": "R",
      "language": "R",
      "name": "ir"
    },
    "language_info": {
      "codemirror_mode": "r",
      "file_extension": ".r",
      "mimetype": "text/x-r-source",
      "name": "R",
      "pygments_lexer": "r",
      "version": "4.5.1"
    },
    "colab": {
      "provenance": [],
      "include_colab_link": true
    }
  },
  "nbformat": 4,
  "nbformat_minor": 0
}